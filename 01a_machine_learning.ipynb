{
  "cells": [
    {
      "cell_type": "markdown",
      "metadata": {},
      "source": [
        "# Creative machine learning - Machine Learning\n",
        "\n",
        "### Author: Philippe Esling (esling@ircam.fr)\n",
        "\n",
        "In this course we will cover\n",
        "1. A [first definition](#definition) on the concept of machine learning\n",
        "2. An introduction to a simple problem of [linear regression](#regression)\n",
        "4. A detailed implementation of [simple linear regression](#linear)\n",
        "3. An explanation on [model capacity and overfitting](#capacity)\n",
        "4. Two [exercises](#exercises) to explore regression and classification\n",
        "4. An introduction to the [audio datasets](#audio) that we will use"
      ]
    },
    {
      "cell_type": "markdown",
      "metadata": {},
      "source": [
        "<a id=\"definition\"></a>\n",
        "## Defining machine learning\n",
        "\n",
        "In all natural process, there exists complex relations between sets $\\mathcal{X} \\mapsto \\mathcal{Y}$. This can relate some objects with their names, or a cause to a consequence. In most cases, _we do not know the precise relations_ between these sets, all we have is _observations_ such as pairs $(x,y)$, composed of input data $x \\in \\mathcal{X}$, which have a corresponding expected output $y \\in \\mathcal{Y}$. The overarching goal of machine learning is to approximate such _unknown processes_ as a function $\\mathcal{F}_{\\theta}$, which _transforms_ input data $x$ into output data $y$.\n",
        "\n",
        "\n",
        "<center>\n",
        "<img src=\"images/01_machine_learning_basic.png\" align=\"center\"/>\n",
        "</center>\n",
        "\n",
        "Hence, machine learning aims to understand and model the relationship between some (usually complex and high-dimensional) inputs $\\mathbf{x}\\in\\mathcal{X}\\subset\\mathbb{R}^{\\mathcal{X}}$ and outputs $\\mathbf{y}\\in\\mathcal{Y}\\subset\\mathbb{R}^{\\mathcal{Y}}$, given by a set of data examples $\\mathcal{D}=\\left\\{(x_1,y_1),\\cdots,(x_N,y_N)\\right\\}$. This is achieved by defining a parametric model $f_{\\mathbf{\\theta}}\\in\\mathcal{F}$ inside a family of functions $\\mathcal{F}$, which depends on parameters $\\mathbf{\\theta} \\in \\mathbf{\\Theta}$ and that could approximate the underlying relationship. The _learning_ aspect refers to the adjustment of the parameters $\\mathbf{\\theta}$ in order to obtain the best approximation of the given task\n",
        "$$\n",
        "\\begin{equation}\n",
        "f_{\\mathbf{\\theta}}(\\mathbf{x}) = \\bar{\\mathbf{y}}\\approx \\mathbf{y}.\n",
        "\\end{equation}\n",
        "$$\n",
        "\n",
        "Hence, the major elements that we have to define in any machine learning problems are\n",
        "1. **Dataset** : $\\mathcal{D}=\\left\\{(x_1,y_1),\\cdots,(x_N,y_N)\\right\\}$. This dataset has to be representative of the relation $f:\\mathcal{X} \\mapsto \\mathcal{Y}$ that we are looking to model\n",
        "2. **Model** : Our parametric approximation $\\bar{\\mathbf{y}} = f_{\\mathbf{\\theta}}(\\mathbf{x})$, where the choice of family $f_{\\mathbf{\\theta}}\\in\\mathcal{F}$ is critical\n",
        "3. **Loss** : $\\mathcal{L}\\left( \\bar{\\mathbf{y}}, \\mathbf{y} \\mid f_{\\theta}, \\theta \\right)$ allows to measure the amount of errors made by our model\n",
        "4. **Optimization** : Method to find $\\theta^{*}\\in\\Theta$ so that our model minimizes the loss\n",
        "$$\\theta^{*}= \\underset{\\theta}{\\text{argmin }} \\mathcal{L}\\left( \\bar{\\mathbf{y}}, \\mathbf{y} \\mid f_{\\theta}, \\theta \\right)$$\n",
        "\n",
        "\n",
        "To observe this idea in simple setups, we are going to use the `numpy` library and also initialize the homemade course library `cml` and style for future plotting and exercise. We also set the random generator to a fixed point with `rng = np.random.RandomState(1)`, to ensure reproducibility"
      ]
    },
    {
      "cell_type": "code",
      "execution_count": 1,
      "metadata": {
        "tags": []
      },
      "outputs": [
        {
          "name": "stderr",
          "output_type": "stream",
          "text": [
            "2023-04-14 00:50:32.413853: I tensorflow/core/platform/cpu_feature_guard.cc:182] This TensorFlow binary is optimized to use available CPU instructions in performance-critical operations.\n",
            "To enable the following instructions: AVX2 FMA, in other operations, rebuild TensorFlow with the appropriate compiler flags.\n",
            "2023-04-14 00:50:33.452514: W tensorflow/compiler/tf2tensorrt/utils/py_utils.cc:38] TF-TRT Warning: Could not find TensorRT\n",
            "/home/nu/creative_ml/.venv/lib/python3.9/site-packages/tqdm/auto.py:21: TqdmWarning: IProgress not found. Please update jupyter and ipywidgets. See https://ipywidgets.readthedocs.io/en/stable/user_install.html\n",
            "  from .autonotebook import tqdm as notebook_tqdm\n",
            "No GPU/TPU found, falling back to CPU. (Set TF_CPP_MIN_LOG_LEVEL=0 and rerun for more info.)\n"
          ]
        },
        {
          "data": {
            "text/html": [
              "<div class=\"bk-root\">\n",
              "        <a href=\"https://bokeh.org\" target=\"_blank\" class=\"bk-logo bk-logo-small bk-logo-notebook\"></a>\n",
              "        <span id=\"1002\">Loading BokehJS ...</span>\n",
              "    </div>\n"
            ]
          },
          "metadata": {},
          "output_type": "display_data"
        },
        {
          "data": {
            "application/javascript": [
              "(function(root) {\n",
              "  function now() {\n",
              "    return new Date();\n",
              "  }\n",
              "\n",
              "  const force = true;\n",
              "\n",
              "  if (typeof root._bokeh_onload_callbacks === \"undefined\" || force === true) {\n",
              "    root._bokeh_onload_callbacks = [];\n",
              "    root._bokeh_is_loading = undefined;\n",
              "  }\n",
              "\n",
              "const JS_MIME_TYPE = 'application/javascript';\n",
              "  const HTML_MIME_TYPE = 'text/html';\n",
              "  const EXEC_MIME_TYPE = 'application/vnd.bokehjs_exec.v0+json';\n",
              "  const CLASS_NAME = 'output_bokeh rendered_html';\n",
              "\n",
              "  /**\n",
              "   * Render data to the DOM node\n",
              "   */\n",
              "  function render(props, node) {\n",
              "    const script = document.createElement(\"script\");\n",
              "    node.appendChild(script);\n",
              "  }\n",
              "\n",
              "  /**\n",
              "   * Handle when an output is cleared or removed\n",
              "   */\n",
              "  function handleClearOutput(event, handle) {\n",
              "    const cell = handle.cell;\n",
              "\n",
              "    const id = cell.output_area._bokeh_element_id;\n",
              "    const server_id = cell.output_area._bokeh_server_id;\n",
              "    // Clean up Bokeh references\n",
              "    if (id != null && id in Bokeh.index) {\n",
              "      Bokeh.index[id].model.document.clear();\n",
              "      delete Bokeh.index[id];\n",
              "    }\n",
              "\n",
              "    if (server_id !== undefined) {\n",
              "      // Clean up Bokeh references\n",
              "      const cmd_clean = \"from bokeh.io.state import curstate; print(curstate().uuid_to_server['\" + server_id + \"'].get_sessions()[0].document.roots[0]._id)\";\n",
              "      cell.notebook.kernel.execute(cmd_clean, {\n",
              "        iopub: {\n",
              "          output: function(msg) {\n",
              "            const id = msg.content.text.trim();\n",
              "            if (id in Bokeh.index) {\n",
              "              Bokeh.index[id].model.document.clear();\n",
              "              delete Bokeh.index[id];\n",
              "            }\n",
              "          }\n",
              "        }\n",
              "      });\n",
              "      // Destroy server and session\n",
              "      const cmd_destroy = \"import bokeh.io.notebook as ion; ion.destroy_server('\" + server_id + \"')\";\n",
              "      cell.notebook.kernel.execute(cmd_destroy);\n",
              "    }\n",
              "  }\n",
              "\n",
              "  /**\n",
              "   * Handle when a new output is added\n",
              "   */\n",
              "  function handleAddOutput(event, handle) {\n",
              "    const output_area = handle.output_area;\n",
              "    const output = handle.output;\n",
              "\n",
              "    // limit handleAddOutput to display_data with EXEC_MIME_TYPE content only\n",
              "    if ((output.output_type != \"display_data\") || (!Object.prototype.hasOwnProperty.call(output.data, EXEC_MIME_TYPE))) {\n",
              "      return\n",
              "    }\n",
              "\n",
              "    const toinsert = output_area.element.find(\".\" + CLASS_NAME.split(' ')[0]);\n",
              "\n",
              "    if (output.metadata[EXEC_MIME_TYPE][\"id\"] !== undefined) {\n",
              "      toinsert[toinsert.length - 1].firstChild.textContent = output.data[JS_MIME_TYPE];\n",
              "      // store reference to embed id on output_area\n",
              "      output_area._bokeh_element_id = output.metadata[EXEC_MIME_TYPE][\"id\"];\n",
              "    }\n",
              "    if (output.metadata[EXEC_MIME_TYPE][\"server_id\"] !== undefined) {\n",
              "      const bk_div = document.createElement(\"div\");\n",
              "      bk_div.innerHTML = output.data[HTML_MIME_TYPE];\n",
              "      const script_attrs = bk_div.children[0].attributes;\n",
              "      for (let i = 0; i < script_attrs.length; i++) {\n",
              "        toinsert[toinsert.length - 1].firstChild.setAttribute(script_attrs[i].name, script_attrs[i].value);\n",
              "        toinsert[toinsert.length - 1].firstChild.textContent = bk_div.children[0].textContent\n",
              "      }\n",
              "      // store reference to server id on output_area\n",
              "      output_area._bokeh_server_id = output.metadata[EXEC_MIME_TYPE][\"server_id\"];\n",
              "    }\n",
              "  }\n",
              "\n",
              "  function register_renderer(events, OutputArea) {\n",
              "\n",
              "    function append_mime(data, metadata, element) {\n",
              "      // create a DOM node to render to\n",
              "      const toinsert = this.create_output_subarea(\n",
              "        metadata,\n",
              "        CLASS_NAME,\n",
              "        EXEC_MIME_TYPE\n",
              "      );\n",
              "      this.keyboard_manager.register_events(toinsert);\n",
              "      // Render to node\n",
              "      const props = {data: data, metadata: metadata[EXEC_MIME_TYPE]};\n",
              "      render(props, toinsert[toinsert.length - 1]);\n",
              "      element.append(toinsert);\n",
              "      return toinsert\n",
              "    }\n",
              "\n",
              "    /* Handle when an output is cleared or removed */\n",
              "    events.on('clear_output.CodeCell', handleClearOutput);\n",
              "    events.on('delete.Cell', handleClearOutput);\n",
              "\n",
              "    /* Handle when a new output is added */\n",
              "    events.on('output_added.OutputArea', handleAddOutput);\n",
              "\n",
              "    /**\n",
              "     * Register the mime type and append_mime function with output_area\n",
              "     */\n",
              "    OutputArea.prototype.register_mime_type(EXEC_MIME_TYPE, append_mime, {\n",
              "      /* Is output safe? */\n",
              "      safe: true,\n",
              "      /* Index of renderer in `output_area.display_order` */\n",
              "      index: 0\n",
              "    });\n",
              "  }\n",
              "\n",
              "  // register the mime type if in Jupyter Notebook environment and previously unregistered\n",
              "  if (root.Jupyter !== undefined) {\n",
              "    const events = require('base/js/events');\n",
              "    const OutputArea = require('notebook/js/outputarea').OutputArea;\n",
              "\n",
              "    if (OutputArea.prototype.mime_types().indexOf(EXEC_MIME_TYPE) == -1) {\n",
              "      register_renderer(events, OutputArea);\n",
              "    }\n",
              "  }\n",
              "  if (typeof (root._bokeh_timeout) === \"undefined\" || force === true) {\n",
              "    root._bokeh_timeout = Date.now() + 5000;\n",
              "    root._bokeh_failed_load = false;\n",
              "  }\n",
              "\n",
              "  const NB_LOAD_WARNING = {'data': {'text/html':\n",
              "     \"<div style='background-color: #fdd'>\\n\"+\n",
              "     \"<p>\\n\"+\n",
              "     \"BokehJS does not appear to have successfully loaded. If loading BokehJS from CDN, this \\n\"+\n",
              "     \"may be due to a slow or bad network connection. Possible fixes:\\n\"+\n",
              "     \"</p>\\n\"+\n",
              "     \"<ul>\\n\"+\n",
              "     \"<li>re-rerun `output_notebook()` to attempt to load from CDN again, or</li>\\n\"+\n",
              "     \"<li>use INLINE resources instead, as so:</li>\\n\"+\n",
              "     \"</ul>\\n\"+\n",
              "     \"<code>\\n\"+\n",
              "     \"from bokeh.resources import INLINE\\n\"+\n",
              "     \"output_notebook(resources=INLINE)\\n\"+\n",
              "     \"</code>\\n\"+\n",
              "     \"</div>\"}};\n",
              "\n",
              "  function display_loaded() {\n",
              "    const el = document.getElementById(\"1002\");\n",
              "    if (el != null) {\n",
              "      el.textContent = \"BokehJS is loading...\";\n",
              "    }\n",
              "    if (root.Bokeh !== undefined) {\n",
              "      if (el != null) {\n",
              "        el.textContent = \"BokehJS \" + root.Bokeh.version + \" successfully loaded.\";\n",
              "      }\n",
              "    } else if (Date.now() < root._bokeh_timeout) {\n",
              "      setTimeout(display_loaded, 100)\n",
              "    }\n",
              "  }\n",
              "\n",
              "  function run_callbacks() {\n",
              "    try {\n",
              "      root._bokeh_onload_callbacks.forEach(function(callback) {\n",
              "        if (callback != null)\n",
              "          callback();\n",
              "      });\n",
              "    } finally {\n",
              "      delete root._bokeh_onload_callbacks\n",
              "    }\n",
              "    console.debug(\"Bokeh: all callbacks have finished\");\n",
              "  }\n",
              "\n",
              "  function load_libs(css_urls, js_urls, callback) {\n",
              "    if (css_urls == null) css_urls = [];\n",
              "    if (js_urls == null) js_urls = [];\n",
              "\n",
              "    root._bokeh_onload_callbacks.push(callback);\n",
              "    if (root._bokeh_is_loading > 0) {\n",
              "      console.debug(\"Bokeh: BokehJS is being loaded, scheduling callback at\", now());\n",
              "      return null;\n",
              "    }\n",
              "    if (js_urls == null || js_urls.length === 0) {\n",
              "      run_callbacks();\n",
              "      return null;\n",
              "    }\n",
              "    console.debug(\"Bokeh: BokehJS not loaded, scheduling load and callback at\", now());\n",
              "    root._bokeh_is_loading = css_urls.length + js_urls.length;\n",
              "\n",
              "    function on_load() {\n",
              "      root._bokeh_is_loading--;\n",
              "      if (root._bokeh_is_loading === 0) {\n",
              "        console.debug(\"Bokeh: all BokehJS libraries/stylesheets loaded\");\n",
              "        run_callbacks()\n",
              "      }\n",
              "    }\n",
              "\n",
              "    function on_error(url) {\n",
              "      console.error(\"failed to load \" + url);\n",
              "    }\n",
              "\n",
              "    for (let i = 0; i < css_urls.length; i++) {\n",
              "      const url = css_urls[i];\n",
              "      const element = document.createElement(\"link\");\n",
              "      element.onload = on_load;\n",
              "      element.onerror = on_error.bind(null, url);\n",
              "      element.rel = \"stylesheet\";\n",
              "      element.type = \"text/css\";\n",
              "      element.href = url;\n",
              "      console.debug(\"Bokeh: injecting link tag for BokehJS stylesheet: \", url);\n",
              "      document.body.appendChild(element);\n",
              "    }\n",
              "\n",
              "    for (let i = 0; i < js_urls.length; i++) {\n",
              "      const url = js_urls[i];\n",
              "      const element = document.createElement('script');\n",
              "      element.onload = on_load;\n",
              "      element.onerror = on_error.bind(null, url);\n",
              "      element.async = false;\n",
              "      element.src = url;\n",
              "      console.debug(\"Bokeh: injecting script tag for BokehJS library: \", url);\n",
              "      document.head.appendChild(element);\n",
              "    }\n",
              "  };\n",
              "\n",
              "  function inject_raw_css(css) {\n",
              "    const element = document.createElement(\"style\");\n",
              "    element.appendChild(document.createTextNode(css));\n",
              "    document.body.appendChild(element);\n",
              "  }\n",
              "\n",
              "  const js_urls = [\"https://cdn.bokeh.org/bokeh/release/bokeh-2.4.3.min.js\", \"https://cdn.bokeh.org/bokeh/release/bokeh-gl-2.4.3.min.js\", \"https://cdn.bokeh.org/bokeh/release/bokeh-widgets-2.4.3.min.js\", \"https://cdn.bokeh.org/bokeh/release/bokeh-tables-2.4.3.min.js\", \"https://cdn.bokeh.org/bokeh/release/bokeh-mathjax-2.4.3.min.js\", \"https://unpkg.com/@holoviz/panel@0.14.4/dist/panel.min.js\"];\n",
              "  const css_urls = [];\n",
              "\n",
              "  const inline_js = [    function(Bokeh) {\n",
              "      Bokeh.set_log_level(\"info\");\n",
              "    },\n",
              "function(Bokeh) {\n",
              "    }\n",
              "  ];\n",
              "\n",
              "  function run_inline_js() {\n",
              "    if (root.Bokeh !== undefined || force === true) {\n",
              "          for (let i = 0; i < inline_js.length; i++) {\n",
              "      inline_js[i].call(root, root.Bokeh);\n",
              "    }\n",
              "if (force === true) {\n",
              "        display_loaded();\n",
              "      }} else if (Date.now() < root._bokeh_timeout) {\n",
              "      setTimeout(run_inline_js, 100);\n",
              "    } else if (!root._bokeh_failed_load) {\n",
              "      console.log(\"Bokeh: BokehJS failed to load within specified timeout.\");\n",
              "      root._bokeh_failed_load = true;\n",
              "    } else if (force !== true) {\n",
              "      const cell = $(document.getElementById(\"1002\")).parents('.cell').data().cell;\n",
              "      cell.output_area.append_execute_result(NB_LOAD_WARNING)\n",
              "    }\n",
              "  }\n",
              "\n",
              "  if (root._bokeh_is_loading === 0) {\n",
              "    console.debug(\"Bokeh: BokehJS loaded, going straight to plotting\");\n",
              "    run_inline_js();\n",
              "  } else {\n",
              "    load_libs(css_urls, js_urls, function() {\n",
              "      console.debug(\"Bokeh: BokehJS plotting callback run at\", now());\n",
              "      run_inline_js();\n",
              "    });\n",
              "  }\n",
              "}(window));"
            ],
            "application/vnd.bokehjs_load.v0+json": "(function(root) {\n  function now() {\n    return new Date();\n  }\n\n  const force = true;\n\n  if (typeof root._bokeh_onload_callbacks === \"undefined\" || force === true) {\n    root._bokeh_onload_callbacks = [];\n    root._bokeh_is_loading = undefined;\n  }\n\n\n  if (typeof (root._bokeh_timeout) === \"undefined\" || force === true) {\n    root._bokeh_timeout = Date.now() + 5000;\n    root._bokeh_failed_load = false;\n  }\n\n  const NB_LOAD_WARNING = {'data': {'text/html':\n     \"<div style='background-color: #fdd'>\\n\"+\n     \"<p>\\n\"+\n     \"BokehJS does not appear to have successfully loaded. If loading BokehJS from CDN, this \\n\"+\n     \"may be due to a slow or bad network connection. Possible fixes:\\n\"+\n     \"</p>\\n\"+\n     \"<ul>\\n\"+\n     \"<li>re-rerun `output_notebook()` to attempt to load from CDN again, or</li>\\n\"+\n     \"<li>use INLINE resources instead, as so:</li>\\n\"+\n     \"</ul>\\n\"+\n     \"<code>\\n\"+\n     \"from bokeh.resources import INLINE\\n\"+\n     \"output_notebook(resources=INLINE)\\n\"+\n     \"</code>\\n\"+\n     \"</div>\"}};\n\n  function display_loaded() {\n    const el = document.getElementById(\"1002\");\n    if (el != null) {\n      el.textContent = \"BokehJS is loading...\";\n    }\n    if (root.Bokeh !== undefined) {\n      if (el != null) {\n        el.textContent = \"BokehJS \" + root.Bokeh.version + \" successfully loaded.\";\n      }\n    } else if (Date.now() < root._bokeh_timeout) {\n      setTimeout(display_loaded, 100)\n    }\n  }\n\n  function run_callbacks() {\n    try {\n      root._bokeh_onload_callbacks.forEach(function(callback) {\n        if (callback != null)\n          callback();\n      });\n    } finally {\n      delete root._bokeh_onload_callbacks\n    }\n    console.debug(\"Bokeh: all callbacks have finished\");\n  }\n\n  function load_libs(css_urls, js_urls, callback) {\n    if (css_urls == null) css_urls = [];\n    if (js_urls == null) js_urls = [];\n\n    root._bokeh_onload_callbacks.push(callback);\n    if (root._bokeh_is_loading > 0) {\n      console.debug(\"Bokeh: BokehJS is being loaded, scheduling callback at\", now());\n      return null;\n    }\n    if (js_urls == null || js_urls.length === 0) {\n      run_callbacks();\n      return null;\n    }\n    console.debug(\"Bokeh: BokehJS not loaded, scheduling load and callback at\", now());\n    root._bokeh_is_loading = css_urls.length + js_urls.length;\n\n    function on_load() {\n      root._bokeh_is_loading--;\n      if (root._bokeh_is_loading === 0) {\n        console.debug(\"Bokeh: all BokehJS libraries/stylesheets loaded\");\n        run_callbacks()\n      }\n    }\n\n    function on_error(url) {\n      console.error(\"failed to load \" + url);\n    }\n\n    for (let i = 0; i < css_urls.length; i++) {\n      const url = css_urls[i];\n      const element = document.createElement(\"link\");\n      element.onload = on_load;\n      element.onerror = on_error.bind(null, url);\n      element.rel = \"stylesheet\";\n      element.type = \"text/css\";\n      element.href = url;\n      console.debug(\"Bokeh: injecting link tag for BokehJS stylesheet: \", url);\n      document.body.appendChild(element);\n    }\n\n    for (let i = 0; i < js_urls.length; i++) {\n      const url = js_urls[i];\n      const element = document.createElement('script');\n      element.onload = on_load;\n      element.onerror = on_error.bind(null, url);\n      element.async = false;\n      element.src = url;\n      console.debug(\"Bokeh: injecting script tag for BokehJS library: \", url);\n      document.head.appendChild(element);\n    }\n  };\n\n  function inject_raw_css(css) {\n    const element = document.createElement(\"style\");\n    element.appendChild(document.createTextNode(css));\n    document.body.appendChild(element);\n  }\n\n  const js_urls = [\"https://cdn.bokeh.org/bokeh/release/bokeh-2.4.3.min.js\", \"https://cdn.bokeh.org/bokeh/release/bokeh-gl-2.4.3.min.js\", \"https://cdn.bokeh.org/bokeh/release/bokeh-widgets-2.4.3.min.js\", \"https://cdn.bokeh.org/bokeh/release/bokeh-tables-2.4.3.min.js\", \"https://cdn.bokeh.org/bokeh/release/bokeh-mathjax-2.4.3.min.js\", \"https://unpkg.com/@holoviz/panel@0.14.4/dist/panel.min.js\"];\n  const css_urls = [];\n\n  const inline_js = [    function(Bokeh) {\n      Bokeh.set_log_level(\"info\");\n    },\nfunction(Bokeh) {\n    }\n  ];\n\n  function run_inline_js() {\n    if (root.Bokeh !== undefined || force === true) {\n          for (let i = 0; i < inline_js.length; i++) {\n      inline_js[i].call(root, root.Bokeh);\n    }\nif (force === true) {\n        display_loaded();\n      }} else if (Date.now() < root._bokeh_timeout) {\n      setTimeout(run_inline_js, 100);\n    } else if (!root._bokeh_failed_load) {\n      console.log(\"Bokeh: BokehJS failed to load within specified timeout.\");\n      root._bokeh_failed_load = true;\n    } else if (force !== true) {\n      const cell = $(document.getElementById(\"1002\")).parents('.cell').data().cell;\n      cell.output_area.append_execute_result(NB_LOAD_WARNING)\n    }\n  }\n\n  if (root._bokeh_is_loading === 0) {\n    console.debug(\"Bokeh: BokehJS loaded, going straight to plotting\");\n    run_inline_js();\n  } else {\n    load_libs(css_urls, js_urls, function() {\n      console.debug(\"Bokeh: BokehJS plotting callback run at\", now());\n      run_inline_js();\n    });\n  }\n}(window));"
          },
          "metadata": {},
          "output_type": "display_data"
        },
        {
          "data": {
            "application/javascript": [
              "(function(root) {\n",
              "  function now() {\n",
              "    return new Date();\n",
              "  }\n",
              "\n",
              "  var force = true;\n",
              "\n",
              "  if (typeof root._bokeh_onload_callbacks === \"undefined\" || force === true) {\n",
              "    root._bokeh_onload_callbacks = [];\n",
              "    root._bokeh_is_loading = undefined;\n",
              "  }\n",
              "\n",
              "  if (typeof (root._bokeh_timeout) === \"undefined\" || force === true) {\n",
              "    root._bokeh_timeout = Date.now() + 5000;\n",
              "    root._bokeh_failed_load = false;\n",
              "  }\n",
              "\n",
              "  function run_callbacks() {\n",
              "    try {\n",
              "      root._bokeh_onload_callbacks.forEach(function(callback) {\n",
              "        if (callback != null)\n",
              "          callback();\n",
              "      });\n",
              "    } finally {\n",
              "      delete root._bokeh_onload_callbacks\n",
              "    }\n",
              "    console.debug(\"Bokeh: all callbacks have finished\");\n",
              "  }\n",
              "\n",
              "  function load_libs(css_urls, js_urls, js_modules, callback) {\n",
              "    if (css_urls == null) css_urls = [];\n",
              "    if (js_urls == null) js_urls = [];\n",
              "    if (js_modules == null) js_modules = [];\n",
              "\n",
              "    root._bokeh_onload_callbacks.push(callback);\n",
              "    if (root._bokeh_is_loading > 0) {\n",
              "      console.debug(\"Bokeh: BokehJS is being loaded, scheduling callback at\", now());\n",
              "      return null;\n",
              "    }\n",
              "    if (js_urls.length === 0 && js_modules.length === 0) {\n",
              "      run_callbacks();\n",
              "      return null;\n",
              "    }\n",
              "    console.debug(\"Bokeh: BokehJS not loaded, scheduling load and callback at\", now());\n",
              "\n",
              "    function on_load() {\n",
              "      root._bokeh_is_loading--;\n",
              "      if (root._bokeh_is_loading === 0) {\n",
              "        console.debug(\"Bokeh: all BokehJS libraries/stylesheets loaded\");\n",
              "        run_callbacks()\n",
              "      }\n",
              "    }\n",
              "\n",
              "    function on_error() {\n",
              "      console.error(\"failed to load \" + url);\n",
              "    }\n",
              "\n",
              "    for (var i = 0; i < css_urls.length; i++) {\n",
              "      var url = css_urls[i];\n",
              "      const element = document.createElement(\"link\");\n",
              "      element.onload = on_load;\n",
              "      element.onerror = on_error;\n",
              "      element.rel = \"stylesheet\";\n",
              "      element.type = \"text/css\";\n",
              "      element.href = url;\n",
              "      console.debug(\"Bokeh: injecting link tag for BokehJS stylesheet: \", url);\n",
              "      document.body.appendChild(element);\n",
              "    }\n",
              "\n",
              "    var skip = [];\n",
              "    if (window.requirejs) {\n",
              "      window.requirejs.config({'packages': {}, 'paths': {'ace': '//cdnjs.cloudflare.com/ajax/libs/ace/1.4.7', 'gridstack': 'https://cdn.jsdelivr.net/npm/gridstack@4.2.5/dist/gridstack-h5', 'notyf': 'https://cdn.jsdelivr.net/npm/notyf@3/notyf.min'}, 'shim': {'ace/ext-language_tools': {'deps': ['ace/ace']}, 'ace/ext-modelist': {'deps': ['ace/ace']}, 'gridstack': {'exports': 'GridStack'}}});\n",
              "      require([\"ace/ace\"], function(ace) {\n",
              "\twindow.ace = ace\n",
              "\ton_load()\n",
              "      })\n",
              "      require([\"ace/ext-language_tools\"], function() {\n",
              "\ton_load()\n",
              "      })\n",
              "      require([\"ace/ext-modelist\"], function() {\n",
              "\ton_load()\n",
              "      })\n",
              "      require([\"gridstack\"], function(GridStack) {\n",
              "\twindow.GridStack = GridStack\n",
              "\ton_load()\n",
              "      })\n",
              "      require([\"notyf\"], function() {\n",
              "\ton_load()\n",
              "      })\n",
              "      root._bokeh_is_loading = css_urls.length + 5;\n",
              "    } else {\n",
              "      root._bokeh_is_loading = css_urls.length + js_urls.length + js_modules.length;\n",
              "    }    if (((window['ace'] !== undefined) && (!(window['ace'] instanceof HTMLElement))) || window.requirejs) {\n",
              "      var urls = ['https://cdnjs.cloudflare.com/ajax/libs/ace/1.4.11/ace.js', 'https://cdnjs.cloudflare.com/ajax/libs/ace/1.4.11/ext-language_tools.js', 'https://cdnjs.cloudflare.com/ajax/libs/ace/1.4.11/ext-modelist.js'];\n",
              "      for (var i = 0; i < urls.length; i++) {\n",
              "        skip.push(urls[i])\n",
              "      }\n",
              "    }    if (((window['GridStack'] !== undefined) && (!(window['GridStack'] instanceof HTMLElement))) || window.requirejs) {\n",
              "      var urls = ['https://cdn.holoviz.org/panel/0.14.4/dist/bundled/gridstack/gridstack@4.2.5/dist/gridstack-h5.js'];\n",
              "      for (var i = 0; i < urls.length; i++) {\n",
              "        skip.push(urls[i])\n",
              "      }\n",
              "    }    if (((window['Notyf'] !== undefined) && (!(window['Notyf'] instanceof HTMLElement))) || window.requirejs) {\n",
              "      var urls = ['https://cdn.holoviz.org/panel/0.14.4/dist/bundled/notificationarea/notyf@3/notyf.min.js'];\n",
              "      for (var i = 0; i < urls.length; i++) {\n",
              "        skip.push(urls[i])\n",
              "      }\n",
              "    }    for (var i = 0; i < js_urls.length; i++) {\n",
              "      var url = js_urls[i];\n",
              "      if (skip.indexOf(url) >= 0) {\n",
              "\tif (!window.requirejs) {\n",
              "\t  on_load();\n",
              "\t}\n",
              "\tcontinue;\n",
              "      }\n",
              "      var element = document.createElement('script');\n",
              "      element.onload = on_load;\n",
              "      element.onerror = on_error;\n",
              "      element.async = false;\n",
              "      element.src = url;\n",
              "      console.debug(\"Bokeh: injecting script tag for BokehJS library: \", url);\n",
              "      document.head.appendChild(element);\n",
              "    }\n",
              "    for (var i = 0; i < js_modules.length; i++) {\n",
              "      var url = js_modules[i];\n",
              "      if (skip.indexOf(url) >= 0) {\n",
              "\tif (!window.requirejs) {\n",
              "\t  on_load();\n",
              "\t}\n",
              "\tcontinue;\n",
              "      }\n",
              "      var element = document.createElement('script');\n",
              "      element.onload = on_load;\n",
              "      element.onerror = on_error;\n",
              "      element.async = false;\n",
              "      element.src = url;\n",
              "      element.type = \"module\";\n",
              "      console.debug(\"Bokeh: injecting script tag for BokehJS library: \", url);\n",
              "      document.head.appendChild(element);\n",
              "    }\n",
              "    if (!js_urls.length && !js_modules.length) {\n",
              "      on_load()\n",
              "    }\n",
              "  };\n",
              "\n",
              "  function inject_raw_css(css) {\n",
              "    const element = document.createElement(\"style\");\n",
              "    element.appendChild(document.createTextNode(css));\n",
              "    document.body.appendChild(element);\n",
              "  }\n",
              "\n",
              "  var js_urls = [\"https://cdnjs.cloudflare.com/ajax/libs/ace/1.4.11/ace.js\", \"https://cdnjs.cloudflare.com/ajax/libs/ace/1.4.11/ext-language_tools.js\", \"https://cdnjs.cloudflare.com/ajax/libs/ace/1.4.11/ext-modelist.js\", \"https://cdn.bokeh.org/bokeh/release/bokeh-2.4.3.min.js\", \"https://cdn.bokeh.org/bokeh/release/bokeh-gl-2.4.3.min.js\", \"https://cdn.bokeh.org/bokeh/release/bokeh-widgets-2.4.3.min.js\", \"https://cdn.bokeh.org/bokeh/release/bokeh-tables-2.4.3.min.js\", \"https://cdn.bokeh.org/bokeh/release/bokeh-mathjax-2.4.3.min.js\", \"https://unpkg.com/@holoviz/panel@0.14.4/dist/panel.min.js\"];\n",
              "  var js_modules = [];\n",
              "  var css_urls = [\"https://cdn.holoviz.org/panel/0.14.4/dist/css/widgets.css\", \"https://cdn.holoviz.org/panel/0.14.4/dist/css/debugger.css\", \"https://cdn.holoviz.org/panel/0.14.4/dist/css/json.css\", \"https://cdn.holoviz.org/panel/0.14.4/dist/css/markdown.css\", \"https://cdn.holoviz.org/panel/0.14.4/dist/css/loading.css\", \"https://cdn.holoviz.org/panel/0.14.4/dist/css/alerts.css\", \"https://cdn.holoviz.org/panel/0.14.4/dist/css/dataframe.css\", \"https://cdn.holoviz.org/panel/0.14.4/dist/css/card.css\"];\n",
              "  var inline_js = [    function(Bokeh) {\n",
              "      inject_raw_css(\"/*\\n ~ CML // Creative Machine Learning ~\\n mml.css : CSS styling information for Panel and Bokeh\\n \\n This file defines the main CSS styling information for the CML course\\n \\n Author               :  Philippe Esling\\n                        <esling@ircam.fr>\\n*/\\n\\nbody {\\n  display: flex;\\n  height: 100vh;\\n  margin: 0px;\\n  overflow-x: hidden;\\n  overflow-y: hidden;\\n}\\n\\n.bk-root .bk, .bk-root .bk:before, .bk-root .bk:after {\\n  font-family: \\\"Josefin Sans\\\";\\n}\\n\\nimg {\\n  max-width: 100%;\\n}\\n\\n#container {\\n  padding:0px;\\n  height:100vh;\\n  width: 100vw;\\n  max-width: 100vw;\\n}\\n\\n#sidebar .mdc-list {\\n  padding-left: 5px;\\n  padding-right: 5px;\\n}\\n\\n.mdc-drawer-app-content {\\n  flex: auto;\\n  position: relative;\\n  overflow: hidden;\\n}\\n\\n.mdc-drawer {\\n  background: #FAFAFA; /* GRAY 50 */\\n}\\n\\n.mdc-drawer-app-content {\\n  margin-left: 0 !important;\\n}\\n\\n.title-bar {\\n  display: contents;\\n  justify-content: center;\\n  align-content: center;\\n  width: 100%;\\n}\\n\\n.mdc-top-app-bar .bk-menu {\\n  color: black\\n}\\n\\n.app-header {\\n  display: contents;\\n  padding-left: 10px;\\n  font-size: 1.25em;\\n}\\n\\nimg.app-logo {\\n  padding-right: 10px;\\n  font-size: 28px;\\n  height: 30px;\\n  max-width: inherit;\\n  padding-top: 12px;\\n  padding-bottom: 6px;\\n}\\n\\n#app-title {\\n  padding-right: 12px;\\n  padding-left: 12px;\\n}\\n\\n.title {\\n  font-family: \\\"Josefin Sans\\\";\\n  color: #fff;\\n  text-decoration: none;\\n  text-decoration-line: none;\\n  text-decoration-style: initial;\\n  text-decoration-color: initial;\\n  font-weight: 400;\\n  font-size: 2em;\\n  line-height: 2em;\\n  white-space: nowrap;\\n}\\n\\n.main-content {\\n  overflow-y: scroll;\\n  overflow-x: auto;\\n}\\n\\n#header {\\n  position: absolute;\\n  z-index: 7;\\n}\\n\\n#header-items {\\n  width: 100%;\\n  margin-left:15px;\\n}\\n\\n.pn-busy-container {\\n  align-items: center;\\n  justify-content: center;\\n  display: flex;\\n}\\n\\n.mdc-drawer__content {\\n  overflow-x: hidden;\\n}\\n.mdc-drawer__content, .main-content {\\n  padding: 12px;\\n}\\n\\n.main-content {\\n  height: calc(100vh - 88px);\\n  max-height: calc(100vh - 88px);\\n  padding-right: 32px;\\n}\\n\\nbutton.mdc-button.mdc-card-button {\\n  color: transparent;\\n  height: 50px;\\n}\\n\\np.bk.mdc-button {\\n  display: none;\\n}\\n\\ndiv.bk.mdc-card {\\n  border-radius: 0px\\n}\\n\\n.mdc-card .bk.card-header {\\n  display: flex;\\n}\\n\\n.bk.mdc-card-title {\\n  font-family: \\\"Josefin Sans\\\";\\n  font-weight: bold;\\n  align-items: center;\\n  display: flex !important;\\n  position: relative !important;\\n}\\n\\n.bk.mdc-card-title:nth-child(2) {\\n  margin-left: -1.4em;\\n}\\n\\n.pn-modal {\\n  overflow-y: scroll;\\n  width: 100%;\\n  display: none;\\n  position: absolute;\\n  top: 0;\\n  left: 0;\\n}\\n\\n.pn-modal-content {\\n  font-family: \\\"Josefin Sans\\\";\\n  background-color: #0e0e0e;\\n  margin: auto;\\n  margin-top: 25px;\\n  margin-bottom: 25px;\\n  padding: 15px 20px 20px 20px;\\n  border: 1px solid #888;\\n  width: 80% !important;\\n}\\n\\n.pn-modal-close {\\n  position: absolute;\\n  right: 25px;\\n  z-index: 100;\\n}\\n\\n.pn-modal-close:hover,\\n.pn-modal-close:focus {\\n  color: #000;\\n  text-decoration: none;\\n  cursor: pointer;\\n}\\n\\n.custom_button_bokeh button.bk.bk-btn.bk-btn-default {\\n    font-size:48pt;\\n    background-color: #05b7ff;\\n    border-color: #05b7ff;\\n}\");\n",
              "    },    function(Bokeh) {\n",
              "      inject_raw_css(\"\\n    .bk.pn-loading.arc:before {\\n      background-image: url(\\\"data:image/svg+xml;base64,PHN2ZyB4bWxucz0iaHR0cDovL3d3dy53My5vcmcvMjAwMC9zdmciIHN0eWxlPSJtYXJnaW46IGF1dG87IGJhY2tncm91bmQ6IG5vbmU7IGRpc3BsYXk6IGJsb2NrOyBzaGFwZS1yZW5kZXJpbmc6IGF1dG87IiB2aWV3Qm94PSIwIDAgMTAwIDEwMCIgcHJlc2VydmVBc3BlY3RSYXRpbz0ieE1pZFlNaWQiPiAgPGNpcmNsZSBjeD0iNTAiIGN5PSI1MCIgZmlsbD0ibm9uZSIgc3Ryb2tlPSIjYzNjM2MzIiBzdHJva2Utd2lkdGg9IjEwIiByPSIzNSIgc3Ryb2tlLWRhc2hhcnJheT0iMTY0LjkzMzYxNDMxMzQ2NDE1IDU2Ljk3Nzg3MTQzNzgyMTM4Ij4gICAgPGFuaW1hdGVUcmFuc2Zvcm0gYXR0cmlidXRlTmFtZT0idHJhbnNmb3JtIiB0eXBlPSJyb3RhdGUiIHJlcGVhdENvdW50PSJpbmRlZmluaXRlIiBkdXI9IjFzIiB2YWx1ZXM9IjAgNTAgNTA7MzYwIDUwIDUwIiBrZXlUaW1lcz0iMDsxIj48L2FuaW1hdGVUcmFuc2Zvcm0+ICA8L2NpcmNsZT48L3N2Zz4=\\\");\\n      background-size: auto calc(min(50%, 400px));\\n    }\\n    \");\n",
              "    },    function(Bokeh) {\n",
              "      Bokeh.set_log_level(\"info\");\n",
              "    },\n",
              "function(Bokeh) {} // ensure no trailing comma for IE\n",
              "  ];\n",
              "\n",
              "  function run_inline_js() {\n",
              "    if ((root.Bokeh !== undefined) || (force === true)) {\n",
              "      for (var i = 0; i < inline_js.length; i++) {\n",
              "        inline_js[i].call(root, root.Bokeh);\n",
              "      }} else if (Date.now() < root._bokeh_timeout) {\n",
              "      setTimeout(run_inline_js, 100);\n",
              "    } else if (!root._bokeh_failed_load) {\n",
              "      console.log(\"Bokeh: BokehJS failed to load within specified timeout.\");\n",
              "      root._bokeh_failed_load = true;\n",
              "    }\n",
              "  }\n",
              "\n",
              "  if (root._bokeh_is_loading === 0) {\n",
              "    console.debug(\"Bokeh: BokehJS loaded, going straight to plotting\");\n",
              "    run_inline_js();\n",
              "  } else {\n",
              "    load_libs(css_urls, js_urls, js_modules, function() {\n",
              "      console.debug(\"Bokeh: BokehJS plotting callback run at\", now());\n",
              "      run_inline_js();\n",
              "    });\n",
              "  }\n",
              "}(window));"
            ],
            "application/vnd.holoviews_load.v0+json": "(function(root) {\n  function now() {\n    return new Date();\n  }\n\n  var force = true;\n\n  if (typeof root._bokeh_onload_callbacks === \"undefined\" || force === true) {\n    root._bokeh_onload_callbacks = [];\n    root._bokeh_is_loading = undefined;\n  }\n\n  if (typeof (root._bokeh_timeout) === \"undefined\" || force === true) {\n    root._bokeh_timeout = Date.now() + 5000;\n    root._bokeh_failed_load = false;\n  }\n\n  function run_callbacks() {\n    try {\n      root._bokeh_onload_callbacks.forEach(function(callback) {\n        if (callback != null)\n          callback();\n      });\n    } finally {\n      delete root._bokeh_onload_callbacks\n    }\n    console.debug(\"Bokeh: all callbacks have finished\");\n  }\n\n  function load_libs(css_urls, js_urls, js_modules, callback) {\n    if (css_urls == null) css_urls = [];\n    if (js_urls == null) js_urls = [];\n    if (js_modules == null) js_modules = [];\n\n    root._bokeh_onload_callbacks.push(callback);\n    if (root._bokeh_is_loading > 0) {\n      console.debug(\"Bokeh: BokehJS is being loaded, scheduling callback at\", now());\n      return null;\n    }\n    if (js_urls.length === 0 && js_modules.length === 0) {\n      run_callbacks();\n      return null;\n    }\n    console.debug(\"Bokeh: BokehJS not loaded, scheduling load and callback at\", now());\n\n    function on_load() {\n      root._bokeh_is_loading--;\n      if (root._bokeh_is_loading === 0) {\n        console.debug(\"Bokeh: all BokehJS libraries/stylesheets loaded\");\n        run_callbacks()\n      }\n    }\n\n    function on_error() {\n      console.error(\"failed to load \" + url);\n    }\n\n    for (var i = 0; i < css_urls.length; i++) {\n      var url = css_urls[i];\n      const element = document.createElement(\"link\");\n      element.onload = on_load;\n      element.onerror = on_error;\n      element.rel = \"stylesheet\";\n      element.type = \"text/css\";\n      element.href = url;\n      console.debug(\"Bokeh: injecting link tag for BokehJS stylesheet: \", url);\n      document.body.appendChild(element);\n    }\n\n    var skip = [];\n    if (window.requirejs) {\n      window.requirejs.config({'packages': {}, 'paths': {'ace': '//cdnjs.cloudflare.com/ajax/libs/ace/1.4.7', 'gridstack': 'https://cdn.jsdelivr.net/npm/gridstack@4.2.5/dist/gridstack-h5', 'notyf': 'https://cdn.jsdelivr.net/npm/notyf@3/notyf.min'}, 'shim': {'ace/ext-language_tools': {'deps': ['ace/ace']}, 'ace/ext-modelist': {'deps': ['ace/ace']}, 'gridstack': {'exports': 'GridStack'}}});\n      require([\"ace/ace\"], function(ace) {\n\twindow.ace = ace\n\ton_load()\n      })\n      require([\"ace/ext-language_tools\"], function() {\n\ton_load()\n      })\n      require([\"ace/ext-modelist\"], function() {\n\ton_load()\n      })\n      require([\"gridstack\"], function(GridStack) {\n\twindow.GridStack = GridStack\n\ton_load()\n      })\n      require([\"notyf\"], function() {\n\ton_load()\n      })\n      root._bokeh_is_loading = css_urls.length + 5;\n    } else {\n      root._bokeh_is_loading = css_urls.length + js_urls.length + js_modules.length;\n    }    if (((window['ace'] !== undefined) && (!(window['ace'] instanceof HTMLElement))) || window.requirejs) {\n      var urls = ['https://cdnjs.cloudflare.com/ajax/libs/ace/1.4.11/ace.js', 'https://cdnjs.cloudflare.com/ajax/libs/ace/1.4.11/ext-language_tools.js', 'https://cdnjs.cloudflare.com/ajax/libs/ace/1.4.11/ext-modelist.js'];\n      for (var i = 0; i < urls.length; i++) {\n        skip.push(urls[i])\n      }\n    }    if (((window['GridStack'] !== undefined) && (!(window['GridStack'] instanceof HTMLElement))) || window.requirejs) {\n      var urls = ['https://cdn.holoviz.org/panel/0.14.4/dist/bundled/gridstack/gridstack@4.2.5/dist/gridstack-h5.js'];\n      for (var i = 0; i < urls.length; i++) {\n        skip.push(urls[i])\n      }\n    }    if (((window['Notyf'] !== undefined) && (!(window['Notyf'] instanceof HTMLElement))) || window.requirejs) {\n      var urls = ['https://cdn.holoviz.org/panel/0.14.4/dist/bundled/notificationarea/notyf@3/notyf.min.js'];\n      for (var i = 0; i < urls.length; i++) {\n        skip.push(urls[i])\n      }\n    }    for (var i = 0; i < js_urls.length; i++) {\n      var url = js_urls[i];\n      if (skip.indexOf(url) >= 0) {\n\tif (!window.requirejs) {\n\t  on_load();\n\t}\n\tcontinue;\n      }\n      var element = document.createElement('script');\n      element.onload = on_load;\n      element.onerror = on_error;\n      element.async = false;\n      element.src = url;\n      console.debug(\"Bokeh: injecting script tag for BokehJS library: \", url);\n      document.head.appendChild(element);\n    }\n    for (var i = 0; i < js_modules.length; i++) {\n      var url = js_modules[i];\n      if (skip.indexOf(url) >= 0) {\n\tif (!window.requirejs) {\n\t  on_load();\n\t}\n\tcontinue;\n      }\n      var element = document.createElement('script');\n      element.onload = on_load;\n      element.onerror = on_error;\n      element.async = false;\n      element.src = url;\n      element.type = \"module\";\n      console.debug(\"Bokeh: injecting script tag for BokehJS library: \", url);\n      document.head.appendChild(element);\n    }\n    if (!js_urls.length && !js_modules.length) {\n      on_load()\n    }\n  };\n\n  function inject_raw_css(css) {\n    const element = document.createElement(\"style\");\n    element.appendChild(document.createTextNode(css));\n    document.body.appendChild(element);\n  }\n\n  var js_urls = [\"https://cdnjs.cloudflare.com/ajax/libs/ace/1.4.11/ace.js\", \"https://cdnjs.cloudflare.com/ajax/libs/ace/1.4.11/ext-language_tools.js\", \"https://cdnjs.cloudflare.com/ajax/libs/ace/1.4.11/ext-modelist.js\", \"https://cdn.bokeh.org/bokeh/release/bokeh-2.4.3.min.js\", \"https://cdn.bokeh.org/bokeh/release/bokeh-gl-2.4.3.min.js\", \"https://cdn.bokeh.org/bokeh/release/bokeh-widgets-2.4.3.min.js\", \"https://cdn.bokeh.org/bokeh/release/bokeh-tables-2.4.3.min.js\", \"https://cdn.bokeh.org/bokeh/release/bokeh-mathjax-2.4.3.min.js\", \"https://unpkg.com/@holoviz/panel@0.14.4/dist/panel.min.js\"];\n  var js_modules = [];\n  var css_urls = [\"https://cdn.holoviz.org/panel/0.14.4/dist/css/widgets.css\", \"https://cdn.holoviz.org/panel/0.14.4/dist/css/debugger.css\", \"https://cdn.holoviz.org/panel/0.14.4/dist/css/json.css\", \"https://cdn.holoviz.org/panel/0.14.4/dist/css/markdown.css\", \"https://cdn.holoviz.org/panel/0.14.4/dist/css/loading.css\", \"https://cdn.holoviz.org/panel/0.14.4/dist/css/alerts.css\", \"https://cdn.holoviz.org/panel/0.14.4/dist/css/dataframe.css\", \"https://cdn.holoviz.org/panel/0.14.4/dist/css/card.css\"];\n  var inline_js = [    function(Bokeh) {\n      inject_raw_css(\"/*\\n ~ CML // Creative Machine Learning ~\\n mml.css : CSS styling information for Panel and Bokeh\\n \\n This file defines the main CSS styling information for the CML course\\n \\n Author               :  Philippe Esling\\n                        <esling@ircam.fr>\\n*/\\n\\nbody {\\n  display: flex;\\n  height: 100vh;\\n  margin: 0px;\\n  overflow-x: hidden;\\n  overflow-y: hidden;\\n}\\n\\n.bk-root .bk, .bk-root .bk:before, .bk-root .bk:after {\\n  font-family: \\\"Josefin Sans\\\";\\n}\\n\\nimg {\\n  max-width: 100%;\\n}\\n\\n#container {\\n  padding:0px;\\n  height:100vh;\\n  width: 100vw;\\n  max-width: 100vw;\\n}\\n\\n#sidebar .mdc-list {\\n  padding-left: 5px;\\n  padding-right: 5px;\\n}\\n\\n.mdc-drawer-app-content {\\n  flex: auto;\\n  position: relative;\\n  overflow: hidden;\\n}\\n\\n.mdc-drawer {\\n  background: #FAFAFA; /* GRAY 50 */\\n}\\n\\n.mdc-drawer-app-content {\\n  margin-left: 0 !important;\\n}\\n\\n.title-bar {\\n  display: contents;\\n  justify-content: center;\\n  align-content: center;\\n  width: 100%;\\n}\\n\\n.mdc-top-app-bar .bk-menu {\\n  color: black\\n}\\n\\n.app-header {\\n  display: contents;\\n  padding-left: 10px;\\n  font-size: 1.25em;\\n}\\n\\nimg.app-logo {\\n  padding-right: 10px;\\n  font-size: 28px;\\n  height: 30px;\\n  max-width: inherit;\\n  padding-top: 12px;\\n  padding-bottom: 6px;\\n}\\n\\n#app-title {\\n  padding-right: 12px;\\n  padding-left: 12px;\\n}\\n\\n.title {\\n  font-family: \\\"Josefin Sans\\\";\\n  color: #fff;\\n  text-decoration: none;\\n  text-decoration-line: none;\\n  text-decoration-style: initial;\\n  text-decoration-color: initial;\\n  font-weight: 400;\\n  font-size: 2em;\\n  line-height: 2em;\\n  white-space: nowrap;\\n}\\n\\n.main-content {\\n  overflow-y: scroll;\\n  overflow-x: auto;\\n}\\n\\n#header {\\n  position: absolute;\\n  z-index: 7;\\n}\\n\\n#header-items {\\n  width: 100%;\\n  margin-left:15px;\\n}\\n\\n.pn-busy-container {\\n  align-items: center;\\n  justify-content: center;\\n  display: flex;\\n}\\n\\n.mdc-drawer__content {\\n  overflow-x: hidden;\\n}\\n.mdc-drawer__content, .main-content {\\n  padding: 12px;\\n}\\n\\n.main-content {\\n  height: calc(100vh - 88px);\\n  max-height: calc(100vh - 88px);\\n  padding-right: 32px;\\n}\\n\\nbutton.mdc-button.mdc-card-button {\\n  color: transparent;\\n  height: 50px;\\n}\\n\\np.bk.mdc-button {\\n  display: none;\\n}\\n\\ndiv.bk.mdc-card {\\n  border-radius: 0px\\n}\\n\\n.mdc-card .bk.card-header {\\n  display: flex;\\n}\\n\\n.bk.mdc-card-title {\\n  font-family: \\\"Josefin Sans\\\";\\n  font-weight: bold;\\n  align-items: center;\\n  display: flex !important;\\n  position: relative !important;\\n}\\n\\n.bk.mdc-card-title:nth-child(2) {\\n  margin-left: -1.4em;\\n}\\n\\n.pn-modal {\\n  overflow-y: scroll;\\n  width: 100%;\\n  display: none;\\n  position: absolute;\\n  top: 0;\\n  left: 0;\\n}\\n\\n.pn-modal-content {\\n  font-family: \\\"Josefin Sans\\\";\\n  background-color: #0e0e0e;\\n  margin: auto;\\n  margin-top: 25px;\\n  margin-bottom: 25px;\\n  padding: 15px 20px 20px 20px;\\n  border: 1px solid #888;\\n  width: 80% !important;\\n}\\n\\n.pn-modal-close {\\n  position: absolute;\\n  right: 25px;\\n  z-index: 100;\\n}\\n\\n.pn-modal-close:hover,\\n.pn-modal-close:focus {\\n  color: #000;\\n  text-decoration: none;\\n  cursor: pointer;\\n}\\n\\n.custom_button_bokeh button.bk.bk-btn.bk-btn-default {\\n    font-size:48pt;\\n    background-color: #05b7ff;\\n    border-color: #05b7ff;\\n}\");\n    },    function(Bokeh) {\n      inject_raw_css(\"\\n    .bk.pn-loading.arc:before {\\n      background-image: url(\\\"data:image/svg+xml;base64,PHN2ZyB4bWxucz0iaHR0cDovL3d3dy53My5vcmcvMjAwMC9zdmciIHN0eWxlPSJtYXJnaW46IGF1dG87IGJhY2tncm91bmQ6IG5vbmU7IGRpc3BsYXk6IGJsb2NrOyBzaGFwZS1yZW5kZXJpbmc6IGF1dG87IiB2aWV3Qm94PSIwIDAgMTAwIDEwMCIgcHJlc2VydmVBc3BlY3RSYXRpbz0ieE1pZFlNaWQiPiAgPGNpcmNsZSBjeD0iNTAiIGN5PSI1MCIgZmlsbD0ibm9uZSIgc3Ryb2tlPSIjYzNjM2MzIiBzdHJva2Utd2lkdGg9IjEwIiByPSIzNSIgc3Ryb2tlLWRhc2hhcnJheT0iMTY0LjkzMzYxNDMxMzQ2NDE1IDU2Ljk3Nzg3MTQzNzgyMTM4Ij4gICAgPGFuaW1hdGVUcmFuc2Zvcm0gYXR0cmlidXRlTmFtZT0idHJhbnNmb3JtIiB0eXBlPSJyb3RhdGUiIHJlcGVhdENvdW50PSJpbmRlZmluaXRlIiBkdXI9IjFzIiB2YWx1ZXM9IjAgNTAgNTA7MzYwIDUwIDUwIiBrZXlUaW1lcz0iMDsxIj48L2FuaW1hdGVUcmFuc2Zvcm0+ICA8L2NpcmNsZT48L3N2Zz4=\\\");\\n      background-size: auto calc(min(50%, 400px));\\n    }\\n    \");\n    },    function(Bokeh) {\n      Bokeh.set_log_level(\"info\");\n    },\nfunction(Bokeh) {} // ensure no trailing comma for IE\n  ];\n\n  function run_inline_js() {\n    if ((root.Bokeh !== undefined) || (force === true)) {\n      for (var i = 0; i < inline_js.length; i++) {\n        inline_js[i].call(root, root.Bokeh);\n      }} else if (Date.now() < root._bokeh_timeout) {\n      setTimeout(run_inline_js, 100);\n    } else if (!root._bokeh_failed_load) {\n      console.log(\"Bokeh: BokehJS failed to load within specified timeout.\");\n      root._bokeh_failed_load = true;\n    }\n  }\n\n  if (root._bokeh_is_loading === 0) {\n    console.debug(\"Bokeh: BokehJS loaded, going straight to plotting\");\n    run_inline_js();\n  } else {\n    load_libs(css_urls, js_urls, js_modules, function() {\n      console.debug(\"Bokeh: BokehJS plotting callback run at\", now());\n      run_inline_js();\n    });\n  }\n}(window));"
          },
          "metadata": {},
          "output_type": "display_data"
        },
        {
          "data": {
            "application/javascript": [
              "\n",
              "if ((window.PyViz === undefined) || (window.PyViz instanceof HTMLElement)) {\n",
              "  window.PyViz = {comms: {}, comm_status:{}, kernels:{}, receivers: {}, plot_index: []}\n",
              "}\n",
              "\n",
              "\n",
              "    function JupyterCommManager() {\n",
              "    }\n",
              "\n",
              "    JupyterCommManager.prototype.register_target = function(plot_id, comm_id, msg_handler) {\n",
              "      if (window.comm_manager || ((window.Jupyter !== undefined) && (Jupyter.notebook.kernel != null))) {\n",
              "        var comm_manager = window.comm_manager || Jupyter.notebook.kernel.comm_manager;\n",
              "        comm_manager.register_target(comm_id, function(comm) {\n",
              "          comm.on_msg(msg_handler);\n",
              "        });\n",
              "      } else if ((plot_id in window.PyViz.kernels) && (window.PyViz.kernels[plot_id])) {\n",
              "        window.PyViz.kernels[plot_id].registerCommTarget(comm_id, function(comm) {\n",
              "          comm.onMsg = msg_handler;\n",
              "        });\n",
              "      } else if (typeof google != 'undefined' && google.colab.kernel != null) {\n",
              "        google.colab.kernel.comms.registerTarget(comm_id, (comm) => {\n",
              "          var messages = comm.messages[Symbol.asyncIterator]();\n",
              "          function processIteratorResult(result) {\n",
              "            var message = result.value;\n",
              "            console.log(message)\n",
              "            var content = {data: message.data, comm_id};\n",
              "            var buffers = []\n",
              "            for (var buffer of message.buffers || []) {\n",
              "              buffers.push(new DataView(buffer))\n",
              "            }\n",
              "            var metadata = message.metadata || {};\n",
              "            var msg = {content, buffers, metadata}\n",
              "            msg_handler(msg);\n",
              "            return messages.next().then(processIteratorResult);\n",
              "          }\n",
              "          return messages.next().then(processIteratorResult);\n",
              "        })\n",
              "      }\n",
              "    }\n",
              "\n",
              "    JupyterCommManager.prototype.get_client_comm = function(plot_id, comm_id, msg_handler) {\n",
              "      if (comm_id in window.PyViz.comms) {\n",
              "        return window.PyViz.comms[comm_id];\n",
              "      } else if (window.comm_manager || ((window.Jupyter !== undefined) && (Jupyter.notebook.kernel != null))) {\n",
              "        var comm_manager = window.comm_manager || Jupyter.notebook.kernel.comm_manager;\n",
              "        var comm = comm_manager.new_comm(comm_id, {}, {}, {}, comm_id);\n",
              "        if (msg_handler) {\n",
              "          comm.on_msg(msg_handler);\n",
              "        }\n",
              "      } else if ((plot_id in window.PyViz.kernels) && (window.PyViz.kernels[plot_id])) {\n",
              "        var comm = window.PyViz.kernels[plot_id].connectToComm(comm_id);\n",
              "        comm.open();\n",
              "        if (msg_handler) {\n",
              "          comm.onMsg = msg_handler;\n",
              "        }\n",
              "      } else if (typeof google != 'undefined' && google.colab.kernel != null) {\n",
              "        var comm_promise = google.colab.kernel.comms.open(comm_id)\n",
              "        comm_promise.then((comm) => {\n",
              "          window.PyViz.comms[comm_id] = comm;\n",
              "          if (msg_handler) {\n",
              "            var messages = comm.messages[Symbol.asyncIterator]();\n",
              "            function processIteratorResult(result) {\n",
              "              var message = result.value;\n",
              "              var content = {data: message.data};\n",
              "              var metadata = message.metadata || {comm_id};\n",
              "              var msg = {content, metadata}\n",
              "              msg_handler(msg);\n",
              "              return messages.next().then(processIteratorResult);\n",
              "            }\n",
              "            return messages.next().then(processIteratorResult);\n",
              "          }\n",
              "        }) \n",
              "        var sendClosure = (data, metadata, buffers, disposeOnDone) => {\n",
              "          return comm_promise.then((comm) => {\n",
              "            comm.send(data, metadata, buffers, disposeOnDone);\n",
              "          });\n",
              "        };\n",
              "        var comm = {\n",
              "          send: sendClosure\n",
              "        };\n",
              "      }\n",
              "      window.PyViz.comms[comm_id] = comm;\n",
              "      return comm;\n",
              "    }\n",
              "    window.PyViz.comm_manager = new JupyterCommManager();\n",
              "    \n",
              "\n",
              "\n",
              "var JS_MIME_TYPE = 'application/javascript';\n",
              "var HTML_MIME_TYPE = 'text/html';\n",
              "var EXEC_MIME_TYPE = 'application/vnd.holoviews_exec.v0+json';\n",
              "var CLASS_NAME = 'output';\n",
              "\n",
              "/**\n",
              " * Render data to the DOM node\n",
              " */\n",
              "function render(props, node) {\n",
              "  var div = document.createElement(\"div\");\n",
              "  var script = document.createElement(\"script\");\n",
              "  node.appendChild(div);\n",
              "  node.appendChild(script);\n",
              "}\n",
              "\n",
              "/**\n",
              " * Handle when a new output is added\n",
              " */\n",
              "function handle_add_output(event, handle) {\n",
              "  var output_area = handle.output_area;\n",
              "  var output = handle.output;\n",
              "  if ((output.data == undefined) || (!output.data.hasOwnProperty(EXEC_MIME_TYPE))) {\n",
              "    return\n",
              "  }\n",
              "  var id = output.metadata[EXEC_MIME_TYPE][\"id\"];\n",
              "  var toinsert = output_area.element.find(\".\" + CLASS_NAME.split(' ')[0]);\n",
              "  if (id !== undefined) {\n",
              "    var nchildren = toinsert.length;\n",
              "    var html_node = toinsert[nchildren-1].children[0];\n",
              "    html_node.innerHTML = output.data[HTML_MIME_TYPE];\n",
              "    var scripts = [];\n",
              "    var nodelist = html_node.querySelectorAll(\"script\");\n",
              "    for (var i in nodelist) {\n",
              "      if (nodelist.hasOwnProperty(i)) {\n",
              "        scripts.push(nodelist[i])\n",
              "      }\n",
              "    }\n",
              "\n",
              "    scripts.forEach( function (oldScript) {\n",
              "      var newScript = document.createElement(\"script\");\n",
              "      var attrs = [];\n",
              "      var nodemap = oldScript.attributes;\n",
              "      for (var j in nodemap) {\n",
              "        if (nodemap.hasOwnProperty(j)) {\n",
              "          attrs.push(nodemap[j])\n",
              "        }\n",
              "      }\n",
              "      attrs.forEach(function(attr) { newScript.setAttribute(attr.name, attr.value) });\n",
              "      newScript.appendChild(document.createTextNode(oldScript.innerHTML));\n",
              "      oldScript.parentNode.replaceChild(newScript, oldScript);\n",
              "    });\n",
              "    if (JS_MIME_TYPE in output.data) {\n",
              "      toinsert[nchildren-1].children[1].textContent = output.data[JS_MIME_TYPE];\n",
              "    }\n",
              "    output_area._hv_plot_id = id;\n",
              "    if ((window.Bokeh !== undefined) && (id in Bokeh.index)) {\n",
              "      window.PyViz.plot_index[id] = Bokeh.index[id];\n",
              "    } else {\n",
              "      window.PyViz.plot_index[id] = null;\n",
              "    }\n",
              "  } else if (output.metadata[EXEC_MIME_TYPE][\"server_id\"] !== undefined) {\n",
              "    var bk_div = document.createElement(\"div\");\n",
              "    bk_div.innerHTML = output.data[HTML_MIME_TYPE];\n",
              "    var script_attrs = bk_div.children[0].attributes;\n",
              "    for (var i = 0; i < script_attrs.length; i++) {\n",
              "      toinsert[toinsert.length - 1].childNodes[1].setAttribute(script_attrs[i].name, script_attrs[i].value);\n",
              "    }\n",
              "    // store reference to server id on output_area\n",
              "    output_area._bokeh_server_id = output.metadata[EXEC_MIME_TYPE][\"server_id\"];\n",
              "  }\n",
              "}\n",
              "\n",
              "/**\n",
              " * Handle when an output is cleared or removed\n",
              " */\n",
              "function handle_clear_output(event, handle) {\n",
              "  var id = handle.cell.output_area._hv_plot_id;\n",
              "  var server_id = handle.cell.output_area._bokeh_server_id;\n",
              "  if (((id === undefined) || !(id in PyViz.plot_index)) && (server_id !== undefined)) { return; }\n",
              "  var comm = window.PyViz.comm_manager.get_client_comm(\"hv-extension-comm\", \"hv-extension-comm\", function () {});\n",
              "  if (server_id !== null) {\n",
              "    comm.send({event_type: 'server_delete', 'id': server_id});\n",
              "    return;\n",
              "  } else if (comm !== null) {\n",
              "    comm.send({event_type: 'delete', 'id': id});\n",
              "  }\n",
              "  delete PyViz.plot_index[id];\n",
              "  if ((window.Bokeh !== undefined) & (id in window.Bokeh.index)) {\n",
              "    var doc = window.Bokeh.index[id].model.document\n",
              "    doc.clear();\n",
              "    const i = window.Bokeh.documents.indexOf(doc);\n",
              "    if (i > -1) {\n",
              "      window.Bokeh.documents.splice(i, 1);\n",
              "    }\n",
              "  }\n",
              "}\n",
              "\n",
              "/**\n",
              " * Handle kernel restart event\n",
              " */\n",
              "function handle_kernel_cleanup(event, handle) {\n",
              "  delete PyViz.comms[\"hv-extension-comm\"];\n",
              "  window.PyViz.plot_index = {}\n",
              "}\n",
              "\n",
              "/**\n",
              " * Handle update_display_data messages\n",
              " */\n",
              "function handle_update_output(event, handle) {\n",
              "  handle_clear_output(event, {cell: {output_area: handle.output_area}})\n",
              "  handle_add_output(event, handle)\n",
              "}\n",
              "\n",
              "function register_renderer(events, OutputArea) {\n",
              "  function append_mime(data, metadata, element) {\n",
              "    // create a DOM node to render to\n",
              "    var toinsert = this.create_output_subarea(\n",
              "    metadata,\n",
              "    CLASS_NAME,\n",
              "    EXEC_MIME_TYPE\n",
              "    );\n",
              "    this.keyboard_manager.register_events(toinsert);\n",
              "    // Render to node\n",
              "    var props = {data: data, metadata: metadata[EXEC_MIME_TYPE]};\n",
              "    render(props, toinsert[0]);\n",
              "    element.append(toinsert);\n",
              "    return toinsert\n",
              "  }\n",
              "\n",
              "  events.on('output_added.OutputArea', handle_add_output);\n",
              "  events.on('output_updated.OutputArea', handle_update_output);\n",
              "  events.on('clear_output.CodeCell', handle_clear_output);\n",
              "  events.on('delete.Cell', handle_clear_output);\n",
              "  events.on('kernel_ready.Kernel', handle_kernel_cleanup);\n",
              "\n",
              "  OutputArea.prototype.register_mime_type(EXEC_MIME_TYPE, append_mime, {\n",
              "    safe: true,\n",
              "    index: 0\n",
              "  });\n",
              "}\n",
              "\n",
              "if (window.Jupyter !== undefined) {\n",
              "  try {\n",
              "    var events = require('base/js/events');\n",
              "    var OutputArea = require('notebook/js/outputarea').OutputArea;\n",
              "    if (OutputArea.prototype.mime_types().indexOf(EXEC_MIME_TYPE) == -1) {\n",
              "      register_renderer(events, OutputArea);\n",
              "    }\n",
              "  } catch(err) {\n",
              "  }\n",
              "}\n"
            ],
            "application/vnd.holoviews_load.v0+json": "\nif ((window.PyViz === undefined) || (window.PyViz instanceof HTMLElement)) {\n  window.PyViz = {comms: {}, comm_status:{}, kernels:{}, receivers: {}, plot_index: []}\n}\n\n\n    function JupyterCommManager() {\n    }\n\n    JupyterCommManager.prototype.register_target = function(plot_id, comm_id, msg_handler) {\n      if (window.comm_manager || ((window.Jupyter !== undefined) && (Jupyter.notebook.kernel != null))) {\n        var comm_manager = window.comm_manager || Jupyter.notebook.kernel.comm_manager;\n        comm_manager.register_target(comm_id, function(comm) {\n          comm.on_msg(msg_handler);\n        });\n      } else if ((plot_id in window.PyViz.kernels) && (window.PyViz.kernels[plot_id])) {\n        window.PyViz.kernels[plot_id].registerCommTarget(comm_id, function(comm) {\n          comm.onMsg = msg_handler;\n        });\n      } else if (typeof google != 'undefined' && google.colab.kernel != null) {\n        google.colab.kernel.comms.registerTarget(comm_id, (comm) => {\n          var messages = comm.messages[Symbol.asyncIterator]();\n          function processIteratorResult(result) {\n            var message = result.value;\n            console.log(message)\n            var content = {data: message.data, comm_id};\n            var buffers = []\n            for (var buffer of message.buffers || []) {\n              buffers.push(new DataView(buffer))\n            }\n            var metadata = message.metadata || {};\n            var msg = {content, buffers, metadata}\n            msg_handler(msg);\n            return messages.next().then(processIteratorResult);\n          }\n          return messages.next().then(processIteratorResult);\n        })\n      }\n    }\n\n    JupyterCommManager.prototype.get_client_comm = function(plot_id, comm_id, msg_handler) {\n      if (comm_id in window.PyViz.comms) {\n        return window.PyViz.comms[comm_id];\n      } else if (window.comm_manager || ((window.Jupyter !== undefined) && (Jupyter.notebook.kernel != null))) {\n        var comm_manager = window.comm_manager || Jupyter.notebook.kernel.comm_manager;\n        var comm = comm_manager.new_comm(comm_id, {}, {}, {}, comm_id);\n        if (msg_handler) {\n          comm.on_msg(msg_handler);\n        }\n      } else if ((plot_id in window.PyViz.kernels) && (window.PyViz.kernels[plot_id])) {\n        var comm = window.PyViz.kernels[plot_id].connectToComm(comm_id);\n        comm.open();\n        if (msg_handler) {\n          comm.onMsg = msg_handler;\n        }\n      } else if (typeof google != 'undefined' && google.colab.kernel != null) {\n        var comm_promise = google.colab.kernel.comms.open(comm_id)\n        comm_promise.then((comm) => {\n          window.PyViz.comms[comm_id] = comm;\n          if (msg_handler) {\n            var messages = comm.messages[Symbol.asyncIterator]();\n            function processIteratorResult(result) {\n              var message = result.value;\n              var content = {data: message.data};\n              var metadata = message.metadata || {comm_id};\n              var msg = {content, metadata}\n              msg_handler(msg);\n              return messages.next().then(processIteratorResult);\n            }\n            return messages.next().then(processIteratorResult);\n          }\n        }) \n        var sendClosure = (data, metadata, buffers, disposeOnDone) => {\n          return comm_promise.then((comm) => {\n            comm.send(data, metadata, buffers, disposeOnDone);\n          });\n        };\n        var comm = {\n          send: sendClosure\n        };\n      }\n      window.PyViz.comms[comm_id] = comm;\n      return comm;\n    }\n    window.PyViz.comm_manager = new JupyterCommManager();\n    \n\n\nvar JS_MIME_TYPE = 'application/javascript';\nvar HTML_MIME_TYPE = 'text/html';\nvar EXEC_MIME_TYPE = 'application/vnd.holoviews_exec.v0+json';\nvar CLASS_NAME = 'output';\n\n/**\n * Render data to the DOM node\n */\nfunction render(props, node) {\n  var div = document.createElement(\"div\");\n  var script = document.createElement(\"script\");\n  node.appendChild(div);\n  node.appendChild(script);\n}\n\n/**\n * Handle when a new output is added\n */\nfunction handle_add_output(event, handle) {\n  var output_area = handle.output_area;\n  var output = handle.output;\n  if ((output.data == undefined) || (!output.data.hasOwnProperty(EXEC_MIME_TYPE))) {\n    return\n  }\n  var id = output.metadata[EXEC_MIME_TYPE][\"id\"];\n  var toinsert = output_area.element.find(\".\" + CLASS_NAME.split(' ')[0]);\n  if (id !== undefined) {\n    var nchildren = toinsert.length;\n    var html_node = toinsert[nchildren-1].children[0];\n    html_node.innerHTML = output.data[HTML_MIME_TYPE];\n    var scripts = [];\n    var nodelist = html_node.querySelectorAll(\"script\");\n    for (var i in nodelist) {\n      if (nodelist.hasOwnProperty(i)) {\n        scripts.push(nodelist[i])\n      }\n    }\n\n    scripts.forEach( function (oldScript) {\n      var newScript = document.createElement(\"script\");\n      var attrs = [];\n      var nodemap = oldScript.attributes;\n      for (var j in nodemap) {\n        if (nodemap.hasOwnProperty(j)) {\n          attrs.push(nodemap[j])\n        }\n      }\n      attrs.forEach(function(attr) { newScript.setAttribute(attr.name, attr.value) });\n      newScript.appendChild(document.createTextNode(oldScript.innerHTML));\n      oldScript.parentNode.replaceChild(newScript, oldScript);\n    });\n    if (JS_MIME_TYPE in output.data) {\n      toinsert[nchildren-1].children[1].textContent = output.data[JS_MIME_TYPE];\n    }\n    output_area._hv_plot_id = id;\n    if ((window.Bokeh !== undefined) && (id in Bokeh.index)) {\n      window.PyViz.plot_index[id] = Bokeh.index[id];\n    } else {\n      window.PyViz.plot_index[id] = null;\n    }\n  } else if (output.metadata[EXEC_MIME_TYPE][\"server_id\"] !== undefined) {\n    var bk_div = document.createElement(\"div\");\n    bk_div.innerHTML = output.data[HTML_MIME_TYPE];\n    var script_attrs = bk_div.children[0].attributes;\n    for (var i = 0; i < script_attrs.length; i++) {\n      toinsert[toinsert.length - 1].childNodes[1].setAttribute(script_attrs[i].name, script_attrs[i].value);\n    }\n    // store reference to server id on output_area\n    output_area._bokeh_server_id = output.metadata[EXEC_MIME_TYPE][\"server_id\"];\n  }\n}\n\n/**\n * Handle when an output is cleared or removed\n */\nfunction handle_clear_output(event, handle) {\n  var id = handle.cell.output_area._hv_plot_id;\n  var server_id = handle.cell.output_area._bokeh_server_id;\n  if (((id === undefined) || !(id in PyViz.plot_index)) && (server_id !== undefined)) { return; }\n  var comm = window.PyViz.comm_manager.get_client_comm(\"hv-extension-comm\", \"hv-extension-comm\", function () {});\n  if (server_id !== null) {\n    comm.send({event_type: 'server_delete', 'id': server_id});\n    return;\n  } else if (comm !== null) {\n    comm.send({event_type: 'delete', 'id': id});\n  }\n  delete PyViz.plot_index[id];\n  if ((window.Bokeh !== undefined) & (id in window.Bokeh.index)) {\n    var doc = window.Bokeh.index[id].model.document\n    doc.clear();\n    const i = window.Bokeh.documents.indexOf(doc);\n    if (i > -1) {\n      window.Bokeh.documents.splice(i, 1);\n    }\n  }\n}\n\n/**\n * Handle kernel restart event\n */\nfunction handle_kernel_cleanup(event, handle) {\n  delete PyViz.comms[\"hv-extension-comm\"];\n  window.PyViz.plot_index = {}\n}\n\n/**\n * Handle update_display_data messages\n */\nfunction handle_update_output(event, handle) {\n  handle_clear_output(event, {cell: {output_area: handle.output_area}})\n  handle_add_output(event, handle)\n}\n\nfunction register_renderer(events, OutputArea) {\n  function append_mime(data, metadata, element) {\n    // create a DOM node to render to\n    var toinsert = this.create_output_subarea(\n    metadata,\n    CLASS_NAME,\n    EXEC_MIME_TYPE\n    );\n    this.keyboard_manager.register_events(toinsert);\n    // Render to node\n    var props = {data: data, metadata: metadata[EXEC_MIME_TYPE]};\n    render(props, toinsert[0]);\n    element.append(toinsert);\n    return toinsert\n  }\n\n  events.on('output_added.OutputArea', handle_add_output);\n  events.on('output_updated.OutputArea', handle_update_output);\n  events.on('clear_output.CodeCell', handle_clear_output);\n  events.on('delete.Cell', handle_clear_output);\n  events.on('kernel_ready.Kernel', handle_kernel_cleanup);\n\n  OutputArea.prototype.register_mime_type(EXEC_MIME_TYPE, append_mime, {\n    safe: true,\n    index: 0\n  });\n}\n\nif (window.Jupyter !== undefined) {\n  try {\n    var events = require('base/js/events');\n    var OutputArea = require('notebook/js/outputarea').OutputArea;\n    if (OutputArea.prototype.mime_types().indexOf(EXEC_MIME_TYPE) == -1) {\n      register_renderer(events, OutputArea);\n    }\n  } catch(err) {\n  }\n}\n"
          },
          "metadata": {},
          "output_type": "display_data"
        },
        {
          "data": {
            "text/html": [
              "<style>.bk-root, .bk-root .bk:before, .bk-root .bk:after {\n",
              "  font-family: var(--jp-ui-font-size1);\n",
              "  font-size: var(--jp-ui-font-size1);\n",
              "  color: var(--jp-ui-font-color1);\n",
              "}\n",
              "</style>"
            ]
          },
          "metadata": {},
          "output_type": "display_data"
        }
      ],
      "source": [
        "# Base imports\n",
        "import numpy as np\n",
        "import matplotlib.pyplot as plt\n",
        "from cml.plot import initialize_bokeh\n",
        "from cml.panel import initialize_panel\n",
        "from jupyterthemes.stylefx import set_nb_theme\n",
        "from bokeh.io import show\n",
        "initialize_bokeh()\n",
        "initialize_panel()\n",
        "set_nb_theme(\"onedork\")\n",
        "rng = np.random.RandomState(1)"
      ]
    },
    {
      "cell_type": "markdown",
      "metadata": {},
      "source": [
        "<a id=\"regression\"></a>\n",
        "## Simple learning problem\n",
        "\n",
        "Imagine that a certain process somewhere follows the form of a quadratic relationship\n",
        "\n",
        "$$\n",
        " y = a x^{2} + bx + c \n",
        "$$\n",
        "\n",
        "In this case, all the **unknown parameters** are that of a polynomial model, therefore we have $\\theta = \\{a, b, c\\}$. However, this is clearly an ideal (clean) case, whereas in natural observations, there might be some noise in our observations\n",
        "$$\n",
        " y = a x^{2} + bx + c +\\epsilon \\quad \\mbox{with} \\quad \\epsilon \\in [-0.1, 0.1]\n",
        "$$\n",
        "\n",
        "An example of such noisy observations for different parameters is given below"
      ]
    },
    {
      "cell_type": "code",
      "execution_count": 9,
      "metadata": {
        "tags": []
      },
      "outputs": [],
      "source": [
        "# Parameters to our function\n",
        "eps = 0.1\n",
        "a, b, c = 5, 2, 0\n",
        "# Generating the corresponding data\n",
        "x = np.linspace(0, 1, 100)\n",
        "poly = np.poly1d([a, b, c])\n",
        "epsilon = np.random.uniform(-eps, eps, x.shape)\n",
        "y = poly(x) + epsilon"
      ]
    },
    {
      "cell_type": "code",
      "execution_count": 10,
      "metadata": {
        "tags": []
      },
      "outputs": [
        {
          "data": {},
          "metadata": {},
          "output_type": "display_data"
        },
        {
          "data": {
            "application/vnd.holoviews_exec.v0+json": "",
            "text/html": [
              "<div id='11444'>\n",
              "  <div class=\"bk-root\" id=\"bff31d4c-4eb1-418f-833a-afe175cb2ade\" data-root-id=\"11444\"></div>\n",
              "</div>\n",
              "<script type=\"application/javascript\">(function(root) {\n",
              "  function embed_document(root) {\n",
              "    var docs_json = {\"0895c661-4c1d-4eda-96b6-4c6f4d08af56\":{\"defs\":[{\"extends\":null,\"module\":null,\"name\":\"ReactiveHTML1\",\"overrides\":[],\"properties\":[]},{\"extends\":null,\"module\":null,\"name\":\"FlexBox1\",\"overrides\":[],\"properties\":[{\"default\":\"flex-start\",\"kind\":null,\"name\":\"align_content\"},{\"default\":\"flex-start\",\"kind\":null,\"name\":\"align_items\"},{\"default\":\"row\",\"kind\":null,\"name\":\"flex_direction\"},{\"default\":\"wrap\",\"kind\":null,\"name\":\"flex_wrap\"},{\"default\":\"flex-start\",\"kind\":null,\"name\":\"justify_content\"}]},{\"extends\":null,\"module\":null,\"name\":\"GridStack1\",\"overrides\":[],\"properties\":[{\"default\":\"warn\",\"kind\":null,\"name\":\"mode\"},{\"default\":null,\"kind\":null,\"name\":\"ncols\"},{\"default\":null,\"kind\":null,\"name\":\"nrows\"},{\"default\":true,\"kind\":null,\"name\":\"allow_resize\"},{\"default\":true,\"kind\":null,\"name\":\"allow_drag\"},{\"default\":[],\"kind\":null,\"name\":\"state\"}]},{\"extends\":null,\"module\":null,\"name\":\"click1\",\"overrides\":[],\"properties\":[{\"default\":\"\",\"kind\":null,\"name\":\"terminal_output\"},{\"default\":\"\",\"kind\":null,\"name\":\"debug_name\"},{\"default\":0,\"kind\":null,\"name\":\"clears\"}]},{\"extends\":null,\"module\":null,\"name\":\"NotificationAreaBase1\",\"overrides\":[],\"properties\":[{\"default\":\"bottom-right\",\"kind\":null,\"name\":\"position\"},{\"default\":0,\"kind\":null,\"name\":\"_clear\"}]},{\"extends\":null,\"module\":null,\"name\":\"NotificationArea1\",\"overrides\":[],\"properties\":[{\"default\":[],\"kind\":null,\"name\":\"notifications\"},{\"default\":\"bottom-right\",\"kind\":null,\"name\":\"position\"},{\"default\":0,\"kind\":null,\"name\":\"_clear\"},{\"default\":[{\"background\":\"#ffc107\",\"icon\":{\"className\":\"fas fa-exclamation-triangle\",\"color\":\"white\",\"tagName\":\"i\"},\"type\":\"warning\"},{\"background\":\"#007bff\",\"icon\":{\"className\":\"fas fa-info-circle\",\"color\":\"white\",\"tagName\":\"i\"},\"type\":\"info\"}],\"kind\":null,\"name\":\"types\"}]},{\"extends\":null,\"module\":null,\"name\":\"Notification\",\"overrides\":[],\"properties\":[{\"default\":null,\"kind\":null,\"name\":\"background\"},{\"default\":3000,\"kind\":null,\"name\":\"duration\"},{\"default\":null,\"kind\":null,\"name\":\"icon\"},{\"default\":\"\",\"kind\":null,\"name\":\"message\"},{\"default\":null,\"kind\":null,\"name\":\"notification_type\"},{\"default\":false,\"kind\":null,\"name\":\"_destroyed\"}]},{\"extends\":null,\"module\":null,\"name\":\"TemplateActions1\",\"overrides\":[],\"properties\":[{\"default\":0,\"kind\":null,\"name\":\"open_modal\"},{\"default\":0,\"kind\":null,\"name\":\"close_modal\"}]},{\"extends\":null,\"module\":null,\"name\":\"MaterialTemplateActions1\",\"overrides\":[],\"properties\":[{\"default\":0,\"kind\":null,\"name\":\"open_modal\"},{\"default\":0,\"kind\":null,\"name\":\"close_modal\"}]}],\"roots\":{\"references\":[{\"attributes\":{},\"id\":\"11429\",\"type\":\"AllLabels\"},{\"attributes\":{},\"id\":\"11393\",\"type\":\"LinearScale\"},{\"attributes\":{\"background_fill_alpha\":0.9,\"background_fill_color\":\"#0f0f0f\",\"below\":[{\"id\":\"11397\"}],\"border_fill_alpha\":0.8,\"border_fill_color\":\"#111111\",\"center\":[{\"id\":\"11400\"},{\"id\":\"11404\"},{\"id\":\"11436\"}],\"height\":450,\"left\":[{\"id\":\"11401\"}],\"outline_line_alpha\":0.25,\"outline_line_color\":\"#E0E0E0\",\"outline_line_width\":3,\"renderers\":[{\"id\":\"11424\"}],\"title\":{\"id\":\"11387\"},\"toolbar\":{\"id\":\"11412\"},\"toolbar_location\":\"left\",\"x_range\":{\"id\":\"11389\"},\"x_scale\":{\"id\":\"11393\"},\"y_range\":{\"id\":\"11391\"},\"y_scale\":{\"id\":\"11395\"}},\"id\":\"11386\",\"subtype\":\"Figure\",\"type\":\"Plot\"},{\"attributes\":{\"overlay\":{\"id\":\"11411\"}},\"id\":\"11407\",\"type\":\"BoxZoomTool\"},{\"attributes\":{},\"id\":\"11428\",\"type\":\"BasicTickFormatter\"},{\"attributes\":{\"source\":{\"id\":\"11419\"}},\"id\":\"11425\",\"type\":\"CDSView\"},{\"attributes\":{},\"id\":\"11433\",\"type\":\"UnionRenderers\"},{\"attributes\":{\"fill_alpha\":{\"value\":0.2},\"fill_color\":{\"value\":\"midnightblue\"},\"hatch_alpha\":{\"value\":0.2},\"line_alpha\":{\"value\":0.2},\"line_color\":{\"value\":\"white\"},\"size\":{\"value\":10},\"x\":{\"field\":\"x\"},\"y\":{\"field\":\"y\"}},\"id\":\"11423\",\"type\":\"Circle\"},{\"attributes\":{},\"id\":\"11402\",\"type\":\"BasicTicker\"},{\"attributes\":{\"coordinates\":null,\"data_source\":{\"id\":\"11419\"},\"glyph\":{\"id\":\"11420\"},\"group\":null,\"hover_glyph\":{\"id\":\"11422\"},\"muted_glyph\":{\"id\":\"11423\"},\"nonselection_glyph\":{\"id\":\"11441\"},\"selection_glyph\":{\"id\":\"11440\"},\"view\":{\"id\":\"11425\"}},\"id\":\"11424\",\"type\":\"GlyphRenderer\"},{\"attributes\":{\"coordinates\":null,\"group\":null,\"text\":\"Simple quadratic problem\",\"text_color\":\"#E0E0E0\",\"text_font\":\"Josefin Sans\",\"text_font_size\":\"2.1em\"},\"id\":\"11387\",\"type\":\"Title\"},{\"attributes\":{},\"id\":\"11431\",\"type\":\"BasicTickFormatter\"},{\"attributes\":{},\"id\":\"11432\",\"type\":\"AllLabels\"},{\"attributes\":{\"bottom_units\":\"screen\",\"coordinates\":null,\"fill_alpha\":0.5,\"fill_color\":\"lightgrey\",\"group\":null,\"left_units\":\"screen\",\"level\":\"overlay\",\"line_alpha\":1.0,\"line_color\":\"black\",\"line_dash\":[4,4],\"line_width\":2,\"right_units\":\"screen\",\"syncable\":false,\"top_units\":\"screen\"},\"id\":\"11456\",\"type\":\"BoxAnnotation\"},{\"attributes\":{},\"id\":\"11409\",\"type\":\"ResetTool\"},{\"attributes\":{\"label\":{\"value\":\"Observations\"},\"renderers\":[{\"id\":\"11424\"}]},\"id\":\"11437\",\"type\":\"LegendItem\"},{\"attributes\":{},\"id\":\"11434\",\"type\":\"Selection\"},{\"attributes\":{\"client_comm_id\":\"618cf7b0f1cc4c4b85f71551f4ceb545\",\"comm_id\":\"522cd7cca5b04c4497ff4d1a1181466b\",\"plot_id\":\"11444\"},\"id\":\"11502\",\"type\":\"panel.models.comm_manager.CommManager\"},{\"attributes\":{\"children\":[{\"id\":\"11445\"},{\"id\":\"11386\"},{\"id\":\"11468\"}],\"margin\":[0,0,0,0],\"name\":\"Row00156\"},\"id\":\"11444\",\"type\":\"Row\"},{\"attributes\":{},\"id\":\"11395\",\"type\":\"LinearScale\"},{\"attributes\":{\"axis_label\":\"y\",\"axis_label_standoff\":10,\"axis_label_text_color\":\"#FFFFFF\",\"axis_label_text_font\":\"Josefin Sans\",\"axis_label_text_font_size\":\"1.9em\",\"axis_label_text_font_style\":\"bold\",\"axis_line_alpha\":0.4,\"axis_line_color\":\"#E0E0E0\",\"coordinates\":null,\"formatter\":{\"id\":\"11428\"},\"group\":null,\"major_label_policy\":{\"id\":\"11429\"},\"major_label_text_color\":\"#E0E0E0\",\"major_label_text_font\":\"Josefin Sans\",\"major_label_text_font_size\":\"1.15em\",\"major_tick_line_alpha\":0.4,\"major_tick_line_color\":\"#E0E0E0\",\"minor_tick_line_alpha\":0.4,\"minor_tick_line_color\":\"#E0E0E0\",\"ticker\":{\"id\":\"11402\"}},\"id\":\"11401\",\"type\":\"LinearAxis\"},{\"attributes\":{\"fill_alpha\":{\"value\":0.25},\"fill_color\":{\"value\":\"midnightblue\"},\"hatch_alpha\":{\"value\":0.25},\"line_alpha\":{\"value\":0.25},\"line_color\":{\"value\":\"white\"},\"size\":{\"value\":10},\"x\":{\"field\":\"x\"},\"y\":{\"field\":\"y\"}},\"id\":\"11420\",\"type\":\"Circle\"},{\"attributes\":{\"margin\":[5,5,5,5],\"name\":\"HSpacer00152\",\"sizing_mode\":\"stretch_width\"},\"id\":\"11445\",\"type\":\"Spacer\"},{\"attributes\":{\"fill_alpha\":{\"value\":0.8},\"fill_color\":{\"value\":\"red\"},\"line_color\":{\"value\":\"white\"}},\"id\":\"11440\",\"type\":\"Circle\"},{\"attributes\":{},\"id\":\"11410\",\"type\":\"HelpTool\"},{\"attributes\":{},\"id\":\"11391\",\"type\":\"DataRange1d\"},{\"attributes\":{},\"id\":\"11405\",\"type\":\"PanTool\"},{\"attributes\":{},\"id\":\"11408\",\"type\":\"SaveTool\"},{\"attributes\":{\"fill_alpha\":{\"value\":0.5},\"fill_color\":{\"value\":\"midnightblue\"},\"line_color\":{\"value\":\"white\"}},\"id\":\"11441\",\"type\":\"Circle\"},{\"attributes\":{\"tools\":[{\"id\":\"11405\"},{\"id\":\"11406\"},{\"id\":\"11407\"},{\"id\":\"11408\"},{\"id\":\"11409\"},{\"id\":\"11410\"},{\"id\":\"11438\"},{\"id\":\"11442\"}]},\"id\":\"11412\",\"type\":\"Toolbar\"},{\"attributes\":{\"bottom_units\":\"screen\",\"coordinates\":null,\"fill_alpha\":0.5,\"fill_color\":\"lightgrey\",\"group\":null,\"left_units\":\"screen\",\"level\":\"overlay\",\"line_alpha\":1.0,\"line_color\":\"black\",\"line_dash\":[4,4],\"line_width\":2,\"right_units\":\"screen\",\"syncable\":false,\"top_units\":\"screen\"},\"id\":\"11411\",\"type\":\"BoxAnnotation\"},{\"attributes\":{\"axis\":{\"id\":\"11397\"},\"coordinates\":null,\"grid_line_alpha\":0.15,\"grid_line_color\":\"#E0E0E0\",\"group\":null,\"ticker\":null},\"id\":\"11400\",\"type\":\"Grid\"},{\"attributes\":{\"data\":{\"x\":{\"__ndarray__\":\"AAAAAAAAAABbv1Kg1q+EP1u/UqDWr5Q/CB988MEHnz9bv1Kg1q+kPzJvZ0jM26k/CB988MEHrz9wZ0jM2xmyP1u/UqDWr7Q/RhdddNFFtz8yb2dIzNu5Px3HcRzHcbw/CB988MEHvz96O0Ni3s7AP3BnSMzbGcI/ZZNNNtlkwz9bv1Kg1q/EP1HrVwrU+sU/RhdddNFFxz88Q2LezpDIPzJvZ0jM28k/J5tssskmyz8dx3Ecx3HMPxPzdobEvM0/CB988MEHzz9/pUCtXynQP3o7Q2LeztA/ddFFF1100T9wZ0jM2xnSP2r9SoFav9I/ZZNNNtlk0z9gKVDrVwrUP1u/UqDWr9Q/VlVVVVVV1T9R61cK1PrVP0yBWr9SoNY/RhdddNFF1z9BrV8pUOvXPzxDYt7OkNg/N9lkk0022T8yb2dIzNvZPy0Fav1Kgdo/J5tssskm2z8iMW9nSMzbPx3HcRzHcdw/GF100UUX3T8T83aGxLzdPw6JeTtDYt4/CB988MEH3z8DtX6lQK3fP3+lQK1fKeA/ffDBBx984D96O0Ni3s7gP3eGxLydIeE/ddFFF1104T9yHMdxHMfhP3BnSMzbGeI/bbLJJpts4j9q/UqBWr/iP2hIzNsZEuM/ZZNNNtlk4z9j3s6QmLfjP2ApUOtXCuQ/XnTRRRdd5D9bv1Kg1q/kP1gK1PqVAuU/VlVVVVVV5T9ToNavFKjlP1HrVwrU+uU/TjbZZJNN5j9MgVq/UqDmP0nM2xkS8+Y/RhdddNFF5z9EYt7OkJjnP0GtXylQ6+c/P/jggw8+6D88Q2LezpDoPzmO4ziO4+g/N9lkk0026T80JObtDInpPzJvZ0jM2+k/L7rooosu6j8tBWr9SoHqPypQ61cK1Oo/J5tssskm6z8l5u0MiXnrPyIxb2dIzOs/IHzwwQcf7D8dx3Ecx3HsPxsS83aGxOw/GF100UUX7T8VqPUrBWrtPxPzdobEvO0/ED744IMP7j8OiXk7Q2LuPwvU+pUCte4/CB988MEH7z8Gav1KgVrvPwO1fqVAre8/AAAAAAAA8D8=\",\"dtype\":\"float64\",\"order\":\"little\",\"shape\":[100]},\"y\":{\"__ndarray__\":\"t4okEpRNtb8O98xq69K5P+iqZGfEu6C/sa498q9msT8ArD1xwr5PvxY5APmkrLw/2EvuEk4xtj8S3mYZUYTFPzxAnk9ZWL8/KTgQT/O+vz8Sw0kMIczRP0/AaX7untI/qBd9MUaj0z/NBXzwUabUP7yUi+AsY9c/qf40x8j41T/Qm4q+As7cP8ppx7JVfeE/0jx+Hkx/3z+rw34pbqHhP7jP9OOBx+Q/nVppR7Ok4j9hbhxvwEHpPwAYptNVTOc/ClTkurXR6j86MznJLHTsP+hOuxV4/e4/QK+Hl/vN7j89vXcdSvbwP2wvxhZxV/E/LhzTRv+A8T/OCPBqD3XwP+JlN3n72vE/YGBUSkuj9D+Is9H9krz0P5VI2l8kvvY/lcL9y3py9j93xMnEurH1PxCGhj5Wt/Y/eR+JtP7p9z+VD2okHOf4PwiwgZmJxvk/VMDUKc4E/D/kAWEPpgT9P7p+X/Zjmfw/mKzL0kiA/j/ebVN04KwAQHy6O4MWWQFACjPrqITmAUD9Rauu4QkBQPsCLlEYxAFAeVm9ige8AkAvr6NkobcDQIaJHaLWewNA6NohJ5l3BEBs80WjPF0FQLGMVTDQQQVAKz7JbDo3B0Bta24QKJcHQIQeOyo7NQdAUpQRAcWbCEAB4mWZgsoJQFfqTtPAgwlAHBr/tA7WCkBak6ibxCcLQOijdwUqyAtA5zbOj9O4C0AMQmu97FsMQHw/pdaMHA5A+KisGQVeD0Dz3Hn4Lm0PQDrU5PbmbQ9A3vXIiOvFEECWrZn2EGkQQHSKfWXxihFA1L4NpwnfEUDLG01qwQQSQNH3i43CXBJAW9k4FXpnEkCZLIvTr1wTQIgJ4FKWtBNAp1mWFFTxE0B4mMlyDvUTQDM7Uv+pHBVAnPG9p4R2FUBHA2gCf0IVQMNzD2xb/RVAdLJTQDIWFkBlWasbXqEWQHCy80MAtRdAuRWNlCELGECZMSp2P1UYQBjgE4GC9xhA6MU3iviCGUC4L6R4OukZQEUdTCFHuBlAdQcVYKY0GkCvXmPxx+EaQJf0UXhonhtAJ3otidStG0A=\",\"dtype\":\"float64\",\"order\":\"little\",\"shape\":[100]}},\"selected\":{\"id\":\"11434\"},\"selection_policy\":{\"id\":\"11433\"}},\"id\":\"11419\",\"type\":\"ColumnDataSource\"},{\"attributes\":{\"background_fill_alpha\":0.25,\"background_fill_color\":\"#505050\",\"border_line_alpha\":0.25,\"coordinates\":null,\"group\":null,\"items\":[{\"id\":\"11437\"}],\"label_standoff\":8,\"label_text_color\":\"#E0E0E0\",\"label_text_font\":\"Josefin Sans\",\"label_text_font_size\":\"1.15em\",\"spacing\":8},\"id\":\"11436\",\"type\":\"Legend\"},{\"attributes\":{\"fill_alpha\":{\"value\":0.5},\"fill_color\":{\"value\":\"red\"},\"hatch_alpha\":{\"value\":0.5},\"line_alpha\":{\"value\":0.5},\"line_color\":{\"value\":\"white\"},\"size\":{\"value\":10},\"x\":{\"field\":\"x\"},\"y\":{\"field\":\"y\"}},\"id\":\"11422\",\"type\":\"Circle\"},{\"attributes\":{\"axis\":{\"id\":\"11401\"},\"coordinates\":null,\"dimension\":1,\"grid_line_alpha\":0.15,\"grid_line_color\":\"#E0E0E0\",\"group\":null,\"ticker\":null},\"id\":\"11404\",\"type\":\"Grid\"},{\"attributes\":{\"axis_label\":\"x\",\"axis_label_standoff\":10,\"axis_label_text_color\":\"#FFFFFF\",\"axis_label_text_font\":\"Josefin Sans\",\"axis_label_text_font_size\":\"1.9em\",\"axis_label_text_font_style\":\"bold\",\"axis_line_alpha\":0.4,\"axis_line_color\":\"#E0E0E0\",\"coordinates\":null,\"formatter\":{\"id\":\"11431\"},\"group\":null,\"major_label_policy\":{\"id\":\"11432\"},\"major_label_text_color\":\"#E0E0E0\",\"major_label_text_font\":\"Josefin Sans\",\"major_label_text_font_size\":\"1.15em\",\"major_tick_line_alpha\":0.4,\"major_tick_line_color\":\"#E0E0E0\",\"minor_tick_line_alpha\":0.4,\"minor_tick_line_color\":\"#E0E0E0\",\"ticker\":{\"id\":\"11398\"}},\"id\":\"11397\",\"type\":\"LinearAxis\"},{\"attributes\":{},\"id\":\"11406\",\"type\":\"WheelZoomTool\"},{\"attributes\":{\"mode\":\"append\",\"overlay\":{\"id\":\"11456\"},\"renderers\":[{\"id\":\"11424\"}]},\"id\":\"11442\",\"type\":\"BoxSelectTool\"},{\"attributes\":{\"margin\":[5,5,5,5],\"name\":\"HSpacer00153\",\"sizing_mode\":\"stretch_width\"},\"id\":\"11468\",\"type\":\"Spacer\"},{\"attributes\":{\"callback\":null,\"mode\":\"vline\",\"renderers\":[{\"id\":\"11424\"}],\"tooltips\":null},\"id\":\"11438\",\"type\":\"HoverTool\"},{\"attributes\":{},\"id\":\"11389\",\"type\":\"DataRange1d\"},{\"attributes\":{},\"id\":\"11398\",\"type\":\"BasicTicker\"}],\"root_ids\":[\"11444\",\"11502\"]},\"title\":\"Bokeh Application\",\"version\":\"2.4.3\"}};\n",
              "    var render_items = [{\"docid\":\"0895c661-4c1d-4eda-96b6-4c6f4d08af56\",\"root_ids\":[\"11444\"],\"roots\":{\"11444\":\"bff31d4c-4eb1-418f-833a-afe175cb2ade\"}}];\n",
              "    root.Bokeh.embed.embed_items_notebook(docs_json, render_items);\n",
              "    for (const render_item of render_items) {\n",
              "      for (const root_id of render_item.root_ids) {\n",
              "\tconst id_el = document.getElementById(root_id)\n",
              "\tif (id_el.children.length && (id_el.children[0].className === 'bk-root')) {\n",
              "\t  const root_el = id_el.children[0]\n",
              "\t  root_el.id = root_el.id + '-rendered'\n",
              "\t}\n",
              "      }\n",
              "    }\n",
              "  }\n",
              "  if (root.Bokeh !== undefined && root.Bokeh.Panel !== undefined) {\n",
              "    embed_document(root);\n",
              "  } else {\n",
              "    var attempts = 0;\n",
              "    var timer = setInterval(function(root) {\n",
              "      if (root.Bokeh !== undefined && root.Bokeh.Panel !== undefined) {\n",
              "        clearInterval(timer);\n",
              "        embed_document(root);\n",
              "      } else if (document.readyState == \"complete\") {\n",
              "        attempts++;\n",
              "        if (attempts > 200) {\n",
              "          clearInterval(timer);\n",
              "          console.log(\"Bokeh: ERROR: Unable to run BokehJS code because BokehJS library is missing\");\n",
              "        }\n",
              "      }\n",
              "    }, 25, root)\n",
              "  }\n",
              "})(window);</script>"
            ],
            "text/plain": [
              "Row\n",
              "    [0] HSpacer()\n",
              "    [1] Bokeh(Figure)\n",
              "    [2] HSpacer()"
            ]
          },
          "execution_count": 10,
          "metadata": {
            "application/vnd.holoviews_exec.v0+json": {
              "id": "11444"
            }
          },
          "output_type": "execute_result"
        }
      ],
      "source": [
        "from cml.plot import center_plot, scatter\n",
        "plot = (center_plot(scatter(x, y, title=\"Simple quadratic problem\", toolbar_location=\"left\")))\n",
        "plot"
      ]
    },
    {
      "cell_type": "markdown",
      "metadata": {},
      "source": [
        "Now our main problem is that this function can follow different types of parameters"
      ]
    },
    {
      "cell_type": "code",
      "execution_count": 11,
      "metadata": {
        "tags": []
      },
      "outputs": [],
      "source": [
        "params = [[5, -5, 4], [-2, 1, 0], [0.1, 1, 1]]\n",
        "# Generating the x axis\n",
        "x = np.linspace(0, 1, 100)\n",
        "plots = []\n",
        "for p in range(len(params)):\n",
        "    poly = np.poly1d(params[p])\n",
        "    epsilon = np.random.uniform(-eps, eps, x.shape)\n",
        "    y = poly(x) + epsilon\n",
        "    plots.append(scatter(x, y, title=\"Problem \"+(str(p+1))))"
      ]
    },
    {
      "cell_type": "code",
      "execution_count": 12,
      "metadata": {
        "tags": []
      },
      "outputs": [
        {
          "data": {},
          "metadata": {},
          "output_type": "display_data"
        },
        {
          "data": {
            "application/vnd.holoviews_exec.v0+json": "",
            "text/html": [
              "<div id='11735'>\n",
              "  <div class=\"bk-root\" id=\"cf0d66cd-5b35-4ccd-8874-fa8f6f732977\" data-root-id=\"11735\"></div>\n",
              "</div>\n",
              "<script type=\"application/javascript\">(function(root) {\n",
              "  function embed_document(root) {\n",
              "    var docs_json = {\"11d8d628-56ac-42ba-9715-fa5b592d0002\":{\"defs\":[{\"extends\":null,\"module\":null,\"name\":\"ReactiveHTML1\",\"overrides\":[],\"properties\":[]},{\"extends\":null,\"module\":null,\"name\":\"FlexBox1\",\"overrides\":[],\"properties\":[{\"default\":\"flex-start\",\"kind\":null,\"name\":\"align_content\"},{\"default\":\"flex-start\",\"kind\":null,\"name\":\"align_items\"},{\"default\":\"row\",\"kind\":null,\"name\":\"flex_direction\"},{\"default\":\"wrap\",\"kind\":null,\"name\":\"flex_wrap\"},{\"default\":\"flex-start\",\"kind\":null,\"name\":\"justify_content\"}]},{\"extends\":null,\"module\":null,\"name\":\"GridStack1\",\"overrides\":[],\"properties\":[{\"default\":\"warn\",\"kind\":null,\"name\":\"mode\"},{\"default\":null,\"kind\":null,\"name\":\"ncols\"},{\"default\":null,\"kind\":null,\"name\":\"nrows\"},{\"default\":true,\"kind\":null,\"name\":\"allow_resize\"},{\"default\":true,\"kind\":null,\"name\":\"allow_drag\"},{\"default\":[],\"kind\":null,\"name\":\"state\"}]},{\"extends\":null,\"module\":null,\"name\":\"click1\",\"overrides\":[],\"properties\":[{\"default\":\"\",\"kind\":null,\"name\":\"terminal_output\"},{\"default\":\"\",\"kind\":null,\"name\":\"debug_name\"},{\"default\":0,\"kind\":null,\"name\":\"clears\"}]},{\"extends\":null,\"module\":null,\"name\":\"NotificationAreaBase1\",\"overrides\":[],\"properties\":[{\"default\":\"bottom-right\",\"kind\":null,\"name\":\"position\"},{\"default\":0,\"kind\":null,\"name\":\"_clear\"}]},{\"extends\":null,\"module\":null,\"name\":\"NotificationArea1\",\"overrides\":[],\"properties\":[{\"default\":[],\"kind\":null,\"name\":\"notifications\"},{\"default\":\"bottom-right\",\"kind\":null,\"name\":\"position\"},{\"default\":0,\"kind\":null,\"name\":\"_clear\"},{\"default\":[{\"background\":\"#ffc107\",\"icon\":{\"className\":\"fas fa-exclamation-triangle\",\"color\":\"white\",\"tagName\":\"i\"},\"type\":\"warning\"},{\"background\":\"#007bff\",\"icon\":{\"className\":\"fas fa-info-circle\",\"color\":\"white\",\"tagName\":\"i\"},\"type\":\"info\"}],\"kind\":null,\"name\":\"types\"}]},{\"extends\":null,\"module\":null,\"name\":\"Notification\",\"overrides\":[],\"properties\":[{\"default\":null,\"kind\":null,\"name\":\"background\"},{\"default\":3000,\"kind\":null,\"name\":\"duration\"},{\"default\":null,\"kind\":null,\"name\":\"icon\"},{\"default\":\"\",\"kind\":null,\"name\":\"message\"},{\"default\":null,\"kind\":null,\"name\":\"notification_type\"},{\"default\":false,\"kind\":null,\"name\":\"_destroyed\"}]},{\"extends\":null,\"module\":null,\"name\":\"TemplateActions1\",\"overrides\":[],\"properties\":[{\"default\":0,\"kind\":null,\"name\":\"open_modal\"},{\"default\":0,\"kind\":null,\"name\":\"close_modal\"}]},{\"extends\":null,\"module\":null,\"name\":\"MaterialTemplateActions1\",\"overrides\":[],\"properties\":[{\"default\":0,\"kind\":null,\"name\":\"open_modal\"},{\"default\":0,\"kind\":null,\"name\":\"close_modal\"}]}],\"roots\":{\"references\":[{\"attributes\":{\"axis\":{\"id\":\"11573\"},\"coordinates\":null,\"dimension\":1,\"grid_line_alpha\":0.15,\"grid_line_color\":\"#E0E0E0\",\"group\":null,\"ticker\":null},\"id\":\"11576\",\"type\":\"Grid\"},{\"attributes\":{},\"id\":\"11661\",\"type\":\"BasicTickFormatter\"},{\"attributes\":{\"children\":[{\"id\":\"11558\"},{\"id\":\"11616\"},{\"id\":\"11674\"}]},\"id\":\"11733\",\"type\":\"Row\"},{\"attributes\":{},\"id\":\"11719\",\"type\":\"BasicTickFormatter\"},{\"attributes\":{},\"id\":\"11577\",\"type\":\"PanTool\"},{\"attributes\":{},\"id\":\"11561\",\"type\":\"DataRange1d\"},{\"attributes\":{\"bottom_units\":\"screen\",\"coordinates\":null,\"fill_alpha\":0.5,\"fill_color\":\"lightgrey\",\"group\":null,\"left_units\":\"screen\",\"level\":\"overlay\",\"line_alpha\":1.0,\"line_color\":\"black\",\"line_dash\":[4,4],\"line_width\":2,\"right_units\":\"screen\",\"syncable\":false,\"top_units\":\"screen\"},\"id\":\"11761\",\"type\":\"BoxAnnotation\"},{\"attributes\":{},\"id\":\"11662\",\"type\":\"AllLabels\"},{\"attributes\":{\"coordinates\":null,\"data_source\":{\"id\":\"11591\"},\"glyph\":{\"id\":\"11592\"},\"group\":null,\"hover_glyph\":{\"id\":\"11594\"},\"muted_glyph\":{\"id\":\"11595\"},\"nonselection_glyph\":{\"id\":\"11613\"},\"selection_glyph\":{\"id\":\"11612\"},\"view\":{\"id\":\"11597\"}},\"id\":\"11596\",\"type\":\"GlyphRenderer\"},{\"attributes\":{\"fill_alpha\":{\"value\":0.2},\"fill_color\":{\"value\":\"midnightblue\"},\"hatch_alpha\":{\"value\":0.2},\"line_alpha\":{\"value\":0.2},\"line_color\":{\"value\":\"white\"},\"size\":{\"value\":10},\"x\":{\"field\":\"x\"},\"y\":{\"field\":\"y\"}},\"id\":\"11711\",\"type\":\"Circle\"},{\"attributes\":{},\"id\":\"11567\",\"type\":\"LinearScale\"},{\"attributes\":{\"fill_alpha\":{\"value\":0.25},\"fill_color\":{\"value\":\"midnightblue\"},\"hatch_alpha\":{\"value\":0.25},\"line_alpha\":{\"value\":0.25},\"line_color\":{\"value\":\"white\"},\"size\":{\"value\":10},\"x\":{\"field\":\"x\"},\"y\":{\"field\":\"y\"}},\"id\":\"11650\",\"type\":\"Circle\"},{\"attributes\":{\"fill_alpha\":{\"value\":0.5},\"fill_color\":{\"value\":\"red\"},\"hatch_alpha\":{\"value\":0.5},\"line_alpha\":{\"value\":0.5},\"line_color\":{\"value\":\"white\"},\"size\":{\"value\":10},\"x\":{\"field\":\"x\"},\"y\":{\"field\":\"y\"}},\"id\":\"11594\",\"type\":\"Circle\"},{\"attributes\":{},\"id\":\"11582\",\"type\":\"HelpTool\"},{\"attributes\":{\"fill_alpha\":{\"value\":0.5},\"fill_color\":{\"value\":\"red\"},\"hatch_alpha\":{\"value\":0.5},\"line_alpha\":{\"value\":0.5},\"line_color\":{\"value\":\"white\"},\"size\":{\"value\":10},\"x\":{\"field\":\"x\"},\"y\":{\"field\":\"y\"}},\"id\":\"11710\",\"type\":\"Circle\"},{\"attributes\":{},\"id\":\"11659\",\"type\":\"AllLabels\"},{\"attributes\":{\"axis\":{\"id\":\"11569\"},\"coordinates\":null,\"grid_line_alpha\":0.15,\"grid_line_color\":\"#E0E0E0\",\"group\":null,\"ticker\":null},\"id\":\"11572\",\"type\":\"Grid\"},{\"attributes\":{},\"id\":\"11721\",\"type\":\"UnionRenderers\"},{\"attributes\":{\"children\":[{\"id\":\"11736\"},{\"id\":\"11734\"},{\"id\":\"11803\"}],\"margin\":[0,0,0,0],\"name\":\"Row00163\"},\"id\":\"11735\",\"type\":\"Row\"},{\"attributes\":{\"bottom_units\":\"screen\",\"coordinates\":null,\"fill_alpha\":0.5,\"fill_color\":\"lightgrey\",\"group\":null,\"left_units\":\"screen\",\"level\":\"overlay\",\"line_alpha\":1.0,\"line_color\":\"black\",\"line_dash\":[4,4],\"line_width\":2,\"right_units\":\"screen\",\"syncable\":false,\"top_units\":\"screen\"},\"id\":\"11583\",\"type\":\"BoxAnnotation\"},{\"attributes\":{\"background_fill_alpha\":0.25,\"background_fill_color\":\"#505050\",\"border_line_alpha\":0.25,\"coordinates\":null,\"group\":null,\"items\":[{\"id\":\"11725\"}],\"label_standoff\":8,\"label_text_color\":\"#E0E0E0\",\"label_text_font\":\"Josefin Sans\",\"label_text_font_size\":\"1.15em\",\"spacing\":8},\"id\":\"11724\",\"type\":\"Legend\"},{\"attributes\":{},\"id\":\"11574\",\"type\":\"BasicTicker\"},{\"attributes\":{},\"id\":\"11720\",\"type\":\"AllLabels\"},{\"attributes\":{\"client_comm_id\":\"a06fa2a027834a25a6b2be67cdea07fc\",\"comm_id\":\"0a672c02a391472590a9eee551d15529\",\"plot_id\":\"11735\"},\"id\":\"11903\",\"type\":\"panel.models.comm_manager.CommManager\"},{\"attributes\":{\"style\":{\"font-size\":\"250%\"},\"text\":\"Observing different problems\"},\"id\":\"11732\",\"type\":\"Div\"},{\"attributes\":{},\"id\":\"11658\",\"type\":\"BasicTickFormatter\"},{\"attributes\":{\"bottom_units\":\"screen\",\"coordinates\":null,\"fill_alpha\":0.5,\"fill_color\":\"lightgrey\",\"group\":null,\"left_units\":\"screen\",\"level\":\"overlay\",\"line_alpha\":1.0,\"line_color\":\"black\",\"line_dash\":[4,4],\"line_width\":2,\"right_units\":\"screen\",\"syncable\":false,\"top_units\":\"screen\"},\"id\":\"11765\",\"type\":\"BoxAnnotation\"},{\"attributes\":{\"coordinates\":null,\"data_source\":{\"id\":\"11707\"},\"glyph\":{\"id\":\"11708\"},\"group\":null,\"hover_glyph\":{\"id\":\"11710\"},\"muted_glyph\":{\"id\":\"11711\"},\"nonselection_glyph\":{\"id\":\"11729\"},\"selection_glyph\":{\"id\":\"11728\"},\"view\":{\"id\":\"11713\"}},\"id\":\"11712\",\"type\":\"GlyphRenderer\"},{\"attributes\":{\"source\":{\"id\":\"11707\"}},\"id\":\"11713\",\"type\":\"CDSView\"},{\"attributes\":{\"data\":{\"x\":{\"__ndarray__\":\"AAAAAAAAAABbv1Kg1q+EP1u/UqDWr5Q/CB988MEHnz9bv1Kg1q+kPzJvZ0jM26k/CB988MEHrz9wZ0jM2xmyP1u/UqDWr7Q/RhdddNFFtz8yb2dIzNu5Px3HcRzHcbw/CB988MEHvz96O0Ni3s7AP3BnSMzbGcI/ZZNNNtlkwz9bv1Kg1q/EP1HrVwrU+sU/RhdddNFFxz88Q2LezpDIPzJvZ0jM28k/J5tssskmyz8dx3Ecx3HMPxPzdobEvM0/CB988MEHzz9/pUCtXynQP3o7Q2LeztA/ddFFF1100T9wZ0jM2xnSP2r9SoFav9I/ZZNNNtlk0z9gKVDrVwrUP1u/UqDWr9Q/VlVVVVVV1T9R61cK1PrVP0yBWr9SoNY/RhdddNFF1z9BrV8pUOvXPzxDYt7OkNg/N9lkk0022T8yb2dIzNvZPy0Fav1Kgdo/J5tssskm2z8iMW9nSMzbPx3HcRzHcdw/GF100UUX3T8T83aGxLzdPw6JeTtDYt4/CB988MEH3z8DtX6lQK3fP3+lQK1fKeA/ffDBBx984D96O0Ni3s7gP3eGxLydIeE/ddFFF1104T9yHMdxHMfhP3BnSMzbGeI/bbLJJpts4j9q/UqBWr/iP2hIzNsZEuM/ZZNNNtlk4z9j3s6QmLfjP2ApUOtXCuQ/XnTRRRdd5D9bv1Kg1q/kP1gK1PqVAuU/VlVVVVVV5T9ToNavFKjlP1HrVwrU+uU/TjbZZJNN5j9MgVq/UqDmP0nM2xkS8+Y/RhdddNFF5z9EYt7OkJjnP0GtXylQ6+c/P/jggw8+6D88Q2LezpDoPzmO4ziO4+g/N9lkk0026T80JObtDInpPzJvZ0jM2+k/L7rooosu6j8tBWr9SoHqPypQ61cK1Oo/J5tssskm6z8l5u0MiXnrPyIxb2dIzOs/IHzwwQcf7D8dx3Ecx3HsPxsS83aGxOw/GF100UUX7T8VqPUrBWrtPxPzdobEvO0/ED744IMP7j8OiXk7Q2LuPwvU+pUCte4/CB988MEH7z8Gav1KgVrvPwO1fqVAre8/AAAAAAAA8D8=\",\"dtype\":\"float64\",\"order\":\"little\",\"shape\":[100]},\"y\":{\"__ndarray__\":\"t2dYjHIKEEDfl1Wps84PQFBsO3kumw9A+HHvLRNWD0Dpnas1a2IOQP0GMsqltQ1AhioVh/DyDEBtdD74+6kNQOQ3FYmIigxATgIFbY8cDECacWXsRfwMQPV9B9tuWQtAkQaNZ6hQC0B+0oPPDd8LQCDKu36uwQpA2Z46ectyC0DSPmeZtSwKQCCMhYSTyAlAqHXHAnaPCkCcIg/kw1UKQAUV1eoiAQlAkdUTfSbSCUD2bKbEmFkIQE+Yr2NOmwhAiS0de+b2B0AU/38RWFgIQOgo9If7IQhAghwVcP4oCECoCgBWj5oHQGfwG68dGAhAJXhWQcTYB0BpxlL9pVIHQLN+g4y17wdAwuzDDa7cB0CFvUqyUHAGQI/xbCzS/gZANl4V2g3kBkBznJRyDrEGQJjRPdGAfQZAHQyLXTY/B0CQOtJkpRsGQLGq1pNUzAZAPrTAsaqsBkBREMcCWc0GQICz99LBxAZACrSgMTbPBkDgZZnCgnoGQPV+dDqDogZAfkPp6uftBUD8ZXTa9o4GQE1y0Cx7tQVAM/baNVYBBkC6/h19+g0GQJOqnpVbhgVA/BdpP/6bBUBVDeKNs/QFQLYlo2RhcgZAyi7+zpm4BkCrO8W8h1wGQEhW8KdbmgZAtOdRlhKMBkBLRzshWMAFQMy6KwugnAZAUEC1Now7BkDlETFs2YUHQA0aU57IfwdAXRIe+ixnBkDCs/Tc0xAHQHssYwmUGAhATjy3VFxyB0BiIfPyHVAHQM7uGSAteghA+w84bl8FCECMOcfZbEkIQAUl+4lcSAhAooyKu0+jCEBZ9qe2sssIQC2sQojTMglA8M9EzFQPCUAo91f+6rYJQBH93h3rkQlAtjcs9wXOCUCWwJ9oePwKQKL4vURK6QlAqIk4zrblCkAldCTk/mcLQCUqqPsJnAtABpNQzIkqDECkZo15wUgLQEMu/ThADA1ApwggydG6DEDUFFELA7sNQP5G51BolgxAnZY/1e86DUDNXKWr/60OQLw5QFI5CA5AmFXlRv44DkBU8E0yTWgPQBjZtfq7Kg9Ak+mW2Mw0EEA=\",\"dtype\":\"float64\",\"order\":\"little\",\"shape\":[100]}},\"selected\":{\"id\":\"11606\"},\"selection_policy\":{\"id\":\"11605\"}},\"id\":\"11591\",\"type\":\"ColumnDataSource\"},{\"attributes\":{},\"id\":\"11606\",\"type\":\"Selection\"},{\"attributes\":{\"background_fill_alpha\":0.9,\"background_fill_color\":\"#0f0f0f\",\"below\":[{\"id\":\"11569\"}],\"border_fill_alpha\":0.8,\"border_fill_color\":\"#111111\",\"center\":[{\"id\":\"11572\"},{\"id\":\"11576\"},{\"id\":\"11608\"}],\"height\":450,\"left\":[{\"id\":\"11573\"}],\"outline_line_alpha\":0.25,\"outline_line_color\":\"#E0E0E0\",\"outline_line_width\":3,\"renderers\":[{\"id\":\"11596\"}],\"title\":{\"id\":\"11559\"},\"toolbar\":{\"id\":\"11584\"},\"toolbar_location\":null,\"x_range\":{\"id\":\"11561\"},\"x_scale\":{\"id\":\"11565\"},\"y_range\":{\"id\":\"11563\"},\"y_scale\":{\"id\":\"11567\"}},\"id\":\"11558\",\"subtype\":\"Figure\",\"type\":\"Plot\"},{\"attributes\":{\"fill_alpha\":{\"value\":0.2},\"fill_color\":{\"value\":\"midnightblue\"},\"hatch_alpha\":{\"value\":0.2},\"line_alpha\":{\"value\":0.2},\"line_color\":{\"value\":\"white\"},\"size\":{\"value\":10},\"x\":{\"field\":\"x\"},\"y\":{\"field\":\"y\"}},\"id\":\"11595\",\"type\":\"Circle\"},{\"attributes\":{\"axis_label\":\"x\",\"axis_label_standoff\":10,\"axis_label_text_color\":\"#FFFFFF\",\"axis_label_text_font\":\"Josefin Sans\",\"axis_label_text_font_size\":\"1.9em\",\"axis_label_text_font_style\":\"bold\",\"axis_line_alpha\":0.4,\"axis_line_color\":\"#E0E0E0\",\"coordinates\":null,\"formatter\":{\"id\":\"11603\"},\"group\":null,\"major_label_policy\":{\"id\":\"11604\"},\"major_label_text_color\":\"#E0E0E0\",\"major_label_text_font\":\"Josefin Sans\",\"major_label_text_font_size\":\"1.15em\",\"major_tick_line_alpha\":0.4,\"major_tick_line_color\":\"#E0E0E0\",\"minor_tick_line_alpha\":0.4,\"minor_tick_line_color\":\"#E0E0E0\",\"ticker\":{\"id\":\"11570\"}},\"id\":\"11569\",\"type\":\"LinearAxis\"},{\"attributes\":{\"source\":{\"id\":\"11591\"}},\"id\":\"11597\",\"type\":\"CDSView\"},{\"attributes\":{},\"id\":\"11716\",\"type\":\"BasicTickFormatter\"},{\"attributes\":{\"fill_alpha\":{\"value\":0.8},\"fill_color\":{\"value\":\"red\"},\"line_color\":{\"value\":\"white\"}},\"id\":\"11612\",\"type\":\"Circle\"},{\"attributes\":{},\"id\":\"11570\",\"type\":\"BasicTicker\"},{\"attributes\":{},\"id\":\"11601\",\"type\":\"AllLabels\"},{\"attributes\":{},\"id\":\"11603\",\"type\":\"BasicTickFormatter\"},{\"attributes\":{\"fill_alpha\":{\"value\":0.8},\"fill_color\":{\"value\":\"red\"},\"line_color\":{\"value\":\"white\"}},\"id\":\"11728\",\"type\":\"Circle\"},{\"attributes\":{},\"id\":\"11580\",\"type\":\"SaveTool\"},{\"attributes\":{},\"id\":\"11600\",\"type\":\"BasicTickFormatter\"},{\"attributes\":{},\"id\":\"11578\",\"type\":\"WheelZoomTool\"},{\"attributes\":{\"label\":{\"value\":\"Observations\"},\"renderers\":[{\"id\":\"11712\"}]},\"id\":\"11725\",\"type\":\"LegendItem\"},{\"attributes\":{\"fill_alpha\":{\"value\":0.2},\"fill_color\":{\"value\":\"midnightblue\"},\"hatch_alpha\":{\"value\":0.2},\"line_alpha\":{\"value\":0.2},\"line_color\":{\"value\":\"white\"},\"size\":{\"value\":10},\"x\":{\"field\":\"x\"},\"y\":{\"field\":\"y\"}},\"id\":\"11653\",\"type\":\"Circle\"},{\"attributes\":{\"coordinates\":null,\"group\":null,\"text\":\"Problem 1\",\"text_color\":\"#E0E0E0\",\"text_font\":\"Josefin Sans\",\"text_font_size\":\"2.1em\"},\"id\":\"11559\",\"type\":\"Title\"},{\"attributes\":{\"callback\":null,\"mode\":\"vline\",\"renderers\":[{\"id\":\"11596\"}],\"tooltips\":null},\"id\":\"11610\",\"type\":\"HoverTool\"},{\"attributes\":{\"background_fill_alpha\":0.9,\"background_fill_color\":\"#0f0f0f\",\"below\":[{\"id\":\"11627\"}],\"border_fill_alpha\":0.8,\"border_fill_color\":\"#111111\",\"center\":[{\"id\":\"11630\"},{\"id\":\"11634\"},{\"id\":\"11666\"}],\"height\":450,\"left\":[{\"id\":\"11631\"}],\"outline_line_alpha\":0.25,\"outline_line_color\":\"#E0E0E0\",\"outline_line_width\":3,\"renderers\":[{\"id\":\"11654\"}],\"title\":{\"id\":\"11617\"},\"toolbar\":{\"id\":\"11642\"},\"toolbar_location\":null,\"x_range\":{\"id\":\"11619\"},\"x_scale\":{\"id\":\"11623\"},\"y_range\":{\"id\":\"11621\"},\"y_scale\":{\"id\":\"11625\"}},\"id\":\"11616\",\"subtype\":\"Figure\",\"type\":\"Plot\"},{\"attributes\":{\"bottom_units\":\"screen\",\"coordinates\":null,\"fill_alpha\":0.5,\"fill_color\":\"lightgrey\",\"group\":null,\"left_units\":\"screen\",\"level\":\"overlay\",\"line_alpha\":1.0,\"line_color\":\"black\",\"line_dash\":[4,4],\"line_width\":2,\"right_units\":\"screen\",\"syncable\":false,\"top_units\":\"screen\"},\"id\":\"11641\",\"type\":\"BoxAnnotation\"},{\"attributes\":{\"fill_alpha\":{\"value\":0.8},\"fill_color\":{\"value\":\"red\"},\"line_color\":{\"value\":\"white\"}},\"id\":\"11670\",\"type\":\"Circle\"},{\"attributes\":{},\"id\":\"11664\",\"type\":\"Selection\"},{\"attributes\":{},\"id\":\"11722\",\"type\":\"Selection\"},{\"attributes\":{\"mode\":\"append\",\"overlay\":{\"id\":\"11765\"},\"renderers\":[{\"id\":\"11654\"}]},\"id\":\"11672\",\"type\":\"BoxSelectTool\"},{\"attributes\":{\"fill_alpha\":{\"value\":0.5},\"fill_color\":{\"value\":\"midnightblue\"},\"line_color\":{\"value\":\"white\"}},\"id\":\"11613\",\"type\":\"Circle\"},{\"attributes\":{\"fill_alpha\":{\"value\":0.25},\"fill_color\":{\"value\":\"midnightblue\"},\"hatch_alpha\":{\"value\":0.25},\"line_alpha\":{\"value\":0.25},\"line_color\":{\"value\":\"white\"},\"size\":{\"value\":10},\"x\":{\"field\":\"x\"},\"y\":{\"field\":\"y\"}},\"id\":\"11708\",\"type\":\"Circle\"},{\"attributes\":{},\"id\":\"11619\",\"type\":\"DataRange1d\"},{\"attributes\":{\"callback\":null,\"mode\":\"vline\",\"renderers\":[{\"id\":\"11654\"}],\"tooltips\":null},\"id\":\"11668\",\"type\":\"HoverTool\"},{\"attributes\":{\"background_fill_alpha\":0.9,\"background_fill_color\":\"#0f0f0f\",\"below\":[{\"id\":\"11685\"}],\"border_fill_alpha\":0.8,\"border_fill_color\":\"#111111\",\"center\":[{\"id\":\"11688\"},{\"id\":\"11692\"},{\"id\":\"11724\"}],\"height\":450,\"left\":[{\"id\":\"11689\"}],\"outline_line_alpha\":0.25,\"outline_line_color\":\"#E0E0E0\",\"outline_line_width\":3,\"renderers\":[{\"id\":\"11712\"}],\"title\":{\"id\":\"11675\"},\"toolbar\":{\"id\":\"11700\"},\"toolbar_location\":null,\"x_range\":{\"id\":\"11677\"},\"x_scale\":{\"id\":\"11681\"},\"y_range\":{\"id\":\"11679\"},\"y_scale\":{\"id\":\"11683\"}},\"id\":\"11674\",\"subtype\":\"Figure\",\"type\":\"Plot\"},{\"attributes\":{},\"id\":\"11621\",\"type\":\"DataRange1d\"},{\"attributes\":{},\"id\":\"11623\",\"type\":\"LinearScale\"},{\"attributes\":{},\"id\":\"11640\",\"type\":\"HelpTool\"},{\"attributes\":{},\"id\":\"11604\",\"type\":\"AllLabels\"},{\"attributes\":{\"fill_alpha\":{\"value\":0.5},\"fill_color\":{\"value\":\"midnightblue\"},\"line_color\":{\"value\":\"white\"}},\"id\":\"11671\",\"type\":\"Circle\"},{\"attributes\":{\"tools\":[{\"id\":\"11577\"},{\"id\":\"11578\"},{\"id\":\"11579\"},{\"id\":\"11580\"},{\"id\":\"11581\"},{\"id\":\"11582\"},{\"id\":\"11610\"},{\"id\":\"11614\"}]},\"id\":\"11584\",\"type\":\"Toolbar\"},{\"attributes\":{\"data\":{\"x\":{\"__ndarray__\":\"AAAAAAAAAABbv1Kg1q+EP1u/UqDWr5Q/CB988MEHnz9bv1Kg1q+kPzJvZ0jM26k/CB988MEHrz9wZ0jM2xmyP1u/UqDWr7Q/RhdddNFFtz8yb2dIzNu5Px3HcRzHcbw/CB988MEHvz96O0Ni3s7AP3BnSMzbGcI/ZZNNNtlkwz9bv1Kg1q/EP1HrVwrU+sU/RhdddNFFxz88Q2LezpDIPzJvZ0jM28k/J5tssskmyz8dx3Ecx3HMPxPzdobEvM0/CB988MEHzz9/pUCtXynQP3o7Q2LeztA/ddFFF1100T9wZ0jM2xnSP2r9SoFav9I/ZZNNNtlk0z9gKVDrVwrUP1u/UqDWr9Q/VlVVVVVV1T9R61cK1PrVP0yBWr9SoNY/RhdddNFF1z9BrV8pUOvXPzxDYt7OkNg/N9lkk0022T8yb2dIzNvZPy0Fav1Kgdo/J5tssskm2z8iMW9nSMzbPx3HcRzHcdw/GF100UUX3T8T83aGxLzdPw6JeTtDYt4/CB988MEH3z8DtX6lQK3fP3+lQK1fKeA/ffDBBx984D96O0Ni3s7gP3eGxLydIeE/ddFFF1104T9yHMdxHMfhP3BnSMzbGeI/bbLJJpts4j9q/UqBWr/iP2hIzNsZEuM/ZZNNNtlk4z9j3s6QmLfjP2ApUOtXCuQ/XnTRRRdd5D9bv1Kg1q/kP1gK1PqVAuU/VlVVVVVV5T9ToNavFKjlP1HrVwrU+uU/TjbZZJNN5j9MgVq/UqDmP0nM2xkS8+Y/RhdddNFF5z9EYt7OkJjnP0GtXylQ6+c/P/jggw8+6D88Q2LezpDoPzmO4ziO4+g/N9lkk0026T80JObtDInpPzJvZ0jM2+k/L7rooosu6j8tBWr9SoHqPypQ61cK1Oo/J5tssskm6z8l5u0MiXnrPyIxb2dIzOs/IHzwwQcf7D8dx3Ecx3HsPxsS83aGxOw/GF100UUX7T8VqPUrBWrtPxPzdobEvO0/ED744IMP7j8OiXk7Q2LuPwvU+pUCte4/CB988MEH7z8Gav1KgVrvPwO1fqVAre8/AAAAAAAA8D8=\",\"dtype\":\"float64\",\"order\":\"little\",\"shape\":[100]},\"y\":{\"__ndarray__\":\"rBiUSqvgtj8lEjHFjUmwvx4lyu0bC7s/l7dnextxn7/kJFeEKaixP5Reh2gFjLY/ZhYfGhICnz8WJfc1mbayP/5erPYmM8A/wIaQLb7goD8M7ephDemVPwp4QLQbo7o/GrWmilCAwj90jVWCTZOXP6/VL8T3hbA/7uFn1PX+pj8EiNwcvWfCP4UcPUG+3rY/KAGiJQTZqj+ox6jjplCaPx85UOkyRrw/JQKOfVI3xj9v3r7Cph26P8rD3qXHZbY/0bjijnPXwD92tnZJol3JP+IMbqqCg7U/zAG5zt2IwT9GTyGf3ACiP7g48fbroqs/e/4xW5PctT8mC2i++u+oPzw2fFtM38g/RYfmhk4ewT+ga+rg1vzBP9vdecRRb7M/WtfCNDDMxz9iySSADgmyP3MIFefpmro/3ITslsEHxT8dQU0/0T22P+JulfRWu6Y/8AtUQasxij9WUrpfaaWnP8B/U7zoM7I/E40Ad+GRpD/MPnUNz++pvx1gShHC+LY/jgNUVnY2gj/v31HPWgCIv84DntY8rK0/yracx1n/oj8ERqDv8ryHv1Kws930d7m/ti1fRo+DvL8Kvt+DJ42cv580n3WyBcO/72HxfqIus7/IUOseXMiyv1leDAHgw7e/1NvkvkeqxL84D2PM5VOuv3Blc8lFz7q/Ts7WjUWqur/HvQUnPnXEv6/0yhflZsG/giTlHScyzb9Mk5T5/1vUvzzd7HjFlM6/+vSAAivKzL81T8vj2tHUv/kXUDkwjtG/tFOeFQw/1b9wR5ZDt7fTvwouUTklfdi/erTTkfK51r+wQxAtP8Lfv/mEmd+6xNq/5o50I+e64L+QKFHc5Qrgv/9kSYPHBuG/TAVMXHIK4r/8VGcDZ53cv64PLH/0vuS/DHtgdaRo4r+2tWOp9MHmv8NUyjjrwOO/QxmzMKmZ5L+OHh8zi1nkv2uTDwQUj+m/YTIqq9W16b8mLSZZZWnmvz//s6C9MOy/pMEXZw5r7b//+YcIe8Tsv3qXMophtuu/3dG5efTd7b8EG3+i7o7wv0pDjkvGFPG/vLYuH+nK8L8=\",\"dtype\":\"float64\",\"order\":\"little\",\"shape\":[100]}},\"selected\":{\"id\":\"11664\"},\"selection_policy\":{\"id\":\"11663\"}},\"id\":\"11649\",\"type\":\"ColumnDataSource\"},{\"attributes\":{},\"id\":\"11677\",\"type\":\"DataRange1d\"},{\"attributes\":{},\"id\":\"11628\",\"type\":\"BasicTicker\"},{\"attributes\":{\"margin\":[5,5,5,5],\"name\":\"HSpacer00159\",\"sizing_mode\":\"stretch_width\"},\"id\":\"11736\",\"type\":\"Spacer\"},{\"attributes\":{\"coordinates\":null,\"group\":null,\"text\":\"Problem 2\",\"text_color\":\"#E0E0E0\",\"text_font\":\"Josefin Sans\",\"text_font_size\":\"2.1em\"},\"id\":\"11617\",\"type\":\"Title\"},{\"attributes\":{},\"id\":\"11679\",\"type\":\"DataRange1d\"},{\"attributes\":{},\"id\":\"11717\",\"type\":\"AllLabels\"},{\"attributes\":{\"axis_label\":\"x\",\"axis_label_standoff\":10,\"axis_label_text_color\":\"#FFFFFF\",\"axis_label_text_font\":\"Josefin Sans\",\"axis_label_text_font_size\":\"1.9em\",\"axis_label_text_font_style\":\"bold\",\"axis_line_alpha\":0.4,\"axis_line_color\":\"#E0E0E0\",\"coordinates\":null,\"formatter\":{\"id\":\"11661\"},\"group\":null,\"major_label_policy\":{\"id\":\"11662\"},\"major_label_text_color\":\"#E0E0E0\",\"major_label_text_font\":\"Josefin Sans\",\"major_label_text_font_size\":\"1.15em\",\"major_tick_line_alpha\":0.4,\"major_tick_line_color\":\"#E0E0E0\",\"minor_tick_line_alpha\":0.4,\"minor_tick_line_color\":\"#E0E0E0\",\"ticker\":{\"id\":\"11628\"}},\"id\":\"11627\",\"type\":\"LinearAxis\"},{\"attributes\":{},\"id\":\"11681\",\"type\":\"LinearScale\"},{\"attributes\":{},\"id\":\"11565\",\"type\":\"LinearScale\"},{\"attributes\":{\"tools\":[{\"id\":\"11635\"},{\"id\":\"11636\"},{\"id\":\"11637\"},{\"id\":\"11638\"},{\"id\":\"11639\"},{\"id\":\"11640\"},{\"id\":\"11668\"},{\"id\":\"11672\"}]},\"id\":\"11642\",\"type\":\"Toolbar\"},{\"attributes\":{\"axis_label\":\"y\",\"axis_label_standoff\":10,\"axis_label_text_color\":\"#FFFFFF\",\"axis_label_text_font\":\"Josefin Sans\",\"axis_label_text_font_size\":\"1.9em\",\"axis_label_text_font_style\":\"bold\",\"axis_line_alpha\":0.4,\"axis_line_color\":\"#E0E0E0\",\"coordinates\":null,\"formatter\":{\"id\":\"11658\"},\"group\":null,\"major_label_policy\":{\"id\":\"11659\"},\"major_label_text_color\":\"#E0E0E0\",\"major_label_text_font\":\"Josefin Sans\",\"major_label_text_font_size\":\"1.15em\",\"major_tick_line_alpha\":0.4,\"major_tick_line_color\":\"#E0E0E0\",\"minor_tick_line_alpha\":0.4,\"minor_tick_line_color\":\"#E0E0E0\",\"ticker\":{\"id\":\"11632\"}},\"id\":\"11631\",\"type\":\"LinearAxis\"},{\"attributes\":{},\"id\":\"11698\",\"type\":\"HelpTool\"},{\"attributes\":{},\"id\":\"11625\",\"type\":\"LinearScale\"},{\"attributes\":{\"children\":[{\"id\":\"11732\"},{\"id\":\"11733\"}]},\"id\":\"11734\",\"type\":\"Column\"},{\"attributes\":{\"margin\":[5,5,5,5],\"name\":\"HSpacer00160\",\"sizing_mode\":\"stretch_width\"},\"id\":\"11803\",\"type\":\"Spacer\"},{\"attributes\":{\"axis\":{\"id\":\"11627\"},\"coordinates\":null,\"grid_line_alpha\":0.15,\"grid_line_color\":\"#E0E0E0\",\"group\":null,\"ticker\":null},\"id\":\"11630\",\"type\":\"Grid\"},{\"attributes\":{\"fill_alpha\":{\"value\":0.5},\"fill_color\":{\"value\":\"red\"},\"hatch_alpha\":{\"value\":0.5},\"line_alpha\":{\"value\":0.5},\"line_color\":{\"value\":\"white\"},\"size\":{\"value\":10},\"x\":{\"field\":\"x\"},\"y\":{\"field\":\"y\"}},\"id\":\"11652\",\"type\":\"Circle\"},{\"attributes\":{},\"id\":\"11686\",\"type\":\"BasicTicker\"},{\"attributes\":{\"axis\":{\"id\":\"11631\"},\"coordinates\":null,\"dimension\":1,\"grid_line_alpha\":0.15,\"grid_line_color\":\"#E0E0E0\",\"group\":null,\"ticker\":null},\"id\":\"11634\",\"type\":\"Grid\"},{\"attributes\":{\"background_fill_alpha\":0.25,\"background_fill_color\":\"#505050\",\"border_line_alpha\":0.25,\"coordinates\":null,\"group\":null,\"items\":[{\"id\":\"11667\"}],\"label_standoff\":8,\"label_text_color\":\"#E0E0E0\",\"label_text_font\":\"Josefin Sans\",\"label_text_font_size\":\"1.15em\",\"spacing\":8},\"id\":\"11666\",\"type\":\"Legend\"},{\"attributes\":{\"coordinates\":null,\"group\":null,\"text\":\"Problem 3\",\"text_color\":\"#E0E0E0\",\"text_font\":\"Josefin Sans\",\"text_font_size\":\"2.1em\"},\"id\":\"11675\",\"type\":\"Title\"},{\"attributes\":{\"axis_label\":\"x\",\"axis_label_standoff\":10,\"axis_label_text_color\":\"#FFFFFF\",\"axis_label_text_font\":\"Josefin Sans\",\"axis_label_text_font_size\":\"1.9em\",\"axis_label_text_font_style\":\"bold\",\"axis_line_alpha\":0.4,\"axis_line_color\":\"#E0E0E0\",\"coordinates\":null,\"formatter\":{\"id\":\"11719\"},\"group\":null,\"major_label_policy\":{\"id\":\"11720\"},\"major_label_text_color\":\"#E0E0E0\",\"major_label_text_font\":\"Josefin Sans\",\"major_label_text_font_size\":\"1.15em\",\"major_tick_line_alpha\":0.4,\"major_tick_line_color\":\"#E0E0E0\",\"minor_tick_line_alpha\":0.4,\"minor_tick_line_color\":\"#E0E0E0\",\"ticker\":{\"id\":\"11686\"}},\"id\":\"11685\",\"type\":\"LinearAxis\"},{\"attributes\":{},\"id\":\"11632\",\"type\":\"BasicTicker\"},{\"attributes\":{\"axis_label\":\"y\",\"axis_label_standoff\":10,\"axis_label_text_color\":\"#FFFFFF\",\"axis_label_text_font\":\"Josefin Sans\",\"axis_label_text_font_size\":\"1.9em\",\"axis_label_text_font_style\":\"bold\",\"axis_line_alpha\":0.4,\"axis_line_color\":\"#E0E0E0\",\"coordinates\":null,\"formatter\":{\"id\":\"11600\"},\"group\":null,\"major_label_policy\":{\"id\":\"11601\"},\"major_label_text_color\":\"#E0E0E0\",\"major_label_text_font\":\"Josefin Sans\",\"major_label_text_font_size\":\"1.15em\",\"major_tick_line_alpha\":0.4,\"major_tick_line_color\":\"#E0E0E0\",\"minor_tick_line_alpha\":0.4,\"minor_tick_line_color\":\"#E0E0E0\",\"ticker\":{\"id\":\"11574\"}},\"id\":\"11573\",\"type\":\"LinearAxis\"},{\"attributes\":{},\"id\":\"11563\",\"type\":\"DataRange1d\"},{\"attributes\":{\"axis_label\":\"y\",\"axis_label_standoff\":10,\"axis_label_text_color\":\"#FFFFFF\",\"axis_label_text_font\":\"Josefin Sans\",\"axis_label_text_font_size\":\"1.9em\",\"axis_label_text_font_style\":\"bold\",\"axis_line_alpha\":0.4,\"axis_line_color\":\"#E0E0E0\",\"coordinates\":null,\"formatter\":{\"id\":\"11716\"},\"group\":null,\"major_label_policy\":{\"id\":\"11717\"},\"major_label_text_color\":\"#E0E0E0\",\"major_label_text_font\":\"Josefin Sans\",\"major_label_text_font_size\":\"1.15em\",\"major_tick_line_alpha\":0.4,\"major_tick_line_color\":\"#E0E0E0\",\"minor_tick_line_alpha\":0.4,\"minor_tick_line_color\":\"#E0E0E0\",\"ticker\":{\"id\":\"11690\"}},\"id\":\"11689\",\"type\":\"LinearAxis\"},{\"attributes\":{},\"id\":\"11663\",\"type\":\"UnionRenderers\"},{\"attributes\":{\"coordinates\":null,\"data_source\":{\"id\":\"11649\"},\"glyph\":{\"id\":\"11650\"},\"group\":null,\"hover_glyph\":{\"id\":\"11652\"},\"muted_glyph\":{\"id\":\"11653\"},\"nonselection_glyph\":{\"id\":\"11671\"},\"selection_glyph\":{\"id\":\"11670\"},\"view\":{\"id\":\"11655\"}},\"id\":\"11654\",\"type\":\"GlyphRenderer\"},{\"attributes\":{},\"id\":\"11683\",\"type\":\"LinearScale\"},{\"attributes\":{},\"id\":\"11605\",\"type\":\"UnionRenderers\"},{\"attributes\":{\"axis\":{\"id\":\"11685\"},\"coordinates\":null,\"grid_line_alpha\":0.15,\"grid_line_color\":\"#E0E0E0\",\"group\":null,\"ticker\":null},\"id\":\"11688\",\"type\":\"Grid\"},{\"attributes\":{\"source\":{\"id\":\"11649\"}},\"id\":\"11655\",\"type\":\"CDSView\"},{\"attributes\":{},\"id\":\"11636\",\"type\":\"WheelZoomTool\"},{\"attributes\":{},\"id\":\"11635\",\"type\":\"PanTool\"},{\"attributes\":{\"fill_alpha\":{\"value\":0.25},\"fill_color\":{\"value\":\"midnightblue\"},\"hatch_alpha\":{\"value\":0.25},\"line_alpha\":{\"value\":0.25},\"line_color\":{\"value\":\"white\"},\"size\":{\"value\":10},\"x\":{\"field\":\"x\"},\"y\":{\"field\":\"y\"}},\"id\":\"11592\",\"type\":\"Circle\"},{\"attributes\":{\"mode\":\"append\",\"overlay\":{\"id\":\"11769\"},\"renderers\":[{\"id\":\"11712\"}]},\"id\":\"11730\",\"type\":\"BoxSelectTool\"},{\"attributes\":{\"axis\":{\"id\":\"11689\"},\"coordinates\":null,\"dimension\":1,\"grid_line_alpha\":0.15,\"grid_line_color\":\"#E0E0E0\",\"group\":null,\"ticker\":null},\"id\":\"11692\",\"type\":\"Grid\"},{\"attributes\":{\"overlay\":{\"id\":\"11641\"}},\"id\":\"11637\",\"type\":\"BoxZoomTool\"},{\"attributes\":{\"bottom_units\":\"screen\",\"coordinates\":null,\"fill_alpha\":0.5,\"fill_color\":\"lightgrey\",\"group\":null,\"left_units\":\"screen\",\"level\":\"overlay\",\"line_alpha\":1.0,\"line_color\":\"black\",\"line_dash\":[4,4],\"line_width\":2,\"right_units\":\"screen\",\"syncable\":false,\"top_units\":\"screen\"},\"id\":\"11769\",\"type\":\"BoxAnnotation\"},{\"attributes\":{\"background_fill_alpha\":0.25,\"background_fill_color\":\"#505050\",\"border_line_alpha\":0.25,\"coordinates\":null,\"group\":null,\"items\":[{\"id\":\"11609\"}],\"label_standoff\":8,\"label_text_color\":\"#E0E0E0\",\"label_text_font\":\"Josefin Sans\",\"label_text_font_size\":\"1.15em\",\"spacing\":8},\"id\":\"11608\",\"type\":\"Legend\"},{\"attributes\":{},\"id\":\"11638\",\"type\":\"SaveTool\"},{\"attributes\":{},\"id\":\"11690\",\"type\":\"BasicTicker\"},{\"attributes\":{\"overlay\":{\"id\":\"11583\"}},\"id\":\"11579\",\"type\":\"BoxZoomTool\"},{\"attributes\":{},\"id\":\"11639\",\"type\":\"ResetTool\"},{\"attributes\":{\"data\":{\"x\":{\"__ndarray__\":\"AAAAAAAAAABbv1Kg1q+EP1u/UqDWr5Q/CB988MEHnz9bv1Kg1q+kPzJvZ0jM26k/CB988MEHrz9wZ0jM2xmyP1u/UqDWr7Q/RhdddNFFtz8yb2dIzNu5Px3HcRzHcbw/CB988MEHvz96O0Ni3s7AP3BnSMzbGcI/ZZNNNtlkwz9bv1Kg1q/EP1HrVwrU+sU/RhdddNFFxz88Q2LezpDIPzJvZ0jM28k/J5tssskmyz8dx3Ecx3HMPxPzdobEvM0/CB988MEHzz9/pUCtXynQP3o7Q2LeztA/ddFFF1100T9wZ0jM2xnSP2r9SoFav9I/ZZNNNtlk0z9gKVDrVwrUP1u/UqDWr9Q/VlVVVVVV1T9R61cK1PrVP0yBWr9SoNY/RhdddNFF1z9BrV8pUOvXPzxDYt7OkNg/N9lkk0022T8yb2dIzNvZPy0Fav1Kgdo/J5tssskm2z8iMW9nSMzbPx3HcRzHcdw/GF100UUX3T8T83aGxLzdPw6JeTtDYt4/CB988MEH3z8DtX6lQK3fP3+lQK1fKeA/ffDBBx984D96O0Ni3s7gP3eGxLydIeE/ddFFF1104T9yHMdxHMfhP3BnSMzbGeI/bbLJJpts4j9q/UqBWr/iP2hIzNsZEuM/ZZNNNtlk4z9j3s6QmLfjP2ApUOtXCuQ/XnTRRRdd5D9bv1Kg1q/kP1gK1PqVAuU/VlVVVVVV5T9ToNavFKjlP1HrVwrU+uU/TjbZZJNN5j9MgVq/UqDmP0nM2xkS8+Y/RhdddNFF5z9EYt7OkJjnP0GtXylQ6+c/P/jggw8+6D88Q2LezpDoPzmO4ziO4+g/N9lkk0026T80JObtDInpPzJvZ0jM2+k/L7rooosu6j8tBWr9SoHqPypQ61cK1Oo/J5tssskm6z8l5u0MiXnrPyIxb2dIzOs/IHzwwQcf7D8dx3Ecx3HsPxsS83aGxOw/GF100UUX7T8VqPUrBWrtPxPzdobEvO0/ED744IMP7j8OiXk7Q2LuPwvU+pUCte4/CB988MEH7z8Gav1KgVrvPwO1fqVAre8/AAAAAAAA8D8=\",\"dtype\":\"float64\",\"order\":\"little\",\"shape\":[100]},\"y\":{\"__ndarray__\":\"Av87ECa48D8ULEXKIfPwP8i7ck9uKe8/xKxhICpz8T8W1Uhz6F/wP81Tt5R8fvE/I0RKUP4D8D994ePqTRbwPx3t52Z6w/A/Vn6HGiJr8T/INXlTic7yPy6M3sVLOvA/XK6o4jEM8T/6M0LGnd7yP91DG2KpTfI/eF8tlYVL8j8HTc8zVV3yP9V/K1duGfI/xdtBCv/n8z8eIQMvkBf0PzfWiq0DA/Q/YnKULzZH8j98U9/GZrv0PxW3ul+VTfI/l6e1ClLv8z9j0YF6tLH0PzeEPE0Q3vI/+xR3uIs+9D+zRQSpgiP2PyHL6fzs3fM/yiY2RpDE9T/tNRP4nMD1P0vIglotEvQ/C7cwPeky9T+slyYQ8Rn1PzEr+jrNp/Y/TmgE2+4O9T9ZAdu0Y4v1P6IK0oiMQPc/WDlq21ZW9z+/mAhCvsf3PxugS7d4VfY/kfV/Vo879z9dZNxvzxD2P+f4f5xIbfc/eSLGTO/99j88kScbrtj4P51w0Zgm7PY/BpiDFBBP9z8MK8V3kQH5P0j9FnmWBPk/hUZUCPAu+T8iTOtI0qz4PynIrvTfSPg/fTjE1G7y9z8GkMZv02f5P99dXBF87vo/gIUJjatV+z8kwASRskz6P2Ohbgqrifg/HHLRgq+j+T+aHLGSfK76P8Aoui75E/o/Pw/dZ3/B+z900PMchXf5P6jQPIrus/w/V6+H84Wo/D86GRtz42/6P0LsEakIJv0/TLktGUd5+z+qbqe8SCH8P+v47A5c5vw//rFmQuh7/D8WJkddYnX9P3zrF1t18f0/9IPIadTQ+z/AJyGgaNz7P1KGn6D/9Ps/3H+jZXW3/T8tHCGqw1j+P396bEBAZ/0//DrE40pk/j/U+9pkDnn/P4Wcvf6IQP0/1pylmhKt/j/+QOmgUgL+P0hKXi2fuP0/F7YcNBZZ/j+uvBjVEmj+Pw2OkSyAXP4/6P4+OWudAEDKBW/SffL+P+awP2Vm6/8/oot+JR8DAUC0yac5GgkBQLCFa0G8+/8/p4Usl1hpAEDI7KfFOzsAQN4GTVqIPgFAF3zMPOXOAEA=\",\"dtype\":\"float64\",\"order\":\"little\",\"shape\":[100]}},\"selected\":{\"id\":\"11722\"},\"selection_policy\":{\"id\":\"11721\"}},\"id\":\"11707\",\"type\":\"ColumnDataSource\"},{\"attributes\":{\"callback\":null,\"mode\":\"vline\",\"renderers\":[{\"id\":\"11712\"}],\"tooltips\":null},\"id\":\"11726\",\"type\":\"HoverTool\"},{\"attributes\":{},\"id\":\"11694\",\"type\":\"WheelZoomTool\"},{\"attributes\":{},\"id\":\"11581\",\"type\":\"ResetTool\"},{\"attributes\":{\"fill_alpha\":{\"value\":0.5},\"fill_color\":{\"value\":\"midnightblue\"},\"line_color\":{\"value\":\"white\"}},\"id\":\"11729\",\"type\":\"Circle\"},{\"attributes\":{\"label\":{\"value\":\"Observations\"},\"renderers\":[{\"id\":\"11654\"}]},\"id\":\"11667\",\"type\":\"LegendItem\"},{\"attributes\":{},\"id\":\"11693\",\"type\":\"PanTool\"},{\"attributes\":{\"overlay\":{\"id\":\"11699\"}},\"id\":\"11695\",\"type\":\"BoxZoomTool\"},{\"attributes\":{},\"id\":\"11696\",\"type\":\"SaveTool\"},{\"attributes\":{\"mode\":\"append\",\"overlay\":{\"id\":\"11761\"},\"renderers\":[{\"id\":\"11596\"}]},\"id\":\"11614\",\"type\":\"BoxSelectTool\"},{\"attributes\":{\"label\":{\"value\":\"Observations\"},\"renderers\":[{\"id\":\"11596\"}]},\"id\":\"11609\",\"type\":\"LegendItem\"},{\"attributes\":{},\"id\":\"11697\",\"type\":\"ResetTool\"},{\"attributes\":{\"bottom_units\":\"screen\",\"coordinates\":null,\"fill_alpha\":0.5,\"fill_color\":\"lightgrey\",\"group\":null,\"left_units\":\"screen\",\"level\":\"overlay\",\"line_alpha\":1.0,\"line_color\":\"black\",\"line_dash\":[4,4],\"line_width\":2,\"right_units\":\"screen\",\"syncable\":false,\"top_units\":\"screen\"},\"id\":\"11699\",\"type\":\"BoxAnnotation\"},{\"attributes\":{\"tools\":[{\"id\":\"11693\"},{\"id\":\"11694\"},{\"id\":\"11695\"},{\"id\":\"11696\"},{\"id\":\"11697\"},{\"id\":\"11698\"},{\"id\":\"11726\"},{\"id\":\"11730\"}]},\"id\":\"11700\",\"type\":\"Toolbar\"}],\"root_ids\":[\"11735\",\"11903\"]},\"title\":\"Bokeh Application\",\"version\":\"2.4.3\"}};\n",
              "    var render_items = [{\"docid\":\"11d8d628-56ac-42ba-9715-fa5b592d0002\",\"root_ids\":[\"11735\"],\"roots\":{\"11735\":\"cf0d66cd-5b35-4ccd-8874-fa8f6f732977\"}}];\n",
              "    root.Bokeh.embed.embed_items_notebook(docs_json, render_items);\n",
              "    for (const render_item of render_items) {\n",
              "      for (const root_id of render_item.root_ids) {\n",
              "\tconst id_el = document.getElementById(root_id)\n",
              "\tif (id_el.children.length && (id_el.children[0].className === 'bk-root')) {\n",
              "\t  const root_el = id_el.children[0]\n",
              "\t  root_el.id = root_el.id + '-rendered'\n",
              "\t}\n",
              "      }\n",
              "    }\n",
              "  }\n",
              "  if (root.Bokeh !== undefined && root.Bokeh.Panel !== undefined) {\n",
              "    embed_document(root);\n",
              "  } else {\n",
              "    var attempts = 0;\n",
              "    var timer = setInterval(function(root) {\n",
              "      if (root.Bokeh !== undefined && root.Bokeh.Panel !== undefined) {\n",
              "        clearInterval(timer);\n",
              "        embed_document(root);\n",
              "      } else if (document.readyState == \"complete\") {\n",
              "        attempts++;\n",
              "        if (attempts > 200) {\n",
              "          clearInterval(timer);\n",
              "          console.log(\"Bokeh: ERROR: Unable to run BokehJS code because BokehJS library is missing\");\n",
              "        }\n",
              "      }\n",
              "    }, 25, root)\n",
              "  }\n",
              "})(window);</script>"
            ],
            "text/plain": [
              "Row\n",
              "    [0] HSpacer()\n",
              "    [1] Bokeh(Column)\n",
              "    [2] HSpacer()"
            ]
          },
          "execution_count": 12,
          "metadata": {
            "application/vnd.holoviews_exec.v0+json": {
              "id": "11735"
            }
          },
          "output_type": "execute_result"
        }
      ],
      "source": [
        "from bokeh.models import Div\n",
        "from bokeh.layouts import column, row\n",
        "plot = center_plot(column(Div(text = \"Observing different problems\", style={'font-size': '250%'}), row(*plots)))\n",
        "plot"
      ]
    },
    {
      "cell_type": "markdown",
      "metadata": {},
      "source": [
        "In real-life settings, this function can also have different levels of noise, as exemplified in the following code."
      ]
    },
    {
      "cell_type": "code",
      "execution_count": 13,
      "metadata": {
        "tags": []
      },
      "outputs": [],
      "source": [
        "params = [3, 0, 1]\n",
        "noise_levels = [0.1, 1.0, 8.0]\n",
        "# Generating the x axis\n",
        "x = np.linspace(0, 1, 100)\n",
        "plots = []\n",
        "for p in range(len(noise_levels)):\n",
        "    poly = np.poly1d(params)\n",
        "    epsilon = np.random.uniform(-noise_levels[p],noise_levels[p],x.shape)\n",
        "    y = poly(x) + epsilon\n",
        "    plots.append(scatter(x, y, title=\"Problem \"+(str(p+1))))"
      ]
    },
    {
      "cell_type": "code",
      "execution_count": 14,
      "metadata": {
        "tags": []
      },
      "outputs": [
        {
          "data": {},
          "metadata": {},
          "output_type": "display_data"
        },
        {
          "data": {
            "application/vnd.holoviews_exec.v0+json": "",
            "text/html": [
              "<div id='12246'>\n",
              "  <div class=\"bk-root\" id=\"0e5a70e2-80a3-4a45-b5e9-f223b6e4786e\" data-root-id=\"12246\"></div>\n",
              "</div>\n",
              "<script type=\"application/javascript\">(function(root) {\n",
              "  function embed_document(root) {\n",
              "    var docs_json = {\"fd54eedb-3342-4509-a75a-7b718750fc4d\":{\"defs\":[{\"extends\":null,\"module\":null,\"name\":\"ReactiveHTML1\",\"overrides\":[],\"properties\":[]},{\"extends\":null,\"module\":null,\"name\":\"FlexBox1\",\"overrides\":[],\"properties\":[{\"default\":\"flex-start\",\"kind\":null,\"name\":\"align_content\"},{\"default\":\"flex-start\",\"kind\":null,\"name\":\"align_items\"},{\"default\":\"row\",\"kind\":null,\"name\":\"flex_direction\"},{\"default\":\"wrap\",\"kind\":null,\"name\":\"flex_wrap\"},{\"default\":\"flex-start\",\"kind\":null,\"name\":\"justify_content\"}]},{\"extends\":null,\"module\":null,\"name\":\"GridStack1\",\"overrides\":[],\"properties\":[{\"default\":\"warn\",\"kind\":null,\"name\":\"mode\"},{\"default\":null,\"kind\":null,\"name\":\"ncols\"},{\"default\":null,\"kind\":null,\"name\":\"nrows\"},{\"default\":true,\"kind\":null,\"name\":\"allow_resize\"},{\"default\":true,\"kind\":null,\"name\":\"allow_drag\"},{\"default\":[],\"kind\":null,\"name\":\"state\"}]},{\"extends\":null,\"module\":null,\"name\":\"click1\",\"overrides\":[],\"properties\":[{\"default\":\"\",\"kind\":null,\"name\":\"terminal_output\"},{\"default\":\"\",\"kind\":null,\"name\":\"debug_name\"},{\"default\":0,\"kind\":null,\"name\":\"clears\"}]},{\"extends\":null,\"module\":null,\"name\":\"NotificationAreaBase1\",\"overrides\":[],\"properties\":[{\"default\":\"bottom-right\",\"kind\":null,\"name\":\"position\"},{\"default\":0,\"kind\":null,\"name\":\"_clear\"}]},{\"extends\":null,\"module\":null,\"name\":\"NotificationArea1\",\"overrides\":[],\"properties\":[{\"default\":[],\"kind\":null,\"name\":\"notifications\"},{\"default\":\"bottom-right\",\"kind\":null,\"name\":\"position\"},{\"default\":0,\"kind\":null,\"name\":\"_clear\"},{\"default\":[{\"background\":\"#ffc107\",\"icon\":{\"className\":\"fas fa-exclamation-triangle\",\"color\":\"white\",\"tagName\":\"i\"},\"type\":\"warning\"},{\"background\":\"#007bff\",\"icon\":{\"className\":\"fas fa-info-circle\",\"color\":\"white\",\"tagName\":\"i\"},\"type\":\"info\"}],\"kind\":null,\"name\":\"types\"}]},{\"extends\":null,\"module\":null,\"name\":\"Notification\",\"overrides\":[],\"properties\":[{\"default\":null,\"kind\":null,\"name\":\"background\"},{\"default\":3000,\"kind\":null,\"name\":\"duration\"},{\"default\":null,\"kind\":null,\"name\":\"icon\"},{\"default\":\"\",\"kind\":null,\"name\":\"message\"},{\"default\":null,\"kind\":null,\"name\":\"notification_type\"},{\"default\":false,\"kind\":null,\"name\":\"_destroyed\"}]},{\"extends\":null,\"module\":null,\"name\":\"TemplateActions1\",\"overrides\":[],\"properties\":[{\"default\":0,\"kind\":null,\"name\":\"open_modal\"},{\"default\":0,\"kind\":null,\"name\":\"close_modal\"}]},{\"extends\":null,\"module\":null,\"name\":\"MaterialTemplateActions1\",\"overrides\":[],\"properties\":[{\"default\":0,\"kind\":null,\"name\":\"open_modal\"},{\"default\":0,\"kind\":null,\"name\":\"close_modal\"}]}],\"roots\":{\"references\":[{\"attributes\":{\"fill_alpha\":{\"value\":0.5},\"fill_color\":{\"value\":\"red\"},\"hatch_alpha\":{\"value\":0.5},\"line_alpha\":{\"value\":0.5},\"line_color\":{\"value\":\"white\"},\"size\":{\"value\":10},\"x\":{\"field\":\"x\"},\"y\":{\"field\":\"y\"}},\"id\":\"12105\",\"type\":\"Circle\"},{\"attributes\":{\"fill_alpha\":{\"value\":0.25},\"fill_color\":{\"value\":\"midnightblue\"},\"hatch_alpha\":{\"value\":0.25},\"line_alpha\":{\"value\":0.25},\"line_color\":{\"value\":\"white\"},\"size\":{\"value\":10},\"x\":{\"field\":\"x\"},\"y\":{\"field\":\"y\"}},\"id\":\"12161\",\"type\":\"Circle\"},{\"attributes\":{},\"id\":\"12151\",\"type\":\"HelpTool\"},{\"attributes\":{},\"id\":\"12091\",\"type\":\"SaveTool\"},{\"attributes\":{},\"id\":\"12192\",\"type\":\"LinearScale\"},{\"attributes\":{\"fill_alpha\":{\"value\":0.2},\"fill_color\":{\"value\":\"midnightblue\"},\"hatch_alpha\":{\"value\":0.2},\"line_alpha\":{\"value\":0.2},\"line_color\":{\"value\":\"white\"},\"size\":{\"value\":10},\"x\":{\"field\":\"x\"},\"y\":{\"field\":\"y\"}},\"id\":\"12164\",\"type\":\"Circle\"},{\"attributes\":{},\"id\":\"12139\",\"type\":\"BasicTicker\"},{\"attributes\":{\"background_fill_alpha\":0.9,\"background_fill_color\":\"#0f0f0f\",\"below\":[{\"id\":\"12196\"}],\"border_fill_alpha\":0.8,\"border_fill_color\":\"#111111\",\"center\":[{\"id\":\"12199\"},{\"id\":\"12203\"},{\"id\":\"12235\"}],\"height\":450,\"left\":[{\"id\":\"12200\"}],\"outline_line_alpha\":0.25,\"outline_line_color\":\"#E0E0E0\",\"outline_line_width\":3,\"renderers\":[{\"id\":\"12223\"}],\"title\":{\"id\":\"12186\"},\"toolbar\":{\"id\":\"12211\"},\"toolbar_location\":null,\"x_range\":{\"id\":\"12188\"},\"x_scale\":{\"id\":\"12192\"},\"y_range\":{\"id\":\"12190\"},\"y_scale\":{\"id\":\"12194\"}},\"id\":\"12185\",\"subtype\":\"Figure\",\"type\":\"Plot\"},{\"attributes\":{\"coordinates\":null,\"group\":null,\"text\":\"Problem 2\",\"text_color\":\"#E0E0E0\",\"text_font\":\"Josefin Sans\",\"text_font_size\":\"2.1em\"},\"id\":\"12128\",\"type\":\"Title\"},{\"attributes\":{\"axis_label\":\"x\",\"axis_label_standoff\":10,\"axis_label_text_color\":\"#FFFFFF\",\"axis_label_text_font\":\"Josefin Sans\",\"axis_label_text_font_size\":\"1.9em\",\"axis_label_text_font_style\":\"bold\",\"axis_line_alpha\":0.4,\"axis_line_color\":\"#E0E0E0\",\"coordinates\":null,\"formatter\":{\"id\":\"12172\"},\"group\":null,\"major_label_policy\":{\"id\":\"12173\"},\"major_label_text_color\":\"#E0E0E0\",\"major_label_text_font\":\"Josefin Sans\",\"major_label_text_font_size\":\"1.15em\",\"major_tick_line_alpha\":0.4,\"major_tick_line_color\":\"#E0E0E0\",\"minor_tick_line_alpha\":0.4,\"minor_tick_line_color\":\"#E0E0E0\",\"ticker\":{\"id\":\"12139\"}},\"id\":\"12138\",\"type\":\"LinearAxis\"},{\"attributes\":{\"background_fill_alpha\":0.25,\"background_fill_color\":\"#505050\",\"border_line_alpha\":0.25,\"coordinates\":null,\"group\":null,\"items\":[{\"id\":\"12178\"}],\"label_standoff\":8,\"label_text_color\":\"#E0E0E0\",\"label_text_font\":\"Josefin Sans\",\"label_text_font_size\":\"1.15em\",\"spacing\":8},\"id\":\"12177\",\"type\":\"Legend\"},{\"attributes\":{\"axis_label\":\"y\",\"axis_label_standoff\":10,\"axis_label_text_color\":\"#FFFFFF\",\"axis_label_text_font\":\"Josefin Sans\",\"axis_label_text_font_size\":\"1.9em\",\"axis_label_text_font_style\":\"bold\",\"axis_line_alpha\":0.4,\"axis_line_color\":\"#E0E0E0\",\"coordinates\":null,\"formatter\":{\"id\":\"12169\"},\"group\":null,\"major_label_policy\":{\"id\":\"12170\"},\"major_label_text_color\":\"#E0E0E0\",\"major_label_text_font\":\"Josefin Sans\",\"major_label_text_font_size\":\"1.15em\",\"major_tick_line_alpha\":0.4,\"major_tick_line_color\":\"#E0E0E0\",\"minor_tick_line_alpha\":0.4,\"minor_tick_line_color\":\"#E0E0E0\",\"ticker\":{\"id\":\"12143\"}},\"id\":\"12142\",\"type\":\"LinearAxis\"},{\"attributes\":{\"fill_alpha\":{\"value\":0.5},\"fill_color\":{\"value\":\"midnightblue\"},\"line_color\":{\"value\":\"white\"}},\"id\":\"12240\",\"type\":\"Circle\"},{\"attributes\":{\"coordinates\":null,\"data_source\":{\"id\":\"12160\"},\"glyph\":{\"id\":\"12161\"},\"group\":null,\"hover_glyph\":{\"id\":\"12163\"},\"muted_glyph\":{\"id\":\"12164\"},\"nonselection_glyph\":{\"id\":\"12182\"},\"selection_glyph\":{\"id\":\"12181\"},\"view\":{\"id\":\"12166\"}},\"id\":\"12165\",\"type\":\"GlyphRenderer\"},{\"attributes\":{\"margin\":[5,5,5,5],\"name\":\"HSpacer00166\",\"sizing_mode\":\"stretch_width\"},\"id\":\"12247\",\"type\":\"Spacer\"},{\"attributes\":{},\"id\":\"12136\",\"type\":\"LinearScale\"},{\"attributes\":{\"fill_alpha\":{\"value\":0.25},\"fill_color\":{\"value\":\"midnightblue\"},\"hatch_alpha\":{\"value\":0.25},\"line_alpha\":{\"value\":0.25},\"line_color\":{\"value\":\"white\"},\"size\":{\"value\":10},\"x\":{\"field\":\"x\"},\"y\":{\"field\":\"y\"}},\"id\":\"12219\",\"type\":\"Circle\"},{\"attributes\":{\"axis\":{\"id\":\"12138\"},\"coordinates\":null,\"grid_line_alpha\":0.15,\"grid_line_color\":\"#E0E0E0\",\"group\":null,\"ticker\":null},\"id\":\"12141\",\"type\":\"Grid\"},{\"attributes\":{},\"id\":\"12188\",\"type\":\"DataRange1d\"},{\"attributes\":{},\"id\":\"12190\",\"type\":\"DataRange1d\"},{\"attributes\":{\"source\":{\"id\":\"12160\"}},\"id\":\"12166\",\"type\":\"CDSView\"},{\"attributes\":{},\"id\":\"12209\",\"type\":\"HelpTool\"},{\"attributes\":{\"callback\":null,\"mode\":\"vline\",\"renderers\":[{\"id\":\"12165\"}],\"tooltips\":null},\"id\":\"12179\",\"type\":\"HoverTool\"},{\"attributes\":{\"axis\":{\"id\":\"12142\"},\"coordinates\":null,\"dimension\":1,\"grid_line_alpha\":0.15,\"grid_line_color\":\"#E0E0E0\",\"group\":null,\"ticker\":null},\"id\":\"12145\",\"type\":\"Grid\"},{\"attributes\":{},\"id\":\"12227\",\"type\":\"BasicTickFormatter\"},{\"attributes\":{},\"id\":\"12143\",\"type\":\"BasicTicker\"},{\"attributes\":{},\"id\":\"12197\",\"type\":\"BasicTicker\"},{\"attributes\":{\"tools\":[{\"id\":\"12146\"},{\"id\":\"12147\"},{\"id\":\"12148\"},{\"id\":\"12149\"},{\"id\":\"12150\"},{\"id\":\"12151\"},{\"id\":\"12179\"},{\"id\":\"12183\"}]},\"id\":\"12153\",\"type\":\"Toolbar\"},{\"attributes\":{},\"id\":\"12093\",\"type\":\"HelpTool\"},{\"attributes\":{\"coordinates\":null,\"group\":null,\"text\":\"Problem 3\",\"text_color\":\"#E0E0E0\",\"text_font\":\"Josefin Sans\",\"text_font_size\":\"2.1em\"},\"id\":\"12186\",\"type\":\"Title\"},{\"attributes\":{\"children\":[{\"id\":\"12069\"},{\"id\":\"12127\"},{\"id\":\"12185\"}]},\"id\":\"12244\",\"type\":\"Row\"},{\"attributes\":{},\"id\":\"12228\",\"type\":\"AllLabels\"},{\"attributes\":{\"axis_label\":\"x\",\"axis_label_standoff\":10,\"axis_label_text_color\":\"#FFFFFF\",\"axis_label_text_font\":\"Josefin Sans\",\"axis_label_text_font_size\":\"1.9em\",\"axis_label_text_font_style\":\"bold\",\"axis_line_alpha\":0.4,\"axis_line_color\":\"#E0E0E0\",\"coordinates\":null,\"formatter\":{\"id\":\"12230\"},\"group\":null,\"major_label_policy\":{\"id\":\"12231\"},\"major_label_text_color\":\"#E0E0E0\",\"major_label_text_font\":\"Josefin Sans\",\"major_label_text_font_size\":\"1.15em\",\"major_tick_line_alpha\":0.4,\"major_tick_line_color\":\"#E0E0E0\",\"minor_tick_line_alpha\":0.4,\"minor_tick_line_color\":\"#E0E0E0\",\"ticker\":{\"id\":\"12197\"}},\"id\":\"12196\",\"type\":\"LinearAxis\"},{\"attributes\":{},\"id\":\"12147\",\"type\":\"WheelZoomTool\"},{\"attributes\":{\"axis_label\":\"y\",\"axis_label_standoff\":10,\"axis_label_text_color\":\"#FFFFFF\",\"axis_label_text_font\":\"Josefin Sans\",\"axis_label_text_font_size\":\"1.9em\",\"axis_label_text_font_style\":\"bold\",\"axis_line_alpha\":0.4,\"axis_line_color\":\"#E0E0E0\",\"coordinates\":null,\"formatter\":{\"id\":\"12227\"},\"group\":null,\"major_label_policy\":{\"id\":\"12228\"},\"major_label_text_color\":\"#E0E0E0\",\"major_label_text_font\":\"Josefin Sans\",\"major_label_text_font_size\":\"1.15em\",\"major_tick_line_alpha\":0.4,\"major_tick_line_color\":\"#E0E0E0\",\"minor_tick_line_alpha\":0.4,\"minor_tick_line_color\":\"#E0E0E0\",\"ticker\":{\"id\":\"12201\"}},\"id\":\"12200\",\"type\":\"LinearAxis\"},{\"attributes\":{},\"id\":\"12146\",\"type\":\"PanTool\"},{\"attributes\":{},\"id\":\"12194\",\"type\":\"LinearScale\"},{\"attributes\":{\"label\":{\"value\":\"Observations\"},\"renderers\":[{\"id\":\"12107\"}]},\"id\":\"12120\",\"type\":\"LegendItem\"},{\"attributes\":{\"overlay\":{\"id\":\"12152\"}},\"id\":\"12148\",\"type\":\"BoxZoomTool\"},{\"attributes\":{\"bottom_units\":\"screen\",\"coordinates\":null,\"fill_alpha\":0.5,\"fill_color\":\"lightgrey\",\"group\":null,\"left_units\":\"screen\",\"level\":\"overlay\",\"line_alpha\":1.0,\"line_color\":\"black\",\"line_dash\":[4,4],\"line_width\":2,\"right_units\":\"screen\",\"syncable\":false,\"top_units\":\"screen\"},\"id\":\"12272\",\"type\":\"BoxAnnotation\"},{\"attributes\":{},\"id\":\"12230\",\"type\":\"BasicTickFormatter\"},{\"attributes\":{},\"id\":\"12149\",\"type\":\"SaveTool\"},{\"attributes\":{\"axis\":{\"id\":\"12196\"},\"coordinates\":null,\"grid_line_alpha\":0.15,\"grid_line_color\":\"#E0E0E0\",\"group\":null,\"ticker\":null},\"id\":\"12199\",\"type\":\"Grid\"},{\"attributes\":{\"source\":{\"id\":\"12102\"}},\"id\":\"12108\",\"type\":\"CDSView\"},{\"attributes\":{},\"id\":\"12150\",\"type\":\"ResetTool\"},{\"attributes\":{\"coordinates\":null,\"data_source\":{\"id\":\"12102\"},\"glyph\":{\"id\":\"12103\"},\"group\":null,\"hover_glyph\":{\"id\":\"12105\"},\"muted_glyph\":{\"id\":\"12106\"},\"nonselection_glyph\":{\"id\":\"12124\"},\"selection_glyph\":{\"id\":\"12123\"},\"view\":{\"id\":\"12108\"}},\"id\":\"12107\",\"type\":\"GlyphRenderer\"},{\"attributes\":{\"axis\":{\"id\":\"12200\"},\"coordinates\":null,\"dimension\":1,\"grid_line_alpha\":0.15,\"grid_line_color\":\"#E0E0E0\",\"group\":null,\"ticker\":null},\"id\":\"12203\",\"type\":\"Grid\"},{\"attributes\":{},\"id\":\"12231\",\"type\":\"AllLabels\"},{\"attributes\":{},\"id\":\"12201\",\"type\":\"BasicTicker\"},{\"attributes\":{\"data\":{\"x\":{\"__ndarray__\":\"AAAAAAAAAABbv1Kg1q+EP1u/UqDWr5Q/CB988MEHnz9bv1Kg1q+kPzJvZ0jM26k/CB988MEHrz9wZ0jM2xmyP1u/UqDWr7Q/RhdddNFFtz8yb2dIzNu5Px3HcRzHcbw/CB988MEHvz96O0Ni3s7AP3BnSMzbGcI/ZZNNNtlkwz9bv1Kg1q/EP1HrVwrU+sU/RhdddNFFxz88Q2LezpDIPzJvZ0jM28k/J5tssskmyz8dx3Ecx3HMPxPzdobEvM0/CB988MEHzz9/pUCtXynQP3o7Q2LeztA/ddFFF1100T9wZ0jM2xnSP2r9SoFav9I/ZZNNNtlk0z9gKVDrVwrUP1u/UqDWr9Q/VlVVVVVV1T9R61cK1PrVP0yBWr9SoNY/RhdddNFF1z9BrV8pUOvXPzxDYt7OkNg/N9lkk0022T8yb2dIzNvZPy0Fav1Kgdo/J5tssskm2z8iMW9nSMzbPx3HcRzHcdw/GF100UUX3T8T83aGxLzdPw6JeTtDYt4/CB988MEH3z8DtX6lQK3fP3+lQK1fKeA/ffDBBx984D96O0Ni3s7gP3eGxLydIeE/ddFFF1104T9yHMdxHMfhP3BnSMzbGeI/bbLJJpts4j9q/UqBWr/iP2hIzNsZEuM/ZZNNNtlk4z9j3s6QmLfjP2ApUOtXCuQ/XnTRRRdd5D9bv1Kg1q/kP1gK1PqVAuU/VlVVVVVV5T9ToNavFKjlP1HrVwrU+uU/TjbZZJNN5j9MgVq/UqDmP0nM2xkS8+Y/RhdddNFF5z9EYt7OkJjnP0GtXylQ6+c/P/jggw8+6D88Q2LezpDoPzmO4ziO4+g/N9lkk0026T80JObtDInpPzJvZ0jM2+k/L7rooosu6j8tBWr9SoHqPypQ61cK1Oo/J5tssskm6z8l5u0MiXnrPyIxb2dIzOs/IHzwwQcf7D8dx3Ecx3HsPxsS83aGxOw/GF100UUX7T8VqPUrBWrtPxPzdobEvO0/ED744IMP7j8OiXk7Q2LuPwvU+pUCte4/CB988MEH7z8Gav1KgVrvPwO1fqVAre8/AAAAAAAA8D8=\",\"dtype\":\"float64\",\"order\":\"little\",\"shape\":[100]},\"y\":{\"__ndarray__\":\"NIGJaCvwAkAgXZX96APGv9FYgSl3cgHA7gP4/fA4FED+TSp19ZwUwNZpeCySafm/ompgb9kR/D/g+KlFcAzQvz+swy4DRgFANigSDFqKBkBAA3GRsdXdPxJJf4AZlw9Axxsh+zJpDUBIm3N+L43yPzqlTQy1BRXAMH1tfkS9A0AKBxpv1mIXQLh38BKx/BDAQw4cFsThE8BMpN0CyyDVPxzegyDBwxZAQztekJetCMBV5EO2He8dQEimN4npTQJAOJP+1xMV9z9WO7edBpQfQCBaB+LZNNe/SkMAKZBzHUCNIYLoclQdQMYq5I57/yFAWhjP7A3wE0DxhvoDrbjwP8ljL+YmMBdAKAY7Ycmj2L/SvM4oSeYQwAjC8oWbtgXApMvM+ObjFUBiu1aF14YgQAPW0eZXeRNALlY3Cy1THEAxe5r7XjccQL4kf5p24xLAVAH6G7iQ7j/MVZJdO172vx3cFmFzsxtAAoSoniYEAsDprlKHr+AZQBYxMBYaeBJAXP1FOgpHDkDV42bxoK8dQIAmIyjRACBAd+VYVYSQC0BgQSH9TJTdP0DJiCfZ4NC/9LFGBaAhEsBmGzBnMi7+v/XGblqSOAFAmGwhJ7HJ/r9PJLX5zWAcQNog2OiP7gnAFnq/U/Vb8j94P2aJvpYfQNp2oHsBOSJAxFkisq+qDMAA6QZDSfvTv2L+zXUswhFAktmVNc/XE8BEUSC2HwP5v2Y/hJEJ/A5A3mq9Lq8tGEAJam873H4TQCDF59VgkQdAACniqqxkrT+EMby/Yez5v6GfQSmxahlAsn6KuuGtIUB4qpwY+57hv3rfZ0BDnyNA0BkQXYTg8T/tQnAJ3qEcQBGmzlsvIiBAqkw+3PanF0AyGSeF5J4bQPACUPTXB/+/hlPw3eUj8T8oLvcN3rEKwBsUlQFYEwxAbI7h9dgW6T864GsGQar8PxiiNUIDsw1AFJVazzPz+j+9Llq5UhclQOCdKFg/ZwDAMvjL94sRH0A2LKiBA074v4d7R6zmBgnAMe60HyL/IUCnoPyy3E8gQAznFkxUePm/WuEMbeFUF0A=\",\"dtype\":\"float64\",\"order\":\"little\",\"shape\":[100]}},\"selected\":{\"id\":\"12233\"},\"selection_policy\":{\"id\":\"12232\"}},\"id\":\"12218\",\"type\":\"ColumnDataSource\"},{\"attributes\":{\"background_fill_alpha\":0.25,\"background_fill_color\":\"#505050\",\"border_line_alpha\":0.25,\"coordinates\":null,\"group\":null,\"items\":[{\"id\":\"12120\"}],\"label_standoff\":8,\"label_text_color\":\"#E0E0E0\",\"label_text_font\":\"Josefin Sans\",\"label_text_font_size\":\"1.15em\",\"spacing\":8},\"id\":\"12119\",\"type\":\"Legend\"},{\"attributes\":{},\"id\":\"12088\",\"type\":\"PanTool\"},{\"attributes\":{},\"id\":\"12205\",\"type\":\"WheelZoomTool\"},{\"attributes\":{\"children\":[{\"id\":\"12247\"},{\"id\":\"12245\"},{\"id\":\"12314\"}],\"margin\":[0,0,0,0],\"name\":\"Row00170\"},\"id\":\"12246\",\"type\":\"Row\"},{\"attributes\":{},\"id\":\"12204\",\"type\":\"PanTool\"},{\"attributes\":{\"style\":{\"font-size\":\"250%\"},\"text\":\"Different amounts of noise\"},\"id\":\"12243\",\"type\":\"Div\"},{\"attributes\":{\"overlay\":{\"id\":\"12210\"}},\"id\":\"12206\",\"type\":\"BoxZoomTool\"},{\"attributes\":{},\"id\":\"12207\",\"type\":\"SaveTool\"},{\"attributes\":{},\"id\":\"12208\",\"type\":\"ResetTool\"},{\"attributes\":{},\"id\":\"12081\",\"type\":\"BasicTicker\"},{\"attributes\":{},\"id\":\"12232\",\"type\":\"UnionRenderers\"},{\"attributes\":{\"bottom_units\":\"screen\",\"coordinates\":null,\"fill_alpha\":0.5,\"fill_color\":\"lightgrey\",\"group\":null,\"left_units\":\"screen\",\"level\":\"overlay\",\"line_alpha\":1.0,\"line_color\":\"black\",\"line_dash\":[4,4],\"line_width\":2,\"right_units\":\"screen\",\"syncable\":false,\"top_units\":\"screen\"},\"id\":\"12210\",\"type\":\"BoxAnnotation\"},{\"attributes\":{\"bottom_units\":\"screen\",\"coordinates\":null,\"fill_alpha\":0.5,\"fill_color\":\"lightgrey\",\"group\":null,\"left_units\":\"screen\",\"level\":\"overlay\",\"line_alpha\":1.0,\"line_color\":\"black\",\"line_dash\":[4,4],\"line_width\":2,\"right_units\":\"screen\",\"syncable\":false,\"top_units\":\"screen\"},\"id\":\"12276\",\"type\":\"BoxAnnotation\"},{\"attributes\":{\"fill_alpha\":{\"value\":0.2},\"fill_color\":{\"value\":\"midnightblue\"},\"hatch_alpha\":{\"value\":0.2},\"line_alpha\":{\"value\":0.2},\"line_color\":{\"value\":\"white\"},\"size\":{\"value\":10},\"x\":{\"field\":\"x\"},\"y\":{\"field\":\"y\"}},\"id\":\"12222\",\"type\":\"Circle\"},{\"attributes\":{},\"id\":\"12072\",\"type\":\"DataRange1d\"},{\"attributes\":{},\"id\":\"12233\",\"type\":\"Selection\"},{\"attributes\":{\"fill_alpha\":{\"value\":0.5},\"fill_color\":{\"value\":\"red\"},\"hatch_alpha\":{\"value\":0.5},\"line_alpha\":{\"value\":0.5},\"line_color\":{\"value\":\"white\"},\"size\":{\"value\":10},\"x\":{\"field\":\"x\"},\"y\":{\"field\":\"y\"}},\"id\":\"12163\",\"type\":\"Circle\"},{\"attributes\":{},\"id\":\"12175\",\"type\":\"Selection\"},{\"attributes\":{},\"id\":\"12169\",\"type\":\"BasicTickFormatter\"},{\"attributes\":{\"tools\":[{\"id\":\"12204\"},{\"id\":\"12205\"},{\"id\":\"12206\"},{\"id\":\"12207\"},{\"id\":\"12208\"},{\"id\":\"12209\"},{\"id\":\"12237\"},{\"id\":\"12241\"}]},\"id\":\"12211\",\"type\":\"Toolbar\"},{\"attributes\":{},\"id\":\"12170\",\"type\":\"AllLabels\"},{\"attributes\":{\"coordinates\":null,\"group\":null,\"text\":\"Problem 1\",\"text_color\":\"#E0E0E0\",\"text_font\":\"Josefin Sans\",\"text_font_size\":\"2.1em\"},\"id\":\"12070\",\"type\":\"Title\"},{\"attributes\":{\"axis_label\":\"x\",\"axis_label_standoff\":10,\"axis_label_text_color\":\"#FFFFFF\",\"axis_label_text_font\":\"Josefin Sans\",\"axis_label_text_font_size\":\"1.9em\",\"axis_label_text_font_style\":\"bold\",\"axis_line_alpha\":0.4,\"axis_line_color\":\"#E0E0E0\",\"coordinates\":null,\"formatter\":{\"id\":\"12114\"},\"group\":null,\"major_label_policy\":{\"id\":\"12115\"},\"major_label_text_color\":\"#E0E0E0\",\"major_label_text_font\":\"Josefin Sans\",\"major_label_text_font_size\":\"1.15em\",\"major_tick_line_alpha\":0.4,\"major_tick_line_color\":\"#E0E0E0\",\"minor_tick_line_alpha\":0.4,\"minor_tick_line_color\":\"#E0E0E0\",\"ticker\":{\"id\":\"12081\"}},\"id\":\"12080\",\"type\":\"LinearAxis\"},{\"attributes\":{},\"id\":\"12172\",\"type\":\"BasicTickFormatter\"},{\"attributes\":{},\"id\":\"12078\",\"type\":\"LinearScale\"},{\"attributes\":{\"axis\":{\"id\":\"12080\"},\"coordinates\":null,\"grid_line_alpha\":0.15,\"grid_line_color\":\"#E0E0E0\",\"group\":null,\"ticker\":null},\"id\":\"12083\",\"type\":\"Grid\"},{\"attributes\":{},\"id\":\"12173\",\"type\":\"AllLabels\"},{\"attributes\":{},\"id\":\"12116\",\"type\":\"UnionRenderers\"},{\"attributes\":{\"axis\":{\"id\":\"12084\"},\"coordinates\":null,\"dimension\":1,\"grid_line_alpha\":0.15,\"grid_line_color\":\"#E0E0E0\",\"group\":null,\"ticker\":null},\"id\":\"12087\",\"type\":\"Grid\"},{\"attributes\":{\"axis_label\":\"y\",\"axis_label_standoff\":10,\"axis_label_text_color\":\"#FFFFFF\",\"axis_label_text_font\":\"Josefin Sans\",\"axis_label_text_font_size\":\"1.9em\",\"axis_label_text_font_style\":\"bold\",\"axis_line_alpha\":0.4,\"axis_line_color\":\"#E0E0E0\",\"coordinates\":null,\"formatter\":{\"id\":\"12111\"},\"group\":null,\"major_label_policy\":{\"id\":\"12112\"},\"major_label_text_color\":\"#E0E0E0\",\"major_label_text_font\":\"Josefin Sans\",\"major_label_text_font_size\":\"1.15em\",\"major_tick_line_alpha\":0.4,\"major_tick_line_color\":\"#E0E0E0\",\"minor_tick_line_alpha\":0.4,\"minor_tick_line_color\":\"#E0E0E0\",\"ticker\":{\"id\":\"12085\"}},\"id\":\"12084\",\"type\":\"LinearAxis\"},{\"attributes\":{\"bottom_units\":\"screen\",\"coordinates\":null,\"fill_alpha\":0.5,\"fill_color\":\"lightgrey\",\"group\":null,\"left_units\":\"screen\",\"level\":\"overlay\",\"line_alpha\":1.0,\"line_color\":\"black\",\"line_dash\":[4,4],\"line_width\":2,\"right_units\":\"screen\",\"syncable\":false,\"top_units\":\"screen\"},\"id\":\"12094\",\"type\":\"BoxAnnotation\"},{\"attributes\":{},\"id\":\"12085\",\"type\":\"BasicTicker\"},{\"attributes\":{\"data\":{\"x\":{\"__ndarray__\":\"AAAAAAAAAABbv1Kg1q+EP1u/UqDWr5Q/CB988MEHnz9bv1Kg1q+kPzJvZ0jM26k/CB988MEHrz9wZ0jM2xmyP1u/UqDWr7Q/RhdddNFFtz8yb2dIzNu5Px3HcRzHcbw/CB988MEHvz96O0Ni3s7AP3BnSMzbGcI/ZZNNNtlkwz9bv1Kg1q/EP1HrVwrU+sU/RhdddNFFxz88Q2LezpDIPzJvZ0jM28k/J5tssskmyz8dx3Ecx3HMPxPzdobEvM0/CB988MEHzz9/pUCtXynQP3o7Q2LeztA/ddFFF1100T9wZ0jM2xnSP2r9SoFav9I/ZZNNNtlk0z9gKVDrVwrUP1u/UqDWr9Q/VlVVVVVV1T9R61cK1PrVP0yBWr9SoNY/RhdddNFF1z9BrV8pUOvXPzxDYt7OkNg/N9lkk0022T8yb2dIzNvZPy0Fav1Kgdo/J5tssskm2z8iMW9nSMzbPx3HcRzHcdw/GF100UUX3T8T83aGxLzdPw6JeTtDYt4/CB988MEH3z8DtX6lQK3fP3+lQK1fKeA/ffDBBx984D96O0Ni3s7gP3eGxLydIeE/ddFFF1104T9yHMdxHMfhP3BnSMzbGeI/bbLJJpts4j9q/UqBWr/iP2hIzNsZEuM/ZZNNNtlk4z9j3s6QmLfjP2ApUOtXCuQ/XnTRRRdd5D9bv1Kg1q/kP1gK1PqVAuU/VlVVVVVV5T9ToNavFKjlP1HrVwrU+uU/TjbZZJNN5j9MgVq/UqDmP0nM2xkS8+Y/RhdddNFF5z9EYt7OkJjnP0GtXylQ6+c/P/jggw8+6D88Q2LezpDoPzmO4ziO4+g/N9lkk0026T80JObtDInpPzJvZ0jM2+k/L7rooosu6j8tBWr9SoHqPypQ61cK1Oo/J5tssskm6z8l5u0MiXnrPyIxb2dIzOs/IHzwwQcf7D8dx3Ecx3HsPxsS83aGxOw/GF100UUX7T8VqPUrBWrtPxPzdobEvO0/ED744IMP7j8OiXk7Q2LuPwvU+pUCte4/CB988MEH7z8Gav1KgVrvPwO1fqVAre8/AAAAAAAA8D8=\",\"dtype\":\"float64\",\"order\":\"little\",\"shape\":[100]},\"y\":{\"__ndarray__\":\"guuIYnHy8D97pTTD0frsP67pQXil6e4/UeBXMCpg7j+7MVNVULXwPzXh+OJsT/A/iKzR34hc8D9RyoSxlETxP2Zj0kxGTu8/0BFeAGgC7z+RfIHzm1rxPzFo3KQN/e8//vkAHzg27z/0BLzfFk7wP37lWCOKu/E/oe4nPrFP8j+tou0DV/XwP1vSynPNifA/cpMpmtzD8D8Fv2vUF1bzP2DvFVFoj/I/S6soyMCs8T/sXlpoEYLyP/z5FtPYC/I/L3jrEQti8T9V5YMxDHfzPyFcTOZ1aPM/95euItJT8z/HPVVSszb1P2VptjqGEvM/WHFDCui/9D/GL9FQ4drzP12F24BKSPY/pmUT6lRh9D+9hAuVf+z1P/1YPmSPevQ/GEZxFkxZ9z+hfU0e89v1P6I9ATFzFfc/3V3+iZr09T+TgC5JgyL4P2ZyemDT/vc/CH8g9f8U+D9pPvM1GBP6P2RxLapBcfk/osx3sCpe+j8Gy/KoUYb5P1ApdgSA/Po/TVODb18Q+z89/Ccvg3z8Pw0ApnXGI/s/sbFtnd5B/D9RUjispOb8P0DlteJo9/w/eB5wLdZK/T8GHlff5BYAQOFyIvzTyP0/V9oLvX+vAEAUZllDxUT/P9bMrwro/gBATrBWe8RIAUDhgL7/Od8BQIP7X9lf4gBAOAsHrSA8AkBdg1aSlFgBQNj6L+xpYAJAHqQ5Ge5gAkBDfOcOAtICQMg17FNsuANAAE5x49ElBEBkoJ1RUaYDQGX+8p39oARAKhgEPRJ3BEBLW6iFpxQFQG9IpRwPegVA9d4ZdRITBkCexPeMqe4FQAVHQGMH9AVAZml+Qj3UBkDJ/4rXP/AGQLgXR3wNeAdADgCk/NrACEAc3x3xJNYHQATns6UGEghArW5EhUYNCkAZcbJm3gAJQHWoaN4GYAlAEjQtEcbICUB80oJwR9IKQBEa2p+qUgtAwoDugDk5DEAaL+914PQLQAm7zy2S7QtA2szbRB4kDUBsOn7YnHYNQFITfg3CAA5AXF4CJE7lDkBgE3oul4YOQKsxJaPptw5AG8CrN7EzD0A=\",\"dtype\":\"float64\",\"order\":\"little\",\"shape\":[100]}},\"selected\":{\"id\":\"12117\"},\"selection_policy\":{\"id\":\"12116\"}},\"id\":\"12102\",\"type\":\"ColumnDataSource\"},{\"attributes\":{\"overlay\":{\"id\":\"12094\"}},\"id\":\"12090\",\"type\":\"BoxZoomTool\"},{\"attributes\":{},\"id\":\"12089\",\"type\":\"WheelZoomTool\"},{\"attributes\":{\"bottom_units\":\"screen\",\"coordinates\":null,\"fill_alpha\":0.5,\"fill_color\":\"lightgrey\",\"group\":null,\"left_units\":\"screen\",\"level\":\"overlay\",\"line_alpha\":1.0,\"line_color\":\"black\",\"line_dash\":[4,4],\"line_width\":2,\"right_units\":\"screen\",\"syncable\":false,\"top_units\":\"screen\"},\"id\":\"12280\",\"type\":\"BoxAnnotation\"},{\"attributes\":{\"label\":{\"value\":\"Observations\"},\"renderers\":[{\"id\":\"12223\"}]},\"id\":\"12236\",\"type\":\"LegendItem\"},{\"attributes\":{},\"id\":\"12074\",\"type\":\"DataRange1d\"},{\"attributes\":{\"fill_alpha\":{\"value\":0.2},\"fill_color\":{\"value\":\"midnightblue\"},\"hatch_alpha\":{\"value\":0.2},\"line_alpha\":{\"value\":0.2},\"line_color\":{\"value\":\"white\"},\"size\":{\"value\":10},\"x\":{\"field\":\"x\"},\"y\":{\"field\":\"y\"}},\"id\":\"12106\",\"type\":\"Circle\"},{\"attributes\":{},\"id\":\"12076\",\"type\":\"LinearScale\"},{\"attributes\":{},\"id\":\"12092\",\"type\":\"ResetTool\"},{\"attributes\":{},\"id\":\"12115\",\"type\":\"AllLabels\"},{\"attributes\":{},\"id\":\"12174\",\"type\":\"UnionRenderers\"},{\"attributes\":{\"margin\":[5,5,5,5],\"name\":\"HSpacer00167\",\"sizing_mode\":\"stretch_width\"},\"id\":\"12314\",\"type\":\"Spacer\"},{\"attributes\":{\"bottom_units\":\"screen\",\"coordinates\":null,\"fill_alpha\":0.5,\"fill_color\":\"lightgrey\",\"group\":null,\"left_units\":\"screen\",\"level\":\"overlay\",\"line_alpha\":1.0,\"line_color\":\"black\",\"line_dash\":[4,4],\"line_width\":2,\"right_units\":\"screen\",\"syncable\":false,\"top_units\":\"screen\"},\"id\":\"12152\",\"type\":\"BoxAnnotation\"},{\"attributes\":{\"client_comm_id\":\"c0c6b64215c747db822fada1c1f8fa5e\",\"comm_id\":\"7150e7472a0f4cdb8cc9b18dfdfe7a26\",\"plot_id\":\"12246\"},\"id\":\"12414\",\"type\":\"panel.models.comm_manager.CommManager\"},{\"attributes\":{\"background_fill_alpha\":0.9,\"background_fill_color\":\"#0f0f0f\",\"below\":[{\"id\":\"12080\"}],\"border_fill_alpha\":0.8,\"border_fill_color\":\"#111111\",\"center\":[{\"id\":\"12083\"},{\"id\":\"12087\"},{\"id\":\"12119\"}],\"height\":450,\"left\":[{\"id\":\"12084\"}],\"outline_line_alpha\":0.25,\"outline_line_color\":\"#E0E0E0\",\"outline_line_width\":3,\"renderers\":[{\"id\":\"12107\"}],\"title\":{\"id\":\"12070\"},\"toolbar\":{\"id\":\"12095\"},\"toolbar_location\":null,\"x_range\":{\"id\":\"12072\"},\"x_scale\":{\"id\":\"12076\"},\"y_range\":{\"id\":\"12074\"},\"y_scale\":{\"id\":\"12078\"}},\"id\":\"12069\",\"subtype\":\"Figure\",\"type\":\"Plot\"},{\"attributes\":{},\"id\":\"12134\",\"type\":\"LinearScale\"},{\"attributes\":{},\"id\":\"12114\",\"type\":\"BasicTickFormatter\"},{\"attributes\":{\"callback\":null,\"mode\":\"vline\",\"renderers\":[{\"id\":\"12223\"}],\"tooltips\":null},\"id\":\"12237\",\"type\":\"HoverTool\"},{\"attributes\":{\"source\":{\"id\":\"12218\"}},\"id\":\"12224\",\"type\":\"CDSView\"},{\"attributes\":{\"children\":[{\"id\":\"12243\"},{\"id\":\"12244\"}]},\"id\":\"12245\",\"type\":\"Column\"},{\"attributes\":{\"coordinates\":null,\"data_source\":{\"id\":\"12218\"},\"glyph\":{\"id\":\"12219\"},\"group\":null,\"hover_glyph\":{\"id\":\"12221\"},\"muted_glyph\":{\"id\":\"12222\"},\"nonselection_glyph\":{\"id\":\"12240\"},\"selection_glyph\":{\"id\":\"12239\"},\"view\":{\"id\":\"12224\"}},\"id\":\"12223\",\"type\":\"GlyphRenderer\"},{\"attributes\":{},\"id\":\"12112\",\"type\":\"AllLabels\"},{\"attributes\":{\"fill_alpha\":{\"value\":0.25},\"fill_color\":{\"value\":\"midnightblue\"},\"hatch_alpha\":{\"value\":0.25},\"line_alpha\":{\"value\":0.25},\"line_color\":{\"value\":\"white\"},\"size\":{\"value\":10},\"x\":{\"field\":\"x\"},\"y\":{\"field\":\"y\"}},\"id\":\"12103\",\"type\":\"Circle\"},{\"attributes\":{\"background_fill_alpha\":0.25,\"background_fill_color\":\"#505050\",\"border_line_alpha\":0.25,\"coordinates\":null,\"group\":null,\"items\":[{\"id\":\"12236\"}],\"label_standoff\":8,\"label_text_color\":\"#E0E0E0\",\"label_text_font\":\"Josefin Sans\",\"label_text_font_size\":\"1.15em\",\"spacing\":8},\"id\":\"12235\",\"type\":\"Legend\"},{\"attributes\":{},\"id\":\"12111\",\"type\":\"BasicTickFormatter\"},{\"attributes\":{\"mode\":\"append\",\"overlay\":{\"id\":\"12280\"},\"renderers\":[{\"id\":\"12223\"}]},\"id\":\"12241\",\"type\":\"BoxSelectTool\"},{\"attributes\":{\"data\":{\"x\":{\"__ndarray__\":\"AAAAAAAAAABbv1Kg1q+EP1u/UqDWr5Q/CB988MEHnz9bv1Kg1q+kPzJvZ0jM26k/CB988MEHrz9wZ0jM2xmyP1u/UqDWr7Q/RhdddNFFtz8yb2dIzNu5Px3HcRzHcbw/CB988MEHvz96O0Ni3s7AP3BnSMzbGcI/ZZNNNtlkwz9bv1Kg1q/EP1HrVwrU+sU/RhdddNFFxz88Q2LezpDIPzJvZ0jM28k/J5tssskmyz8dx3Ecx3HMPxPzdobEvM0/CB988MEHzz9/pUCtXynQP3o7Q2LeztA/ddFFF1100T9wZ0jM2xnSP2r9SoFav9I/ZZNNNtlk0z9gKVDrVwrUP1u/UqDWr9Q/VlVVVVVV1T9R61cK1PrVP0yBWr9SoNY/RhdddNFF1z9BrV8pUOvXPzxDYt7OkNg/N9lkk0022T8yb2dIzNvZPy0Fav1Kgdo/J5tssskm2z8iMW9nSMzbPx3HcRzHcdw/GF100UUX3T8T83aGxLzdPw6JeTtDYt4/CB988MEH3z8DtX6lQK3fP3+lQK1fKeA/ffDBBx984D96O0Ni3s7gP3eGxLydIeE/ddFFF1104T9yHMdxHMfhP3BnSMzbGeI/bbLJJpts4j9q/UqBWr/iP2hIzNsZEuM/ZZNNNtlk4z9j3s6QmLfjP2ApUOtXCuQ/XnTRRRdd5D9bv1Kg1q/kP1gK1PqVAuU/VlVVVVVV5T9ToNavFKjlP1HrVwrU+uU/TjbZZJNN5j9MgVq/UqDmP0nM2xkS8+Y/RhdddNFF5z9EYt7OkJjnP0GtXylQ6+c/P/jggw8+6D88Q2LezpDoPzmO4ziO4+g/N9lkk0026T80JObtDInpPzJvZ0jM2+k/L7rooosu6j8tBWr9SoHqPypQ61cK1Oo/J5tssskm6z8l5u0MiXnrPyIxb2dIzOs/IHzwwQcf7D8dx3Ecx3HsPxsS83aGxOw/GF100UUX7T8VqPUrBWrtPxPzdobEvO0/ED744IMP7j8OiXk7Q2LuPwvU+pUCte4/CB988MEH7z8Gav1KgVrvPwO1fqVAre8/AAAAAAAA8D8=\",\"dtype\":\"float64\",\"order\":\"little\",\"shape\":[100]},\"y\":{\"__ndarray__\":\"TQQnwL8q+D9nRGzraYP7P2ygrgEcjNU/eB3lKMVT4D+QZ9ZwDv/RP3zSXGKMsNk/kMR8/zjP4z9aTKjj/QjnP2r3rZ2GgfA/2FZCZGb8zz9Kpz0csIrwP8I+zsDZuvM/1ZVT1MAx8j8kpk0a7jr2PxSqAh/IZO8/jt1PM8mu7T815nPUVQH7P98ti4BXmABA3DdPl6c/0j+CHYE9lOz7P3DbMvO+6/g/bj1whOwx7z+YQY2EXIDDP0CTtDMR1c4/FK62A9vb1j80/BxDnvTVP5FyyNKhHfI/eV22vbH+8T90zxJSmgj7P3Q3bRm9I+k/4liQ5jPO4z8eEhfpFJf3P1A85tg60dg/hn6KQXlQ/j/CNfTXnMv/P5ZZy35yC+g/1RnT93q4AUBqDDx9JbziP9SfaWnrHfE/CgZ7K/fs9T9YNQjVhW73PxeMYrkX+/M/TCJKm7TQAkA+lZTu07YAQFx/8znn9vU/HXm/qt/2/z8jEcDZQfn9P5iOrRzJzPI/IqYrLcx+9j88aD6tbATpP7Yf1Hu/hARAXdLI2De7/T9ujFslvg7rPykahcjXQgVAPrHz0By1A0BLiWh3GK4CQNZpU/CW5AZAs3tpM5Q49D8AawmuCfsGQCIAdUfMbPo/5oUe3nw/BkBt/9WND9z1P8zq5lh/DgBA4FppCBUiAkD+lzNiBTkDQIFV/tC9xvk/trz7s8vBBEC6x/Zv+9oEQOjHCty5CQlANje7ObiqA0DOCMT8u1oJQMUDBPY9EwhAJrk587s/AkDIyUwHNOcLQJxFZ+BHkwdAYVpqnner/T8+YIWPPQUIQMIJmOPZuAFADuAi2zQjDUC8R6YFaGUAQEi2h4+b4AdAF8UsRHC4BED7N06b/60NQKdQ8IblZARAVmq3VApJBkBarbEHEicOQO5ig9zZKAJAeva9GL1gBUCi9y7rwAcMQJzzjuZrLA9AM4IJrnw5EUCkK7bIJLYIQFIBVpEbWhJABznTL+ZdCkBEWKl0s3sSQOrvWsraJRJACqtf3yqCC0DMHgk5yVsIQKacDCpZ3Q9A1bWMXY5MEkA=\",\"dtype\":\"float64\",\"order\":\"little\",\"shape\":[100]}},\"selected\":{\"id\":\"12175\"},\"selection_policy\":{\"id\":\"12174\"}},\"id\":\"12160\",\"type\":\"ColumnDataSource\"},{\"attributes\":{},\"id\":\"12117\",\"type\":\"Selection\"},{\"attributes\":{\"fill_alpha\":{\"value\":0.8},\"fill_color\":{\"value\":\"red\"},\"line_color\":{\"value\":\"white\"}},\"id\":\"12123\",\"type\":\"Circle\"},{\"attributes\":{\"tools\":[{\"id\":\"12088\"},{\"id\":\"12089\"},{\"id\":\"12090\"},{\"id\":\"12091\"},{\"id\":\"12092\"},{\"id\":\"12093\"},{\"id\":\"12121\"},{\"id\":\"12125\"}]},\"id\":\"12095\",\"type\":\"Toolbar\"},{\"attributes\":{\"mode\":\"append\",\"overlay\":{\"id\":\"12272\"},\"renderers\":[{\"id\":\"12107\"}]},\"id\":\"12125\",\"type\":\"BoxSelectTool\"},{\"attributes\":{\"fill_alpha\":{\"value\":0.5},\"fill_color\":{\"value\":\"red\"},\"hatch_alpha\":{\"value\":0.5},\"line_alpha\":{\"value\":0.5},\"line_color\":{\"value\":\"white\"},\"size\":{\"value\":10},\"x\":{\"field\":\"x\"},\"y\":{\"field\":\"y\"}},\"id\":\"12221\",\"type\":\"Circle\"},{\"attributes\":{\"callback\":null,\"mode\":\"vline\",\"renderers\":[{\"id\":\"12107\"}],\"tooltips\":null},\"id\":\"12121\",\"type\":\"HoverTool\"},{\"attributes\":{\"background_fill_alpha\":0.9,\"background_fill_color\":\"#0f0f0f\",\"below\":[{\"id\":\"12138\"}],\"border_fill_alpha\":0.8,\"border_fill_color\":\"#111111\",\"center\":[{\"id\":\"12141\"},{\"id\":\"12145\"},{\"id\":\"12177\"}],\"height\":450,\"left\":[{\"id\":\"12142\"}],\"outline_line_alpha\":0.25,\"outline_line_color\":\"#E0E0E0\",\"outline_line_width\":3,\"renderers\":[{\"id\":\"12165\"}],\"title\":{\"id\":\"12128\"},\"toolbar\":{\"id\":\"12153\"},\"toolbar_location\":null,\"x_range\":{\"id\":\"12130\"},\"x_scale\":{\"id\":\"12134\"},\"y_range\":{\"id\":\"12132\"},\"y_scale\":{\"id\":\"12136\"}},\"id\":\"12127\",\"subtype\":\"Figure\",\"type\":\"Plot\"},{\"attributes\":{\"fill_alpha\":{\"value\":0.8},\"fill_color\":{\"value\":\"red\"},\"line_color\":{\"value\":\"white\"}},\"id\":\"12181\",\"type\":\"Circle\"},{\"attributes\":{\"label\":{\"value\":\"Observations\"},\"renderers\":[{\"id\":\"12165\"}]},\"id\":\"12178\",\"type\":\"LegendItem\"},{\"attributes\":{\"fill_alpha\":{\"value\":0.5},\"fill_color\":{\"value\":\"midnightblue\"},\"line_color\":{\"value\":\"white\"}},\"id\":\"12124\",\"type\":\"Circle\"},{\"attributes\":{\"fill_alpha\":{\"value\":0.5},\"fill_color\":{\"value\":\"midnightblue\"},\"line_color\":{\"value\":\"white\"}},\"id\":\"12182\",\"type\":\"Circle\"},{\"attributes\":{\"fill_alpha\":{\"value\":0.8},\"fill_color\":{\"value\":\"red\"},\"line_color\":{\"value\":\"white\"}},\"id\":\"12239\",\"type\":\"Circle\"},{\"attributes\":{\"mode\":\"append\",\"overlay\":{\"id\":\"12276\"},\"renderers\":[{\"id\":\"12165\"}]},\"id\":\"12183\",\"type\":\"BoxSelectTool\"},{\"attributes\":{},\"id\":\"12130\",\"type\":\"DataRange1d\"},{\"attributes\":{},\"id\":\"12132\",\"type\":\"DataRange1d\"}],\"root_ids\":[\"12246\",\"12414\"]},\"title\":\"Bokeh Application\",\"version\":\"2.4.3\"}};\n",
              "    var render_items = [{\"docid\":\"fd54eedb-3342-4509-a75a-7b718750fc4d\",\"root_ids\":[\"12246\"],\"roots\":{\"12246\":\"0e5a70e2-80a3-4a45-b5e9-f223b6e4786e\"}}];\n",
              "    root.Bokeh.embed.embed_items_notebook(docs_json, render_items);\n",
              "    for (const render_item of render_items) {\n",
              "      for (const root_id of render_item.root_ids) {\n",
              "\tconst id_el = document.getElementById(root_id)\n",
              "\tif (id_el.children.length && (id_el.children[0].className === 'bk-root')) {\n",
              "\t  const root_el = id_el.children[0]\n",
              "\t  root_el.id = root_el.id + '-rendered'\n",
              "\t}\n",
              "      }\n",
              "    }\n",
              "  }\n",
              "  if (root.Bokeh !== undefined && root.Bokeh.Panel !== undefined) {\n",
              "    embed_document(root);\n",
              "  } else {\n",
              "    var attempts = 0;\n",
              "    var timer = setInterval(function(root) {\n",
              "      if (root.Bokeh !== undefined && root.Bokeh.Panel !== undefined) {\n",
              "        clearInterval(timer);\n",
              "        embed_document(root);\n",
              "      } else if (document.readyState == \"complete\") {\n",
              "        attempts++;\n",
              "        if (attempts > 200) {\n",
              "          clearInterval(timer);\n",
              "          console.log(\"Bokeh: ERROR: Unable to run BokehJS code because BokehJS library is missing\");\n",
              "        }\n",
              "      }\n",
              "    }, 25, root)\n",
              "  }\n",
              "})(window);</script>"
            ],
            "text/plain": [
              "Row\n",
              "    [0] HSpacer()\n",
              "    [1] Bokeh(Column)\n",
              "    [2] HSpacer()"
            ]
          },
          "execution_count": 14,
          "metadata": {
            "application/vnd.holoviews_exec.v0+json": {
              "id": "12246"
            }
          },
          "output_type": "execute_result"
        }
      ],
      "source": [
        "plot = center_plot(column(Div(text = \"Different amounts of noise\", style={'font-size': '250%'}), row(*plots)))\n",
        "plot"
      ]
    },
    {
      "cell_type": "markdown",
      "metadata": {},
      "source": [
        "To summarize, we will have some observations of a function, and we would like to optimize a function that gets as close as possible to the real function that generated this data. Here, we plot the real function and also _subsample_ our number of observations (having only a few points to find the corresponding function)"
      ]
    },
    {
      "cell_type": "code",
      "execution_count": 15,
      "metadata": {
        "tags": []
      },
      "outputs": [
        {
          "data": {},
          "metadata": {},
          "output_type": "display_data"
        },
        {
          "data": {
            "application/vnd.holoviews_exec.v0+json": "",
            "text/html": [
              "<div id='12658'>\n",
              "  <div class=\"bk-root\" id=\"c89f3968-6a5d-4c19-a0f2-5fb46549309c\" data-root-id=\"12658\"></div>\n",
              "</div>\n",
              "<script type=\"application/javascript\">(function(root) {\n",
              "  function embed_document(root) {\n",
              "    var docs_json = {\"bd5060c2-db8d-4f1f-8f0f-c1a93302b42c\":{\"defs\":[{\"extends\":null,\"module\":null,\"name\":\"ReactiveHTML1\",\"overrides\":[],\"properties\":[]},{\"extends\":null,\"module\":null,\"name\":\"FlexBox1\",\"overrides\":[],\"properties\":[{\"default\":\"flex-start\",\"kind\":null,\"name\":\"align_content\"},{\"default\":\"flex-start\",\"kind\":null,\"name\":\"align_items\"},{\"default\":\"row\",\"kind\":null,\"name\":\"flex_direction\"},{\"default\":\"wrap\",\"kind\":null,\"name\":\"flex_wrap\"},{\"default\":\"flex-start\",\"kind\":null,\"name\":\"justify_content\"}]},{\"extends\":null,\"module\":null,\"name\":\"GridStack1\",\"overrides\":[],\"properties\":[{\"default\":\"warn\",\"kind\":null,\"name\":\"mode\"},{\"default\":null,\"kind\":null,\"name\":\"ncols\"},{\"default\":null,\"kind\":null,\"name\":\"nrows\"},{\"default\":true,\"kind\":null,\"name\":\"allow_resize\"},{\"default\":true,\"kind\":null,\"name\":\"allow_drag\"},{\"default\":[],\"kind\":null,\"name\":\"state\"}]},{\"extends\":null,\"module\":null,\"name\":\"click1\",\"overrides\":[],\"properties\":[{\"default\":\"\",\"kind\":null,\"name\":\"terminal_output\"},{\"default\":\"\",\"kind\":null,\"name\":\"debug_name\"},{\"default\":0,\"kind\":null,\"name\":\"clears\"}]},{\"extends\":null,\"module\":null,\"name\":\"NotificationAreaBase1\",\"overrides\":[],\"properties\":[{\"default\":\"bottom-right\",\"kind\":null,\"name\":\"position\"},{\"default\":0,\"kind\":null,\"name\":\"_clear\"}]},{\"extends\":null,\"module\":null,\"name\":\"NotificationArea1\",\"overrides\":[],\"properties\":[{\"default\":[],\"kind\":null,\"name\":\"notifications\"},{\"default\":\"bottom-right\",\"kind\":null,\"name\":\"position\"},{\"default\":0,\"kind\":null,\"name\":\"_clear\"},{\"default\":[{\"background\":\"#ffc107\",\"icon\":{\"className\":\"fas fa-exclamation-triangle\",\"color\":\"white\",\"tagName\":\"i\"},\"type\":\"warning\"},{\"background\":\"#007bff\",\"icon\":{\"className\":\"fas fa-info-circle\",\"color\":\"white\",\"tagName\":\"i\"},\"type\":\"info\"}],\"kind\":null,\"name\":\"types\"}]},{\"extends\":null,\"module\":null,\"name\":\"Notification\",\"overrides\":[],\"properties\":[{\"default\":null,\"kind\":null,\"name\":\"background\"},{\"default\":3000,\"kind\":null,\"name\":\"duration\"},{\"default\":null,\"kind\":null,\"name\":\"icon\"},{\"default\":\"\",\"kind\":null,\"name\":\"message\"},{\"default\":null,\"kind\":null,\"name\":\"notification_type\"},{\"default\":false,\"kind\":null,\"name\":\"_destroyed\"}]},{\"extends\":null,\"module\":null,\"name\":\"TemplateActions1\",\"overrides\":[],\"properties\":[{\"default\":0,\"kind\":null,\"name\":\"open_modal\"},{\"default\":0,\"kind\":null,\"name\":\"close_modal\"}]},{\"extends\":null,\"module\":null,\"name\":\"MaterialTemplateActions1\",\"overrides\":[],\"properties\":[{\"default\":0,\"kind\":null,\"name\":\"open_modal\"},{\"default\":0,\"kind\":null,\"name\":\"close_modal\"}]}],\"roots\":{\"references\":[{\"attributes\":{\"fill_alpha\":{\"value\":0.5},\"fill_color\":{\"value\":\"red\"},\"hatch_alpha\":{\"value\":0.5},\"line_alpha\":{\"value\":0.5},\"line_color\":{\"value\":\"white\"},\"size\":{\"value\":10},\"x\":{\"field\":\"x\"},\"y\":{\"field\":\"y\"}},\"id\":\"12616\",\"type\":\"Circle\"},{\"attributes\":{},\"id\":\"12625\",\"type\":\"BasicTickFormatter\"},{\"attributes\":{},\"id\":\"12626\",\"type\":\"AllLabels\"},{\"attributes\":{\"background_fill_alpha\":0.9,\"background_fill_color\":\"#0f0f0f\",\"below\":[{\"id\":\"12591\"}],\"border_fill_alpha\":0.8,\"border_fill_color\":\"#111111\",\"center\":[{\"id\":\"12594\"},{\"id\":\"12598\"},{\"id\":\"12630\"}],\"height\":450,\"left\":[{\"id\":\"12595\"}],\"outline_line_alpha\":0.25,\"outline_line_color\":\"#E0E0E0\",\"outline_line_width\":3,\"renderers\":[{\"id\":\"12618\"},{\"id\":\"12642\"}],\"title\":{\"id\":\"12581\"},\"toolbar\":{\"id\":\"12606\"},\"toolbar_location\":null,\"x_range\":{\"id\":\"12583\"},\"x_scale\":{\"id\":\"12587\"},\"y_range\":{\"id\":\"12585\"},\"y_scale\":{\"id\":\"12589\"}},\"id\":\"12580\",\"subtype\":\"Figure\",\"type\":\"Plot\"},{\"attributes\":{\"label\":{\"value\":\"True function\"},\"renderers\":[{\"id\":\"12642\"}]},\"id\":\"12657\",\"type\":\"LegendItem\"},{\"attributes\":{\"data\":{\"x\":{\"__ndarray__\":\"AAAAAAAAAABbv1Kg1q+EP1u/UqDWr5Q/CB988MEHnz9bv1Kg1q+kPzJvZ0jM26k/CB988MEHrz9wZ0jM2xmyP1u/UqDWr7Q/RhdddNFFtz8yb2dIzNu5Px3HcRzHcbw/CB988MEHvz96O0Ni3s7AP3BnSMzbGcI/ZZNNNtlkwz9bv1Kg1q/EP1HrVwrU+sU/RhdddNFFxz88Q2LezpDIPzJvZ0jM28k/J5tssskmyz8dx3Ecx3HMPxPzdobEvM0/CB988MEHzz9/pUCtXynQP3o7Q2LeztA/ddFFF1100T9wZ0jM2xnSP2r9SoFav9I/ZZNNNtlk0z9gKVDrVwrUP1u/UqDWr9Q/VlVVVVVV1T9R61cK1PrVP0yBWr9SoNY/RhdddNFF1z9BrV8pUOvXPzxDYt7OkNg/N9lkk0022T8yb2dIzNvZPy0Fav1Kgdo/J5tssskm2z8iMW9nSMzbPx3HcRzHcdw/GF100UUX3T8T83aGxLzdPw6JeTtDYt4/CB988MEH3z8DtX6lQK3fP3+lQK1fKeA/ffDBBx984D96O0Ni3s7gP3eGxLydIeE/ddFFF1104T9yHMdxHMfhP3BnSMzbGeI/bbLJJpts4j9q/UqBWr/iP2hIzNsZEuM/ZZNNNtlk4z9j3s6QmLfjP2ApUOtXCuQ/XnTRRRdd5D9bv1Kg1q/kP1gK1PqVAuU/VlVVVVVV5T9ToNavFKjlP1HrVwrU+uU/TjbZZJNN5j9MgVq/UqDmP0nM2xkS8+Y/RhdddNFF5z9EYt7OkJjnP0GtXylQ6+c/P/jggw8+6D88Q2LezpDoPzmO4ziO4+g/N9lkk0026T80JObtDInpPzJvZ0jM2+k/L7rooosu6j8tBWr9SoHqPypQ61cK1Oo/J5tssskm6z8l5u0MiXnrPyIxb2dIzOs/IHzwwQcf7D8dx3Ecx3HsPxsS83aGxOw/GF100UUX7T8VqPUrBWrtPxPzdobEvO0/ED744IMP7j8OiXk7Q2LuPwvU+pUCte4/CB988MEH7z8Gav1KgVrvPwO1fqVAre8/AAAAAAAA8D8=\",\"dtype\":\"float64\",\"order\":\"little\",\"shape\":[100]},\"y\":{\"__ndarray__\":\"AAAAAAAA8D8MJLz1QAHwPy6Q8NYDBfA/aESdo0gL8D+6QMJbDxTwPyKFX/9XH/A/ohF1jiIt8D845gIJbz3wP+YCCW89UPA/q2eHwI1l8D+IFH79X33wP3sJ7SW0l/A/hkbUOYq08D+oyzM54tPwP+GYCyS89fA/Ma5b+hca8T+ZCyS89UDxPxixZGlVavE/rZ4dAjeW8T9b1E6GmsTxPx9S+PV/9fE/+hcaUeco8j/tJbSX0F7yP/d7xsk7l/I/GBpR5yjS8j9QAFTwlw/zP6Auz+SIT/M/B6XCxPuR8z+EYy6Q8NbzPxlqEkdnHvQ/xrhu6V9o9D+JT0N32rT0P2QukPDWA/U/VlVVVVVV9T9fxJKlVan1P397SOHX//U/tnp2CNxY9j8FwhwbYrT2P2tROxlqEvc/6CjSAvRy9z98SOHX/9X3PyiwaJiNO/g/6l9oRJ2j+D/EV+DbLg75P7SX0F5Ce/k/vR85zdfq+T/c7xkn71z6PxIIc2yI0fo/YGhEnaNI+z/FEI65QML7P0EBUMFfPvw/1jmKtAC9/D+AujyTIz79P0CDZ13Iwf0/GpQKE+9H/j8K7SW0l9D+PxKOuUDCW/8/MHfFuG7p/z8y1CSOzjwAQNoQo7UmhgBAi3Hd0r/QAEBJ9tPlmRwBQBKfhu60aQFA6Gv17BC4AUDIXCDhrQcCQLNxB8uLWAJAq6qqqqqqAkCuBwqACv4CQL6IJUurUgNA1y39C42oA0D+9pDCr/8DQDDk4G4TWARAbPXsELixBEC2KrWonQwFQAqEOTbEaAVAagF6uSvGBUDWonYy1CQGQExoL6G9hAZA0FGkBejlBkBeX9VfU0gHQPiQwq//qwdAneZr9ewQCEBPYNEwG3cIQAz+8mGK3ghA07/QiDpHCUCopWqlK7EJQIevwLddHApAc93Sv9CICkBpL6G9hPYKQGylK7F5ZQtAej9ymq/VC0CT/XR5JkcMQLjfM07euQxA6eWuGNctDUAlEObYEKMNQG1e2Y6LGQ5AwNCIOkeRDkAgZ/TbQwoPQIohHHOBhA9AAAAAAAAAEEA=\",\"dtype\":\"float64\",\"order\":\"little\",\"shape\":[100]}},\"selected\":{\"id\":\"12654\"},\"selection_policy\":{\"id\":\"12653\"}},\"id\":\"12638\",\"type\":\"ColumnDataSource\"},{\"attributes\":{\"data\":{\"x\":{\"__ndarray__\":\"W79SoNavlD8yb2dIzNu5P2WTTTbZZMM/UetXCtT6xT88Q2LezpDIPxPzdobEvM0/ejtDYt7O0D910UUXXXTRP2ApUOtXCtQ/W79SoNav1D9WVVVVVVXVP1HrVwrU+tU/TIFav1Kg1j9GF1100UXXPzxDYt7OkNg/N9lkk0022T8yb2dIzNvZPy0Fav1Kgdo/HcdxHMdx3D8YXXTRRRfdPxPzdobEvN0/CB988MEH3z998MEHH3zgP3o7Q2LezuA/d4bEvJ0h4T910UUXXXThP3BnSMzbGeI/aEjM2xkS4z9gKVDrVwrkP1gK1PqVAuU/U6DWrxSo5T9ONtlkk03mP0Ri3s6QmOc/OY7jOI7j6D832WSTTTbpPzJvZ0jM2+k/L7rooosu6j8tBWr9SoHqPypQ61cK1Oo/J5tssskm6z8iMW9nSMzrPx3HcRzHcew/Faj1KwVq7T8T83aGxLztPxA++OCDD+4/Dol5O0Ni7j8L1PqVArXuPwZq/UqBWu8/A7V+pUCt7z8AAAAAAADwPw==\",\"dtype\":\"float64\",\"order\":\"little\",\"shape\":[50]},\"y\":{\"__ndarray__\":\"NmBLjpwD8T+ZiNQp15PvP52GvW/1KPE/8obgHVCU7z9eUC/ePCntPyErIt2RrfQ/pe7S+2HF9D9HP4bgy3rzP+ZK3OyAVfc/ifb7wgjW9D+hZTM8I2TyP6cnpk7nkfM/kAZ+aXEg9j+SlBHvWdn2P6DFTP77ofg/H04RwNmG9D/1xTj5xaf4P85VzkxSk/Y/CqqGVcja+D/f49w9CgT9PyoKkl0EPfo/J84+cued+z9nIaTXDDv6P22jCQtGDPs/YqtaSjhy/T9WEiv1joP/P79j6VyuOP4/zSvnEzhUAUBU/nHxki0CQAcVgbnJHAJABbwTTfvYA0AoTID/kowCQOAHPC5L4QNA6hGd5nrDBUCNGsHYPTQGQNPjxXH0cgdAwGQD4+WjB0ByaFplSM4HQOPgh8fkGwlAycb4Q1SWCkA0dbtSYEALQKbPeiP+XAxAiA/rX7ibC0A1dChpcIgLQDcCbqT1EQ1AswlVZrTxDkDmQSLKhE0NQJxFqySqxQ1A1Fh0S1FMDkDIET6V488OQA==\",\"dtype\":\"float64\",\"order\":\"little\",\"shape\":[50]}},\"selected\":{\"id\":\"12628\"},\"selection_policy\":{\"id\":\"12627\"}},\"id\":\"12613\",\"type\":\"ColumnDataSource\"},{\"attributes\":{},\"id\":\"12599\",\"type\":\"PanTool\"},{\"attributes\":{},\"id\":\"12583\",\"type\":\"DataRange1d\"},{\"attributes\":{\"overlay\":{\"id\":\"12605\"}},\"id\":\"12601\",\"type\":\"BoxZoomTool\"},{\"attributes\":{},\"id\":\"12585\",\"type\":\"DataRange1d\"},{\"attributes\":{},\"id\":\"12603\",\"type\":\"ResetTool\"},{\"attributes\":{},\"id\":\"12587\",\"type\":\"LinearScale\"},{\"attributes\":{},\"id\":\"12653\",\"type\":\"UnionRenderers\"},{\"attributes\":{\"axis_label\":\"y\",\"axis_label_standoff\":10,\"axis_label_text_color\":\"#FFFFFF\",\"axis_label_text_font\":\"Josefin Sans\",\"axis_label_text_font_size\":\"1.9em\",\"axis_label_text_font_style\":\"bold\",\"axis_line_alpha\":0.4,\"axis_line_color\":\"#E0E0E0\",\"coordinates\":null,\"formatter\":{\"id\":\"12622\"},\"group\":null,\"major_label_policy\":{\"id\":\"12623\"},\"major_label_text_color\":\"#E0E0E0\",\"major_label_text_font\":\"Josefin Sans\",\"major_label_text_font_size\":\"1.15em\",\"major_tick_line_alpha\":0.4,\"major_tick_line_color\":\"#E0E0E0\",\"minor_tick_line_alpha\":0.4,\"minor_tick_line_color\":\"#E0E0E0\",\"ticker\":{\"id\":\"12596\"}},\"id\":\"12595\",\"type\":\"LinearAxis\"},{\"attributes\":{\"bottom_units\":\"screen\",\"coordinates\":null,\"fill_alpha\":0.5,\"fill_color\":\"lightgrey\",\"group\":null,\"left_units\":\"screen\",\"level\":\"overlay\",\"line_alpha\":1.0,\"line_color\":\"black\",\"line_dash\":[4,4],\"line_width\":2,\"right_units\":\"screen\",\"syncable\":false,\"top_units\":\"screen\"},\"id\":\"12605\",\"type\":\"BoxAnnotation\"},{\"attributes\":{\"line_alpha\":0.6,\"line_color\":\"green\",\"line_width\":6,\"x\":{\"field\":\"x\"},\"y\":{\"field\":\"y\"}},\"id\":\"12639\",\"type\":\"Line\"},{\"attributes\":{},\"id\":\"12602\",\"type\":\"SaveTool\"},{\"attributes\":{\"fill_alpha\":{\"value\":0.25},\"fill_color\":{\"value\":\"midnightblue\"},\"hatch_alpha\":{\"value\":0.25},\"line_alpha\":{\"value\":0.25},\"line_color\":{\"value\":\"white\"},\"size\":{\"value\":10},\"x\":{\"field\":\"x\"},\"y\":{\"field\":\"y\"}},\"id\":\"12614\",\"type\":\"Circle\"},{\"attributes\":{},\"id\":\"12592\",\"type\":\"BasicTicker\"},{\"attributes\":{},\"id\":\"12600\",\"type\":\"WheelZoomTool\"},{\"attributes\":{\"coordinates\":null,\"group\":null,\"text\":\"Learning problem with groundtruth\",\"text_color\":\"#E0E0E0\",\"text_font\":\"Josefin Sans\",\"text_font_size\":\"2.1em\"},\"id\":\"12581\",\"type\":\"Title\"},{\"attributes\":{},\"id\":\"12627\",\"type\":\"UnionRenderers\"},{\"attributes\":{\"axis_label\":\"x\",\"axis_label_standoff\":10,\"axis_label_text_color\":\"#FFFFFF\",\"axis_label_text_font\":\"Josefin Sans\",\"axis_label_text_font_size\":\"1.9em\",\"axis_label_text_font_style\":\"bold\",\"axis_line_alpha\":0.4,\"axis_line_color\":\"#E0E0E0\",\"coordinates\":null,\"formatter\":{\"id\":\"12625\"},\"group\":null,\"major_label_policy\":{\"id\":\"12626\"},\"major_label_text_color\":\"#E0E0E0\",\"major_label_text_font\":\"Josefin Sans\",\"major_label_text_font_size\":\"1.15em\",\"major_tick_line_alpha\":0.4,\"major_tick_line_color\":\"#E0E0E0\",\"minor_tick_line_alpha\":0.4,\"minor_tick_line_color\":\"#E0E0E0\",\"ticker\":{\"id\":\"12592\"}},\"id\":\"12591\",\"type\":\"LinearAxis\"},{\"attributes\":{},\"id\":\"12623\",\"type\":\"AllLabels\"},{\"attributes\":{},\"id\":\"12596\",\"type\":\"BasicTicker\"},{\"attributes\":{},\"id\":\"12589\",\"type\":\"LinearScale\"},{\"attributes\":{},\"id\":\"12622\",\"type\":\"BasicTickFormatter\"},{\"attributes\":{},\"id\":\"12628\",\"type\":\"Selection\"},{\"attributes\":{\"axis\":{\"id\":\"12591\"},\"coordinates\":null,\"grid_line_alpha\":0.15,\"grid_line_color\":\"#E0E0E0\",\"group\":null,\"ticker\":null},\"id\":\"12594\",\"type\":\"Grid\"},{\"attributes\":{},\"id\":\"12654\",\"type\":\"Selection\"},{\"attributes\":{\"label\":{\"value\":\"Observations\"},\"renderers\":[{\"id\":\"12618\"}]},\"id\":\"12631\",\"type\":\"LegendItem\"},{\"attributes\":{\"tools\":[{\"id\":\"12599\"},{\"id\":\"12600\"},{\"id\":\"12601\"},{\"id\":\"12602\"},{\"id\":\"12603\"},{\"id\":\"12604\"},{\"id\":\"12632\"},{\"id\":\"12636\"}]},\"id\":\"12606\",\"type\":\"Toolbar\"},{\"attributes\":{\"fill_alpha\":{\"value\":0.2},\"fill_color\":{\"value\":\"midnightblue\"},\"hatch_alpha\":{\"value\":0.2},\"line_alpha\":{\"value\":0.2},\"line_color\":{\"value\":\"white\"},\"size\":{\"value\":10},\"x\":{\"field\":\"x\"},\"y\":{\"field\":\"y\"}},\"id\":\"12617\",\"type\":\"Circle\"},{\"attributes\":{\"source\":{\"id\":\"12613\"}},\"id\":\"12619\",\"type\":\"CDSView\"},{\"attributes\":{\"client_comm_id\":\"65faad106b1f405484fbe83d42961d9d\",\"comm_id\":\"af1f7256141b4c6a901cbcf499a2ef32\",\"plot_id\":\"12658\"},\"id\":\"12726\",\"type\":\"panel.models.comm_manager.CommManager\"},{\"attributes\":{\"children\":[{\"id\":\"12659\"},{\"id\":\"12580\"},{\"id\":\"12686\"}],\"margin\":[0,0,0,0],\"name\":\"Row00177\"},\"id\":\"12658\",\"type\":\"Row\"},{\"attributes\":{\"fill_alpha\":{\"value\":0.8},\"fill_color\":{\"value\":\"red\"},\"line_color\":{\"value\":\"white\"}},\"id\":\"12634\",\"type\":\"Circle\"},{\"attributes\":{\"mode\":\"append\",\"overlay\":{\"id\":\"12656\"},\"renderers\":[{\"id\":\"12618\"}]},\"id\":\"12636\",\"type\":\"BoxSelectTool\"},{\"attributes\":{\"margin\":[5,5,5,5],\"name\":\"HSpacer00173\",\"sizing_mode\":\"stretch_width\"},\"id\":\"12659\",\"type\":\"Spacer\"},{\"attributes\":{\"axis\":{\"id\":\"12595\"},\"coordinates\":null,\"dimension\":1,\"grid_line_alpha\":0.15,\"grid_line_color\":\"#E0E0E0\",\"group\":null,\"ticker\":null},\"id\":\"12598\",\"type\":\"Grid\"},{\"attributes\":{\"background_fill_alpha\":0.25,\"background_fill_color\":\"#505050\",\"border_line_alpha\":0.25,\"coordinates\":null,\"group\":null,\"items\":[{\"id\":\"12631\"},{\"id\":\"12657\"}],\"label_standoff\":8,\"label_text_color\":\"#E0E0E0\",\"label_text_font\":\"Josefin Sans\",\"label_text_font_size\":\"1.15em\",\"spacing\":8},\"id\":\"12630\",\"type\":\"Legend\"},{\"attributes\":{\"coordinates\":null,\"data_source\":{\"id\":\"12613\"},\"glyph\":{\"id\":\"12614\"},\"group\":null,\"hover_glyph\":{\"id\":\"12616\"},\"muted_glyph\":{\"id\":\"12617\"},\"nonselection_glyph\":{\"id\":\"12635\"},\"selection_glyph\":{\"id\":\"12634\"},\"view\":{\"id\":\"12619\"}},\"id\":\"12618\",\"type\":\"GlyphRenderer\"},{\"attributes\":{\"callback\":null,\"mode\":\"vline\",\"renderers\":[{\"id\":\"12618\"}],\"tooltips\":null},\"id\":\"12632\",\"type\":\"HoverTool\"},{\"attributes\":{\"source\":{\"id\":\"12638\"}},\"id\":\"12643\",\"type\":\"CDSView\"},{\"attributes\":{\"coordinates\":null,\"data_source\":{\"id\":\"12638\"},\"glyph\":{\"id\":\"12639\"},\"group\":null,\"hover_glyph\":null,\"muted_glyph\":{\"id\":\"12641\"},\"nonselection_glyph\":{\"id\":\"12640\"},\"view\":{\"id\":\"12643\"}},\"id\":\"12642\",\"type\":\"GlyphRenderer\"},{\"attributes\":{},\"id\":\"12604\",\"type\":\"HelpTool\"},{\"attributes\":{\"bottom_units\":\"screen\",\"coordinates\":null,\"fill_alpha\":0.5,\"fill_color\":\"lightgrey\",\"group\":null,\"left_units\":\"screen\",\"level\":\"overlay\",\"line_alpha\":1.0,\"line_color\":\"black\",\"line_dash\":[4,4],\"line_width\":2,\"right_units\":\"screen\",\"syncable\":false,\"top_units\":\"screen\"},\"id\":\"12656\",\"type\":\"BoxAnnotation\"},{\"attributes\":{\"fill_alpha\":{\"value\":0.5},\"fill_color\":{\"value\":\"midnightblue\"},\"line_color\":{\"value\":\"white\"}},\"id\":\"12635\",\"type\":\"Circle\"},{\"attributes\":{\"margin\":[5,5,5,5],\"name\":\"HSpacer00174\",\"sizing_mode\":\"stretch_width\"},\"id\":\"12686\",\"type\":\"Spacer\"},{\"attributes\":{\"line_alpha\":0.1,\"line_color\":\"green\",\"line_width\":6,\"x\":{\"field\":\"x\"},\"y\":{\"field\":\"y\"}},\"id\":\"12640\",\"type\":\"Line\"},{\"attributes\":{\"line_alpha\":0.2,\"line_color\":\"green\",\"line_width\":6,\"x\":{\"field\":\"x\"},\"y\":{\"field\":\"y\"}},\"id\":\"12641\",\"type\":\"Line\"}],\"root_ids\":[\"12658\",\"12726\"]},\"title\":\"Bokeh Application\",\"version\":\"2.4.3\"}};\n",
              "    var render_items = [{\"docid\":\"bd5060c2-db8d-4f1f-8f0f-c1a93302b42c\",\"root_ids\":[\"12658\"],\"roots\":{\"12658\":\"c89f3968-6a5d-4c19-a0f2-5fb46549309c\"}}];\n",
              "    root.Bokeh.embed.embed_items_notebook(docs_json, render_items);\n",
              "    for (const render_item of render_items) {\n",
              "      for (const root_id of render_item.root_ids) {\n",
              "\tconst id_el = document.getElementById(root_id)\n",
              "\tif (id_el.children.length && (id_el.children[0].className === 'bk-root')) {\n",
              "\t  const root_el = id_el.children[0]\n",
              "\t  root_el.id = root_el.id + '-rendered'\n",
              "\t}\n",
              "      }\n",
              "    }\n",
              "  }\n",
              "  if (root.Bokeh !== undefined && root.Bokeh.Panel !== undefined) {\n",
              "    embed_document(root);\n",
              "  } else {\n",
              "    var attempts = 0;\n",
              "    var timer = setInterval(function(root) {\n",
              "      if (root.Bokeh !== undefined && root.Bokeh.Panel !== undefined) {\n",
              "        clearInterval(timer);\n",
              "        embed_document(root);\n",
              "      } else if (document.readyState == \"complete\") {\n",
              "        attempts++;\n",
              "        if (attempts > 200) {\n",
              "          clearInterval(timer);\n",
              "          console.log(\"Bokeh: ERROR: Unable to run BokehJS code because BokehJS library is missing\");\n",
              "        }\n",
              "      }\n",
              "    }, 25, root)\n",
              "  }\n",
              "})(window);</script>"
            ],
            "text/plain": [
              "Row\n",
              "    [0] HSpacer()\n",
              "    [1] Bokeh(Figure)\n",
              "    [2] HSpacer()"
            ]
          },
          "execution_count": 15,
          "metadata": {
            "application/vnd.holoviews_exec.v0+json": {
              "id": "12658"
            }
          },
          "output_type": "execute_result"
        }
      ],
      "source": [
        "# Generating the data and subsampling\n",
        "x_all = np.linspace(0, 1, 100); x_plot = np.linspace(0, 1, 100)\n",
        "rng.shuffle(x_all); x = np.sort(x_all[:50])\n",
        "poly = np.poly1d([3,0,1])\n",
        "# Adding some external noise\n",
        "epsilon = np.random.uniform(-0.2,0.2,x.shape)\n",
        "y = poly(x)+ epsilon\n",
        "p = scatter(x, y, title=\"Learning problem with groundtruth\")\n",
        "p.line(x_plot, poly(x_plot), line_width=6, line_alpha=0.6, color=\"green\", legend_label=r\"True function\")\n",
        "plot = (center_plot(p))\n",
        "plot"
      ]
    },
    {
      "cell_type": "markdown",
      "metadata": {},
      "source": [
        "### Summarizing our observations (interactive)\n",
        "\n"
      ]
    },
    {
      "cell_type": "code",
      "execution_count": 6,
      "metadata": {
        "tags": []
      },
      "outputs": [
        {
          "name": "stdout",
          "output_type": "stream",
          "text": [
            "Creating the object\n"
          ]
        },
        {
          "data": {},
          "metadata": {},
          "output_type": "display_data"
        },
        {
          "data": {
            "application/vnd.holoviews_exec.v0+json": "",
            "text/html": [
              "<div id='1429'>\n",
              "  <div class=\"bk-root\" id=\"76771953-a2b2-48ee-85ac-29407bec465f\" data-root-id=\"1429\"></div>\n",
              "</div>\n",
              "<script type=\"application/javascript\">(function(root) {\n",
              "  function embed_document(root) {\n",
              "    var docs_json = {\"6e424cd5-bc31-4e7c-996f-7822b6a4b755\":{\"defs\":[{\"extends\":null,\"module\":null,\"name\":\"ReactiveHTML1\",\"overrides\":[],\"properties\":[]},{\"extends\":null,\"module\":null,\"name\":\"FlexBox1\",\"overrides\":[],\"properties\":[{\"default\":\"flex-start\",\"kind\":null,\"name\":\"align_content\"},{\"default\":\"flex-start\",\"kind\":null,\"name\":\"align_items\"},{\"default\":\"row\",\"kind\":null,\"name\":\"flex_direction\"},{\"default\":\"wrap\",\"kind\":null,\"name\":\"flex_wrap\"},{\"default\":\"flex-start\",\"kind\":null,\"name\":\"justify_content\"}]},{\"extends\":null,\"module\":null,\"name\":\"GridStack1\",\"overrides\":[],\"properties\":[{\"default\":\"warn\",\"kind\":null,\"name\":\"mode\"},{\"default\":null,\"kind\":null,\"name\":\"ncols\"},{\"default\":null,\"kind\":null,\"name\":\"nrows\"},{\"default\":true,\"kind\":null,\"name\":\"allow_resize\"},{\"default\":true,\"kind\":null,\"name\":\"allow_drag\"},{\"default\":[],\"kind\":null,\"name\":\"state\"}]},{\"extends\":null,\"module\":null,\"name\":\"click1\",\"overrides\":[],\"properties\":[{\"default\":\"\",\"kind\":null,\"name\":\"terminal_output\"},{\"default\":\"\",\"kind\":null,\"name\":\"debug_name\"},{\"default\":0,\"kind\":null,\"name\":\"clears\"}]},{\"extends\":null,\"module\":null,\"name\":\"NotificationAreaBase1\",\"overrides\":[],\"properties\":[{\"default\":\"bottom-right\",\"kind\":null,\"name\":\"position\"},{\"default\":0,\"kind\":null,\"name\":\"_clear\"}]},{\"extends\":null,\"module\":null,\"name\":\"NotificationArea1\",\"overrides\":[],\"properties\":[{\"default\":[],\"kind\":null,\"name\":\"notifications\"},{\"default\":\"bottom-right\",\"kind\":null,\"name\":\"position\"},{\"default\":0,\"kind\":null,\"name\":\"_clear\"},{\"default\":[{\"background\":\"#ffc107\",\"icon\":{\"className\":\"fas fa-exclamation-triangle\",\"color\":\"white\",\"tagName\":\"i\"},\"type\":\"warning\"},{\"background\":\"#007bff\",\"icon\":{\"className\":\"fas fa-info-circle\",\"color\":\"white\",\"tagName\":\"i\"},\"type\":\"info\"}],\"kind\":null,\"name\":\"types\"}]},{\"extends\":null,\"module\":null,\"name\":\"Notification\",\"overrides\":[],\"properties\":[{\"default\":null,\"kind\":null,\"name\":\"background\"},{\"default\":3000,\"kind\":null,\"name\":\"duration\"},{\"default\":null,\"kind\":null,\"name\":\"icon\"},{\"default\":\"\",\"kind\":null,\"name\":\"message\"},{\"default\":null,\"kind\":null,\"name\":\"notification_type\"},{\"default\":false,\"kind\":null,\"name\":\"_destroyed\"}]},{\"extends\":null,\"module\":null,\"name\":\"TemplateActions1\",\"overrides\":[],\"properties\":[{\"default\":0,\"kind\":null,\"name\":\"open_modal\"},{\"default\":0,\"kind\":null,\"name\":\"close_modal\"}]},{\"extends\":null,\"module\":null,\"name\":\"MaterialTemplateActions1\",\"overrides\":[],\"properties\":[{\"default\":0,\"kind\":null,\"name\":\"open_modal\"},{\"default\":0,\"kind\":null,\"name\":\"close_modal\"}]}],\"roots\":{\"references\":[{\"attributes\":{\"margin\":[5,5,5,5],\"name\":\"HSpacer00148\",\"sizing_mode\":\"stretch_width\"},\"id\":\"1466\",\"type\":\"Spacer\"},{\"attributes\":{},\"id\":\"1394\",\"type\":\"ResetTool\"},{\"attributes\":{\"args\":{\"bidirectional\":true,\"properties\":{\"readonly\":\"disabled\"},\"source\":{\"id\":\"1465\"},\"target\":{\"id\":\"1465\"}},\"code\":\"\\n    var value = source['disabled'];\\n    value = value;\\n    value = value;\\n    try {\\n      var property = target.properties['readonly'];\\n      if (property !== undefined) { property.validate(value); }\\n    } catch(err) {\\n      console.log('WARNING: Could not set readonly on target, raised error: ' + err);\\n      return;\\n    }\\n    try {\\n      target['readonly'] = value;\\n    } catch(err) {\\n      console.log(err)\\n    }\\n    \",\"tags\":[[139734548822432,[null,\"readonly\"],[null,\"disabled\"]]]},\"id\":\"1479\",\"type\":\"CustomJS\"},{\"attributes\":{},\"id\":\"1414\",\"type\":\"AllLabels\"},{\"attributes\":{\"labels\":[\"Error\"],\"margin\":[5,10,5,10]},\"id\":\"1438\",\"type\":\"CheckboxGroup\"},{\"attributes\":{\"end\":5.0,\"margin\":[5,10,5,10],\"start\":-5.0,\"step\":0.1,\"title\":\"X 1\",\"value\":0.0},\"id\":\"1440\",\"type\":\"Slider\"},{\"attributes\":{},\"id\":\"1419\",\"type\":\"Selection\"},{\"attributes\":{\"children\":[{\"id\":\"1430\"},{\"id\":\"1431\"},{\"id\":\"1466\"}],\"margin\":[0,0,0,0],\"name\":\"Row00149\"},\"id\":\"1429\",\"type\":\"Row\"},{\"attributes\":{\"axis_label\":\"$$\\\\color{white} -2.0x^2 + 0.0x^1 + 1.0x^0$$\",\"axis_label_standoff\":10,\"axis_label_text_color\":\"#FFFFFF\",\"axis_label_text_font\":\"Josefin Sans\",\"axis_label_text_font_size\":\"1.9em\",\"axis_label_text_font_style\":\"bold\",\"axis_line_alpha\":0.4,\"axis_line_color\":\"#E0E0E0\",\"coordinates\":null,\"formatter\":{\"id\":\"1413\"},\"group\":null,\"major_label_policy\":{\"id\":\"1414\"},\"major_label_text_color\":\"#E0E0E0\",\"major_label_text_font\":\"Josefin Sans\",\"major_label_text_font_size\":\"1.15em\",\"major_tick_line_alpha\":0.4,\"major_tick_line_color\":\"#E0E0E0\",\"minor_tick_line_alpha\":0.4,\"minor_tick_line_color\":\"#E0E0E0\",\"ticker\":{\"id\":\"1387\"}},\"id\":\"1386\",\"type\":\"LinearAxis\"},{\"attributes\":{},\"id\":\"1416\",\"type\":\"BasicTickFormatter\"},{\"attributes\":{\"args\":{\"bidirectional\":true,\"properties\":{\"readonly\":\"disabled\"},\"source\":{\"id\":\"1465\"},\"target\":{\"id\":\"1465\"}},\"code\":\"\\n    var value = source['readonly'];\\n    value = value;\\n    value = value;\\n    try {\\n      var property = target.properties['disabled'];\\n      if (property !== undefined) { property.validate(value); }\\n    } catch(err) {\\n      console.log('WARNING: Could not set disabled on target, raised error: ' + err);\\n      return;\\n    }\\n    try {\\n      target['disabled'] = value;\\n    } catch(err) {\\n      console.log(err)\\n    }\\n    \",\"tags\":[[139734548822432,[null,\"readonly\"],[null,\"disabled\"]]]},\"id\":\"1478\",\"type\":\"CustomJS\"},{\"attributes\":{},\"id\":\"1393\",\"type\":\"SaveTool\"},{\"attributes\":{\"mode\":\"append\",\"overlay\":{\"id\":\"1453\"},\"renderers\":[{\"id\":\"1409\"}]},\"id\":\"1427\",\"type\":\"BoxSelectTool\"},{\"attributes\":{\"bottom_units\":\"screen\",\"coordinates\":null,\"fill_alpha\":0.5,\"fill_color\":\"lightgrey\",\"group\":null,\"left_units\":\"screen\",\"level\":\"overlay\",\"line_alpha\":1.0,\"line_color\":\"black\",\"line_dash\":[4,4],\"line_width\":2,\"right_units\":\"screen\",\"syncable\":false,\"top_units\":\"screen\"},\"id\":\"1453\",\"type\":\"BoxAnnotation\"},{\"attributes\":{\"margin\":[5,10,5,10],\"name\":\"\",\"text\":\"<b>Problem parameters</b>\"},\"id\":\"1434\",\"type\":\"Div\"},{\"attributes\":{\"source\":{\"id\":\"1404\"}},\"id\":\"1410\",\"type\":\"CDSView\"},{\"attributes\":{},\"id\":\"1380\",\"type\":\"LinearScale\"},{\"attributes\":{\"children\":[{\"id\":\"1434\"},{\"id\":\"1435\"},{\"id\":\"1436\"},{\"id\":\"1437\"},{\"id\":\"1438\"},{\"id\":\"1439\"},{\"id\":\"1440\"},{\"id\":\"1441\"}],\"margin\":[5,5,5,5],\"min_width\":300,\"name\":\"Problem parameters\",\"width\":300},\"id\":\"1433\",\"type\":\"Column\"},{\"attributes\":{\"fill_alpha\":{\"value\":0.5},\"fill_color\":{\"value\":\"red\"},\"hatch_alpha\":{\"value\":0.5},\"line_alpha\":{\"value\":0.5},\"line_color\":{\"value\":\"white\"},\"size\":{\"value\":10},\"x\":{\"field\":\"x\"},\"y\":{\"field\":\"y\"}},\"id\":\"1407\",\"type\":\"Circle\"},{\"attributes\":{\"overlay\":{\"id\":\"1396\"}},\"id\":\"1392\",\"type\":\"BoxZoomTool\"},{\"attributes\":{\"end\":1000,\"margin\":[5,10,5,10],\"start\":10,\"title\":\"Number observations\",\"value\":100},\"id\":\"1435\",\"type\":\"Slider\"},{\"attributes\":{\"axis_label\":\"$$\\\\color{white} x$$\",\"axis_label_standoff\":10,\"axis_label_text_color\":\"#FFFFFF\",\"axis_label_text_font\":\"Josefin Sans\",\"axis_label_text_font_size\":\"1.9em\",\"axis_label_text_font_style\":\"bold\",\"axis_line_alpha\":0.4,\"axis_line_color\":\"#E0E0E0\",\"coordinates\":null,\"formatter\":{\"id\":\"1416\"},\"group\":null,\"major_label_policy\":{\"id\":\"1417\"},\"major_label_text_color\":\"#E0E0E0\",\"major_label_text_font\":\"Josefin Sans\",\"major_label_text_font_size\":\"1.15em\",\"major_tick_line_alpha\":0.4,\"major_tick_line_color\":\"#E0E0E0\",\"minor_tick_line_alpha\":0.4,\"minor_tick_line_color\":\"#E0E0E0\",\"ticker\":{\"id\":\"1383\"}},\"id\":\"1382\",\"type\":\"LinearAxis\"},{\"attributes\":{\"fill_alpha\":{\"value\":0.2},\"fill_color\":{\"value\":\"midnightblue\"},\"hatch_alpha\":{\"value\":0.2},\"line_alpha\":{\"value\":0.2},\"line_color\":{\"value\":\"white\"},\"size\":{\"value\":10},\"x\":{\"field\":\"x\"},\"y\":{\"field\":\"y\"}},\"id\":\"1408\",\"type\":\"Circle\"},{\"attributes\":{\"bottom_units\":\"screen\",\"coordinates\":null,\"fill_alpha\":0.5,\"fill_color\":\"lightgrey\",\"group\":null,\"left_units\":\"screen\",\"level\":\"overlay\",\"line_alpha\":1.0,\"line_color\":\"black\",\"line_dash\":[4,4],\"line_width\":2,\"right_units\":\"screen\",\"syncable\":false,\"top_units\":\"screen\"},\"id\":\"1396\",\"type\":\"BoxAnnotation\"},{\"attributes\":{\"labels\":[\"Ground truth\"],\"margin\":[5,10,5,10]},\"id\":\"1437\",\"type\":\"CheckboxGroup\"},{\"attributes\":{\"data\":{\"x\":{\"__ndarray__\":\"AAAAALV+JTy1fqU8ED74PLV+JT1i3k49ED54Pd7OkD21fqU9jC66PWLezj05juM9ED74PfN2Bj7ezhA+yiYbPrV+JT6g1i8+jC46PneGRD5i3k4+TjZZPjmOYz4k5m0+ED54Pv1KgT7zdoY+6aKLPt7OkD7U+pU+yiabPr9SoD61fqU+q6qqPqDWrz6WArU+jC66PoFavz53hsQ+bbLJPmLezj5YCtQ+TjbZPkNi3j45juM+L7roPiTm7T4aEvM+ED74PgVq/T79SgE/+OADP/N2Bj/uDAk/6aILP+Q4Dj/ezhA/2WQTP9T6FT/PkBg/yiYbP8W8HT+/UiA/uugiP7V+JT+wFCg/q6oqP6VALT+g1i8/m2wyP5YCNT+RmDc/jC46P4bEPD+BWj8/fPBBP3eGRD9yHEc/bbJJP2dITD9i3k4/XXRRP1gKVD9ToFY/TjZZP0jMWz9DYl4/PvhgPzmOYz80JGY/L7poPylQaz8k5m0/H3xwPxoScz8VqHU/ED54PwrUej8Fan0/AACAPw==\",\"dtype\":\"float32\",\"order\":\"little\",\"shape\":[100]},\"y\":{\"__ndarray__\":\"ki1uPx9TiT8UHoA/KL2KP9L1ij8FfHg/j02KP4J+iz+OAWc/8EiKP+36aD+Uq24/O3V9P4ckgT9ZE4A/erlcP4O2Xz8H9HI/dix4P2m1WT8cCYA/BBV9PzAeZD+wj1E/e4B4Py12cD+O418/MNdsPxx5Vj+HkTo/PUBRP9jNRz/MKjc/NiZXP98eST/k1ig//Eo4Pz1wPD9dT0c/UUsbPzfZFj9nKB8/ExktP6dtHD8kvx4//RskPwtcGz/0AQ8/aVP6PvePCz8y/wk/7HvwPjHoAj/45ds+kKb8Pu/Zsj5fadI+xBLYPogAxj5I3sM+FNFPPrgFqT5KvlU+1T5CPgRDej6S6zs+l2hLPen1Dz1iq/U9OeAyPSJgWjwm0HQ90AEyOyBkwzsEu/O8sk4avs6D0b0fp/q9GiMnvijpZb4c63K+06y+vucAsb48dt++FNvovhDTDr9JMAy/hZsevwYMCL8dGBC/8rIdvw9GG79AkD2/ofYtv+9MOr9l1kK/4mlxvxL3Vr8PD4C//ciIvw==\",\"dtype\":\"float32\",\"order\":\"little\",\"shape\":[100]}},\"selected\":{\"id\":\"1419\"},\"selection_policy\":{\"id\":\"1418\"}},\"id\":\"1404\",\"type\":\"ColumnDataSource\"},{\"attributes\":{\"coordinates\":null,\"data_source\":{\"id\":\"1404\"},\"glyph\":{\"id\":\"1405\"},\"group\":null,\"hover_glyph\":{\"id\":\"1407\"},\"muted_glyph\":{\"id\":\"1408\"},\"nonselection_glyph\":{\"id\":\"1426\"},\"selection_glyph\":{\"id\":\"1425\"},\"view\":{\"id\":\"1410\"}},\"id\":\"1409\",\"type\":\"GlyphRenderer\"},{\"attributes\":{},\"id\":\"1418\",\"type\":\"UnionRenderers\"},{\"attributes\":{\"client_comm_id\":\"0a356154eae749ff9c55390df88ae4c0\",\"comm_id\":\"33eebcdf42e747989f956bbf809bd225\",\"plot_id\":\"1429\"},\"id\":\"1502\",\"type\":\"panel.models.comm_manager.CommManager\"},{\"attributes\":{\"background_fill_alpha\":0.9,\"background_fill_color\":\"#0f0f0f\",\"below\":[{\"id\":\"1382\"}],\"border_fill_alpha\":0.8,\"border_fill_color\":\"#111111\",\"center\":[{\"id\":\"1385\"},{\"id\":\"1389\"},{\"id\":\"1421\"}],\"height\":450,\"left\":[{\"id\":\"1386\"}],\"outline_line_alpha\":0.25,\"outline_line_color\":\"#E0E0E0\",\"outline_line_width\":3,\"renderers\":[{\"id\":\"1409\"}],\"title\":{\"id\":\"1372\"},\"toolbar\":{\"id\":\"1397\"},\"toolbar_location\":null,\"x_range\":{\"id\":\"1374\"},\"x_scale\":{\"id\":\"1378\"},\"y_range\":{\"id\":\"1376\"},\"y_scale\":{\"id\":\"1380\"}},\"id\":\"1371\",\"subtype\":\"Figure\",\"type\":\"Plot\"},{\"attributes\":{\"callback\":null,\"mode\":\"vline\",\"renderers\":[{\"id\":\"1409\"}],\"tooltips\":null},\"id\":\"1423\",\"type\":\"HoverTool\"},{\"attributes\":{\"end\":5.0,\"margin\":[5,10,5,10],\"start\":0.0,\"step\":0.1,\"title\":\"Noise level\",\"value\":0.1},\"id\":\"1436\",\"type\":\"Slider\"},{\"attributes\":{},\"id\":\"1374\",\"type\":\"DataRange1d\"},{\"attributes\":{\"coordinates\":null,\"group\":null,\"text\":\"Polynomial regression problem\",\"text_color\":\"#E0E0E0\",\"text_font\":\"Josefin Sans\",\"text_font_size\":\"2.1em\"},\"id\":\"1372\",\"type\":\"Title\"},{\"attributes\":{\"fill_alpha\":{\"value\":0.8},\"fill_color\":{\"value\":\"red\"},\"line_color\":{\"value\":\"white\"}},\"id\":\"1425\",\"type\":\"Circle\"},{\"attributes\":{\"end\":5.0,\"margin\":[5,10,5,10],\"start\":-5.0,\"step\":0.1,\"title\":\"X 2\",\"value\":-2.0},\"id\":\"1439\",\"type\":\"Slider\"},{\"attributes\":{},\"id\":\"1391\",\"type\":\"WheelZoomTool\"},{\"attributes\":{},\"id\":\"1417\",\"type\":\"AllLabels\"},{\"attributes\":{\"axis\":{\"id\":\"1386\"},\"coordinates\":null,\"dimension\":1,\"grid_line_alpha\":0.15,\"grid_line_color\":\"#E0E0E0\",\"group\":null,\"ticker\":null},\"id\":\"1389\",\"type\":\"Grid\"},{\"attributes\":{\"children\":[{\"id\":\"1433\"},{\"id\":\"1442\"}],\"margin\":[0,0,0,0],\"name\":\"Row00144\"},\"id\":\"1432\",\"type\":\"Row\"},{\"attributes\":{\"fill_alpha\":{\"value\":0.5},\"fill_color\":{\"value\":\"midnightblue\"},\"line_color\":{\"value\":\"white\"}},\"id\":\"1426\",\"type\":\"Circle\"},{\"attributes\":{\"tools\":[{\"id\":\"1390\"},{\"id\":\"1391\"},{\"id\":\"1392\"},{\"id\":\"1393\"},{\"id\":\"1394\"},{\"id\":\"1395\"},{\"id\":\"1423\"},{\"id\":\"1427\"}]},\"id\":\"1397\",\"type\":\"Toolbar\"},{\"attributes\":{\"end\":5.0,\"margin\":[5,10,5,10],\"start\":-5.0,\"step\":0.1,\"title\":\"X 0\",\"value\":1.0},\"id\":\"1441\",\"type\":\"Slider\"},{\"attributes\":{\"axis\":{\"id\":\"1382\"},\"coordinates\":null,\"grid_line_alpha\":0.15,\"grid_line_color\":\"#E0E0E0\",\"group\":null,\"ticker\":null},\"id\":\"1385\",\"type\":\"Grid\"},{\"attributes\":{\"children\":[{\"id\":\"1371\"}],\"margin\":[0,0,0,0],\"name\":\"Row00141\"},\"id\":\"1442\",\"type\":\"Row\"},{\"attributes\":{},\"id\":\"1390\",\"type\":\"PanTool\"},{\"attributes\":{},\"id\":\"1378\",\"type\":\"LinearScale\"},{\"attributes\":{},\"id\":\"1383\",\"type\":\"BasicTicker\"},{\"attributes\":{},\"id\":\"1413\",\"type\":\"BasicTickFormatter\"},{\"attributes\":{\"code\":\"def polynomial(\\n        coefficients: jnp.ndarray,\\n        n_observations: int = 100) -> [jnp.ndarray, jnp.ndarray]:\\n    x = jnp.linspace(0, 1, n_observations)\\n    y = jnp.polyval(coefficients, x)\\n    return x, \",\"filename\":\"\",\"height\":150,\"js_property_callbacks\":{\"change:disabled\":[{\"id\":\"1479\"}],\"change:readonly\":[{\"id\":\"1478\"}]},\"language\":\"python\",\"margin\":[5,10,5,10],\"sizing_mode\":\"stretch_both\",\"theme\":\"chaos\"},\"id\":\"1465\",\"type\":\"panel.models.ace.AcePlot\"},{\"attributes\":{\"margin\":[5,5,5,5],\"name\":\"HSpacer00118\",\"sizing_mode\":\"stretch_width\"},\"id\":\"1430\",\"type\":\"Spacer\"},{\"attributes\":{},\"id\":\"1376\",\"type\":\"DataRange1d\"},{\"attributes\":{\"background_fill_alpha\":0.25,\"background_fill_color\":\"#505050\",\"border_line_alpha\":0.25,\"coordinates\":null,\"group\":null,\"items\":[{\"id\":\"1422\"}],\"label_standoff\":8,\"label_text_color\":\"#E0E0E0\",\"label_text_font\":\"Josefin Sans\",\"label_text_font_size\":\"1.15em\",\"spacing\":8},\"id\":\"1421\",\"type\":\"Legend\"},{\"attributes\":{\"label\":{\"value\":\"Observations\"},\"renderers\":[{\"id\":\"1409\"}]},\"id\":\"1422\",\"type\":\"LegendItem\"},{\"attributes\":{},\"id\":\"1395\",\"type\":\"HelpTool\"},{\"attributes\":{\"fill_alpha\":{\"value\":0.25},\"fill_color\":{\"value\":\"midnightblue\"},\"hatch_alpha\":{\"value\":0.25},\"line_alpha\":{\"value\":0.25},\"line_color\":{\"value\":\"white\"},\"size\":{\"value\":10},\"x\":{\"field\":\"x\"},\"y\":{\"field\":\"y\"}},\"id\":\"1405\",\"type\":\"Circle\"},{\"attributes\":{\"children\":[{\"id\":\"1432\"},{\"id\":\"1465\"}],\"margin\":[0,0,0,0],\"name\":\"Column00147\"},\"id\":\"1431\",\"type\":\"Column\"},{\"attributes\":{},\"id\":\"1387\",\"type\":\"BasicTicker\"}],\"root_ids\":[\"1429\",\"1502\"]},\"title\":\"Bokeh Application\",\"version\":\"2.4.3\"}};\n",
              "    var render_items = [{\"docid\":\"6e424cd5-bc31-4e7c-996f-7822b6a4b755\",\"root_ids\":[\"1429\"],\"roots\":{\"1429\":\"76771953-a2b2-48ee-85ac-29407bec465f\"}}];\n",
              "    root.Bokeh.embed.embed_items_notebook(docs_json, render_items);\n",
              "    for (const render_item of render_items) {\n",
              "      for (const root_id of render_item.root_ids) {\n",
              "\tconst id_el = document.getElementById(root_id)\n",
              "\tif (id_el.children.length && (id_el.children[0].className === 'bk-root')) {\n",
              "\t  const root_el = id_el.children[0]\n",
              "\t  root_el.id = root_el.id + '-rendered'\n",
              "\t}\n",
              "      }\n",
              "    }\n",
              "  }\n",
              "  if (root.Bokeh !== undefined && root.Bokeh.Panel !== undefined) {\n",
              "    embed_document(root);\n",
              "  } else {\n",
              "    var attempts = 0;\n",
              "    var timer = setInterval(function(root) {\n",
              "      if (root.Bokeh !== undefined && root.Bokeh.Panel !== undefined) {\n",
              "        clearInterval(timer);\n",
              "        embed_document(root);\n",
              "      } else if (document.readyState == \"complete\") {\n",
              "        attempts++;\n",
              "        if (attempts > 200) {\n",
              "          clearInterval(timer);\n",
              "          console.log(\"Bokeh: ERROR: Unable to run BokehJS code because BokehJS library is missing\");\n",
              "        }\n",
              "      }\n",
              "    }, 25, root)\n",
              "  }\n",
              "})(window);</script>"
            ],
            "text/plain": [
              "Row\n",
              "    [0] HSpacer()\n",
              "    [1] Column\n",
              "        [0] Row\n",
              "            [0] Param(RegressionPolynomial, name='Problem parameters', widgets={})\n",
              "            [1] ParamMethod(method, _pane=Bokeh)\n",
              "        [1] Ace(height=150, language='python', sizing_mode='stretch_both', theme='chaos', value='def polynomial(\\n        ...)\n",
              "    [2] HSpacer()"
            ]
          },
          "execution_count": 6,
          "metadata": {
            "application/vnd.holoviews_exec.v0+json": {
              "id": "1429"
            }
          },
          "output_type": "execute_result"
        }
      ],
      "source": [
        "from cml.tasks import RegressionPolynomial\n",
        "explorer = RegressionPolynomial()\n",
        "explorer.render()"
      ]
    },
    {
      "cell_type": "markdown",
      "metadata": {},
      "source": [
        "## Using learning libraries (`scikit-learn`)"
      ]
    },
    {
      "cell_type": "markdown",
      "metadata": {},
      "source": [
        "To get a first grip on what machine learning does, we will rely on the `scikit-learn` library. This contains already coded models and learning procedure, that will allow us to _learn_ the parameters of this unknown function.\n",
        "\n",
        "Here we already know that we want to use a `PolynomialFeatures` model to perfom `LinearRegression` and that this polynomial should be of degree 2."
      ]
    },
    {
      "cell_type": "code",
      "execution_count": 16,
      "metadata": {
        "tags": []
      },
      "outputs": [],
      "source": [
        "from sklearn.linear_model import LinearRegression\n",
        "from sklearn.preprocessing import PolynomialFeatures\n",
        "from sklearn.pipeline import make_pipeline\n",
        "# Our data to fit\n",
        "X = x[:, np.newaxis]\n",
        "# Degree of our polynomial\n",
        "degree = 30;\n",
        "# Create our polynomial model for regression\n",
        "model = make_pipeline(PolynomialFeatures(degree), LinearRegression())\n",
        "# Fit the parameters of this model\n",
        "model.fit(X, y);"
      ]
    },
    {
      "cell_type": "markdown",
      "metadata": {},
      "source": [
        "Now that we have trained the model, we can perform _predictions_ from it, meaning that we can infer the output of the function at values that we did not observe originally."
      ]
    },
    {
      "cell_type": "code",
      "execution_count": 17,
      "metadata": {
        "tags": []
      },
      "outputs": [
        {
          "name": "stdout",
          "output_type": "stream",
          "text": [
            "Model error : 0.07720131304810979\n"
          ]
        },
        {
          "data": {},
          "metadata": {},
          "output_type": "display_data"
        },
        {
          "data": {
            "application/vnd.holoviews_exec.v0+json": "",
            "text/html": [
              "<div id='12870'>\n",
              "  <div class=\"bk-root\" id=\"6117b0bf-5d64-407f-8834-3c330a817ed6\" data-root-id=\"12870\"></div>\n",
              "</div>\n",
              "<script type=\"application/javascript\">(function(root) {\n",
              "  function embed_document(root) {\n",
              "    var docs_json = {\"aaab9dc7-2885-4d01-b35a-ad5d3e6cea1c\":{\"defs\":[{\"extends\":null,\"module\":null,\"name\":\"ReactiveHTML1\",\"overrides\":[],\"properties\":[]},{\"extends\":null,\"module\":null,\"name\":\"FlexBox1\",\"overrides\":[],\"properties\":[{\"default\":\"flex-start\",\"kind\":null,\"name\":\"align_content\"},{\"default\":\"flex-start\",\"kind\":null,\"name\":\"align_items\"},{\"default\":\"row\",\"kind\":null,\"name\":\"flex_direction\"},{\"default\":\"wrap\",\"kind\":null,\"name\":\"flex_wrap\"},{\"default\":\"flex-start\",\"kind\":null,\"name\":\"justify_content\"}]},{\"extends\":null,\"module\":null,\"name\":\"GridStack1\",\"overrides\":[],\"properties\":[{\"default\":\"warn\",\"kind\":null,\"name\":\"mode\"},{\"default\":null,\"kind\":null,\"name\":\"ncols\"},{\"default\":null,\"kind\":null,\"name\":\"nrows\"},{\"default\":true,\"kind\":null,\"name\":\"allow_resize\"},{\"default\":true,\"kind\":null,\"name\":\"allow_drag\"},{\"default\":[],\"kind\":null,\"name\":\"state\"}]},{\"extends\":null,\"module\":null,\"name\":\"click1\",\"overrides\":[],\"properties\":[{\"default\":\"\",\"kind\":null,\"name\":\"terminal_output\"},{\"default\":\"\",\"kind\":null,\"name\":\"debug_name\"},{\"default\":0,\"kind\":null,\"name\":\"clears\"}]},{\"extends\":null,\"module\":null,\"name\":\"NotificationAreaBase1\",\"overrides\":[],\"properties\":[{\"default\":\"bottom-right\",\"kind\":null,\"name\":\"position\"},{\"default\":0,\"kind\":null,\"name\":\"_clear\"}]},{\"extends\":null,\"module\":null,\"name\":\"NotificationArea1\",\"overrides\":[],\"properties\":[{\"default\":[],\"kind\":null,\"name\":\"notifications\"},{\"default\":\"bottom-right\",\"kind\":null,\"name\":\"position\"},{\"default\":0,\"kind\":null,\"name\":\"_clear\"},{\"default\":[{\"background\":\"#ffc107\",\"icon\":{\"className\":\"fas fa-exclamation-triangle\",\"color\":\"white\",\"tagName\":\"i\"},\"type\":\"warning\"},{\"background\":\"#007bff\",\"icon\":{\"className\":\"fas fa-info-circle\",\"color\":\"white\",\"tagName\":\"i\"},\"type\":\"info\"}],\"kind\":null,\"name\":\"types\"}]},{\"extends\":null,\"module\":null,\"name\":\"Notification\",\"overrides\":[],\"properties\":[{\"default\":null,\"kind\":null,\"name\":\"background\"},{\"default\":3000,\"kind\":null,\"name\":\"duration\"},{\"default\":null,\"kind\":null,\"name\":\"icon\"},{\"default\":\"\",\"kind\":null,\"name\":\"message\"},{\"default\":null,\"kind\":null,\"name\":\"notification_type\"},{\"default\":false,\"kind\":null,\"name\":\"_destroyed\"}]},{\"extends\":null,\"module\":null,\"name\":\"TemplateActions1\",\"overrides\":[],\"properties\":[{\"default\":0,\"kind\":null,\"name\":\"open_modal\"},{\"default\":0,\"kind\":null,\"name\":\"close_modal\"}]},{\"extends\":null,\"module\":null,\"name\":\"MaterialTemplateActions1\",\"overrides\":[],\"properties\":[{\"default\":0,\"kind\":null,\"name\":\"open_modal\"},{\"default\":0,\"kind\":null,\"name\":\"close_modal\"}]}],\"roots\":{\"references\":[{\"attributes\":{\"axis_label\":\"y\",\"axis_label_standoff\":10,\"axis_label_text_color\":\"#FFFFFF\",\"axis_label_text_font\":\"Josefin Sans\",\"axis_label_text_font_size\":\"1.9em\",\"axis_label_text_font_style\":\"bold\",\"axis_line_alpha\":0.4,\"axis_line_color\":\"#E0E0E0\",\"coordinates\":null,\"formatter\":{\"id\":\"12834\"},\"group\":null,\"major_label_policy\":{\"id\":\"12835\"},\"major_label_text_color\":\"#E0E0E0\",\"major_label_text_font\":\"Josefin Sans\",\"major_label_text_font_size\":\"1.15em\",\"major_tick_line_alpha\":0.4,\"major_tick_line_color\":\"#E0E0E0\",\"minor_tick_line_alpha\":0.4,\"minor_tick_line_color\":\"#E0E0E0\",\"ticker\":{\"id\":\"12808\"}},\"id\":\"12807\",\"type\":\"LinearAxis\"},{\"attributes\":{},\"id\":\"12799\",\"type\":\"LinearScale\"},{\"attributes\":{\"source\":{\"id\":\"12850\"}},\"id\":\"12855\",\"type\":\"CDSView\"},{\"attributes\":{\"axis\":{\"id\":\"12803\"},\"coordinates\":null,\"grid_line_alpha\":0.15,\"grid_line_color\":\"#E0E0E0\",\"group\":null,\"ticker\":null},\"id\":\"12806\",\"type\":\"Grid\"},{\"attributes\":{\"coordinates\":null,\"data_source\":{\"id\":\"12850\"},\"glyph\":{\"id\":\"12851\"},\"group\":null,\"hover_glyph\":null,\"muted_glyph\":{\"id\":\"12853\"},\"nonselection_glyph\":{\"id\":\"12852\"},\"view\":{\"id\":\"12855\"}},\"id\":\"12854\",\"type\":\"GlyphRenderer\"},{\"attributes\":{},\"id\":\"12834\",\"type\":\"BasicTickFormatter\"},{\"attributes\":{},\"id\":\"12835\",\"type\":\"AllLabels\"},{\"attributes\":{\"label\":{\"value\":\"Trained model\"},\"renderers\":[{\"id\":\"12854\"}]},\"id\":\"12869\",\"type\":\"LegendItem\"},{\"attributes\":{\"axis\":{\"id\":\"12807\"},\"coordinates\":null,\"dimension\":1,\"grid_line_alpha\":0.15,\"grid_line_color\":\"#E0E0E0\",\"group\":null,\"ticker\":null},\"id\":\"12810\",\"type\":\"Grid\"},{\"attributes\":{\"line_alpha\":0.6,\"line_color\":\"red\",\"line_width\":6,\"x\":{\"field\":\"x\"},\"y\":{\"field\":\"y\"}},\"id\":\"12851\",\"type\":\"Line\"},{\"attributes\":{},\"id\":\"12837\",\"type\":\"BasicTickFormatter\"},{\"attributes\":{\"line_alpha\":0.1,\"line_color\":\"red\",\"line_width\":6,\"x\":{\"field\":\"x\"},\"y\":{\"field\":\"y\"}},\"id\":\"12852\",\"type\":\"Line\"},{\"attributes\":{\"data\":{\"x\":{\"__ndarray__\":\"AAAAAAAAAABbv1Kg1q+EP1u/UqDWr5Q/CB988MEHnz9bv1Kg1q+kPzJvZ0jM26k/CB988MEHrz9wZ0jM2xmyP1u/UqDWr7Q/RhdddNFFtz8yb2dIzNu5Px3HcRzHcbw/CB988MEHvz96O0Ni3s7AP3BnSMzbGcI/ZZNNNtlkwz9bv1Kg1q/EP1HrVwrU+sU/RhdddNFFxz88Q2LezpDIPzJvZ0jM28k/J5tssskmyz8dx3Ecx3HMPxPzdobEvM0/CB988MEHzz9/pUCtXynQP3o7Q2LeztA/ddFFF1100T9wZ0jM2xnSP2r9SoFav9I/ZZNNNtlk0z9gKVDrVwrUP1u/UqDWr9Q/VlVVVVVV1T9R61cK1PrVP0yBWr9SoNY/RhdddNFF1z9BrV8pUOvXPzxDYt7OkNg/N9lkk0022T8yb2dIzNvZPy0Fav1Kgdo/J5tssskm2z8iMW9nSMzbPx3HcRzHcdw/GF100UUX3T8T83aGxLzdPw6JeTtDYt4/CB988MEH3z8DtX6lQK3fP3+lQK1fKeA/ffDBBx984D96O0Ni3s7gP3eGxLydIeE/ddFFF1104T9yHMdxHMfhP3BnSMzbGeI/bbLJJpts4j9q/UqBWr/iP2hIzNsZEuM/ZZNNNtlk4z9j3s6QmLfjP2ApUOtXCuQ/XnTRRRdd5D9bv1Kg1q/kP1gK1PqVAuU/VlVVVVVV5T9ToNavFKjlP1HrVwrU+uU/TjbZZJNN5j9MgVq/UqDmP0nM2xkS8+Y/RhdddNFF5z9EYt7OkJjnP0GtXylQ6+c/P/jggw8+6D88Q2LezpDoPzmO4ziO4+g/N9lkk0026T80JObtDInpPzJvZ0jM2+k/L7rooosu6j8tBWr9SoHqPypQ61cK1Oo/J5tssskm6z8l5u0MiXnrPyIxb2dIzOs/IHzwwQcf7D8dx3Ecx3HsPxsS83aGxOw/GF100UUX7T8VqPUrBWrtPxPzdobEvO0/ED744IMP7j8OiXk7Q2LuPwvU+pUCte4/CB988MEH7z8Gav1KgVrvPwO1fqVAre8/AAAAAAAA8D8=\",\"dtype\":\"float64\",\"order\":\"little\",\"shape\":[100]},\"y\":{\"__ndarray__\":\"AAAAAAAA8D8MJLz1QAHwPy6Q8NYDBfA/aESdo0gL8D+6QMJbDxTwPyKFX/9XH/A/ohF1jiIt8D845gIJbz3wP+YCCW89UPA/q2eHwI1l8D+IFH79X33wP3sJ7SW0l/A/hkbUOYq08D+oyzM54tPwP+GYCyS89fA/Ma5b+hca8T+ZCyS89UDxPxixZGlVavE/rZ4dAjeW8T9b1E6GmsTxPx9S+PV/9fE/+hcaUeco8j/tJbSX0F7yP/d7xsk7l/I/GBpR5yjS8j9QAFTwlw/zP6Auz+SIT/M/B6XCxPuR8z+EYy6Q8NbzPxlqEkdnHvQ/xrhu6V9o9D+JT0N32rT0P2QukPDWA/U/VlVVVVVV9T9fxJKlVan1P397SOHX//U/tnp2CNxY9j8FwhwbYrT2P2tROxlqEvc/6CjSAvRy9z98SOHX/9X3PyiwaJiNO/g/6l9oRJ2j+D/EV+DbLg75P7SX0F5Ce/k/vR85zdfq+T/c7xkn71z6PxIIc2yI0fo/YGhEnaNI+z/FEI65QML7P0EBUMFfPvw/1jmKtAC9/D+AujyTIz79P0CDZ13Iwf0/GpQKE+9H/j8K7SW0l9D+PxKOuUDCW/8/MHfFuG7p/z8y1CSOzjwAQNoQo7UmhgBAi3Hd0r/QAEBJ9tPlmRwBQBKfhu60aQFA6Gv17BC4AUDIXCDhrQcCQLNxB8uLWAJAq6qqqqqqAkCuBwqACv4CQL6IJUurUgNA1y39C42oA0D+9pDCr/8DQDDk4G4TWARAbPXsELixBEC2KrWonQwFQAqEOTbEaAVAagF6uSvGBUDWonYy1CQGQExoL6G9hAZA0FGkBejlBkBeX9VfU0gHQPiQwq//qwdAneZr9ewQCEBPYNEwG3cIQAz+8mGK3ghA07/QiDpHCUCopWqlK7EJQIevwLddHApAc93Sv9CICkBpL6G9hPYKQGylK7F5ZQtAej9ymq/VC0CT/XR5JkcMQLjfM07euQxA6eWuGNctDUAlEObYEKMNQG1e2Y6LGQ5AwNCIOkeRDkAgZ/TbQwoPQIohHHOBhA9AAAAAAAAAEEA=\",\"dtype\":\"float64\",\"order\":\"little\",\"shape\":[100]}},\"selected\":{\"id\":\"12866\"},\"selection_policy\":{\"id\":\"12865\"}},\"id\":\"12850\",\"type\":\"ColumnDataSource\"},{\"attributes\":{},\"id\":\"12838\",\"type\":\"AllLabels\"},{\"attributes\":{},\"id\":\"12865\",\"type\":\"UnionRenderers\"},{\"attributes\":{\"fill_alpha\":{\"value\":0.25},\"fill_color\":{\"value\":\"midnightblue\"},\"hatch_alpha\":{\"value\":0.25},\"line_alpha\":{\"value\":0.25},\"line_color\":{\"value\":\"white\"},\"size\":{\"value\":10},\"x\":{\"field\":\"x\"},\"y\":{\"field\":\"y\"}},\"id\":\"12826\",\"type\":\"Circle\"},{\"attributes\":{\"margin\":[5,5,5,5],\"name\":\"HSpacer00181\",\"sizing_mode\":\"stretch_width\"},\"id\":\"12898\",\"type\":\"Spacer\"},{\"attributes\":{\"margin\":[5,5,5,5],\"name\":\"HSpacer00180\",\"sizing_mode\":\"stretch_width\"},\"id\":\"12871\",\"type\":\"Spacer\"},{\"attributes\":{},\"id\":\"12808\",\"type\":\"BasicTicker\"},{\"attributes\":{\"label\":{\"value\":\"Observations\"},\"renderers\":[{\"id\":\"12830\"}]},\"id\":\"12843\",\"type\":\"LegendItem\"},{\"attributes\":{},\"id\":\"12815\",\"type\":\"ResetTool\"},{\"attributes\":{},\"id\":\"12801\",\"type\":\"LinearScale\"},{\"attributes\":{},\"id\":\"12814\",\"type\":\"SaveTool\"},{\"attributes\":{\"tools\":[{\"id\":\"12811\"},{\"id\":\"12812\"},{\"id\":\"12813\"},{\"id\":\"12814\"},{\"id\":\"12815\"},{\"id\":\"12816\"},{\"id\":\"12844\"},{\"id\":\"12848\"}]},\"id\":\"12818\",\"type\":\"Toolbar\"},{\"attributes\":{\"overlay\":{\"id\":\"12817\"}},\"id\":\"12813\",\"type\":\"BoxZoomTool\"},{\"attributes\":{},\"id\":\"12866\",\"type\":\"Selection\"},{\"attributes\":{},\"id\":\"12811\",\"type\":\"PanTool\"},{\"attributes\":{},\"id\":\"12839\",\"type\":\"UnionRenderers\"},{\"attributes\":{},\"id\":\"12812\",\"type\":\"WheelZoomTool\"},{\"attributes\":{},\"id\":\"12797\",\"type\":\"DataRange1d\"},{\"attributes\":{\"fill_alpha\":{\"value\":0.5},\"fill_color\":{\"value\":\"red\"},\"hatch_alpha\":{\"value\":0.5},\"line_alpha\":{\"value\":0.5},\"line_color\":{\"value\":\"white\"},\"size\":{\"value\":10},\"x\":{\"field\":\"x\"},\"y\":{\"field\":\"y\"}},\"id\":\"12828\",\"type\":\"Circle\"},{\"attributes\":{},\"id\":\"12840\",\"type\":\"Selection\"},{\"attributes\":{\"fill_alpha\":{\"value\":0.5},\"fill_color\":{\"value\":\"midnightblue\"},\"line_color\":{\"value\":\"white\"}},\"id\":\"12847\",\"type\":\"Circle\"},{\"attributes\":{\"line_alpha\":0.2,\"line_color\":\"red\",\"line_width\":6,\"x\":{\"field\":\"x\"},\"y\":{\"field\":\"y\"}},\"id\":\"12853\",\"type\":\"Line\"},{\"attributes\":{},\"id\":\"12816\",\"type\":\"HelpTool\"},{\"attributes\":{\"fill_alpha\":{\"value\":0.2},\"fill_color\":{\"value\":\"midnightblue\"},\"hatch_alpha\":{\"value\":0.2},\"line_alpha\":{\"value\":0.2},\"line_color\":{\"value\":\"white\"},\"size\":{\"value\":10},\"x\":{\"field\":\"x\"},\"y\":{\"field\":\"y\"}},\"id\":\"12829\",\"type\":\"Circle\"},{\"attributes\":{\"background_fill_alpha\":0.9,\"background_fill_color\":\"#0f0f0f\",\"below\":[{\"id\":\"12803\"}],\"border_fill_alpha\":0.8,\"border_fill_color\":\"#111111\",\"center\":[{\"id\":\"12806\"},{\"id\":\"12810\"},{\"id\":\"12842\"}],\"height\":450,\"left\":[{\"id\":\"12807\"}],\"outline_line_alpha\":0.25,\"outline_line_color\":\"#E0E0E0\",\"outline_line_width\":3,\"renderers\":[{\"id\":\"12830\"},{\"id\":\"12854\"}],\"title\":{\"id\":\"12793\"},\"toolbar\":{\"id\":\"12818\"},\"toolbar_location\":null,\"x_range\":{\"id\":\"12795\"},\"x_scale\":{\"id\":\"12799\"},\"y_range\":{\"id\":\"12797\"},\"y_scale\":{\"id\":\"12801\"}},\"id\":\"12792\",\"subtype\":\"Figure\",\"type\":\"Plot\"},{\"attributes\":{\"background_fill_alpha\":0.25,\"background_fill_color\":\"#505050\",\"border_line_alpha\":0.25,\"coordinates\":null,\"group\":null,\"items\":[{\"id\":\"12843\"},{\"id\":\"12869\"}],\"label_standoff\":8,\"label_text_color\":\"#E0E0E0\",\"label_text_font\":\"Josefin Sans\",\"label_text_font_size\":\"1.15em\",\"spacing\":8},\"id\":\"12842\",\"type\":\"Legend\"},{\"attributes\":{\"fill_alpha\":{\"value\":0.8},\"fill_color\":{\"value\":\"red\"},\"line_color\":{\"value\":\"white\"}},\"id\":\"12846\",\"type\":\"Circle\"},{\"attributes\":{\"mode\":\"append\",\"overlay\":{\"id\":\"12868\"},\"renderers\":[{\"id\":\"12830\"}]},\"id\":\"12848\",\"type\":\"BoxSelectTool\"},{\"attributes\":{\"data\":{\"x\":{\"__ndarray__\":\"W79SoNavlD8yb2dIzNu5P2WTTTbZZMM/UetXCtT6xT88Q2LezpDIPxPzdobEvM0/ejtDYt7O0D910UUXXXTRP2ApUOtXCtQ/W79SoNav1D9WVVVVVVXVP1HrVwrU+tU/TIFav1Kg1j9GF1100UXXPzxDYt7OkNg/N9lkk0022T8yb2dIzNvZPy0Fav1Kgdo/HcdxHMdx3D8YXXTRRRfdPxPzdobEvN0/CB988MEH3z998MEHH3zgP3o7Q2LezuA/d4bEvJ0h4T910UUXXXThP3BnSMzbGeI/aEjM2xkS4z9gKVDrVwrkP1gK1PqVAuU/U6DWrxSo5T9ONtlkk03mP0Ri3s6QmOc/OY7jOI7j6D832WSTTTbpPzJvZ0jM2+k/L7rooosu6j8tBWr9SoHqPypQ61cK1Oo/J5tssskm6z8iMW9nSMzrPx3HcRzHcew/Faj1KwVq7T8T83aGxLztPxA++OCDD+4/Dol5O0Ni7j8L1PqVArXuPwZq/UqBWu8/A7V+pUCt7z8AAAAAAADwPw==\",\"dtype\":\"float64\",\"order\":\"little\",\"shape\":[50]},\"y\":{\"__ndarray__\":\"NmBLjpwD8T+ZiNQp15PvP52GvW/1KPE/8obgHVCU7z9eUC/ePCntPyErIt2RrfQ/pe7S+2HF9D9HP4bgy3rzP+ZK3OyAVfc/ifb7wgjW9D+hZTM8I2TyP6cnpk7nkfM/kAZ+aXEg9j+SlBHvWdn2P6DFTP77ofg/H04RwNmG9D/1xTj5xaf4P85VzkxSk/Y/CqqGVcja+D/f49w9CgT9PyoKkl0EPfo/J84+cued+z9nIaTXDDv6P22jCQtGDPs/YqtaSjhy/T9WEiv1joP/P79j6VyuOP4/zSvnEzhUAUBU/nHxki0CQAcVgbnJHAJABbwTTfvYA0AoTID/kowCQOAHPC5L4QNA6hGd5nrDBUCNGsHYPTQGQNPjxXH0cgdAwGQD4+WjB0ByaFplSM4HQOPgh8fkGwlAycb4Q1SWCkA0dbtSYEALQKbPeiP+XAxAiA/rX7ibC0A1dChpcIgLQDcCbqT1EQ1AswlVZrTxDkDmQSLKhE0NQJxFqySqxQ1A1Fh0S1FMDkDIET6V488OQA==\",\"dtype\":\"float64\",\"order\":\"little\",\"shape\":[50]}},\"selected\":{\"id\":\"12840\"},\"selection_policy\":{\"id\":\"12839\"}},\"id\":\"12825\",\"type\":\"ColumnDataSource\"},{\"attributes\":{\"bottom_units\":\"screen\",\"coordinates\":null,\"fill_alpha\":0.5,\"fill_color\":\"lightgrey\",\"group\":null,\"left_units\":\"screen\",\"level\":\"overlay\",\"line_alpha\":1.0,\"line_color\":\"black\",\"line_dash\":[4,4],\"line_width\":2,\"right_units\":\"screen\",\"syncable\":false,\"top_units\":\"screen\"},\"id\":\"12817\",\"type\":\"BoxAnnotation\"},{\"attributes\":{\"client_comm_id\":\"f20800c0c8b74b3d966daf61bb219fe2\",\"comm_id\":\"d7426e1089bb43ae905df9940690cc93\",\"plot_id\":\"12870\"},\"id\":\"12938\",\"type\":\"panel.models.comm_manager.CommManager\"},{\"attributes\":{\"coordinates\":null,\"data_source\":{\"id\":\"12825\"},\"glyph\":{\"id\":\"12826\"},\"group\":null,\"hover_glyph\":{\"id\":\"12828\"},\"muted_glyph\":{\"id\":\"12829\"},\"nonselection_glyph\":{\"id\":\"12847\"},\"selection_glyph\":{\"id\":\"12846\"},\"view\":{\"id\":\"12831\"}},\"id\":\"12830\",\"type\":\"GlyphRenderer\"},{\"attributes\":{\"callback\":null,\"mode\":\"vline\",\"renderers\":[{\"id\":\"12830\"}],\"tooltips\":null},\"id\":\"12844\",\"type\":\"HoverTool\"},{\"attributes\":{\"children\":[{\"id\":\"12871\"},{\"id\":\"12792\"},{\"id\":\"12898\"}],\"margin\":[0,0,0,0],\"name\":\"Row00184\"},\"id\":\"12870\",\"type\":\"Row\"},{\"attributes\":{\"coordinates\":null,\"group\":null,\"text\":\"Training a scikit-learn model\",\"text_color\":\"#E0E0E0\",\"text_font\":\"Josefin Sans\",\"text_font_size\":\"2.1em\"},\"id\":\"12793\",\"type\":\"Title\"},{\"attributes\":{},\"id\":\"12795\",\"type\":\"DataRange1d\"},{\"attributes\":{\"bottom_units\":\"screen\",\"coordinates\":null,\"fill_alpha\":0.5,\"fill_color\":\"lightgrey\",\"group\":null,\"left_units\":\"screen\",\"level\":\"overlay\",\"line_alpha\":1.0,\"line_color\":\"black\",\"line_dash\":[4,4],\"line_width\":2,\"right_units\":\"screen\",\"syncable\":false,\"top_units\":\"screen\"},\"id\":\"12868\",\"type\":\"BoxAnnotation\"},{\"attributes\":{\"source\":{\"id\":\"12825\"}},\"id\":\"12831\",\"type\":\"CDSView\"},{\"attributes\":{},\"id\":\"12804\",\"type\":\"BasicTicker\"},{\"attributes\":{\"axis_label\":\"x\",\"axis_label_standoff\":10,\"axis_label_text_color\":\"#FFFFFF\",\"axis_label_text_font\":\"Josefin Sans\",\"axis_label_text_font_size\":\"1.9em\",\"axis_label_text_font_style\":\"bold\",\"axis_line_alpha\":0.4,\"axis_line_color\":\"#E0E0E0\",\"coordinates\":null,\"formatter\":{\"id\":\"12837\"},\"group\":null,\"major_label_policy\":{\"id\":\"12838\"},\"major_label_text_color\":\"#E0E0E0\",\"major_label_text_font\":\"Josefin Sans\",\"major_label_text_font_size\":\"1.15em\",\"major_tick_line_alpha\":0.4,\"major_tick_line_color\":\"#E0E0E0\",\"minor_tick_line_alpha\":0.4,\"minor_tick_line_color\":\"#E0E0E0\",\"ticker\":{\"id\":\"12804\"}},\"id\":\"12803\",\"type\":\"LinearAxis\"}],\"root_ids\":[\"12870\",\"12938\"]},\"title\":\"Bokeh Application\",\"version\":\"2.4.3\"}};\n",
              "    var render_items = [{\"docid\":\"aaab9dc7-2885-4d01-b35a-ad5d3e6cea1c\",\"root_ids\":[\"12870\"],\"roots\":{\"12870\":\"6117b0bf-5d64-407f-8834-3c330a817ed6\"}}];\n",
              "    root.Bokeh.embed.embed_items_notebook(docs_json, render_items);\n",
              "    for (const render_item of render_items) {\n",
              "      for (const root_id of render_item.root_ids) {\n",
              "\tconst id_el = document.getElementById(root_id)\n",
              "\tif (id_el.children.length && (id_el.children[0].className === 'bk-root')) {\n",
              "\t  const root_el = id_el.children[0]\n",
              "\t  root_el.id = root_el.id + '-rendered'\n",
              "\t}\n",
              "      }\n",
              "    }\n",
              "  }\n",
              "  if (root.Bokeh !== undefined && root.Bokeh.Panel !== undefined) {\n",
              "    embed_document(root);\n",
              "  } else {\n",
              "    var attempts = 0;\n",
              "    var timer = setInterval(function(root) {\n",
              "      if (root.Bokeh !== undefined && root.Bokeh.Panel !== undefined) {\n",
              "        clearInterval(timer);\n",
              "        embed_document(root);\n",
              "      } else if (document.readyState == \"complete\") {\n",
              "        attempts++;\n",
              "        if (attempts > 200) {\n",
              "          clearInterval(timer);\n",
              "          console.log(\"Bokeh: ERROR: Unable to run BokehJS code because BokehJS library is missing\");\n",
              "        }\n",
              "      }\n",
              "    }, 25, root)\n",
              "  }\n",
              "})(window);</script>"
            ],
            "text/plain": [
              "Row\n",
              "    [0] HSpacer()\n",
              "    [1] Bokeh(Figure)\n",
              "    [2] HSpacer()"
            ]
          },
          "execution_count": 17,
          "metadata": {
            "application/vnd.holoviews_exec.v0+json": {
              "id": "12870"
            }
          },
          "output_type": "execute_result"
        }
      ],
      "source": [
        "# Inference points (not observed)\n",
        "X_plot = x_plot[:, np.newaxis]\n",
        "# Predict the values\n",
        "y_plot = model.predict(X_plot)\n",
        "# Compute the error of our model at observed points\n",
        "Y_model_err = np.sqrt(np.mean(np.square(y-model.predict(X))))\n",
        "print(f'Model error : {Y_model_err}')\n",
        "# Plot the result\n",
        "p = scatter(x, y, title=\"Training a scikit-learn model\")\n",
        "p.line(x_plot, poly(x_plot), line_width=6, line_alpha=0.6, color=\"red\", legend_label=r\"Trained model\")\n",
        "plot = (center_plot(p))\n",
        "plot"
      ]
    },
    {
      "cell_type": "code",
      "execution_count": 18,
      "metadata": {
        "tags": []
      },
      "outputs": [],
      "source": [
        "from cml.tasks import RegressionPolynomialSolver\n",
        "explorer = RegressionPolynomialSolver()"
      ]
    },
    {
      "cell_type": "code",
      "execution_count": 19,
      "metadata": {
        "tags": []
      },
      "outputs": [
        {
          "data": {},
          "metadata": {},
          "output_type": "display_data"
        },
        {
          "data": {
            "application/vnd.holoviews_exec.v0+json": "",
            "text/html": [
              "<div id='13068'>\n",
              "  <div class=\"bk-root\" id=\"bc1c147a-2a1b-479e-8bf2-8426ffa1cba5\" data-root-id=\"13068\"></div>\n",
              "</div>\n",
              "<script type=\"application/javascript\">(function(root) {\n",
              "  function embed_document(root) {\n",
              "    var docs_json = {\"11207076-af40-4857-809a-d8294eb150ef\":{\"defs\":[{\"extends\":null,\"module\":null,\"name\":\"ReactiveHTML1\",\"overrides\":[],\"properties\":[]},{\"extends\":null,\"module\":null,\"name\":\"FlexBox1\",\"overrides\":[],\"properties\":[{\"default\":\"flex-start\",\"kind\":null,\"name\":\"align_content\"},{\"default\":\"flex-start\",\"kind\":null,\"name\":\"align_items\"},{\"default\":\"row\",\"kind\":null,\"name\":\"flex_direction\"},{\"default\":\"wrap\",\"kind\":null,\"name\":\"flex_wrap\"},{\"default\":\"flex-start\",\"kind\":null,\"name\":\"justify_content\"}]},{\"extends\":null,\"module\":null,\"name\":\"GridStack1\",\"overrides\":[],\"properties\":[{\"default\":\"warn\",\"kind\":null,\"name\":\"mode\"},{\"default\":null,\"kind\":null,\"name\":\"ncols\"},{\"default\":null,\"kind\":null,\"name\":\"nrows\"},{\"default\":true,\"kind\":null,\"name\":\"allow_resize\"},{\"default\":true,\"kind\":null,\"name\":\"allow_drag\"},{\"default\":[],\"kind\":null,\"name\":\"state\"}]},{\"extends\":null,\"module\":null,\"name\":\"click1\",\"overrides\":[],\"properties\":[{\"default\":\"\",\"kind\":null,\"name\":\"terminal_output\"},{\"default\":\"\",\"kind\":null,\"name\":\"debug_name\"},{\"default\":0,\"kind\":null,\"name\":\"clears\"}]},{\"extends\":null,\"module\":null,\"name\":\"NotificationAreaBase1\",\"overrides\":[],\"properties\":[{\"default\":\"bottom-right\",\"kind\":null,\"name\":\"position\"},{\"default\":0,\"kind\":null,\"name\":\"_clear\"}]},{\"extends\":null,\"module\":null,\"name\":\"NotificationArea1\",\"overrides\":[],\"properties\":[{\"default\":[],\"kind\":null,\"name\":\"notifications\"},{\"default\":\"bottom-right\",\"kind\":null,\"name\":\"position\"},{\"default\":0,\"kind\":null,\"name\":\"_clear\"},{\"default\":[{\"background\":\"#ffc107\",\"icon\":{\"className\":\"fas fa-exclamation-triangle\",\"color\":\"white\",\"tagName\":\"i\"},\"type\":\"warning\"},{\"background\":\"#007bff\",\"icon\":{\"className\":\"fas fa-info-circle\",\"color\":\"white\",\"tagName\":\"i\"},\"type\":\"info\"}],\"kind\":null,\"name\":\"types\"}]},{\"extends\":null,\"module\":null,\"name\":\"Notification\",\"overrides\":[],\"properties\":[{\"default\":null,\"kind\":null,\"name\":\"background\"},{\"default\":3000,\"kind\":null,\"name\":\"duration\"},{\"default\":null,\"kind\":null,\"name\":\"icon\"},{\"default\":\"\",\"kind\":null,\"name\":\"message\"},{\"default\":null,\"kind\":null,\"name\":\"notification_type\"},{\"default\":false,\"kind\":null,\"name\":\"_destroyed\"}]},{\"extends\":null,\"module\":null,\"name\":\"TemplateActions1\",\"overrides\":[],\"properties\":[{\"default\":0,\"kind\":null,\"name\":\"open_modal\"},{\"default\":0,\"kind\":null,\"name\":\"close_modal\"}]},{\"extends\":null,\"module\":null,\"name\":\"MaterialTemplateActions1\",\"overrides\":[],\"properties\":[{\"default\":0,\"kind\":null,\"name\":\"open_modal\"},{\"default\":0,\"kind\":null,\"name\":\"close_modal\"}]}],\"roots\":{\"references\":[{\"attributes\":{},\"id\":\"13013\",\"type\":\"LinearScale\"},{\"attributes\":{},\"id\":\"13092\",\"type\":\"UnionRenderers\"},{\"attributes\":{\"axis_label\":\"$$\\\\color{white} -2.0x^2 + 0.0x^1 + 1.0x^0$$\",\"axis_label_standoff\":10,\"axis_label_text_color\":\"#FFFFFF\",\"axis_label_text_font\":\"Josefin Sans\",\"axis_label_text_font_size\":\"1.9em\",\"axis_label_text_font_style\":\"bold\",\"axis_line_alpha\":0.4,\"axis_line_color\":\"#E0E0E0\",\"coordinates\":null,\"formatter\":{\"id\":\"13046\"},\"group\":null,\"major_label_policy\":{\"id\":\"13047\"},\"major_label_text_color\":\"#E0E0E0\",\"major_label_text_font\":\"Josefin Sans\",\"major_label_text_font_size\":\"1.15em\",\"major_tick_line_alpha\":0.4,\"major_tick_line_color\":\"#E0E0E0\",\"minor_tick_line_alpha\":0.4,\"minor_tick_line_color\":\"#E0E0E0\",\"ticker\":{\"id\":\"13020\"}},\"id\":\"13019\",\"type\":\"LinearAxis\"},{\"attributes\":{\"background_fill_alpha\":0.9,\"background_fill_color\":\"#0f0f0f\",\"below\":[{\"id\":\"13015\"}],\"border_fill_alpha\":0.8,\"border_fill_color\":\"#111111\",\"center\":[{\"id\":\"13018\"},{\"id\":\"13022\"},{\"id\":\"13054\"}],\"height\":450,\"left\":[{\"id\":\"13019\"}],\"outline_line_alpha\":0.25,\"outline_line_color\":\"#E0E0E0\",\"outline_line_width\":3,\"renderers\":[{\"id\":\"13042\"},{\"id\":\"13066\"}],\"title\":{\"id\":\"13005\"},\"toolbar\":{\"id\":\"13030\"},\"toolbar_location\":null,\"x_range\":{\"id\":\"13007\"},\"x_scale\":{\"id\":\"13011\"},\"y_range\":{\"id\":\"13009\"},\"y_scale\":{\"id\":\"13013\"}},\"id\":\"13004\",\"subtype\":\"Figure\",\"type\":\"Plot\"},{\"attributes\":{\"line_alpha\":0.1,\"line_color\":\"red\",\"line_width\":4,\"x\":{\"field\":\"x\"},\"y\":{\"field\":\"y\"}},\"id\":\"13064\",\"type\":\"Line\"},{\"attributes\":{\"fill_alpha\":{\"value\":0.8},\"fill_color\":{\"value\":\"red\"},\"line_color\":{\"value\":\"white\"}},\"id\":\"13058\",\"type\":\"Circle\"},{\"attributes\":{\"data\":{\"x\":{\"__ndarray__\":\"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\",\"dtype\":\"float64\",\"order\":\"little\",\"shape\":[200]},\"y\":{\"__ndarray__\":\"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\",\"dtype\":\"float64\",\"order\":\"little\",\"shape\":[200]}},\"selected\":{\"id\":\"13093\"},\"selection_policy\":{\"id\":\"13092\"}},\"id\":\"13062\",\"type\":\"ColumnDataSource\"},{\"attributes\":{\"mode\":\"append\",\"overlay\":{\"id\":\"13095\"},\"renderers\":[{\"id\":\"13042\"}]},\"id\":\"13060\",\"type\":\"BoxSelectTool\"},{\"attributes\":{},\"id\":\"13093\",\"type\":\"Selection\"},{\"attributes\":{\"callback\":null,\"mode\":\"vline\",\"renderers\":[{\"id\":\"13042\"}],\"tooltips\":null},\"id\":\"13056\",\"type\":\"HoverTool\"},{\"attributes\":{\"line_alpha\":0.2,\"line_color\":\"red\",\"line_width\":4,\"x\":{\"field\":\"x\"},\"y\":{\"field\":\"y\"}},\"id\":\"13065\",\"type\":\"Line\"},{\"attributes\":{},\"id\":\"13020\",\"type\":\"BasicTicker\"},{\"attributes\":{},\"id\":\"13028\",\"type\":\"HelpTool\"},{\"attributes\":{},\"id\":\"13046\",\"type\":\"BasicTickFormatter\"},{\"attributes\":{\"axis_label\":\"$$\\\\color{white} x$$\",\"axis_label_standoff\":10,\"axis_label_text_color\":\"#FFFFFF\",\"axis_label_text_font\":\"Josefin Sans\",\"axis_label_text_font_size\":\"1.9em\",\"axis_label_text_font_style\":\"bold\",\"axis_line_alpha\":0.4,\"axis_line_color\":\"#E0E0E0\",\"coordinates\":null,\"formatter\":{\"id\":\"13049\"},\"group\":null,\"major_label_policy\":{\"id\":\"13050\"},\"major_label_text_color\":\"#E0E0E0\",\"major_label_text_font\":\"Josefin Sans\",\"major_label_text_font_size\":\"1.15em\",\"major_tick_line_alpha\":0.4,\"major_tick_line_color\":\"#E0E0E0\",\"minor_tick_line_alpha\":0.4,\"minor_tick_line_color\":\"#E0E0E0\",\"ticker\":{\"id\":\"13016\"}},\"id\":\"13015\",\"type\":\"LinearAxis\"},{\"attributes\":{\"fill_alpha\":{\"value\":0.25},\"fill_color\":{\"value\":\"midnightblue\"},\"hatch_alpha\":{\"value\":0.25},\"line_alpha\":{\"value\":0.25},\"line_color\":{\"value\":\"white\"},\"size\":{\"value\":10},\"x\":{\"field\":\"x\"},\"y\":{\"field\":\"y\"}},\"id\":\"13038\",\"type\":\"Circle\"},{\"attributes\":{\"fill_alpha\":{\"value\":0.5},\"fill_color\":{\"value\":\"midnightblue\"},\"line_color\":{\"value\":\"white\"}},\"id\":\"13059\",\"type\":\"Circle\"},{\"attributes\":{\"coordinates\":null,\"group\":null,\"text\":\"Polynomial regression problem\",\"text_color\":\"#E0E0E0\",\"text_font\":\"Josefin Sans\",\"text_font_size\":\"2.1em\"},\"id\":\"13005\",\"type\":\"Title\"},{\"attributes\":{},\"id\":\"13047\",\"type\":\"AllLabels\"},{\"attributes\":{\"args\":{\"bidirectional\":true,\"properties\":{\"readonly\":\"disabled\"},\"source\":{\"id\":\"13109\"},\"target\":{\"id\":\"13109\"}},\"code\":\"\\n    var value = source['readonly'];\\n    value = value;\\n    value = value;\\n    try {\\n      var property = target.properties['disabled'];\\n      if (property !== undefined) { property.validate(value); }\\n    } catch(err) {\\n      console.log('WARNING: Could not set disabled on target, raised error: ' + err);\\n      return;\\n    }\\n    try {\\n      target['disabled'] = value;\\n    } catch(err) {\\n      console.log(err)\\n    }\\n    \",\"tags\":[[139733410800112,[null,\"readonly\"],[null,\"disabled\"]]]},\"id\":\"13124\",\"type\":\"CustomJS\"},{\"attributes\":{\"axis\":{\"id\":\"13019\"},\"coordinates\":null,\"dimension\":1,\"grid_line_alpha\":0.15,\"grid_line_color\":\"#E0E0E0\",\"group\":null,\"ticker\":null},\"id\":\"13022\",\"type\":\"Grid\"},{\"attributes\":{\"line_alpha\":0.7,\"line_color\":\"red\",\"line_width\":4,\"x\":{\"field\":\"x\"},\"y\":{\"field\":\"y\"}},\"id\":\"13063\",\"type\":\"Line\"},{\"attributes\":{},\"id\":\"13016\",\"type\":\"BasicTicker\"},{\"attributes\":{},\"id\":\"13049\",\"type\":\"BasicTickFormatter\"},{\"attributes\":{\"axis\":{\"id\":\"13015\"},\"coordinates\":null,\"grid_line_alpha\":0.15,\"grid_line_color\":\"#E0E0E0\",\"group\":null,\"ticker\":null},\"id\":\"13018\",\"type\":\"Grid\"},{\"attributes\":{},\"id\":\"13050\",\"type\":\"AllLabels\"},{\"attributes\":{\"args\":{\"bidirectional\":true,\"properties\":{\"readonly\":\"disabled\"},\"source\":{\"id\":\"13109\"},\"target\":{\"id\":\"13109\"}},\"code\":\"\\n    var value = source['disabled'];\\n    value = value;\\n    value = value;\\n    try {\\n      var property = target.properties['readonly'];\\n      if (property !== undefined) { property.validate(value); }\\n    } catch(err) {\\n      console.log('WARNING: Could not set readonly on target, raised error: ' + err);\\n      return;\\n    }\\n    try {\\n      target['readonly'] = value;\\n    } catch(err) {\\n      console.log(err)\\n    }\\n    \",\"tags\":[[139733410800112,[null,\"readonly\"],[null,\"disabled\"]]]},\"id\":\"13125\",\"type\":\"CustomJS\"},{\"attributes\":{\"fill_alpha\":{\"value\":0.5},\"fill_color\":{\"value\":\"red\"},\"hatch_alpha\":{\"value\":0.5},\"line_alpha\":{\"value\":0.5},\"line_color\":{\"value\":\"white\"},\"size\":{\"value\":10},\"x\":{\"field\":\"x\"},\"y\":{\"field\":\"y\"}},\"id\":\"13040\",\"type\":\"Circle\"},{\"attributes\":{\"margin\":[5,5,5,5],\"name\":\"HSpacer00188\",\"sizing_mode\":\"stretch_width\"},\"id\":\"13069\",\"type\":\"Spacer\"},{\"attributes\":{},\"id\":\"13024\",\"type\":\"WheelZoomTool\"},{\"attributes\":{},\"id\":\"13023\",\"type\":\"PanTool\"},{\"attributes\":{\"bottom_units\":\"screen\",\"coordinates\":null,\"fill_alpha\":0.5,\"fill_color\":\"lightgrey\",\"group\":null,\"left_units\":\"screen\",\"level\":\"overlay\",\"line_alpha\":1.0,\"line_color\":\"black\",\"line_dash\":[4,4],\"line_width\":2,\"right_units\":\"screen\",\"syncable\":false,\"top_units\":\"screen\"},\"id\":\"13095\",\"type\":\"BoxAnnotation\"},{\"attributes\":{\"overlay\":{\"id\":\"13029\"}},\"id\":\"13025\",\"type\":\"BoxZoomTool\"},{\"attributes\":{},\"id\":\"13026\",\"type\":\"SaveTool\"},{\"attributes\":{},\"id\":\"13027\",\"type\":\"ResetTool\"},{\"attributes\":{},\"id\":\"13051\",\"type\":\"UnionRenderers\"},{\"attributes\":{\"bottom_units\":\"screen\",\"coordinates\":null,\"fill_alpha\":0.5,\"fill_color\":\"lightgrey\",\"group\":null,\"left_units\":\"screen\",\"level\":\"overlay\",\"line_alpha\":1.0,\"line_color\":\"black\",\"line_dash\":[4,4],\"line_width\":2,\"right_units\":\"screen\",\"syncable\":false,\"top_units\":\"screen\"},\"id\":\"13029\",\"type\":\"BoxAnnotation\"},{\"attributes\":{\"fill_alpha\":{\"value\":0.2},\"fill_color\":{\"value\":\"midnightblue\"},\"hatch_alpha\":{\"value\":0.2},\"line_alpha\":{\"value\":0.2},\"line_color\":{\"value\":\"white\"},\"size\":{\"value\":10},\"x\":{\"field\":\"x\"},\"y\":{\"field\":\"y\"}},\"id\":\"13041\",\"type\":\"Circle\"},{\"attributes\":{\"source\":{\"id\":\"13062\"}},\"id\":\"13067\",\"type\":\"CDSView\"},{\"attributes\":{},\"id\":\"13052\",\"type\":\"Selection\"},{\"attributes\":{\"labels\":[\"Error\"],\"margin\":[5,10,5,10]},\"id\":\"13077\",\"type\":\"CheckboxGroup\"},{\"attributes\":{\"end\":5.0,\"margin\":[5,10,5,10],\"start\":0.0,\"step\":0.1,\"title\":\"Noise level\",\"value\":0.1},\"id\":\"13075\",\"type\":\"Slider\"},{\"attributes\":{\"code\":\"def polynomial(\\n        coefficients: jnp.ndarray,\\n        n_observations: int = 100) -> [jnp.ndarray, jnp.ndarray]:\\n    x = jnp.linspace(0, 1, n_observations)\\n    y = jnp.polyval(coefficients, x)\\n    return x, \",\"filename\":\"\",\"height\":150,\"js_property_callbacks\":{\"change:disabled\":[{\"id\":\"13125\"}],\"change:readonly\":[{\"id\":\"13124\"}]},\"language\":\"python\",\"margin\":[5,10,5,10],\"sizing_mode\":\"stretch_both\",\"theme\":\"chaos\"},\"id\":\"13109\",\"type\":\"panel.models.ace.AcePlot\"},{\"attributes\":{\"coordinates\":null,\"data_source\":{\"id\":\"13062\"},\"glyph\":{\"id\":\"13063\"},\"group\":null,\"hover_glyph\":null,\"muted_glyph\":{\"id\":\"13065\"},\"nonselection_glyph\":{\"id\":\"13064\"},\"view\":{\"id\":\"13067\"}},\"id\":\"13066\",\"type\":\"GlyphRenderer\"},{\"attributes\":{\"margin\":[5,10,5,10],\"name\":\"\",\"text\":\"<b>Problem parameters</b>\"},\"id\":\"13073\",\"type\":\"Div\"},{\"attributes\":{\"children\":[{\"id\":\"13073\"},{\"id\":\"13074\"},{\"id\":\"13075\"},{\"id\":\"13076\"},{\"id\":\"13077\"},{\"id\":\"13078\"},{\"id\":\"13079\"},{\"id\":\"13080\"},{\"id\":\"13081\"}],\"margin\":[5,5,5,5],\"min_width\":300,\"name\":\"Problem parameters\",\"width\":300},\"id\":\"13072\",\"type\":\"Column\"},{\"attributes\":{\"children\":[{\"id\":\"13004\"}],\"margin\":[0,0,0,0],\"name\":\"Row00213\"},\"id\":\"13082\",\"type\":\"Row\"},{\"attributes\":{\"labels\":[\"Ground truth\"],\"margin\":[5,10,5,10]},\"id\":\"13076\",\"type\":\"CheckboxGroup\"},{\"attributes\":{},\"id\":\"13009\",\"type\":\"DataRange1d\"},{\"attributes\":{\"source\":{\"id\":\"13037\"}},\"id\":\"13043\",\"type\":\"CDSView\"},{\"attributes\":{\"children\":[{\"id\":\"13072\"},{\"id\":\"13082\"}],\"margin\":[0,0,0,0],\"name\":\"Row00216\"},\"id\":\"13071\",\"type\":\"Row\"},{\"attributes\":{\"coordinates\":null,\"data_source\":{\"id\":\"13037\"},\"glyph\":{\"id\":\"13038\"},\"group\":null,\"hover_glyph\":{\"id\":\"13040\"},\"muted_glyph\":{\"id\":\"13041\"},\"nonselection_glyph\":{\"id\":\"13059\"},\"selection_glyph\":{\"id\":\"13058\"},\"view\":{\"id\":\"13043\"}},\"id\":\"13042\",\"type\":\"GlyphRenderer\"},{\"attributes\":{\"client_comm_id\":\"6dc78a839493493f97bb7d2c4665b0e1\",\"comm_id\":\"fb3e626eb2be4f89842e00e243efd261\",\"plot_id\":\"13068\"},\"id\":\"13152\",\"type\":\"panel.models.comm_manager.CommManager\"},{\"attributes\":{\"label\":{\"value\":\"Observations\"},\"renderers\":[{\"id\":\"13042\"}]},\"id\":\"13055\",\"type\":\"LegendItem\"},{\"attributes\":{\"background_fill_alpha\":0.25,\"background_fill_color\":\"#505050\",\"border_line_alpha\":0.25,\"coordinates\":null,\"group\":null,\"items\":[{\"id\":\"13055\"}],\"label_standoff\":8,\"label_text_color\":\"#E0E0E0\",\"label_text_font\":\"Josefin Sans\",\"label_text_font_size\":\"1.15em\",\"spacing\":8},\"id\":\"13054\",\"type\":\"Legend\"},{\"attributes\":{\"end\":5.0,\"margin\":[5,10,5,10],\"start\":-5.0,\"step\":0.1,\"title\":\"X 0\",\"value\":1.0},\"id\":\"13080\",\"type\":\"Slider\"},{\"attributes\":{\"children\":[{\"id\":\"13071\"},{\"id\":\"13109\"}],\"margin\":[0,0,0,0],\"name\":\"Column00219\"},\"id\":\"13070\",\"type\":\"Column\"},{\"attributes\":{\"end\":1000,\"margin\":[5,10,5,10],\"start\":10,\"title\":\"Number observations\",\"value\":100},\"id\":\"13074\",\"type\":\"Slider\"},{\"attributes\":{\"end\":5.0,\"margin\":[5,10,5,10],\"start\":-5.0,\"step\":0.1,\"title\":\"X 2\",\"value\":-2.0},\"id\":\"13078\",\"type\":\"Slider\"},{\"attributes\":{\"children\":[{\"id\":\"13069\"},{\"id\":\"13070\"},{\"id\":\"13110\"}],\"margin\":[0,0,0,0],\"name\":\"Row00221\"},\"id\":\"13068\",\"type\":\"Row\"},{\"attributes\":{\"end\":30,\"margin\":[5,10,5,10],\"start\":1,\"title\":\"Degree\",\"value\":1},\"id\":\"13081\",\"type\":\"Slider\"},{\"attributes\":{\"data\":{\"x\":{\"__ndarray__\":\"AAAAALV+JTy1fqU8ED74PLV+JT1i3k49ED54Pd7OkD21fqU9jC66PWLezj05juM9ED74PfN2Bj7ezhA+yiYbPrV+JT6g1i8+jC46PneGRD5i3k4+TjZZPjmOYz4k5m0+ED54Pv1KgT7zdoY+6aKLPt7OkD7U+pU+yiabPr9SoD61fqU+q6qqPqDWrz6WArU+jC66PoFavz53hsQ+bbLJPmLezj5YCtQ+TjbZPkNi3j45juM+L7roPiTm7T4aEvM+ED74PgVq/T79SgE/+OADP/N2Bj/uDAk/6aILP+Q4Dj/ezhA/2WQTP9T6FT/PkBg/yiYbP8W8HT+/UiA/uugiP7V+JT+wFCg/q6oqP6VALT+g1i8/m2wyP5YCNT+RmDc/jC46P4bEPD+BWj8/fPBBP3eGRD9yHEc/bbJJP2dITD9i3k4/XXRRP1gKVD9ToFY/TjZZP0jMWz9DYl4/PvhgPzmOYz80JGY/L7poPylQaz8k5m0/H3xwPxoScz8VqHU/ED54PwrUej8Fan0/AACAPw==\",\"dtype\":\"float32\",\"order\":\"little\",\"shape\":[100]},\"y\":{\"__ndarray__\":\"vcGFPxNyij9LwIQ/cqBxPw49aT+51Wo/FfJ3P7lTfz90ZoI/TOpjP2p3hz/Me3M/UV9rP8XYaj8pRnE/tDSBP8xSeT94vHk/EMZpPzAQWD8+il4//eN2PwHhWz/QVVk/FLdVP2CEUD/oJlQ/ucJdPzy0SD869Gc/kVRcPw7wQD9CqVw/puFCPwjhWT98Rz8/M6YvP6vQPT+Sn0Y/MAsuP8UHKT+tTxk/Q2wsPyIPKT9Y2hc/l6YsP/t5Bz8r1O0+XvobP5G3Aj+18fQ+lZXTPrkSAj9t9K4+EgqqPoZJxD53feE+LhjSPtwHnj7QG18+Tw+yPjkDqj7ypgc+ow9iPo7GFD5Y7Co+GQsDPqkUPD2QNGu87vEPvX/1ob2MKU49jMQWPIVN270E1p69twxGvhT0eb4vIoy+z9BtviL+r76Cmb2+cw7Svj69qL7U+eu+7mgIv/9e+L6D4gW/yq4Lv4HpG7+dkSW/5H48v68uG7+ntUe/BPBPv7GOOr+YUWK/HgFkvz5RZb/vq4K/28eMvw==\",\"dtype\":\"float32\",\"order\":\"little\",\"shape\":[100]}},\"selected\":{\"id\":\"13052\"},\"selection_policy\":{\"id\":\"13051\"}},\"id\":\"13037\",\"type\":\"ColumnDataSource\"},{\"attributes\":{},\"id\":\"13007\",\"type\":\"DataRange1d\"},{\"attributes\":{\"end\":5.0,\"margin\":[5,10,5,10],\"start\":-5.0,\"step\":0.1,\"title\":\"X 1\",\"value\":0.0},\"id\":\"13079\",\"type\":\"Slider\"},{\"attributes\":{\"tools\":[{\"id\":\"13023\"},{\"id\":\"13024\"},{\"id\":\"13025\"},{\"id\":\"13026\"},{\"id\":\"13027\"},{\"id\":\"13028\"},{\"id\":\"13056\"},{\"id\":\"13060\"}]},\"id\":\"13030\",\"type\":\"Toolbar\"},{\"attributes\":{\"margin\":[5,5,5,5],\"name\":\"HSpacer00220\",\"sizing_mode\":\"stretch_width\"},\"id\":\"13110\",\"type\":\"Spacer\"},{\"attributes\":{},\"id\":\"13011\",\"type\":\"LinearScale\"}],\"root_ids\":[\"13068\",\"13152\"]},\"title\":\"Bokeh Application\",\"version\":\"2.4.3\"}};\n",
              "    var render_items = [{\"docid\":\"11207076-af40-4857-809a-d8294eb150ef\",\"root_ids\":[\"13068\"],\"roots\":{\"13068\":\"bc1c147a-2a1b-479e-8bf2-8426ffa1cba5\"}}];\n",
              "    root.Bokeh.embed.embed_items_notebook(docs_json, render_items);\n",
              "    for (const render_item of render_items) {\n",
              "      for (const root_id of render_item.root_ids) {\n",
              "\tconst id_el = document.getElementById(root_id)\n",
              "\tif (id_el.children.length && (id_el.children[0].className === 'bk-root')) {\n",
              "\t  const root_el = id_el.children[0]\n",
              "\t  root_el.id = root_el.id + '-rendered'\n",
              "\t}\n",
              "      }\n",
              "    }\n",
              "  }\n",
              "  if (root.Bokeh !== undefined && root.Bokeh.Panel !== undefined) {\n",
              "    embed_document(root);\n",
              "  } else {\n",
              "    var attempts = 0;\n",
              "    var timer = setInterval(function(root) {\n",
              "      if (root.Bokeh !== undefined && root.Bokeh.Panel !== undefined) {\n",
              "        clearInterval(timer);\n",
              "        embed_document(root);\n",
              "      } else if (document.readyState == \"complete\") {\n",
              "        attempts++;\n",
              "        if (attempts > 200) {\n",
              "          clearInterval(timer);\n",
              "          console.log(\"Bokeh: ERROR: Unable to run BokehJS code because BokehJS library is missing\");\n",
              "        }\n",
              "      }\n",
              "    }, 25, root)\n",
              "  }\n",
              "})(window);</script>"
            ],
            "text/plain": [
              "Row\n",
              "    [0] HSpacer()\n",
              "    [1] Column\n",
              "        [0] Row\n",
              "            [0] Param(RegressionPolynomialSolver, name='Problem parameters', widgets={})\n",
              "            [1] ParamMethod(method, _pane=Bokeh)\n",
              "        [1] Ace(height=150, language='python', sizing_mode='stretch_both', theme='chaos', value='def polynomial(\\n        ...)\n",
              "    [2] HSpacer()"
            ]
          },
          "execution_count": 19,
          "metadata": {
            "application/vnd.holoviews_exec.v0+json": {
              "id": "13068"
            }
          },
          "output_type": "execute_result"
        }
      ],
      "source": [
        "def solve(x, y, degree):\n",
        "    X = x[:, np.newaxis]\n",
        "    # Create our polynomial model for regression\n",
        "    model = make_pipeline(PolynomialFeatures(degree), LinearRegression())\n",
        "    # Fit the parameters of this model\n",
        "    model.fit(X, y)\n",
        "    # Predict the values\n",
        "    x_predict = np.linspace(np.min(x), np.max(x), 200)[:, np.newaxis]\n",
        "    y_model = model.predict(x_predict)\n",
        "    return x_predict[:, 0], y_model #np.array(jnp.zeros(y_model.shape))\n",
        "\n",
        "explorer.solve = solve\n",
        "explorer.render()"
      ]
    },
    {
      "cell_type": "markdown",
      "metadata": {},
      "source": [
        "<a id=\"linear\"></a>\n",
        "# Simple linear regression \n",
        "\n",
        "As discussed previously, regression allows to model the relationships that exist between inputs $\\mathbf{x}\\in\\mathbb{R}^{n}$ and a continuous output $y\\in\\mathbb{R}$. In the case of **linear** regression, we assume that the data that we observe comes from a linear relationship in the input, so that\n",
        "$$y = w_0 + w_1x_1 + w_2x_2 + ... + w_nx_n + \\epsilon$$\n",
        "with $\\epsilon$ exhibiting the *observation noise* (also called *residual error*) that is always present in measurements.\n",
        "\n",
        "To understand how we could learn a model approximating this relationship, we start with the case of *simple* linear regression, where $\\mathbf{x}\\in\\mathbb{R}$. This implies that our model will follow\n",
        "$$\\bar{y} = w_0 + w_1 x$$\n",
        "\n",
        "We will measure the errors made by our model by using the Mean Squared Error (MSE) loss, defined as \n",
        "$$\\mathcal{L}_{MSE}\\left( \\bar{\\mathbf{y}},\\theta \\right) = \\sum_{i=1}^{n} \\left| y_{i} - \\bar{y}_{i} \\right|^{2} = \\sum_{i=1}^{n} \\left| y_{i} - (w_{0} + w_{1} x_{i}) \\right|^{2}$$\n",
        "\n",
        "Then our goal is to find the most adequate set of parameters $\\theta = \\{w_{0}, w_{1}\\}$, which are those that minimize the MSE loss defined previously. Therefore, we aim to obtain\n",
        "$$\\theta^{*}= \\underset{\\theta}{\\text{argmin }} \\mathcal{L}\\left( \\bar{\\mathbf{y}}, \\mathbf{y} \\mid f_{\\theta}, \\theta \\right)$$\n",
        "\n",
        "To do so, we will implement the **gradient descent** algorithm discussed in the course.\n",
        "\n",
        "## Manual implementation - `NumPy`\n",
        "\n",
        "We start by performing a *full manual implementation*, in the sense that we need to manually derive the gradient in order to apply the gradient descent updates. To do so, we will rely on [NumPy](https://numpy.org/), which is a fundamental library for numerical computing offering support for N-dimensional arrays and scientific computing tasks, such as linear algebra, statistical analysis, and matrix manipulation. We strongly encourage you to learn NumPy through the set of [tutorials](https://numpy.org/learn/). For the sake of this introductory tutorial, we will provide the explanation for all of the functions that we will use in this first exercise. After that exercise, we will assume for the rest of the course that knowledge of Numpy should be found online. \n",
        "\n",
        "We start by import libraries (`NumPy`) and set a random seed to ensure that the random number generator produces always a reproducible series of random numbers.\n",
        "\n",
        "**Used functions**\n",
        "- `np.random.seed`: sets the seed for the NumPy random number generator. [Documentation](https://numpy.org/doc/stable/reference/random/generated/numpy.random.seed.html)"
      ]
    },
    {
      "cell_type": "code",
      "execution_count": 20,
      "metadata": {
        "tags": []
      },
      "outputs": [],
      "source": [
        "import numpy as np\n",
        "np.random.seed(42)"
      ]
    },
    {
      "cell_type": "code",
      "execution_count": 21,
      "metadata": {
        "tags": []
      },
      "outputs": [
        {
          "data": {
            "text/plain": [
              "\u001b[0;31mDocstring:\u001b[0m\n",
              "seed(self, seed=None)\n",
              "\n",
              "Reseed a legacy MT19937 BitGenerator\n",
              "\n",
              "Notes\n",
              "-----\n",
              "This is a convenience, legacy function.\n",
              "\n",
              "The best practice is to **not** reseed a BitGenerator, rather to\n",
              "recreate a new one. This method is here for legacy reasons.\n",
              "This example demonstrates best practice.\n",
              "\n",
              ">>> from numpy.random import MT19937\n",
              ">>> from numpy.random import RandomState, SeedSequence\n",
              ">>> rs = RandomState(MT19937(SeedSequence(123456789)))\n",
              "# Later, you want to restart the stream\n",
              ">>> rs = RandomState(MT19937(SeedSequence(987654321)))\n",
              "\u001b[0;31mType:\u001b[0m      builtin_function_or_method"
            ]
          },
          "metadata": {},
          "output_type": "display_data"
        }
      ],
      "source": [
        "?np.random.seed"
      ]
    },
    {
      "cell_type": "markdown",
      "metadata": {},
      "source": [
        "### Generate a synthetic dataset.\n",
        "\n",
        "For the sake of this exercise, we will generate the data ourselves, so that we know the true values that we are looking for in advance. Hence, we define a linear relationship following\n",
        "$$y = w^{t}_0 + w^{t}_1 x + \\epsilon$$\n",
        "\n",
        "**Used functions**\n",
        "- `np.random.rand`: generates an array of random numbers uniformly distributed over [0, 1). [Documentation](https://numpy.org/doc/stable/reference/random/generated/numpy.random.rand.html)\n",
        "- `np.random.randn`: generates an array of random numbers from the standard normal distribution (mean 0, variance 1). [Documentation](https://numpy.org/doc/stable/reference/random/generated/numpy.random.randn.html)\n",
        "- `np.ones`: generates an array of ones with a specified shape. [Documentation](https://numpy.org/doc/stable/reference/generated/numpy.ones.html)\n",
        "- `np.c_`: concatenates arrays along the second axis. [Documentation](https://numpy.org/doc/stable/reference/generated/numpy.c_.html)"
      ]
    },
    {
      "cell_type": "code",
      "execution_count": 22,
      "metadata": {
        "tags": []
      },
      "outputs": [],
      "source": [
        "true_w0 = 2\n",
        "true_w1 = 3\n",
        "x_min = 0\n",
        "x_max = 1\n",
        "n_obs = 100\n",
        "x = np.linspace(x_min, x_max, n_obs)\n",
        "y = true_w1 * x + true_w0"
      ]
    },
    {
      "cell_type": "markdown",
      "metadata": {},
      "source": [
        "### Computing the MSE loss\n",
        "\n",
        "We will measure the errors made by our model by using the Mean Squared Error (MSE) loss, defined as \n",
        "$$\\mathcal{L}_{MSE}\\left( \\bar{\\mathbf{y}},\\theta \\right) = \\sum_{i=1}^{n} \\left| y_{i} - \\bar{y}_{i} \\right|^{2} = \\sum_{i=1}^{n} \\left| y_{i} - (w_{0} + w_{1} x_{i}) \\right|^{2}$$\n",
        "\n",
        "This will allow us to evaluate the performances of our model, but is also the basis for the following gradient descent algorithm.\n",
        "\n",
        "**Used functions**\n",
        "- `np.sum`: computes the sum of the provided array (optionally across a provided `axis`). [Documentation](https://numpy.org/doc/stable/reference/generated/numpy.mean.html)"
      ]
    },
    {
      "cell_type": "code",
      "execution_count": 23,
      "metadata": {
        "tags": []
      },
      "outputs": [],
      "source": [
        "def mse_loss(y, y_bar):\n",
        "    return np.sum((y - y_bar) ** 2)"
      ]
    },
    {
      "cell_type": "markdown",
      "metadata": {},
      "source": [
        "### Implement the gradient descent algorithm.\n",
        "\n",
        "As seen in the course Initialize the weight $w_1$ and bias $w_0$ to small random values\n",
        "1. Evaluate the predictions made by our model \n",
        "$$\\hat{y} = w_{1}x + w_0$$\n",
        "2. Compute the mean squared error (MSE) loss between the predicted values and the ground truth labels: \n",
        "$$\\mathcal{L}_{MSE} = \\frac{1}{n} \\sum_{i=1}^n (\\bar{y_i} - y_i)^2$$\n",
        "3. Compute the gradients of the loss with respect to the weight and bias (see derivation in the course)\n",
        "$$\\frac{\\partial \\mathcal{L}}{\\partial w_1} = \\sum_{i} 2 * (\\bar{y}_{i} - y_{i})*x_{i}$$\n",
        "$$\\frac{\\partial \\mathcal{L}}{\\partial w_0} = \\sum_{i} 2 * (\\bar{y}_{i} - y_{i})$$\n",
        "4. Update the weights and bias using the gradients and a learning rate $\\eta$: \n",
        "$$w_1 \\leftarrow w_1 - \\eta \\frac{\\partial \\mathcal{L}}{\\partial w_1}$$ \n",
        "$$w_0 \\leftarrow w_0 - \\eta \\frac{\\partial \\mathcal{L}}{\\partial w_0}$$"
      ]
    },
    {
      "cell_type": "code",
      "execution_count": 43,
      "metadata": {
        "tags": []
      },
      "outputs": [],
      "source": [
        "w0 = np.random.random()\n",
        "w1 = np.random.random()\n",
        "\n",
        "eta = 0.001\n",
        "n_iter = 1000\n",
        "\n",
        "for i in range(n_iter):\n",
        "    y_bar = w1 * x + w0\n",
        "    error = mse_loss(y, y_bar) / len(y_bar)\n",
        "    dw1 = - 2 * np.sum((y - y_bar) * x)\n",
        "    dw0 = - 2 * np.sum(y - y_bar)\n",
        "    \n",
        "    w0 -= eta * dw0\n",
        "    w1 -= eta * dw1\n",
        "\n"
      ]
    },
    {
      "cell_type": "code",
      "execution_count": 37,
      "metadata": {
        "jupyter": {
          "source_hidden": true
        },
        "tags": []
      },
      "outputs": [],
      "source": [
        "# Parameters to optimize\n",
        "w_0 = np.random.randn()\n",
        "w_1 = np.random.randn()\n",
        "# Hyperparameters\n",
        "n_iter = 1000\n",
        "eta = 1e-3\n",
        "for i in range(n_iter):\n",
        "    # Evaluate the predictions made by our model\n",
        "    y_bar = w_1 * x + w_0\n",
        "    # Compute the errors\n",
        "    error = mse_loss(y, y_bar)\n",
        "    # Compute the gradients for each parameter\n",
        "    dw_1 = np.sum(2 * (y_bar - y) * x)\n",
        "    dw_0 = np.sum(2 * (y_bar - y))\n",
        "    # Update the parameter values\n",
        "    w_1 = w_1 - eta * dw_1\n",
        "    w_0 = w_0 - eta * dw_0"
      ]
    },
    {
      "cell_type": "code",
      "execution_count": 38,
      "metadata": {
        "tags": []
      },
      "outputs": [
        {
          "name": "stdout",
          "output_type": "stream",
          "text": [
            "2.9999984196929557\n",
            "2.0000008469406523\n"
          ]
        }
      ],
      "source": [
        "# Parameters\n",
        "n_iter = 1000\n",
        "lr = 0.001\n",
        "def gradient_descent(x, y, n_iter, lr):\n",
        "    # Initialize the parameters\n",
        "    w_1 = np.random.randn()\n",
        "    w_0 = np.random.randn()\n",
        "    # Perform gradient descent\n",
        "    for i in range(n_iter):\n",
        "        # 1. Calculate the predictions\n",
        "        y_bar = w_1 * x + w_0\n",
        "        # 2. Compute the loss\n",
        "        loss = mse_loss(y, y_bar)\n",
        "        # 3. Calculate the gradients\n",
        "        dw_1 = 2 * np.sum((y_bar - y) * x)\n",
        "        dw_0 = 2 * np.sum((y_bar - y))\n",
        "        # 4. Update the parameters\n",
        "        w_1 -= lr * dw_1\n",
        "        w_0 -= lr * dw_0\n",
        "    return w_1, w_0\n",
        "w_1, w_0 = gradient_descent(x, y, n_iter, lr)\n",
        "print(w_1)\n",
        "print(w_0)"
      ]
    },
    {
      "cell_type": "markdown",
      "metadata": {},
      "source": [
        "### Visualize the results.\n",
        "\n",
        "We can see how well our model fits to the observed data by plotting it against the observed samples."
      ]
    },
    {
      "cell_type": "code",
      "execution_count": 39,
      "metadata": {
        "tags": []
      },
      "outputs": [
        {
          "data": {},
          "metadata": {},
          "output_type": "display_data"
        },
        {
          "data": {
            "application/vnd.holoviews_exec.v0+json": "",
            "text/html": [
              "<div id='43782'>\n",
              "  <div class=\"bk-root\" id=\"f185c9a2-bc6d-400e-ad72-c70c4cce77a8\" data-root-id=\"43782\"></div>\n",
              "</div>\n",
              "<script type=\"application/javascript\">(function(root) {\n",
              "  function embed_document(root) {\n",
              "    var docs_json = {\"40356b57-9d9d-47fa-93ac-a7d2f45bd23c\":{\"defs\":[{\"extends\":null,\"module\":null,\"name\":\"ReactiveHTML1\",\"overrides\":[],\"properties\":[]},{\"extends\":null,\"module\":null,\"name\":\"FlexBox1\",\"overrides\":[],\"properties\":[{\"default\":\"flex-start\",\"kind\":null,\"name\":\"align_content\"},{\"default\":\"flex-start\",\"kind\":null,\"name\":\"align_items\"},{\"default\":\"row\",\"kind\":null,\"name\":\"flex_direction\"},{\"default\":\"wrap\",\"kind\":null,\"name\":\"flex_wrap\"},{\"default\":\"flex-start\",\"kind\":null,\"name\":\"justify_content\"}]},{\"extends\":null,\"module\":null,\"name\":\"GridStack1\",\"overrides\":[],\"properties\":[{\"default\":\"warn\",\"kind\":null,\"name\":\"mode\"},{\"default\":null,\"kind\":null,\"name\":\"ncols\"},{\"default\":null,\"kind\":null,\"name\":\"nrows\"},{\"default\":true,\"kind\":null,\"name\":\"allow_resize\"},{\"default\":true,\"kind\":null,\"name\":\"allow_drag\"},{\"default\":[],\"kind\":null,\"name\":\"state\"}]},{\"extends\":null,\"module\":null,\"name\":\"click1\",\"overrides\":[],\"properties\":[{\"default\":\"\",\"kind\":null,\"name\":\"terminal_output\"},{\"default\":\"\",\"kind\":null,\"name\":\"debug_name\"},{\"default\":0,\"kind\":null,\"name\":\"clears\"}]},{\"extends\":null,\"module\":null,\"name\":\"NotificationAreaBase1\",\"overrides\":[],\"properties\":[{\"default\":\"bottom-right\",\"kind\":null,\"name\":\"position\"},{\"default\":0,\"kind\":null,\"name\":\"_clear\"}]},{\"extends\":null,\"module\":null,\"name\":\"NotificationArea1\",\"overrides\":[],\"properties\":[{\"default\":[],\"kind\":null,\"name\":\"notifications\"},{\"default\":\"bottom-right\",\"kind\":null,\"name\":\"position\"},{\"default\":0,\"kind\":null,\"name\":\"_clear\"},{\"default\":[{\"background\":\"#ffc107\",\"icon\":{\"className\":\"fas fa-exclamation-triangle\",\"color\":\"white\",\"tagName\":\"i\"},\"type\":\"warning\"},{\"background\":\"#007bff\",\"icon\":{\"className\":\"fas fa-info-circle\",\"color\":\"white\",\"tagName\":\"i\"},\"type\":\"info\"}],\"kind\":null,\"name\":\"types\"}]},{\"extends\":null,\"module\":null,\"name\":\"Notification\",\"overrides\":[],\"properties\":[{\"default\":null,\"kind\":null,\"name\":\"background\"},{\"default\":3000,\"kind\":null,\"name\":\"duration\"},{\"default\":null,\"kind\":null,\"name\":\"icon\"},{\"default\":\"\",\"kind\":null,\"name\":\"message\"},{\"default\":null,\"kind\":null,\"name\":\"notification_type\"},{\"default\":false,\"kind\":null,\"name\":\"_destroyed\"}]},{\"extends\":null,\"module\":null,\"name\":\"TemplateActions1\",\"overrides\":[],\"properties\":[{\"default\":0,\"kind\":null,\"name\":\"open_modal\"},{\"default\":0,\"kind\":null,\"name\":\"close_modal\"}]},{\"extends\":null,\"module\":null,\"name\":\"MaterialTemplateActions1\",\"overrides\":[],\"properties\":[{\"default\":0,\"kind\":null,\"name\":\"open_modal\"},{\"default\":0,\"kind\":null,\"name\":\"close_modal\"}]}],\"roots\":{\"references\":[{\"attributes\":{},\"id\":\"43747\",\"type\":\"AllLabels\"},{\"attributes\":{\"callback\":null,\"mode\":\"vline\",\"renderers\":[{\"id\":\"43742\"}],\"tooltips\":null},\"id\":\"43756\",\"type\":\"HoverTool\"},{\"attributes\":{\"tools\":[{\"id\":\"43723\"},{\"id\":\"43724\"},{\"id\":\"43725\"},{\"id\":\"43726\"},{\"id\":\"43727\"},{\"id\":\"43728\"},{\"id\":\"43756\"},{\"id\":\"43760\"}]},\"id\":\"43730\",\"type\":\"Toolbar\"},{\"attributes\":{\"fill_alpha\":{\"value\":0.5},\"fill_color\":{\"value\":\"red\"},\"hatch_alpha\":{\"value\":0.5},\"line_alpha\":{\"value\":0.5},\"line_color\":{\"value\":\"white\"},\"size\":{\"value\":10},\"x\":{\"field\":\"x\"},\"y\":{\"field\":\"y\"}},\"id\":\"43740\",\"type\":\"Circle\"},{\"attributes\":{\"fill_alpha\":{\"value\":0.25},\"fill_color\":{\"value\":\"midnightblue\"},\"hatch_alpha\":{\"value\":0.25},\"line_alpha\":{\"value\":0.25},\"line_color\":{\"value\":\"white\"},\"size\":{\"value\":10},\"x\":{\"field\":\"x\"},\"y\":{\"field\":\"y\"}},\"id\":\"43738\",\"type\":\"Circle\"},{\"attributes\":{\"bottom_units\":\"screen\",\"coordinates\":null,\"fill_alpha\":0.5,\"fill_color\":\"lightgrey\",\"group\":null,\"left_units\":\"screen\",\"level\":\"overlay\",\"line_alpha\":1.0,\"line_color\":\"black\",\"line_dash\":[4,4],\"line_width\":2,\"right_units\":\"screen\",\"syncable\":false,\"top_units\":\"screen\"},\"id\":\"43729\",\"type\":\"BoxAnnotation\"},{\"attributes\":{},\"id\":\"43746\",\"type\":\"BasicTickFormatter\"},{\"attributes\":{},\"id\":\"43750\",\"type\":\"AllLabels\"},{\"attributes\":{},\"id\":\"43749\",\"type\":\"BasicTickFormatter\"},{\"attributes\":{},\"id\":\"43707\",\"type\":\"DataRange1d\"},{\"attributes\":{\"label\":{\"value\":\"Observations\"},\"renderers\":[{\"id\":\"43742\"}]},\"id\":\"43755\",\"type\":\"LegendItem\"},{\"attributes\":{\"label\":{\"value\":\"Learned model\"},\"renderers\":[{\"id\":\"43766\"}]},\"id\":\"43781\",\"type\":\"LegendItem\"},{\"attributes\":{\"line_alpha\":0.6,\"line_color\":\"red\",\"line_width\":6,\"x\":{\"field\":\"x\"},\"y\":{\"field\":\"y\"}},\"id\":\"43763\",\"type\":\"Line\"},{\"attributes\":{\"children\":[{\"id\":\"43783\"},{\"id\":\"43704\"},{\"id\":\"43810\"}],\"margin\":[0,0,0,0],\"name\":\"Row00228\"},\"id\":\"43782\",\"type\":\"Row\"},{\"attributes\":{\"fill_alpha\":{\"value\":0.5},\"fill_color\":{\"value\":\"midnightblue\"},\"line_color\":{\"value\":\"white\"}},\"id\":\"43759\",\"type\":\"Circle\"},{\"attributes\":{\"margin\":[5,5,5,5],\"name\":\"HSpacer00225\",\"sizing_mode\":\"stretch_width\"},\"id\":\"43810\",\"type\":\"Spacer\"},{\"attributes\":{\"margin\":[5,5,5,5],\"name\":\"HSpacer00224\",\"sizing_mode\":\"stretch_width\"},\"id\":\"43783\",\"type\":\"Spacer\"},{\"attributes\":{\"coordinates\":null,\"group\":null,\"text\":\"Simple linear regression\",\"text_color\":\"#E0E0E0\",\"text_font\":\"Josefin Sans\",\"text_font_size\":\"2.1em\"},\"id\":\"43705\",\"type\":\"Title\"},{\"attributes\":{\"line_alpha\":0.2,\"line_color\":\"red\",\"line_width\":6,\"x\":{\"field\":\"x\"},\"y\":{\"field\":\"y\"}},\"id\":\"43765\",\"type\":\"Line\"},{\"attributes\":{\"overlay\":{\"id\":\"43729\"}},\"id\":\"43725\",\"type\":\"BoxZoomTool\"},{\"attributes\":{},\"id\":\"43728\",\"type\":\"HelpTool\"},{\"attributes\":{\"source\":{\"id\":\"43737\"}},\"id\":\"43743\",\"type\":\"CDSView\"},{\"attributes\":{},\"id\":\"43727\",\"type\":\"ResetTool\"},{\"attributes\":{},\"id\":\"43716\",\"type\":\"BasicTicker\"},{\"attributes\":{\"source\":{\"id\":\"43762\"}},\"id\":\"43767\",\"type\":\"CDSView\"},{\"attributes\":{\"bottom_units\":\"screen\",\"coordinates\":null,\"fill_alpha\":0.5,\"fill_color\":\"lightgrey\",\"group\":null,\"left_units\":\"screen\",\"level\":\"overlay\",\"line_alpha\":1.0,\"line_color\":\"black\",\"line_dash\":[4,4],\"line_width\":2,\"right_units\":\"screen\",\"syncable\":false,\"top_units\":\"screen\"},\"id\":\"43780\",\"type\":\"BoxAnnotation\"},{\"attributes\":{\"background_fill_alpha\":0.25,\"background_fill_color\":\"#505050\",\"border_line_alpha\":0.25,\"coordinates\":null,\"group\":null,\"items\":[{\"id\":\"43755\"},{\"id\":\"43781\"}],\"label_standoff\":8,\"label_text_color\":\"#E0E0E0\",\"label_text_font\":\"Josefin Sans\",\"label_text_font_size\":\"1.15em\",\"spacing\":8},\"id\":\"43754\",\"type\":\"Legend\"},{\"attributes\":{\"coordinates\":null,\"data_source\":{\"id\":\"43762\"},\"glyph\":{\"id\":\"43763\"},\"group\":null,\"hover_glyph\":null,\"muted_glyph\":{\"id\":\"43765\"},\"nonselection_glyph\":{\"id\":\"43764\"},\"view\":{\"id\":\"43767\"}},\"id\":\"43766\",\"type\":\"GlyphRenderer\"},{\"attributes\":{},\"id\":\"43751\",\"type\":\"UnionRenderers\"},{\"attributes\":{},\"id\":\"43724\",\"type\":\"WheelZoomTool\"},{\"attributes\":{},\"id\":\"43778\",\"type\":\"Selection\"},{\"attributes\":{\"fill_alpha\":{\"value\":0.8},\"fill_color\":{\"value\":\"red\"},\"line_color\":{\"value\":\"white\"}},\"id\":\"43758\",\"type\":\"Circle\"},{\"attributes\":{\"data\":{\"x\":{\"__ndarray__\":\"AAAAAAAAAABbv1Kg1q+EP1u/UqDWr5Q/CB988MEHnz9bv1Kg1q+kPzJvZ0jM26k/CB988MEHrz9wZ0jM2xmyP1u/UqDWr7Q/RhdddNFFtz8yb2dIzNu5Px3HcRzHcbw/CB988MEHvz96O0Ni3s7AP3BnSMzbGcI/ZZNNNtlkwz9bv1Kg1q/EP1HrVwrU+sU/RhdddNFFxz88Q2LezpDIPzJvZ0jM28k/J5tssskmyz8dx3Ecx3HMPxPzdobEvM0/CB988MEHzz9/pUCtXynQP3o7Q2LeztA/ddFFF1100T9wZ0jM2xnSP2r9SoFav9I/ZZNNNtlk0z9gKVDrVwrUP1u/UqDWr9Q/VlVVVVVV1T9R61cK1PrVP0yBWr9SoNY/RhdddNFF1z9BrV8pUOvXPzxDYt7OkNg/N9lkk0022T8yb2dIzNvZPy0Fav1Kgdo/J5tssskm2z8iMW9nSMzbPx3HcRzHcdw/GF100UUX3T8T83aGxLzdPw6JeTtDYt4/CB988MEH3z8DtX6lQK3fP3+lQK1fKeA/ffDBBx984D96O0Ni3s7gP3eGxLydIeE/ddFFF1104T9yHMdxHMfhP3BnSMzbGeI/bbLJJpts4j9q/UqBWr/iP2hIzNsZEuM/ZZNNNtlk4z9j3s6QmLfjP2ApUOtXCuQ/XnTRRRdd5D9bv1Kg1q/kP1gK1PqVAuU/VlVVVVVV5T9ToNavFKjlP1HrVwrU+uU/TjbZZJNN5j9MgVq/UqDmP0nM2xkS8+Y/RhdddNFF5z9EYt7OkJjnP0GtXylQ6+c/P/jggw8+6D88Q2LezpDoPzmO4ziO4+g/N9lkk0026T80JObtDInpPzJvZ0jM2+k/L7rooosu6j8tBWr9SoHqPypQ61cK1Oo/J5tssskm6z8l5u0MiXnrPyIxb2dIzOs/IHzwwQcf7D8dx3Ecx3HsPxsS83aGxOw/GF100UUX7T8VqPUrBWrtPxPzdobEvO0/ED744IMP7j8OiXk7Q2LuPwvU+pUCte4/CB988MEH7z8Gav1KgVrvPwO1fqVAre8/AAAAAAAA8D8=\",\"dtype\":\"float64\",\"order\":\"little\",\"shape\":[100]},\"y\":{\"__ndarray__\":\"AAAAAAAAAEA++OCDDz4AQHzwwQcffABAuuiiiy66AED44IMPPvgAQDbZZJNNNgFAdNFFF110AUCyySabbLIBQPDBBx988AFALrrooosuAkBtsskmm2wCQKuqqqqqqgJA6aKLLrroAkAnm2yyySYDQGWTTTbZZANAo4suuuiiA0Dhgw8++OADQB988MEHHwRAXXTRRRddBECbbLLJJpsEQNpkk0022QRAF1100UUXBUBWVVVVVVUFQJRNNtlkkwVA0kUXXXTRBUAQPvjggw8GQE422WSTTQZAjC666KKLBkDKJptssskGQAgffPDBBwdARhdddNFFB0CEDz744IMHQMIHH3zwwQdAAAAAAAAACEA++OCDDz4IQHzwwQcffAhAuuiiiy66CED44IMPPvgIQDbZZJNNNglAdNFFF110CUCzySabbLIJQPHBBx988AlALrrooosuCkBtsskmm2wKQKuqqqqqqgpA6aKLLrroCkAnm2yyySYLQGWTTTbZZAtAo4suuuiiC0Dhgw8++OALQB988MEHHwxAXnTRRRddDECcbLLJJpsMQNlkk0022QxAGF100UUXDUBWVVVVVVUNQJRNNtlkkw1A0kUXXXTRDUAQPvjggw8OQE422WSTTQ5AjC666KKLDkDKJptssskOQAgffPDBBw9ARhdddNFFD0CEDz744IMPQMIHH3zwwQ9AAAAAAAAAEEAffPDBBx8QQD744IMPPhBAXXTRRRddEEB88MEHH3wQQJxssskmmxBAuuiiiy66EEDaZJNNNtkQQPjggw8++BBAGF100UUXEUA22WSTTTYRQFZVVVVVVRFAdNFFF110EUCUTTbZZJMRQLPJJptsshFA0kUXXXTREUDxwQcffPARQBA++OCDDxJALrrooosuEkBONtlkk00SQG2yySabbBJAjC666KKLEkCrqqqqqqoSQMomm2yyyRJA6aKLLrroEkAIH3zwwQcTQCebbLLJJhNARhdddNFFE0Blk0022WQTQIQPPvjggxNAo4suuuiiE0DCBx988METQOGDDz744BNAAAAAAAAAFEA=\",\"dtype\":\"float64\",\"order\":\"little\",\"shape\":[100]}},\"selected\":{\"id\":\"43752\"},\"selection_policy\":{\"id\":\"43751\"}},\"id\":\"43737\",\"type\":\"ColumnDataSource\"},{\"attributes\":{},\"id\":\"43711\",\"type\":\"LinearScale\"},{\"attributes\":{\"axis_label\":\"x\",\"axis_label_standoff\":10,\"axis_label_text_color\":\"#FFFFFF\",\"axis_label_text_font\":\"Josefin Sans\",\"axis_label_text_font_size\":\"1.9em\",\"axis_label_text_font_style\":\"bold\",\"axis_line_alpha\":0.4,\"axis_line_color\":\"#E0E0E0\",\"coordinates\":null,\"formatter\":{\"id\":\"43749\"},\"group\":null,\"major_label_policy\":{\"id\":\"43750\"},\"major_label_text_color\":\"#E0E0E0\",\"major_label_text_font\":\"Josefin Sans\",\"major_label_text_font_size\":\"1.15em\",\"major_tick_line_alpha\":0.4,\"major_tick_line_color\":\"#E0E0E0\",\"minor_tick_line_alpha\":0.4,\"minor_tick_line_color\":\"#E0E0E0\",\"ticker\":{\"id\":\"43716\"}},\"id\":\"43715\",\"type\":\"LinearAxis\"},{\"attributes\":{},\"id\":\"43777\",\"type\":\"UnionRenderers\"},{\"attributes\":{\"axis_label\":\"y\",\"axis_label_standoff\":10,\"axis_label_text_color\":\"#FFFFFF\",\"axis_label_text_font\":\"Josefin Sans\",\"axis_label_text_font_size\":\"1.9em\",\"axis_label_text_font_style\":\"bold\",\"axis_line_alpha\":0.4,\"axis_line_color\":\"#E0E0E0\",\"coordinates\":null,\"formatter\":{\"id\":\"43746\"},\"group\":null,\"major_label_policy\":{\"id\":\"43747\"},\"major_label_text_color\":\"#E0E0E0\",\"major_label_text_font\":\"Josefin Sans\",\"major_label_text_font_size\":\"1.15em\",\"major_tick_line_alpha\":0.4,\"major_tick_line_color\":\"#E0E0E0\",\"minor_tick_line_alpha\":0.4,\"minor_tick_line_color\":\"#E0E0E0\",\"ticker\":{\"id\":\"43720\"}},\"id\":\"43719\",\"type\":\"LinearAxis\"},{\"attributes\":{},\"id\":\"43713\",\"type\":\"LinearScale\"},{\"attributes\":{},\"id\":\"43709\",\"type\":\"DataRange1d\"},{\"attributes\":{\"axis\":{\"id\":\"43715\"},\"coordinates\":null,\"grid_line_alpha\":0.15,\"grid_line_color\":\"#E0E0E0\",\"group\":null,\"ticker\":null},\"id\":\"43718\",\"type\":\"Grid\"},{\"attributes\":{\"fill_alpha\":{\"value\":0.2},\"fill_color\":{\"value\":\"midnightblue\"},\"hatch_alpha\":{\"value\":0.2},\"line_alpha\":{\"value\":0.2},\"line_color\":{\"value\":\"white\"},\"size\":{\"value\":10},\"x\":{\"field\":\"x\"},\"y\":{\"field\":\"y\"}},\"id\":\"43741\",\"type\":\"Circle\"},{\"attributes\":{},\"id\":\"43723\",\"type\":\"PanTool\"},{\"attributes\":{\"axis\":{\"id\":\"43719\"},\"coordinates\":null,\"dimension\":1,\"grid_line_alpha\":0.15,\"grid_line_color\":\"#E0E0E0\",\"group\":null,\"ticker\":null},\"id\":\"43722\",\"type\":\"Grid\"},{\"attributes\":{\"background_fill_alpha\":0.9,\"background_fill_color\":\"#0f0f0f\",\"below\":[{\"id\":\"43715\"}],\"border_fill_alpha\":0.8,\"border_fill_color\":\"#111111\",\"center\":[{\"id\":\"43718\"},{\"id\":\"43722\"},{\"id\":\"43754\"}],\"height\":450,\"left\":[{\"id\":\"43719\"}],\"outline_line_alpha\":0.25,\"outline_line_color\":\"#E0E0E0\",\"outline_line_width\":3,\"renderers\":[{\"id\":\"43742\"},{\"id\":\"43766\"}],\"title\":{\"id\":\"43705\"},\"toolbar\":{\"id\":\"43730\"},\"toolbar_location\":null,\"x_range\":{\"id\":\"43707\"},\"x_scale\":{\"id\":\"43711\"},\"y_range\":{\"id\":\"43709\"},\"y_scale\":{\"id\":\"43713\"}},\"id\":\"43704\",\"subtype\":\"Figure\",\"type\":\"Plot\"},{\"attributes\":{\"line_alpha\":0.1,\"line_color\":\"red\",\"line_width\":6,\"x\":{\"field\":\"x\"},\"y\":{\"field\":\"y\"}},\"id\":\"43764\",\"type\":\"Line\"},{\"attributes\":{},\"id\":\"43726\",\"type\":\"SaveTool\"},{\"attributes\":{},\"id\":\"43720\",\"type\":\"BasicTicker\"},{\"attributes\":{\"data\":{\"x\":{\"__ndarray__\":\"AAAAAAAAAABbv1Kg1q+EP1u/UqDWr5Q/CB988MEHnz9bv1Kg1q+kPzJvZ0jM26k/CB988MEHrz9wZ0jM2xmyP1u/UqDWr7Q/RhdddNFFtz8yb2dIzNu5Px3HcRzHcbw/CB988MEHvz96O0Ni3s7AP3BnSMzbGcI/ZZNNNtlkwz9bv1Kg1q/EP1HrVwrU+sU/RhdddNFFxz88Q2LezpDIPzJvZ0jM28k/J5tssskmyz8dx3Ecx3HMPxPzdobEvM0/CB988MEHzz9/pUCtXynQP3o7Q2LeztA/ddFFF1100T9wZ0jM2xnSP2r9SoFav9I/ZZNNNtlk0z9gKVDrVwrUP1u/UqDWr9Q/VlVVVVVV1T9R61cK1PrVP0yBWr9SoNY/RhdddNFF1z9BrV8pUOvXPzxDYt7OkNg/N9lkk0022T8yb2dIzNvZPy0Fav1Kgdo/J5tssskm2z8iMW9nSMzbPx3HcRzHcdw/GF100UUX3T8T83aGxLzdPw6JeTtDYt4/CB988MEH3z8DtX6lQK3fP3+lQK1fKeA/ffDBBx984D96O0Ni3s7gP3eGxLydIeE/ddFFF1104T9yHMdxHMfhP3BnSMzbGeI/bbLJJpts4j9q/UqBWr/iP2hIzNsZEuM/ZZNNNtlk4z9j3s6QmLfjP2ApUOtXCuQ/XnTRRRdd5D9bv1Kg1q/kP1gK1PqVAuU/VlVVVVVV5T9ToNavFKjlP1HrVwrU+uU/TjbZZJNN5j9MgVq/UqDmP0nM2xkS8+Y/RhdddNFF5z9EYt7OkJjnP0GtXylQ6+c/P/jggw8+6D88Q2LezpDoPzmO4ziO4+g/N9lkk0026T80JObtDInpPzJvZ0jM2+k/L7rooosu6j8tBWr9SoHqPypQ61cK1Oo/J5tssskm6z8l5u0MiXnrPyIxb2dIzOs/IHzwwQcf7D8dx3Ecx3HsPxsS83aGxOw/GF100UUX7T8VqPUrBWrtPxPzdobEvO0/ED744IMP7j8OiXk7Q2LuPwvU+pUCte4/CB988MEH7z8Gav1KgVrvPwO1fqVAre8/AAAAAAAA8D8=\",\"dtype\":\"float64\",\"order\":\"little\",\"shape\":[100]},\"y\":{\"__ndarray__\":\"w6iscQAAAECiJ2nzDz4AQIGmJXUffABAYCXi9i66AEA/pJ54PvgAQB4jW/pNNgFA/aEXfF10AUDcINT9bLIBQLufkH988AFAmh5NAYwuAkB5nQmDm2wCQFgcxgSrqgJAN5uChrroAkAWGj8IyiYDQPWY+4nZZANA1Be4C+miA0CzlnSN+OADQJIVMQ8IHwRAcZTtkBddBEBQE6oSJ5sEQC+SZpQ22QRADhEjFkYXBUDtj9+XVVUFQMwOnBllkwVAq41Ym3TRBUCKDBUdhA8GQGmL0Z6TTQZASAqOIKOLBkAniUqisskGQAYIByTCBwdA5YbDpdFFB0DEBYAn4YMHQKOEPKnwwQdAggP5KgAACEBhgrWsDz4IQEABci4ffAhAHoAusC66CED+/uoxPvgIQN19p7NNNglAvPxjNV10CUCbeyC3bLIJQHr63Dh88AlAWHmZuosuCkA4+FU8m2wKQBd3Er6qqgpA9vXOP7roCkDVdIvBySYLQLTzR0PZZAtAknIExeiiC0By8cBG+OALQFBwfcgHHwxAMO85ShddDEAPbvbLJpsMQO7ssk022QxAzWtvz0UXDUCs6itRVVUNQItp6NJkkw1AauikVHTRDUBIZ2HWgw8OQCjmHViTTQ5ABmXa2aKLDkDm45ZbsskOQMRiU93BBw9ApOEPX9FFD0CCYMzg4IMPQGLfiGLwwQ9AQV5F5P//D0CQ7gCzBx8QQAAu33MPPhBAb229NBddEEDerJv1HnwQQE7sebYmmxBAvStYdy66EEAtazY4NtkQQJyqFPk9+BBADOryuUUXEUB8KdF6TTYRQOporztVVRFAWqiN/Fx0EUDK52u9ZJMRQDonSn5sshFAqWYoP3TREUAYpgYAfPARQIjl5MCDDxJA9yTDgYsuEkBnZKFCk00SQNajfwObbBJARuNdxKKLEkC2IjyFqqoSQCViGkayyRJAlKH4BrroEkAE4dbHwQcTQHQgtYjJJhNA4l+TSdFFE0BSn3EK2WQTQMLeT8vggxNAMR4ujOiiE0ChXQxN8METQBCd6g344BNAgNzIzv//E0A=\",\"dtype\":\"float64\",\"order\":\"little\",\"shape\":[100]}},\"selected\":{\"id\":\"43778\"},\"selection_policy\":{\"id\":\"43777\"}},\"id\":\"43762\",\"type\":\"ColumnDataSource\"},{\"attributes\":{\"mode\":\"append\",\"overlay\":{\"id\":\"43780\"},\"renderers\":[{\"id\":\"43742\"}]},\"id\":\"43760\",\"type\":\"BoxSelectTool\"},{\"attributes\":{\"client_comm_id\":\"5d3282c8a422473288967bf0cf8415cf\",\"comm_id\":\"1e5c07338a6f417b82370ccf83b521f2\",\"plot_id\":\"43782\"},\"id\":\"43850\",\"type\":\"panel.models.comm_manager.CommManager\"},{\"attributes\":{},\"id\":\"43752\",\"type\":\"Selection\"},{\"attributes\":{\"coordinates\":null,\"data_source\":{\"id\":\"43737\"},\"glyph\":{\"id\":\"43738\"},\"group\":null,\"hover_glyph\":{\"id\":\"43740\"},\"muted_glyph\":{\"id\":\"43741\"},\"nonselection_glyph\":{\"id\":\"43759\"},\"selection_glyph\":{\"id\":\"43758\"},\"view\":{\"id\":\"43743\"}},\"id\":\"43742\",\"type\":\"GlyphRenderer\"}],\"root_ids\":[\"43782\",\"43850\"]},\"title\":\"Bokeh Application\",\"version\":\"2.4.3\"}};\n",
              "    var render_items = [{\"docid\":\"40356b57-9d9d-47fa-93ac-a7d2f45bd23c\",\"root_ids\":[\"43782\"],\"roots\":{\"43782\":\"f185c9a2-bc6d-400e-ad72-c70c4cce77a8\"}}];\n",
              "    root.Bokeh.embed.embed_items_notebook(docs_json, render_items);\n",
              "    for (const render_item of render_items) {\n",
              "      for (const root_id of render_item.root_ids) {\n",
              "\tconst id_el = document.getElementById(root_id)\n",
              "\tif (id_el.children.length && (id_el.children[0].className === 'bk-root')) {\n",
              "\t  const root_el = id_el.children[0]\n",
              "\t  root_el.id = root_el.id + '-rendered'\n",
              "\t}\n",
              "      }\n",
              "    }\n",
              "  }\n",
              "  if (root.Bokeh !== undefined && root.Bokeh.Panel !== undefined) {\n",
              "    embed_document(root);\n",
              "  } else {\n",
              "    var attempts = 0;\n",
              "    var timer = setInterval(function(root) {\n",
              "      if (root.Bokeh !== undefined && root.Bokeh.Panel !== undefined) {\n",
              "        clearInterval(timer);\n",
              "        embed_document(root);\n",
              "      } else if (document.readyState == \"complete\") {\n",
              "        attempts++;\n",
              "        if (attempts > 200) {\n",
              "          clearInterval(timer);\n",
              "          console.log(\"Bokeh: ERROR: Unable to run BokehJS code because BokehJS library is missing\");\n",
              "        }\n",
              "      }\n",
              "    }, 25, root)\n",
              "  }\n",
              "})(window);</script>"
            ],
            "text/plain": [
              "Row\n",
              "    [0] HSpacer()\n",
              "    [1] Bokeh(Figure)\n",
              "    [2] HSpacer()"
            ]
          },
          "execution_count": 39,
          "metadata": {
            "application/vnd.holoviews_exec.v0+json": {
              "id": "43782"
            }
          },
          "output_type": "execute_result"
        }
      ],
      "source": [
        "p = scatter(x, y, title=\"Simple linear regression\")\n",
        "p.line(x, w_1 * x + w_0, line_width=6, line_alpha=0.6, color=\"red\", legend_label=r\"Learned model\")\n",
        "plot = (center_plot(p))\n",
        "plot"
      ]
    },
    {
      "cell_type": "markdown",
      "metadata": {},
      "source": [
        "### Observing our solution interactively\n",
        "\n",
        "In the following code, you can observe the behavior of the model by playing interactively with the properties of the original problem. \n",
        "\n",
        "<div class=\"alert alert-success\" markdown=\"1\" style=\"color:white; background-color: #192841; border-color: #779ecb\">\n",
        "\n",
        "> Note that each change in the properties of the original problem requires to run the gradient descent algorithm entirely each time.\n",
        "\n",
        "</div>"
      ]
    },
    {
      "cell_type": "code",
      "execution_count": 40,
      "metadata": {
        "tags": []
      },
      "outputs": [
        {
          "data": {},
          "metadata": {},
          "output_type": "display_data"
        },
        {
          "data": {
            "application/vnd.holoviews_exec.v0+json": "",
            "text/html": [
              "<div id='43994'>\n",
              "  <div class=\"bk-root\" id=\"5bc327cc-c99f-494f-9bb2-246530994aac\" data-root-id=\"43994\"></div>\n",
              "</div>\n",
              "<script type=\"application/javascript\">(function(root) {\n",
              "  function embed_document(root) {\n",
              "    var docs_json = {\"237ed263-07d5-429c-9cbd-bb7a17f50291\":{\"defs\":[{\"extends\":null,\"module\":null,\"name\":\"ReactiveHTML1\",\"overrides\":[],\"properties\":[]},{\"extends\":null,\"module\":null,\"name\":\"FlexBox1\",\"overrides\":[],\"properties\":[{\"default\":\"flex-start\",\"kind\":null,\"name\":\"align_content\"},{\"default\":\"flex-start\",\"kind\":null,\"name\":\"align_items\"},{\"default\":\"row\",\"kind\":null,\"name\":\"flex_direction\"},{\"default\":\"wrap\",\"kind\":null,\"name\":\"flex_wrap\"},{\"default\":\"flex-start\",\"kind\":null,\"name\":\"justify_content\"}]},{\"extends\":null,\"module\":null,\"name\":\"GridStack1\",\"overrides\":[],\"properties\":[{\"default\":\"warn\",\"kind\":null,\"name\":\"mode\"},{\"default\":null,\"kind\":null,\"name\":\"ncols\"},{\"default\":null,\"kind\":null,\"name\":\"nrows\"},{\"default\":true,\"kind\":null,\"name\":\"allow_resize\"},{\"default\":true,\"kind\":null,\"name\":\"allow_drag\"},{\"default\":[],\"kind\":null,\"name\":\"state\"}]},{\"extends\":null,\"module\":null,\"name\":\"click1\",\"overrides\":[],\"properties\":[{\"default\":\"\",\"kind\":null,\"name\":\"terminal_output\"},{\"default\":\"\",\"kind\":null,\"name\":\"debug_name\"},{\"default\":0,\"kind\":null,\"name\":\"clears\"}]},{\"extends\":null,\"module\":null,\"name\":\"NotificationAreaBase1\",\"overrides\":[],\"properties\":[{\"default\":\"bottom-right\",\"kind\":null,\"name\":\"position\"},{\"default\":0,\"kind\":null,\"name\":\"_clear\"}]},{\"extends\":null,\"module\":null,\"name\":\"NotificationArea1\",\"overrides\":[],\"properties\":[{\"default\":[],\"kind\":null,\"name\":\"notifications\"},{\"default\":\"bottom-right\",\"kind\":null,\"name\":\"position\"},{\"default\":0,\"kind\":null,\"name\":\"_clear\"},{\"default\":[{\"background\":\"#ffc107\",\"icon\":{\"className\":\"fas fa-exclamation-triangle\",\"color\":\"white\",\"tagName\":\"i\"},\"type\":\"warning\"},{\"background\":\"#007bff\",\"icon\":{\"className\":\"fas fa-info-circle\",\"color\":\"white\",\"tagName\":\"i\"},\"type\":\"info\"}],\"kind\":null,\"name\":\"types\"}]},{\"extends\":null,\"module\":null,\"name\":\"Notification\",\"overrides\":[],\"properties\":[{\"default\":null,\"kind\":null,\"name\":\"background\"},{\"default\":3000,\"kind\":null,\"name\":\"duration\"},{\"default\":null,\"kind\":null,\"name\":\"icon\"},{\"default\":\"\",\"kind\":null,\"name\":\"message\"},{\"default\":null,\"kind\":null,\"name\":\"notification_type\"},{\"default\":false,\"kind\":null,\"name\":\"_destroyed\"}]},{\"extends\":null,\"module\":null,\"name\":\"TemplateActions1\",\"overrides\":[],\"properties\":[{\"default\":0,\"kind\":null,\"name\":\"open_modal\"},{\"default\":0,\"kind\":null,\"name\":\"close_modal\"}]},{\"extends\":null,\"module\":null,\"name\":\"MaterialTemplateActions1\",\"overrides\":[],\"properties\":[{\"default\":0,\"kind\":null,\"name\":\"open_modal\"},{\"default\":0,\"kind\":null,\"name\":\"close_modal\"}]}],\"roots\":{\"references\":[{\"attributes\":{\"source\":{\"id\":\"43974\"}},\"id\":\"43979\",\"type\":\"CDSView\"},{\"attributes\":{},\"id\":\"43940\",\"type\":\"HelpTool\"},{\"attributes\":{},\"id\":\"43963\",\"type\":\"UnionRenderers\"},{\"attributes\":{},\"id\":\"43938\",\"type\":\"SaveTool\"},{\"attributes\":{},\"id\":\"43939\",\"type\":\"ResetTool\"},{\"attributes\":{},\"id\":\"43964\",\"type\":\"Selection\"},{\"attributes\":{\"bottom_units\":\"screen\",\"coordinates\":null,\"fill_alpha\":0.5,\"fill_color\":\"lightgrey\",\"group\":null,\"left_units\":\"screen\",\"level\":\"overlay\",\"line_alpha\":1.0,\"line_color\":\"black\",\"line_dash\":[4,4],\"line_width\":2,\"right_units\":\"screen\",\"syncable\":false,\"top_units\":\"screen\"},\"id\":\"43941\",\"type\":\"BoxAnnotation\"},{\"attributes\":{\"fill_alpha\":{\"value\":0.2},\"fill_color\":{\"value\":\"midnightblue\"},\"hatch_alpha\":{\"value\":0.2},\"line_alpha\":{\"value\":0.2},\"line_color\":{\"value\":\"white\"},\"size\":{\"value\":10},\"x\":{\"field\":\"x\"},\"y\":{\"field\":\"y\"}},\"id\":\"43953\",\"type\":\"Circle\"},{\"attributes\":{\"coordinates\":null,\"data_source\":{\"id\":\"43974\"},\"glyph\":{\"id\":\"43975\"},\"group\":null,\"hover_glyph\":null,\"muted_glyph\":{\"id\":\"43977\"},\"nonselection_glyph\":{\"id\":\"43976\"},\"view\":{\"id\":\"43979\"}},\"id\":\"43978\",\"type\":\"GlyphRenderer\"},{\"attributes\":{\"line_alpha\":0.2,\"line_color\":\"red\",\"line_width\":4,\"x\":{\"field\":\"x\"},\"y\":{\"field\":\"y\"}},\"id\":\"43977\",\"type\":\"Line\"},{\"attributes\":{\"fill_alpha\":{\"value\":0.5},\"fill_color\":{\"value\":\"red\"},\"hatch_alpha\":{\"value\":0.5},\"line_alpha\":{\"value\":0.5},\"line_color\":{\"value\":\"white\"},\"size\":{\"value\":10},\"x\":{\"field\":\"x\"},\"y\":{\"field\":\"y\"}},\"id\":\"43952\",\"type\":\"Circle\"},{\"attributes\":{\"args\":{\"bidirectional\":true,\"properties\":{\"readonly\":\"disabled\"},\"source\":{\"id\":\"44033\"},\"target\":{\"id\":\"44033\"}},\"code\":\"\\n    var value = source['readonly'];\\n    value = value;\\n    value = value;\\n    try {\\n      var property = target.properties['disabled'];\\n      if (property !== undefined) { property.validate(value); }\\n    } catch(err) {\\n      console.log('WARNING: Could not set disabled on target, raised error: ' + err);\\n      return;\\n    }\\n    try {\\n      target['disabled'] = value;\\n    } catch(err) {\\n      console.log(err)\\n    }\\n    \",\"tags\":[[139731797826864,[null,\"readonly\"],[null,\"disabled\"]]]},\"id\":\"44048\",\"type\":\"CustomJS\"},{\"attributes\":{\"children\":[{\"id\":\"43995\"},{\"id\":\"43996\"},{\"id\":\"44034\"}],\"margin\":[0,0,0,0],\"name\":\"Row00261\"},\"id\":\"43994\",\"type\":\"Row\"},{\"attributes\":{\"tools\":[{\"id\":\"43935\"},{\"id\":\"43936\"},{\"id\":\"43937\"},{\"id\":\"43938\"},{\"id\":\"43939\"},{\"id\":\"43940\"},{\"id\":\"43968\"},{\"id\":\"43972\"}]},\"id\":\"43942\",\"type\":\"Toolbar\"},{\"attributes\":{\"client_comm_id\":\"028526b1785d44a38b4231963076e02d\",\"comm_id\":\"c30ab52f92fe4d39a7d922a8ec938223\",\"plot_id\":\"43994\"},\"id\":\"44076\",\"type\":\"panel.models.comm_manager.CommManager\"},{\"attributes\":{\"margin\":[5,5,5,5],\"name\":\"HSpacer00232\",\"sizing_mode\":\"stretch_width\"},\"id\":\"43995\",\"type\":\"Spacer\"},{\"attributes\":{\"label\":{\"value\":\"Learned model\"},\"renderers\":[{\"id\":\"43978\"}]},\"id\":\"43993\",\"type\":\"LegendItem\"},{\"attributes\":{\"children\":[{\"id\":\"43997\"},{\"id\":\"44033\"}],\"margin\":[0,0,0,0],\"name\":\"Column00259\"},\"id\":\"43996\",\"type\":\"Column\"},{\"attributes\":{\"args\":{\"bidirectional\":true,\"properties\":{\"readonly\":\"disabled\"},\"source\":{\"id\":\"44033\"},\"target\":{\"id\":\"44033\"}},\"code\":\"\\n    var value = source['disabled'];\\n    value = value;\\n    value = value;\\n    try {\\n      var property = target.properties['readonly'];\\n      if (property !== undefined) { property.validate(value); }\\n    } catch(err) {\\n      console.log('WARNING: Could not set readonly on target, raised error: ' + err);\\n      return;\\n    }\\n    try {\\n      target['readonly'] = value;\\n    } catch(err) {\\n      console.log(err)\\n    }\\n    \",\"tags\":[[139731797826864,[null,\"readonly\"],[null,\"disabled\"]]]},\"id\":\"44049\",\"type\":\"CustomJS\"},{\"attributes\":{\"background_fill_alpha\":0.25,\"background_fill_color\":\"#505050\",\"border_line_alpha\":0.25,\"coordinates\":null,\"group\":null,\"items\":[{\"id\":\"43967\"},{\"id\":\"43993\"}],\"label_standoff\":8,\"label_text_color\":\"#E0E0E0\",\"label_text_font\":\"Josefin Sans\",\"label_text_font_size\":\"1.15em\",\"spacing\":8},\"id\":\"43966\",\"type\":\"Legend\"},{\"attributes\":{\"fill_alpha\":{\"value\":0.25},\"fill_color\":{\"value\":\"midnightblue\"},\"hatch_alpha\":{\"value\":0.25},\"line_alpha\":{\"value\":0.25},\"line_color\":{\"value\":\"white\"},\"size\":{\"value\":10},\"x\":{\"field\":\"x\"},\"y\":{\"field\":\"y\"}},\"id\":\"43950\",\"type\":\"Circle\"},{\"attributes\":{\"children\":[{\"id\":\"43999\"},{\"id\":\"44000\"},{\"id\":\"44001\"},{\"id\":\"44002\"},{\"id\":\"44003\"},{\"id\":\"44004\"},{\"id\":\"44005\"}],\"margin\":[5,5,5,5],\"min_width\":300,\"name\":\"Problem parameters\",\"width\":300},\"id\":\"43998\",\"type\":\"Column\"},{\"attributes\":{\"children\":[{\"id\":\"43998\"},{\"id\":\"44006\"}],\"margin\":[0,0,0,0],\"name\":\"Row00256\"},\"id\":\"43997\",\"type\":\"Row\"},{\"attributes\":{\"coordinates\":null,\"data_source\":{\"id\":\"43949\"},\"glyph\":{\"id\":\"43950\"},\"group\":null,\"hover_glyph\":{\"id\":\"43952\"},\"muted_glyph\":{\"id\":\"43953\"},\"nonselection_glyph\":{\"id\":\"43971\"},\"selection_glyph\":{\"id\":\"43970\"},\"view\":{\"id\":\"43955\"}},\"id\":\"43954\",\"type\":\"GlyphRenderer\"},{\"attributes\":{\"margin\":[5,10,5,10],\"name\":\"\",\"text\":\"<b>Problem parameters</b>\"},\"id\":\"43999\",\"type\":\"Div\"},{\"attributes\":{\"source\":{\"id\":\"43949\"}},\"id\":\"43955\",\"type\":\"CDSView\"},{\"attributes\":{\"labels\":[\"Ground truth\"],\"margin\":[5,10,5,10]},\"id\":\"44002\",\"type\":\"CheckboxGroup\"},{\"attributes\":{\"labels\":[\"Error\"],\"margin\":[5,10,5,10]},\"id\":\"44003\",\"type\":\"CheckboxGroup\"},{\"attributes\":{\"end\":1000,\"margin\":[5,10,5,10],\"start\":10,\"title\":\"Number observations\",\"value\":100},\"id\":\"44000\",\"type\":\"Slider\"},{\"attributes\":{\"label\":{\"value\":\"Observations\"},\"renderers\":[{\"id\":\"43954\"}]},\"id\":\"43967\",\"type\":\"LegendItem\"},{\"attributes\":{\"end\":5.0,\"margin\":[5,10,5,10],\"start\":0.0,\"step\":0.1,\"title\":\"Noise level\",\"value\":0.1},\"id\":\"44001\",\"type\":\"Slider\"},{\"attributes\":{\"end\":5.0,\"margin\":[5,10,5,10],\"start\":-5.0,\"step\":0.1,\"title\":\"X 1\",\"value\":1.0},\"id\":\"44004\",\"type\":\"Slider\"},{\"attributes\":{},\"id\":\"43989\",\"type\":\"UnionRenderers\"},{\"attributes\":{\"code\":\"def linear(\\n        coefficients: jnp.ndarray,\\n        n_observations: int = 100) -> [jnp.ndarray, jnp.ndarray]:\\n    x = jnp.linspace(0, 1, n_observations)\\n    y = coefficients[0] * x + coefficients[1]\\n    return x, \",\"filename\":\"\",\"height\":150,\"js_property_callbacks\":{\"change:disabled\":[{\"id\":\"44049\"}],\"change:readonly\":[{\"id\":\"44048\"}]},\"language\":\"python\",\"margin\":[5,10,5,10],\"sizing_mode\":\"stretch_both\",\"theme\":\"chaos\"},\"id\":\"44033\",\"type\":\"panel.models.ace.AcePlot\"},{\"attributes\":{\"background_fill_alpha\":0.9,\"background_fill_color\":\"#0f0f0f\",\"below\":[{\"id\":\"43927\"}],\"border_fill_alpha\":0.8,\"border_fill_color\":\"#111111\",\"center\":[{\"id\":\"43930\"},{\"id\":\"43934\"},{\"id\":\"43966\"}],\"height\":450,\"left\":[{\"id\":\"43931\"}],\"outline_line_alpha\":0.25,\"outline_line_color\":\"#E0E0E0\",\"outline_line_width\":3,\"renderers\":[{\"id\":\"43954\"},{\"id\":\"43978\"}],\"title\":{\"id\":\"43917\"},\"toolbar\":{\"id\":\"43942\"},\"toolbar_location\":null,\"x_range\":{\"id\":\"43919\"},\"x_scale\":{\"id\":\"43923\"},\"y_range\":{\"id\":\"43921\"},\"y_scale\":{\"id\":\"43925\"}},\"id\":\"43916\",\"subtype\":\"Figure\",\"type\":\"Plot\"},{\"attributes\":{\"end\":5.0,\"margin\":[5,10,5,10],\"start\":-5.0,\"step\":0.1,\"title\":\"X 0\",\"value\":0.0},\"id\":\"44005\",\"type\":\"Slider\"},{\"attributes\":{\"children\":[{\"id\":\"43916\"}],\"margin\":[0,0,0,0],\"name\":\"Row00253\"},\"id\":\"44006\",\"type\":\"Row\"},{\"attributes\":{},\"id\":\"43959\",\"type\":\"AllLabels\"},{\"attributes\":{},\"id\":\"43990\",\"type\":\"Selection\"},{\"attributes\":{},\"id\":\"43925\",\"type\":\"LinearScale\"},{\"attributes\":{\"margin\":[5,5,5,5],\"name\":\"HSpacer00260\",\"sizing_mode\":\"stretch_width\"},\"id\":\"44034\",\"type\":\"Spacer\"},{\"attributes\":{\"axis_label\":\"$$\\\\color{white} x$$\",\"axis_label_standoff\":10,\"axis_label_text_color\":\"#FFFFFF\",\"axis_label_text_font\":\"Josefin Sans\",\"axis_label_text_font_size\":\"1.9em\",\"axis_label_text_font_style\":\"bold\",\"axis_line_alpha\":0.4,\"axis_line_color\":\"#E0E0E0\",\"coordinates\":null,\"formatter\":{\"id\":\"43961\"},\"group\":null,\"major_label_policy\":{\"id\":\"43962\"},\"major_label_text_color\":\"#E0E0E0\",\"major_label_text_font\":\"Josefin Sans\",\"major_label_text_font_size\":\"1.15em\",\"major_tick_line_alpha\":0.4,\"major_tick_line_color\":\"#E0E0E0\",\"minor_tick_line_alpha\":0.4,\"minor_tick_line_color\":\"#E0E0E0\",\"ticker\":{\"id\":\"43928\"}},\"id\":\"43927\",\"type\":\"LinearAxis\"},{\"attributes\":{},\"id\":\"43921\",\"type\":\"DataRange1d\"},{\"attributes\":{\"fill_alpha\":{\"value\":0.8},\"fill_color\":{\"value\":\"red\"},\"line_color\":{\"value\":\"white\"}},\"id\":\"43970\",\"type\":\"Circle\"},{\"attributes\":{\"mode\":\"append\",\"overlay\":{\"id\":\"43992\"},\"renderers\":[{\"id\":\"43954\"}]},\"id\":\"43972\",\"type\":\"BoxSelectTool\"},{\"attributes\":{},\"id\":\"43961\",\"type\":\"BasicTickFormatter\"},{\"attributes\":{},\"id\":\"43958\",\"type\":\"BasicTickFormatter\"},{\"attributes\":{\"bottom_units\":\"screen\",\"coordinates\":null,\"fill_alpha\":0.5,\"fill_color\":\"lightgrey\",\"group\":null,\"left_units\":\"screen\",\"level\":\"overlay\",\"line_alpha\":1.0,\"line_color\":\"black\",\"line_dash\":[4,4],\"line_width\":2,\"right_units\":\"screen\",\"syncable\":false,\"top_units\":\"screen\"},\"id\":\"43992\",\"type\":\"BoxAnnotation\"},{\"attributes\":{\"coordinates\":null,\"group\":null,\"text\":\"Linear regression problem\",\"text_color\":\"#E0E0E0\",\"text_font\":\"Josefin Sans\",\"text_font_size\":\"2.1em\"},\"id\":\"43917\",\"type\":\"Title\"},{\"attributes\":{\"callback\":null,\"mode\":\"vline\",\"renderers\":[{\"id\":\"43954\"}],\"tooltips\":null},\"id\":\"43968\",\"type\":\"HoverTool\"},{\"attributes\":{\"line_alpha\":0.7,\"line_color\":\"red\",\"line_width\":4,\"x\":{\"field\":\"x\"},\"y\":{\"field\":\"y\"}},\"id\":\"43975\",\"type\":\"Line\"},{\"attributes\":{},\"id\":\"43928\",\"type\":\"BasicTicker\"},{\"attributes\":{},\"id\":\"43919\",\"type\":\"DataRange1d\"},{\"attributes\":{\"fill_alpha\":{\"value\":0.5},\"fill_color\":{\"value\":\"midnightblue\"},\"line_color\":{\"value\":\"white\"}},\"id\":\"43971\",\"type\":\"Circle\"},{\"attributes\":{\"axis_label\":\"$$\\\\color{white} 1.0x^1 + 0.0$$\",\"axis_label_standoff\":10,\"axis_label_text_color\":\"#FFFFFF\",\"axis_label_text_font\":\"Josefin Sans\",\"axis_label_text_font_size\":\"1.9em\",\"axis_label_text_font_style\":\"bold\",\"axis_line_alpha\":0.4,\"axis_line_color\":\"#E0E0E0\",\"coordinates\":null,\"formatter\":{\"id\":\"43958\"},\"group\":null,\"major_label_policy\":{\"id\":\"43959\"},\"major_label_text_color\":\"#E0E0E0\",\"major_label_text_font\":\"Josefin Sans\",\"major_label_text_font_size\":\"1.15em\",\"major_tick_line_alpha\":0.4,\"major_tick_line_color\":\"#E0E0E0\",\"minor_tick_line_alpha\":0.4,\"minor_tick_line_color\":\"#E0E0E0\",\"ticker\":{\"id\":\"43932\"}},\"id\":\"43931\",\"type\":\"LinearAxis\"},{\"attributes\":{},\"id\":\"43935\",\"type\":\"PanTool\"},{\"attributes\":{\"line_alpha\":0.1,\"line_color\":\"red\",\"line_width\":4,\"x\":{\"field\":\"x\"},\"y\":{\"field\":\"y\"}},\"id\":\"43976\",\"type\":\"Line\"},{\"attributes\":{},\"id\":\"43932\",\"type\":\"BasicTicker\"},{\"attributes\":{\"data\":{\"x\":{\"__ndarray__\":\"AAAAALV+JTy1fqU8ED74PLV+JT1i3k49ED54Pd7OkD21fqU9jC66PWLezj05juM9ED74PfN2Bj7ezhA+yiYbPrV+JT6g1i8+jC46PneGRD5i3k4+TjZZPjmOYz4k5m0+ED54Pv1KgT7zdoY+6aKLPt7OkD7U+pU+yiabPr9SoD61fqU+q6qqPqDWrz6WArU+jC66PoFavz53hsQ+bbLJPmLezj5YCtQ+TjbZPkNi3j45juM+L7roPiTm7T4aEvM+ED74PgVq/T79SgE/+OADP/N2Bj/uDAk/6aILP+Q4Dj/ezhA/2WQTP9T6FT/PkBg/yiYbP8W8HT+/UiA/uugiP7V+JT+wFCg/q6oqP6VALT+g1i8/m2wyP5YCNT+RmDc/jC46P4bEPD+BWj8/fPBBP3eGRD9yHEc/bbJJP2dITD9i3k4/XXRRP1gKVD9ToFY/TjZZP0jMWz9DYl4/PvhgPzmOYz80JGY/L7poPylQaz8k5m0/H3xwPxoScz8VqHU/ED54PwrUej8Fan0/AACAPw==\",\"dtype\":\"float32\",\"order\":\"little\",\"shape\":[100]},\"y\":{\"__ndarray__\":\"QDbHvU/SSDxYcA29q7TNPVbEv7w3CRQ+6CiQPSE1vj3+Ku49QIqnu7LJNj5SngI97MhVPSidMz4GA3U+b047PtVSbD5OgV0+hmxZPjzoHD4/Y3Y+L3v7PXDeoj5yZQs+3raiPj9PhT7umKg+tTycPsLwbD5vS5M+N5ZQPplqgz782dU+jjDQPhiEyT7Y7aw+/OO8PnvM4j5u1fI+FSfaPpDU8T7bNuI+jr4BPyxu4T7WUwI/1ZDnPhF/7T4UV+4+JAAIP95aEz+IQAU/ERMNP5Zw2j52syA/1OIkP01e9j4ckCQ/z/IoP4+hCT83Yx8/TNcCPxz8IT8ViQo/zwIWP87uED9stCk/ox1BP6jJJT+EWjo/5tIaP4KrGz+lHVE/SyE/P4TRSD+J/UE/3ws6P2p7MD/Qhi4/dEFPP5smWT/77Ec/kt1UP4ZCSD8c9D0/S9FLP67rRD9SSVA/fkVyP9tcVz/c+ls/j8B8P5a/bT+tjIM/HFh/P2RgZz+AsHM//Fp9P/0uiT9t3XA/ITiBPw==\",\"dtype\":\"float32\",\"order\":\"little\",\"shape\":[100]}},\"selected\":{\"id\":\"43964\"},\"selection_policy\":{\"id\":\"43963\"}},\"id\":\"43949\",\"type\":\"ColumnDataSource\"},{\"attributes\":{},\"id\":\"43923\",\"type\":\"LinearScale\"},{\"attributes\":{},\"id\":\"43962\",\"type\":\"AllLabels\"},{\"attributes\":{\"axis\":{\"id\":\"43931\"},\"coordinates\":null,\"dimension\":1,\"grid_line_alpha\":0.15,\"grid_line_color\":\"#E0E0E0\",\"group\":null,\"ticker\":null},\"id\":\"43934\",\"type\":\"Grid\"},{\"attributes\":{\"axis\":{\"id\":\"43927\"},\"coordinates\":null,\"grid_line_alpha\":0.15,\"grid_line_color\":\"#E0E0E0\",\"group\":null,\"ticker\":null},\"id\":\"43930\",\"type\":\"Grid\"},{\"attributes\":{\"data\":{\"x\":{\"__ndarray__\":\"AAAAAAAAAABn0LLjOZV0P2fQsuM5lYQ/mjiM1dbfjj9n0LLjOZWUP4GEn1yIupk/mjiM1dbfnj9adjynkgKiP2fQsuM5laQ/dCopIOEnpz+BhJ9ciLqpP47eFZkvTaw/mjiM1dbfrj9USQEJP7mwP1p2PKeSArI/YaN3ReZLsz9n0LLjOZW0P2397YGN3rU/dCopIOEntz96V2S+NHG4P4GEn1yIurk/h7Ha+tsDuz+O3hWZL028P5QLUTeDlr0/mjiM1dbfvj/QsuM5lRTAP1RJAQk/ucA/198e2OhdwT9adjynkgLCP90MWnY8p8I/YaN3ReZLwz/kOZUUkPDDP2fQsuM5lcQ/6mbQsuM5xT9t/e2Bjd7FP/GTC1E3g8Y/dCopIOEnxz/3wEbviszHP3pXZL40ccg//u2Bjd4VyT+BhJ9ciLrJPwQbvSsyX8o/h7Ha+tsDyz8KSPjJhajLP47eFZkvTcw/EXUzaNnxzD+UC1E3g5bNPxeibgYtO84/mjiM1dbfzj8ez6mkgITPP9Cy4zmVFNA/En5yIepm0D9USQEJP7nQP5UUkPCTC9E/198e2Ohd0T8Zq62/PbDRP1p2PKeSAtI/nEHLjudU0j/dDFp2PKfSPx/Y6F2R+dI/YaN3ReZL0z+ibgYtO57TP+Q5lRSQ8NM/JQUk/ORC1D9n0LLjOZXUP6mbQcuO59Q/6mbQsuM51T8sMl+aOIzVP2397YGN3tU/r8h8aeIw1j/xkwtRN4PWPzJfmjiM1dY/dCopIOEn1z+19bcHNnrXP/fARu+KzNc/OYzV1t8e2D96V2S+NHHYP7wi86WJw9g//u2Bjd4V2T8/uRB1M2jZP4GEn1yIutk/wk8uRN0M2j8EG70rMl/aP0bmSxOHsdo/h7Ha+tsD2z/JfGniMFbbPwpI+MmFqNs/TBOHsdr62z+O3hWZL03cP8+ppICEn9w/EXUzaNnx3D9SQMJPLkTdP5QLUTeDlt0/1tbfHtjo3T8Xom4GLTveP1lt/e2Bjd4/mjiM1dbf3j/cAxu9KzLfPx7PqaSAhN8/X5o4jNXW3z/QsuM5lRTgP3EYq62/PeA/En5yIepm4D+z4zmVFJDgP1RJAQk/ueA/9K7IfGni4D+VFJDwkwvhPzZ6V2S+NOE/198e2Ohd4T94ReZLE4fhPxmrrb89sOE/uRB1M2jZ4T9adjynkgLiP/vbAxu9K+I/nEHLjudU4j89p5ICEn7iP90MWnY8p+I/fnIh6mbQ4j8f2OhdkfniP8A9sNG7IuM/YaN3ReZL4z8BCT+5EHXjP6JuBi07nuM/Q9TNoGXH4z/kOZUUkPDjP4WfXIi6GeQ/JQUk/ORC5D/GautvD2zkP2fQsuM5leQ/CDZ6V2S+5D+pm0HLjufkP0kBCT+5EOU/6mbQsuM55T+LzJcmDmPlPywyX5o4jOU/zZcmDmO15T9t/e2Bjd7lPw5jtfW3B+Y/r8h8aeIw5j9QLkTdDFrmP/GTC1E3g+Y/kfnSxGGs5j8yX5o4jNXmP9PEYay2/uY/dCopIOEn5z8VkPCTC1HnP7X1twc2euc/Vlt/e2Cj5z/3wEbvisznP5gmDmO19ec/OYzV1t8e6D/a8ZxKCkjoP3pXZL40ceg/G70rMl+a6D+8IvOlicPoP12Iuhm07Og//u2Bjd4V6T+eU0kBCT/pPz+5EHUzaOk/4B7Y6F2R6T+BhJ9ciLrpPyLqZtCy4+k/wk8uRN0M6j9jtfW3BzbqPwQbvSsyX+o/pYCEn1yI6j9G5ksTh7HqP+ZLE4ex2uo/h7Ha+tsD6z8oF6JuBi3rP8l8aeIwVus/auIwVlt/6z8KSPjJhajrP6utvz2w0es/TBOHsdr66z/teE4lBSTsP47eFZkvTew/LkTdDFp27D/PqaSAhJ/sP3APbPSuyOw/EXUzaNnx7D+y2vrbAxvtP1JAwk8uRO0/86WJw1ht7T+UC1E3g5btPzVxGKutv+0/1tbfHtjo7T92PKeSAhLuPxeibgYtO+4/uAc2eldk7j9Zbf3tgY3uP/rSxGGstu4/mjiM1dbf7j87nlNJAQnvP9wDG70rMu8/fWniMFZb7z8ez6mkgITvP780cRirre8/X5o4jNXW7z8AAAAAAADwPw==\",\"dtype\":\"float64\",\"order\":\"little\",\"shape\":[200]},\"y\":{\"__ndarray__\":\"J/d2PKbhozy6R8w8zK30PPCJDj35vCI9A/A2PQwjSz0WVl89H4lzPRTegz2Z9409HhGYPaIqoj0nRKw9rF22PTF3wD22kMo9OqrUPb/D3j1E3eg9yfbyPU4Q/T3plAM+q6EIPm6uDT4vuxI+8scXPrTUHD534SE+Oe4mPvz6Kz6+BzE+gRQ2PkMhOz4FLkA+xzpFPolHSj5MVE8+DmFUPtFtWT6Tel4+VodjPhiUaD7boG0+nK1yPl+6dz4hx3w+8umAPlNwgz619oU+FX2IPnYDiz7YiY0+ORCQPpqWkj77HJU+XKOXPr4pmj4fsJw+gDafPuG8oT5DQ6Q+pMmmPgVQqT5m1qs+yFyuPinjsD6KabM+6++1Pkx2uD6t/Lo+DoO9Pm8JwD7Qj8I+MhbFPpOcxz70Iso+VanMPrcvzz4YttE+eTzUPtrC1j48Sdk+nc/bPv5V3j5f3OA+wWLjPiLp5T6Db+g+4/XqPkR87T6mAvA+B4nyPmgP9T7Jlfc+Kxz6Poyi/D7tKP8+p9cAP9gaAj8IXgM/OaEEP2rkBT+aJwc/y2oIP/ytCT8s8Qo/XTQMP413DT++ug4/7/0PPx9BET9QhBI/gMcTP7EKFT/iTRY/EpEXP0PUGD90Fxo/pFobP9WdHD8F4R0/NiQfP2dnID+XqiE/yO0iP/gwJD8pdCU/WrcmP4r6Jz+7PSk/7IAqPxzEKz9NBy0/fUouP66NLz/f0DA/DxQyP0BXMz9wmjQ/oN01P9EgNz8BZDg/Mqc5P2PqOj+TLTw/xHA9P/SzPj8l9z8/VjpBP4Z9Qj+3wEM/6ANFPxhHRj9Jikc/ec1IP6oQSj/bU0s/C5dMPzzaTT9tHU8/nWBQP86jUT/+5lI/LypUP2BtVT+QsFY/wfNXP/E2WT8ielo/U71bP4MAXT+0Q14/5YZfPxXKYD9GDWI/dlBjP6eTZD/X1mU/BxpnPzhdaD9ooGk/meNqP8ombD/6aW0/K61uP1zwbz+MM3E/vXZyP+25cz8e/XQ/T0B2P3+Ddz+wxng/4Ql6PxFNez9CkHw/ctN9P6MWfz8=\",\"dtype\":\"float32\",\"order\":\"little\",\"shape\":[200]}},\"selected\":{\"id\":\"43990\"},\"selection_policy\":{\"id\":\"43989\"}},\"id\":\"43974\",\"type\":\"ColumnDataSource\"},{\"attributes\":{\"overlay\":{\"id\":\"43941\"}},\"id\":\"43937\",\"type\":\"BoxZoomTool\"},{\"attributes\":{},\"id\":\"43936\",\"type\":\"WheelZoomTool\"}],\"root_ids\":[\"43994\",\"44076\"]},\"title\":\"Bokeh Application\",\"version\":\"2.4.3\"}};\n",
              "    var render_items = [{\"docid\":\"237ed263-07d5-429c-9cbd-bb7a17f50291\",\"root_ids\":[\"43994\"],\"roots\":{\"43994\":\"5bc327cc-c99f-494f-9bb2-246530994aac\"}}];\n",
              "    root.Bokeh.embed.embed_items_notebook(docs_json, render_items);\n",
              "    for (const render_item of render_items) {\n",
              "      for (const root_id of render_item.root_ids) {\n",
              "\tconst id_el = document.getElementById(root_id)\n",
              "\tif (id_el.children.length && (id_el.children[0].className === 'bk-root')) {\n",
              "\t  const root_el = id_el.children[0]\n",
              "\t  root_el.id = root_el.id + '-rendered'\n",
              "\t}\n",
              "      }\n",
              "    }\n",
              "  }\n",
              "  if (root.Bokeh !== undefined && root.Bokeh.Panel !== undefined) {\n",
              "    embed_document(root);\n",
              "  } else {\n",
              "    var attempts = 0;\n",
              "    var timer = setInterval(function(root) {\n",
              "      if (root.Bokeh !== undefined && root.Bokeh.Panel !== undefined) {\n",
              "        clearInterval(timer);\n",
              "        embed_document(root);\n",
              "      } else if (document.readyState == \"complete\") {\n",
              "        attempts++;\n",
              "        if (attempts > 200) {\n",
              "          clearInterval(timer);\n",
              "          console.log(\"Bokeh: ERROR: Unable to run BokehJS code because BokehJS library is missing\");\n",
              "        }\n",
              "      }\n",
              "    }, 25, root)\n",
              "  }\n",
              "})(window);</script>"
            ],
            "text/plain": [
              "Row\n",
              "    [0] HSpacer()\n",
              "    [1] Column\n",
              "        [0] Row\n",
              "            [0] Param(RegressionLinearSolver, name='Problem parameters', widgets={})\n",
              "            [1] ParamMethod(method, _pane=Bokeh)\n",
              "        [1] Ace(height=150, language='python', sizing_mode='stretch_both', theme='chaos', value='def linear(\\n        coef...)\n",
              "    [2] HSpacer()"
            ]
          },
          "execution_count": 40,
          "metadata": {
            "application/vnd.holoviews_exec.v0+json": {
              "id": "43994"
            }
          },
          "output_type": "execute_result"
        }
      ],
      "source": [
        "from cml.tasks import RegressionLinearSolver\n",
        "explorer = RegressionLinearSolver()\n",
        "def solve(x, y):\n",
        "    w_1, w_0 = gradient_descent(x, y, n_iter, lr)\n",
        "    x_predict = np.linspace(np.min(x), np.max(x), 200)\n",
        "    y_model = w_1 * x_predict + w_0\n",
        "    return np.array(x_predict), np.array(y_model) #np.array(np.zeros(y_model.shape))\n",
        "\n",
        "explorer.solve = solve\n",
        "explorer.render()"
      ]
    },
    {
      "cell_type": "markdown",
      "metadata": {},
      "source": [
        "<div class=\"alert alert-success\" markdown=\"1\" style=\"color:white; background-color: #192841; border-color: #779ecb\">\n",
        "\n",
        "> ### Going further\n",
        "> **Exercise 1 \\[Learning rate\\]**: Experiment with different learning rates (e.g., 0.001, 0.01, 0.1, 1) and observe how they affect the convergence of the gradient descent algorithm. Plot the convergence history (cost function value vs. iteration) for each learning rate.\n",
        "\n",
        "> **Exercise 2 \\[Initialization\\]**: Experiment with different initializations of the coefficients (zeros, random values, etc.) and observe their impact on the convergence of the gradient descent algorithm.\n",
        "\n",
        "> **Exercise 3 \\[Variants\\]**: Implement and compare different variants of gradient descent, such as stochastic gradient descent (SGD) and mini-batch gradient descent. Analyze their convergence properties and computational efficiency.\n",
        "\n",
        "> **Exercise 4 \\[Regularization\\]**: Implement Lasso and Ridge regression with gradient descent by incorporating the regularization terms into the cost function and gradient calculations. Compare their performance with the standard linear regression implementation and analyze their impact on the learned coefficients.\n",
        "\n",
        "\n",
        "</div>"
      ]
    },
    {
      "cell_type": "markdown",
      "metadata": {
        "tags": []
      },
      "source": [
        "## Discovering automatic differentiation - `JAX`\n",
        "\n",
        "The previous implementation required us to perform manual differentiation of our loss function to understand how to update the parameters. However, large developments have been made in the field of **automatic differentiation**. \n",
        "\n",
        "The recent library [JAX](https://github.com/google/jax) extends NumPy with this automatic differentiation feature (*autograd*), while providing a functional approach to numerical computing, allowing for easy gradient computation and just-in-time (JIT) compilation. Its ability to handle complex and custom gradients makes JAX particularly well-suited for advanced research projects. Similar to NumPy, we strongly encourage you to learn JAX through the set of [tutorials](https://jax.readthedocs.io/en/latest/), but we will also provide here the explanation for all of the functions that we will use in this first exercise. After that, we will assume that knowledge of JAX should be found online. \n",
        "\n",
        "Note that `JAX` has been thought as an extension of `NumPy`, therefore an extremely large portion of its API simply mirrors the `NumPy` functions by adding automatic differentiation features to it.\n",
        "\n",
        "**Used functions**\n",
        "- `random.PRNGKey`: function to generate a key for the pseudorandom number generator. [Documentation](https://jax.readthedocs.io/en/latest/_autosummary/jax.random.PRNGKey.html)"
      ]
    },
    {
      "cell_type": "code",
      "execution_count": 44,
      "metadata": {
        "tags": []
      },
      "outputs": [],
      "source": [
        "import jax.numpy as jnp\n",
        "from jax import grad, jit, random\n",
        "key = random.PRNGKey(42)"
      ]
    },
    {
      "cell_type": "markdown",
      "metadata": {},
      "source": [
        "### Dataset.\n",
        "\n",
        "We can simply keep our previous approach to generating the dataset but we will rely on `jnp.ndarray` instead of `np.ndarray`. We also provide the code for splitting the dataset between a `training` and `validation` dataset, as discussed in the course\n",
        "\n",
        "**Used functions**\n",
        "- `random.split`: function to split a PRNGKey into a list of subkeys [Documentation](https://jax.readthedocs.io/en/latest/_autosummary/jax.random.split.html)\n",
        "- `random.uniform`: function to generate an array of uniformly distributed random numbers [Documentation](https://jax.readthedocs.io/en/latest/_autosummary/jax.random.uniform.html)\n",
        "- `random.normal`: function to generate an array of normally distributed random numbers [Documentation](https://jax.readthedocs.io/en/latest/_autosummary/jax.random.normal.html)"
      ]
    },
    {
      "cell_type": "code",
      "execution_count": 45,
      "metadata": {
        "tags": []
      },
      "outputs": [],
      "source": [
        "true_w0 = 2\n",
        "true_w1 = 3\n",
        "key_0, key_1, key = random.split(key, 3)\n",
        "x = random.uniform(key_0, (100,))\n",
        "y = true_w0 + true_w1 * x + (random.normal(key_1, (100,)) * 0.2)"
      ]
    },
    {
      "cell_type": "code",
      "execution_count": 46,
      "metadata": {
        "tags": []
      },
      "outputs": [],
      "source": [
        "# Splitting our dataset\n",
        "train_size = int(0.8 * len(x))\n",
        "x_train, x_valid = x[:train_size], x[train_size:]\n",
        "y_train, y_valid = y[:train_size], y[train_size:]"
      ]
    },
    {
      "cell_type": "markdown",
      "metadata": {},
      "source": [
        "### Loss function\n",
        "\n",
        "Similarly Define the cost function and its gradient.\n",
        "\n",
        "**Used functions**\n",
        "- `jnp.mean`: function to compute the mean of an array [Documentation](https://jax.readthedocs.io/en/latest/_autosummary/jax.numpy.mean.html)"
      ]
    },
    {
      "cell_type": "code",
      "execution_count": 47,
      "metadata": {
        "tags": []
      },
      "outputs": [],
      "source": [
        "def loss_function(x, y, w_1, w_0):\n",
        "    y_pred = x * w_1 + w_0\n",
        "    residuals = y_pred - y\n",
        "    return jnp.mean(residuals**2)"
      ]
    },
    {
      "cell_type": "markdown",
      "metadata": {},
      "source": [
        "\n",
        "**Used functions**\n",
        "- `jit`: function to compile a function for faster execution [Documentation](https://jax.readthedocs.io/en/latest/jit.html)\n",
        "- `grad`: function to compute the gradient of a function [Documentation](https://jax.readthedocs.io/en/latest/jax.html#jax.grad)"
      ]
    },
    {
      "cell_type": "code",
      "execution_count": 48,
      "metadata": {
        "tags": []
      },
      "outputs": [],
      "source": [
        "grad_loss_function = jit(grad(loss_function, argnums=[2, 3]))"
      ]
    },
    {
      "cell_type": "markdown",
      "metadata": {},
      "source": [
        "### Implement the gradient descent algorithm.\n",
        "\n",
        "Note that nowhere in the code do we need to explicitly define the gradients of the different variables. Yet, the optimization will be performed adequately."
      ]
    },
    {
      "cell_type": "code",
      "execution_count": 49,
      "metadata": {
        "tags": []
      },
      "outputs": [
        {
          "name": "stdout",
          "output_type": "stream",
          "text": [
            "Gradient Descent coefficients: [3.0639796] [1.9661585]\n"
          ]
        }
      ],
      "source": [
        "def gradient_descent(key, x, y, lr=0.05, n_iter=1000):\n",
        "    m = x.shape\n",
        "    k_0, k_1 = random.split(key, 2)\n",
        "    w_0 = random.normal(k_0, (1,))\n",
        "    w_1 = random.normal(k_1, (1,))\n",
        "    loss_history = []\n",
        "    for _ in range(n_iter):\n",
        "        gradients = grad_loss_function(x, y, w_1, w_0)\n",
        "        #print(gradients[0])\n",
        "        w_1 -= lr * gradients[0]\n",
        "        w_0 -= lr * gradients[1]\n",
        "        loss_history.append(loss_function(x, y, w_1, w_0))\n",
        "    return w_1, w_0, loss_history\n",
        "\n",
        "key_gd, key = random.split(key, 2)\n",
        "w_1, w_0, loss_history = gradient_descent(key_gd, x_train, y_train)\n",
        "print(\"Gradient Descent coefficients:\", w_1, w_0)"
      ]
    },
    {
      "cell_type": "markdown",
      "metadata": {},
      "source": [
        "### Evaluate our performances\n",
        "\n",
        "Thanks to our previous split of the dataset, we are now able to evaluate the performances of our model on *unseen data*, which is the overarching goal of building such machine learning models."
      ]
    },
    {
      "cell_type": "code",
      "execution_count": 133,
      "metadata": {},
      "outputs": [
        {
          "name": "stdout",
          "output_type": "stream",
          "text": [
            "MSE for Gradient Descent: 0.03851323\n"
          ]
        }
      ],
      "source": [
        "def mean_squared_error(y_true, y_pred):\n",
        "    return np.mean((y_true - y_pred)**2)\n",
        "\n",
        "y_valid_gd = w_1 * x_valid + w_0\n",
        "mse_gd = mean_squared_error(y_valid, y_valid_gd)\n",
        "print(\"MSE for Gradient Descent:\", mse_gd)"
      ]
    },
    {
      "cell_type": "markdown",
      "metadata": {},
      "source": [
        "### Visualize the results.\n",
        "\n",
        "As previously we can witness our results, and also evaluate our solution with our interactive solver."
      ]
    },
    {
      "cell_type": "code",
      "execution_count": 50,
      "metadata": {
        "tags": []
      },
      "outputs": [
        {
          "data": {},
          "metadata": {},
          "output_type": "display_data"
        },
        {
          "data": {
            "application/vnd.holoviews_exec.v0+json": "",
            "text/html": [
              "<div id='49750'>\n",
              "  <div class=\"bk-root\" id=\"da1104dd-7e94-4c06-b3c1-5191aef3112c\" data-root-id=\"49750\"></div>\n",
              "</div>\n",
              "<script type=\"application/javascript\">(function(root) {\n",
              "  function embed_document(root) {\n",
              "    var docs_json = {\"eef34cc6-8057-4fa5-be54-27a899d60606\":{\"defs\":[{\"extends\":null,\"module\":null,\"name\":\"ReactiveHTML1\",\"overrides\":[],\"properties\":[]},{\"extends\":null,\"module\":null,\"name\":\"FlexBox1\",\"overrides\":[],\"properties\":[{\"default\":\"flex-start\",\"kind\":null,\"name\":\"align_content\"},{\"default\":\"flex-start\",\"kind\":null,\"name\":\"align_items\"},{\"default\":\"row\",\"kind\":null,\"name\":\"flex_direction\"},{\"default\":\"wrap\",\"kind\":null,\"name\":\"flex_wrap\"},{\"default\":\"flex-start\",\"kind\":null,\"name\":\"justify_content\"}]},{\"extends\":null,\"module\":null,\"name\":\"GridStack1\",\"overrides\":[],\"properties\":[{\"default\":\"warn\",\"kind\":null,\"name\":\"mode\"},{\"default\":null,\"kind\":null,\"name\":\"ncols\"},{\"default\":null,\"kind\":null,\"name\":\"nrows\"},{\"default\":true,\"kind\":null,\"name\":\"allow_resize\"},{\"default\":true,\"kind\":null,\"name\":\"allow_drag\"},{\"default\":[],\"kind\":null,\"name\":\"state\"}]},{\"extends\":null,\"module\":null,\"name\":\"click1\",\"overrides\":[],\"properties\":[{\"default\":\"\",\"kind\":null,\"name\":\"terminal_output\"},{\"default\":\"\",\"kind\":null,\"name\":\"debug_name\"},{\"default\":0,\"kind\":null,\"name\":\"clears\"}]},{\"extends\":null,\"module\":null,\"name\":\"NotificationAreaBase1\",\"overrides\":[],\"properties\":[{\"default\":\"bottom-right\",\"kind\":null,\"name\":\"position\"},{\"default\":0,\"kind\":null,\"name\":\"_clear\"}]},{\"extends\":null,\"module\":null,\"name\":\"NotificationArea1\",\"overrides\":[],\"properties\":[{\"default\":[],\"kind\":null,\"name\":\"notifications\"},{\"default\":\"bottom-right\",\"kind\":null,\"name\":\"position\"},{\"default\":0,\"kind\":null,\"name\":\"_clear\"},{\"default\":[{\"background\":\"#ffc107\",\"icon\":{\"className\":\"fas fa-exclamation-triangle\",\"color\":\"white\",\"tagName\":\"i\"},\"type\":\"warning\"},{\"background\":\"#007bff\",\"icon\":{\"className\":\"fas fa-info-circle\",\"color\":\"white\",\"tagName\":\"i\"},\"type\":\"info\"}],\"kind\":null,\"name\":\"types\"}]},{\"extends\":null,\"module\":null,\"name\":\"Notification\",\"overrides\":[],\"properties\":[{\"default\":null,\"kind\":null,\"name\":\"background\"},{\"default\":3000,\"kind\":null,\"name\":\"duration\"},{\"default\":null,\"kind\":null,\"name\":\"icon\"},{\"default\":\"\",\"kind\":null,\"name\":\"message\"},{\"default\":null,\"kind\":null,\"name\":\"notification_type\"},{\"default\":false,\"kind\":null,\"name\":\"_destroyed\"}]},{\"extends\":null,\"module\":null,\"name\":\"TemplateActions1\",\"overrides\":[],\"properties\":[{\"default\":0,\"kind\":null,\"name\":\"open_modal\"},{\"default\":0,\"kind\":null,\"name\":\"close_modal\"}]},{\"extends\":null,\"module\":null,\"name\":\"MaterialTemplateActions1\",\"overrides\":[],\"properties\":[{\"default\":0,\"kind\":null,\"name\":\"open_modal\"},{\"default\":0,\"kind\":null,\"name\":\"close_modal\"}]}],\"roots\":{\"references\":[{\"attributes\":{\"source\":{\"id\":\"49705\"}},\"id\":\"49711\",\"type\":\"CDSView\"},{\"attributes\":{},\"id\":\"49692\",\"type\":\"WheelZoomTool\"},{\"attributes\":{},\"id\":\"49679\",\"type\":\"LinearScale\"},{\"attributes\":{},\"id\":\"49691\",\"type\":\"PanTool\"},{\"attributes\":{},\"id\":\"49714\",\"type\":\"BasicTickFormatter\"},{\"attributes\":{},\"id\":\"49696\",\"type\":\"HelpTool\"},{\"attributes\":{\"tools\":[{\"id\":\"49691\"},{\"id\":\"49692\"},{\"id\":\"49693\"},{\"id\":\"49694\"},{\"id\":\"49695\"},{\"id\":\"49696\"},{\"id\":\"49724\"},{\"id\":\"49728\"}]},\"id\":\"49698\",\"type\":\"Toolbar\"},{\"attributes\":{},\"id\":\"49745\",\"type\":\"UnionRenderers\"},{\"attributes\":{},\"id\":\"49720\",\"type\":\"Selection\"},{\"attributes\":{\"bottom_units\":\"screen\",\"coordinates\":null,\"fill_alpha\":0.5,\"fill_color\":\"lightgrey\",\"group\":null,\"left_units\":\"screen\",\"level\":\"overlay\",\"line_alpha\":1.0,\"line_color\":\"black\",\"line_dash\":[4,4],\"line_width\":2,\"right_units\":\"screen\",\"syncable\":false,\"top_units\":\"screen\"},\"id\":\"49697\",\"type\":\"BoxAnnotation\"},{\"attributes\":{\"data\":{\"x\":{\"__ndarray__\":\"7N0EP9Q2/z5g7bU++IQEPtBIGD7odLA+gJ3xPYCBGz7wBCQ+wCzBPFqjWz/kFmw/YGWPPUT3XT/EQYo+BPgjP/wkxj4gLeU+3D7nPiA43T3w0Qg/JmI8P+iTiD66Eis/rAqlPjgdYz6e7UI/hHlZP+gBXT5c2ME+DvAoP8DoaD7WWTI/rNGfPtJJAz/wCi0+cl4uP+DEBj9AQes+NKKAPrI1GD9OHUQ/cHTMPuwfEj+cmpw+mqxfP7iW9T50PCQ/EphXP5jmIj6WUR8/VO8xP7JYEz/8XpU+WGMPPqSE7z7exh4/CNE6PxIaTD8atGs/6oMGPyxhaD+cBjg/MI6tPvCl0T0A6A47RtlMPyYjIj+SbAc/IHYnPyg2cz9MZK8+mI4SP3RGNT/Oa2M/YLLhPlAHHD/iDwI/2BIpP7Aqbz4MGXw/VgtwP5agUD84HFc+2K94PtSOZD9YSTk/YJp7PdxJBT9klL4+qD1zPuRAzj78Cw4/cGG5PgAfxz0wOc4+6HeePtA+Uz4gIrw95GT5Pg==\",\"dtype\":\"float32\",\"order\":\"little\",\"shape\":[100]},\"y\":{\"__ndarray__\":\"CJxjQJ2UX0AGg0NAITYXQBX/GkCmakFA+fcUQAKdG0BePh1AT3UCQLQJk0C2VplAcZALQPDtk0BDyTJA9G57QBS5SUCqm1VAjmZWQAgEE0A7o2ZAQxGHQKEkMkAKcIBAcQs9QINTKUD2kolAljWSQCMoKECME0hAVD1/QJtvKkCbOYNAYAs7QH5mYkC7+B5ALrOBQAkRZUCo71dAuhkvQBBtckBGB4pAzCNMQNLDbUAk0DlAb5WUQN7kW0Bho3tAMX2RQIkHHUAY33dA0BCDQGezbkD6CjdA80oZQKiRWUDWdHdAo3eGQGoWjUDgMJlARt9kQPnql0AEZoVAME5AQGfoEUADhvw/pV+NQM4HekB+kWVA1ht+QAURnEA+AkFAmBhuQFNYhEDPBJZAg0ZUQOpZdUAEdmFA+ld/QGCiK0BMeJ9AetqaQB/SjkAJBydAFnUtQEV0lkCf4YVAK+EJQLbuY0Bf00ZAGmosQCbUTEArpGpAntVEQF3mEEAy0UxA8oY6QJBJJkAJ2Q9A+FldQA==\",\"dtype\":\"float32\",\"order\":\"little\",\"shape\":[100]}},\"selected\":{\"id\":\"49746\"},\"selection_policy\":{\"id\":\"49745\"}},\"id\":\"49730\",\"type\":\"ColumnDataSource\"},{\"attributes\":{\"line_alpha\":0.6,\"line_color\":\"red\",\"line_width\":6,\"x\":{\"field\":\"x\"},\"y\":{\"field\":\"y\"}},\"id\":\"49731\",\"type\":\"Line\"},{\"attributes\":{\"line_alpha\":0.2,\"line_color\":\"red\",\"line_width\":6,\"x\":{\"field\":\"x\"},\"y\":{\"field\":\"y\"}},\"id\":\"49733\",\"type\":\"Line\"},{\"attributes\":{},\"id\":\"49694\",\"type\":\"SaveTool\"},{\"attributes\":{\"line_alpha\":0.1,\"line_color\":\"red\",\"line_width\":6,\"x\":{\"field\":\"x\"},\"y\":{\"field\":\"y\"}},\"id\":\"49732\",\"type\":\"Line\"},{\"attributes\":{\"source\":{\"id\":\"49730\"}},\"id\":\"49735\",\"type\":\"CDSView\"},{\"attributes\":{\"fill_alpha\":{\"value\":0.8},\"fill_color\":{\"value\":\"red\"},\"line_color\":{\"value\":\"white\"}},\"id\":\"49726\",\"type\":\"Circle\"},{\"attributes\":{},\"id\":\"49717\",\"type\":\"BasicTickFormatter\"},{\"attributes\":{\"axis\":{\"id\":\"49687\"},\"coordinates\":null,\"dimension\":1,\"grid_line_alpha\":0.15,\"grid_line_color\":\"#E0E0E0\",\"group\":null,\"ticker\":null},\"id\":\"49690\",\"type\":\"Grid\"},{\"attributes\":{\"bottom_units\":\"screen\",\"coordinates\":null,\"fill_alpha\":0.5,\"fill_color\":\"lightgrey\",\"group\":null,\"left_units\":\"screen\",\"level\":\"overlay\",\"line_alpha\":1.0,\"line_color\":\"black\",\"line_dash\":[4,4],\"line_width\":2,\"right_units\":\"screen\",\"syncable\":false,\"top_units\":\"screen\"},\"id\":\"49748\",\"type\":\"BoxAnnotation\"},{\"attributes\":{},\"id\":\"49681\",\"type\":\"LinearScale\"},{\"attributes\":{},\"id\":\"49695\",\"type\":\"ResetTool\"},{\"attributes\":{\"client_comm_id\":\"238ff45bb4164a7bb9f19ec25323a474\",\"comm_id\":\"2c324125b834418886f0ec8c2d5388b0\",\"plot_id\":\"49750\"},\"id\":\"49818\",\"type\":\"panel.models.comm_manager.CommManager\"},{\"attributes\":{\"callback\":null,\"mode\":\"vline\",\"renderers\":[{\"id\":\"49710\"}],\"tooltips\":null},\"id\":\"49724\",\"type\":\"HoverTool\"},{\"attributes\":{},\"id\":\"49715\",\"type\":\"AllLabels\"},{\"attributes\":{\"margin\":[5,5,5,5],\"name\":\"HSpacer00264\",\"sizing_mode\":\"stretch_width\"},\"id\":\"49751\",\"type\":\"Spacer\"},{\"attributes\":{},\"id\":\"49718\",\"type\":\"AllLabels\"},{\"attributes\":{\"children\":[{\"id\":\"49751\"},{\"id\":\"49672\"},{\"id\":\"49778\"}],\"margin\":[0,0,0,0],\"name\":\"Row00268\"},\"id\":\"49750\",\"type\":\"Row\"},{\"attributes\":{\"coordinates\":null,\"data_source\":{\"id\":\"49730\"},\"glyph\":{\"id\":\"49731\"},\"group\":null,\"hover_glyph\":null,\"muted_glyph\":{\"id\":\"49733\"},\"nonselection_glyph\":{\"id\":\"49732\"},\"view\":{\"id\":\"49735\"}},\"id\":\"49734\",\"type\":\"GlyphRenderer\"},{\"attributes\":{\"mode\":\"append\",\"overlay\":{\"id\":\"49748\"},\"renderers\":[{\"id\":\"49710\"}]},\"id\":\"49728\",\"type\":\"BoxSelectTool\"},{\"attributes\":{},\"id\":\"49677\",\"type\":\"DataRange1d\"},{\"attributes\":{},\"id\":\"49684\",\"type\":\"BasicTicker\"},{\"attributes\":{\"background_fill_alpha\":0.25,\"background_fill_color\":\"#505050\",\"border_line_alpha\":0.25,\"coordinates\":null,\"group\":null,\"items\":[{\"id\":\"49723\"},{\"id\":\"49749\"}],\"label_standoff\":8,\"label_text_color\":\"#E0E0E0\",\"label_text_font\":\"Josefin Sans\",\"label_text_font_size\":\"1.15em\",\"spacing\":8},\"id\":\"49722\",\"type\":\"Legend\"},{\"attributes\":{\"label\":{\"value\":\"Learned model\"},\"renderers\":[{\"id\":\"49734\"}]},\"id\":\"49749\",\"type\":\"LegendItem\"},{\"attributes\":{\"background_fill_alpha\":0.9,\"background_fill_color\":\"#0f0f0f\",\"below\":[{\"id\":\"49683\"}],\"border_fill_alpha\":0.8,\"border_fill_color\":\"#111111\",\"center\":[{\"id\":\"49686\"},{\"id\":\"49690\"},{\"id\":\"49722\"}],\"height\":450,\"left\":[{\"id\":\"49687\"}],\"outline_line_alpha\":0.25,\"outline_line_color\":\"#E0E0E0\",\"outline_line_width\":3,\"renderers\":[{\"id\":\"49710\"},{\"id\":\"49734\"}],\"title\":{\"id\":\"49673\"},\"toolbar\":{\"id\":\"49698\"},\"toolbar_location\":null,\"x_range\":{\"id\":\"49675\"},\"x_scale\":{\"id\":\"49679\"},\"y_range\":{\"id\":\"49677\"},\"y_scale\":{\"id\":\"49681\"}},\"id\":\"49672\",\"subtype\":\"Figure\",\"type\":\"Plot\"},{\"attributes\":{\"coordinates\":null,\"group\":null,\"text\":\"Linear regression\",\"text_color\":\"#E0E0E0\",\"text_font\":\"Josefin Sans\",\"text_font_size\":\"2.1em\"},\"id\":\"49673\",\"type\":\"Title\"},{\"attributes\":{\"fill_alpha\":{\"value\":0.5},\"fill_color\":{\"value\":\"red\"},\"hatch_alpha\":{\"value\":0.5},\"line_alpha\":{\"value\":0.5},\"line_color\":{\"value\":\"white\"},\"size\":{\"value\":10},\"x\":{\"field\":\"x\"},\"y\":{\"field\":\"y\"}},\"id\":\"49708\",\"type\":\"Circle\"},{\"attributes\":{\"margin\":[5,5,5,5],\"name\":\"HSpacer00265\",\"sizing_mode\":\"stretch_width\"},\"id\":\"49778\",\"type\":\"Spacer\"},{\"attributes\":{\"data\":{\"x\":{\"__ndarray__\":\"7N0EP9Q2/z5g7bU++IQEPtBIGD7odLA+gJ3xPYCBGz7wBCQ+wCzBPFqjWz/kFmw/YGWPPUT3XT/EQYo+BPgjP/wkxj4gLeU+3D7nPiA43T3w0Qg/JmI8P+iTiD66Eis/rAqlPjgdYz6e7UI/hHlZP+gBXT5c2ME+DvAoP8DoaD7WWTI/rNGfPtJJAz/wCi0+cl4uP+DEBj9AQes+NKKAPrI1GD9OHUQ/cHTMPuwfEj+cmpw+mqxfP7iW9T50PCQ/EphXP5jmIj6WUR8/VO8xP7JYEz/8XpU+WGMPPqSE7z7exh4/CNE6PxIaTD8atGs/6oMGPyxhaD+cBjg/MI6tPvCl0T0A6A47RtlMPyYjIj+SbAc/IHYnPyg2cz9MZK8+mI4SP3RGNT/Oa2M/YLLhPlAHHD/iDwI/2BIpP7Aqbz4MGXw/VgtwP5agUD84HFc+2K94PtSOZD9YSTk/YJp7PdxJBT9klL4+qD1zPuRAzj78Cw4/cGG5PgAfxz0wOc4+6HeePtA+Uz4gIrw95GT5Pg==\",\"dtype\":\"float32\",\"order\":\"little\",\"shape\":[100]},\"y\":{\"__ndarray__\":\"jTtpQEHUQ0D0K0ZAA2QdQOYtDUAko1ZAgjIVQNlw+j99hSxAxcYDQK1ujED+wJRA+l7+P+r5kkA2QS9AHpR8QAn8RkBm9ldAKBVZQInyCECdtFRAqsmIQP70HkDJNYNA+fI+QG8hL0CgXIdAk1CHQHbqLUAw3ktAozOBQDyzI0DOxoZAkl06QOI3ZECT6zZACK5xQJ2VWkCbVVtARDMuQJlhgECBY4ZA8ftiQNhSZECXMzxAoIGSQChOakABt3JAAiWLQMNcKUDCI3tAQjWOQFMdd0CcdCdAOQEXQGiuSkA50IhAeIyRQEJIjEB6nJRApXdfQOofmEClpolA3jhGQAeWEkB0K/Q/69uNQH0GiUDOpGFAX79yQDM3pUBhiUpAQzloQMdniUDZ/JNAr+xMQOzockASOWZA/aODQGtvIUCw56JAx0ObQH4xkkCP6zhA9r4rQDbBnUBhFIVAsNYfQF6sX0CpQDlAojoqQOaFOUDbe29AFv5YQCCVLkCxf0hAqSk/QHnbKkACNxlADmheQA==\",\"dtype\":\"float32\",\"order\":\"little\",\"shape\":[100]}},\"selected\":{\"id\":\"49720\"},\"selection_policy\":{\"id\":\"49719\"}},\"id\":\"49705\",\"type\":\"ColumnDataSource\"},{\"attributes\":{\"fill_alpha\":{\"value\":0.25},\"fill_color\":{\"value\":\"midnightblue\"},\"hatch_alpha\":{\"value\":0.25},\"line_alpha\":{\"value\":0.25},\"line_color\":{\"value\":\"white\"},\"size\":{\"value\":10},\"x\":{\"field\":\"x\"},\"y\":{\"field\":\"y\"}},\"id\":\"49706\",\"type\":\"Circle\"},{\"attributes\":{\"label\":{\"value\":\"Observations\"},\"renderers\":[{\"id\":\"49710\"}]},\"id\":\"49723\",\"type\":\"LegendItem\"},{\"attributes\":{\"coordinates\":null,\"data_source\":{\"id\":\"49705\"},\"glyph\":{\"id\":\"49706\"},\"group\":null,\"hover_glyph\":{\"id\":\"49708\"},\"muted_glyph\":{\"id\":\"49709\"},\"nonselection_glyph\":{\"id\":\"49727\"},\"selection_glyph\":{\"id\":\"49726\"},\"view\":{\"id\":\"49711\"}},\"id\":\"49710\",\"type\":\"GlyphRenderer\"},{\"attributes\":{},\"id\":\"49688\",\"type\":\"BasicTicker\"},{\"attributes\":{},\"id\":\"49675\",\"type\":\"DataRange1d\"},{\"attributes\":{\"overlay\":{\"id\":\"49697\"}},\"id\":\"49693\",\"type\":\"BoxZoomTool\"},{\"attributes\":{\"axis_label\":\"x\",\"axis_label_standoff\":10,\"axis_label_text_color\":\"#FFFFFF\",\"axis_label_text_font\":\"Josefin Sans\",\"axis_label_text_font_size\":\"1.9em\",\"axis_label_text_font_style\":\"bold\",\"axis_line_alpha\":0.4,\"axis_line_color\":\"#E0E0E0\",\"coordinates\":null,\"formatter\":{\"id\":\"49717\"},\"group\":null,\"major_label_policy\":{\"id\":\"49718\"},\"major_label_text_color\":\"#E0E0E0\",\"major_label_text_font\":\"Josefin Sans\",\"major_label_text_font_size\":\"1.15em\",\"major_tick_line_alpha\":0.4,\"major_tick_line_color\":\"#E0E0E0\",\"minor_tick_line_alpha\":0.4,\"minor_tick_line_color\":\"#E0E0E0\",\"ticker\":{\"id\":\"49684\"}},\"id\":\"49683\",\"type\":\"LinearAxis\"},{\"attributes\":{},\"id\":\"49746\",\"type\":\"Selection\"},{\"attributes\":{\"axis\":{\"id\":\"49683\"},\"coordinates\":null,\"grid_line_alpha\":0.15,\"grid_line_color\":\"#E0E0E0\",\"group\":null,\"ticker\":null},\"id\":\"49686\",\"type\":\"Grid\"},{\"attributes\":{\"fill_alpha\":{\"value\":0.5},\"fill_color\":{\"value\":\"midnightblue\"},\"line_color\":{\"value\":\"white\"}},\"id\":\"49727\",\"type\":\"Circle\"},{\"attributes\":{},\"id\":\"49719\",\"type\":\"UnionRenderers\"},{\"attributes\":{\"fill_alpha\":{\"value\":0.2},\"fill_color\":{\"value\":\"midnightblue\"},\"hatch_alpha\":{\"value\":0.2},\"line_alpha\":{\"value\":0.2},\"line_color\":{\"value\":\"white\"},\"size\":{\"value\":10},\"x\":{\"field\":\"x\"},\"y\":{\"field\":\"y\"}},\"id\":\"49709\",\"type\":\"Circle\"},{\"attributes\":{\"axis_label\":\"y\",\"axis_label_standoff\":10,\"axis_label_text_color\":\"#FFFFFF\",\"axis_label_text_font\":\"Josefin Sans\",\"axis_label_text_font_size\":\"1.9em\",\"axis_label_text_font_style\":\"bold\",\"axis_line_alpha\":0.4,\"axis_line_color\":\"#E0E0E0\",\"coordinates\":null,\"formatter\":{\"id\":\"49714\"},\"group\":null,\"major_label_policy\":{\"id\":\"49715\"},\"major_label_text_color\":\"#E0E0E0\",\"major_label_text_font\":\"Josefin Sans\",\"major_label_text_font_size\":\"1.15em\",\"major_tick_line_alpha\":0.4,\"major_tick_line_color\":\"#E0E0E0\",\"minor_tick_line_alpha\":0.4,\"minor_tick_line_color\":\"#E0E0E0\",\"ticker\":{\"id\":\"49688\"}},\"id\":\"49687\",\"type\":\"LinearAxis\"}],\"root_ids\":[\"49750\",\"49818\"]},\"title\":\"Bokeh Application\",\"version\":\"2.4.3\"}};\n",
              "    var render_items = [{\"docid\":\"eef34cc6-8057-4fa5-be54-27a899d60606\",\"root_ids\":[\"49750\"],\"roots\":{\"49750\":\"da1104dd-7e94-4c06-b3c1-5191aef3112c\"}}];\n",
              "    root.Bokeh.embed.embed_items_notebook(docs_json, render_items);\n",
              "    for (const render_item of render_items) {\n",
              "      for (const root_id of render_item.root_ids) {\n",
              "\tconst id_el = document.getElementById(root_id)\n",
              "\tif (id_el.children.length && (id_el.children[0].className === 'bk-root')) {\n",
              "\t  const root_el = id_el.children[0]\n",
              "\t  root_el.id = root_el.id + '-rendered'\n",
              "\t}\n",
              "      }\n",
              "    }\n",
              "  }\n",
              "  if (root.Bokeh !== undefined && root.Bokeh.Panel !== undefined) {\n",
              "    embed_document(root);\n",
              "  } else {\n",
              "    var attempts = 0;\n",
              "    var timer = setInterval(function(root) {\n",
              "      if (root.Bokeh !== undefined && root.Bokeh.Panel !== undefined) {\n",
              "        clearInterval(timer);\n",
              "        embed_document(root);\n",
              "      } else if (document.readyState == \"complete\") {\n",
              "        attempts++;\n",
              "        if (attempts > 200) {\n",
              "          clearInterval(timer);\n",
              "          console.log(\"Bokeh: ERROR: Unable to run BokehJS code because BokehJS library is missing\");\n",
              "        }\n",
              "      }\n",
              "    }, 25, root)\n",
              "  }\n",
              "})(window);</script>"
            ],
            "text/plain": [
              "Row\n",
              "    [0] HSpacer()\n",
              "    [1] Bokeh(Figure)\n",
              "    [2] HSpacer()"
            ]
          },
          "execution_count": 50,
          "metadata": {
            "application/vnd.holoviews_exec.v0+json": {
              "id": "49750"
            }
          },
          "output_type": "execute_result"
        }
      ],
      "source": [
        "p = scatter(np.array(x), np.array(y), title=\"Linear regression\")\n",
        "p.line(np.array(x), np.array(w_1 * x + w_0), line_width=6, line_alpha=0.6, color=\"red\", legend_label=r\"Learned model\")\n",
        "plot = (center_plot(p))\n",
        "plot"
      ]
    },
    {
      "cell_type": "code",
      "execution_count": 51,
      "metadata": {
        "tags": []
      },
      "outputs": [
        {
          "data": {},
          "metadata": {},
          "output_type": "display_data"
        },
        {
          "data": {
            "application/vnd.holoviews_exec.v0+json": "",
            "text/html": [
              "<div id='49962'>\n",
              "  <div class=\"bk-root\" id=\"086f8bf4-0325-4675-962e-655e6c952b86\" data-root-id=\"49962\"></div>\n",
              "</div>\n",
              "<script type=\"application/javascript\">(function(root) {\n",
              "  function embed_document(root) {\n",
              "    var docs_json = {\"3c6bf963-14f2-4779-82c6-f0d5fd2f6cb0\":{\"defs\":[{\"extends\":null,\"module\":null,\"name\":\"ReactiveHTML1\",\"overrides\":[],\"properties\":[]},{\"extends\":null,\"module\":null,\"name\":\"FlexBox1\",\"overrides\":[],\"properties\":[{\"default\":\"flex-start\",\"kind\":null,\"name\":\"align_content\"},{\"default\":\"flex-start\",\"kind\":null,\"name\":\"align_items\"},{\"default\":\"row\",\"kind\":null,\"name\":\"flex_direction\"},{\"default\":\"wrap\",\"kind\":null,\"name\":\"flex_wrap\"},{\"default\":\"flex-start\",\"kind\":null,\"name\":\"justify_content\"}]},{\"extends\":null,\"module\":null,\"name\":\"GridStack1\",\"overrides\":[],\"properties\":[{\"default\":\"warn\",\"kind\":null,\"name\":\"mode\"},{\"default\":null,\"kind\":null,\"name\":\"ncols\"},{\"default\":null,\"kind\":null,\"name\":\"nrows\"},{\"default\":true,\"kind\":null,\"name\":\"allow_resize\"},{\"default\":true,\"kind\":null,\"name\":\"allow_drag\"},{\"default\":[],\"kind\":null,\"name\":\"state\"}]},{\"extends\":null,\"module\":null,\"name\":\"click1\",\"overrides\":[],\"properties\":[{\"default\":\"\",\"kind\":null,\"name\":\"terminal_output\"},{\"default\":\"\",\"kind\":null,\"name\":\"debug_name\"},{\"default\":0,\"kind\":null,\"name\":\"clears\"}]},{\"extends\":null,\"module\":null,\"name\":\"NotificationAreaBase1\",\"overrides\":[],\"properties\":[{\"default\":\"bottom-right\",\"kind\":null,\"name\":\"position\"},{\"default\":0,\"kind\":null,\"name\":\"_clear\"}]},{\"extends\":null,\"module\":null,\"name\":\"NotificationArea1\",\"overrides\":[],\"properties\":[{\"default\":[],\"kind\":null,\"name\":\"notifications\"},{\"default\":\"bottom-right\",\"kind\":null,\"name\":\"position\"},{\"default\":0,\"kind\":null,\"name\":\"_clear\"},{\"default\":[{\"background\":\"#ffc107\",\"icon\":{\"className\":\"fas fa-exclamation-triangle\",\"color\":\"white\",\"tagName\":\"i\"},\"type\":\"warning\"},{\"background\":\"#007bff\",\"icon\":{\"className\":\"fas fa-info-circle\",\"color\":\"white\",\"tagName\":\"i\"},\"type\":\"info\"}],\"kind\":null,\"name\":\"types\"}]},{\"extends\":null,\"module\":null,\"name\":\"Notification\",\"overrides\":[],\"properties\":[{\"default\":null,\"kind\":null,\"name\":\"background\"},{\"default\":3000,\"kind\":null,\"name\":\"duration\"},{\"default\":null,\"kind\":null,\"name\":\"icon\"},{\"default\":\"\",\"kind\":null,\"name\":\"message\"},{\"default\":null,\"kind\":null,\"name\":\"notification_type\"},{\"default\":false,\"kind\":null,\"name\":\"_destroyed\"}]},{\"extends\":null,\"module\":null,\"name\":\"TemplateActions1\",\"overrides\":[],\"properties\":[{\"default\":0,\"kind\":null,\"name\":\"open_modal\"},{\"default\":0,\"kind\":null,\"name\":\"close_modal\"}]},{\"extends\":null,\"module\":null,\"name\":\"MaterialTemplateActions1\",\"overrides\":[],\"properties\":[{\"default\":0,\"kind\":null,\"name\":\"open_modal\"},{\"default\":0,\"kind\":null,\"name\":\"close_modal\"}]}],\"roots\":{\"references\":[{\"attributes\":{\"args\":{\"bidirectional\":true,\"properties\":{\"readonly\":\"disabled\"},\"source\":{\"id\":\"50001\"},\"target\":{\"id\":\"50001\"}},\"code\":\"\\n    var value = source['readonly'];\\n    value = value;\\n    value = value;\\n    try {\\n      var property = target.properties['disabled'];\\n      if (property !== undefined) { property.validate(value); }\\n    } catch(err) {\\n      console.log('WARNING: Could not set disabled on target, raised error: ' + err);\\n      return;\\n    }\\n    try {\\n      target['disabled'] = value;\\n    } catch(err) {\\n      console.log(err)\\n    }\\n    \",\"tags\":[[139731263832560,[null,\"readonly\"],[null,\"disabled\"]]]},\"id\":\"50016\",\"type\":\"CustomJS\"},{\"attributes\":{},\"id\":\"49927\",\"type\":\"AllLabels\"},{\"attributes\":{},\"id\":\"49929\",\"type\":\"BasicTickFormatter\"},{\"attributes\":{},\"id\":\"49932\",\"type\":\"Selection\"},{\"attributes\":{},\"id\":\"49926\",\"type\":\"BasicTickFormatter\"},{\"attributes\":{},\"id\":\"49930\",\"type\":\"AllLabels\"},{\"attributes\":{\"line_alpha\":0.1,\"line_color\":\"red\",\"line_width\":4,\"x\":{\"field\":\"x\"},\"y\":{\"field\":\"y\"}},\"id\":\"49944\",\"type\":\"Line\"},{\"attributes\":{\"label\":{\"value\":\"Observations\"},\"renderers\":[{\"id\":\"49922\"}]},\"id\":\"49935\",\"type\":\"LegendItem\"},{\"attributes\":{},\"id\":\"49958\",\"type\":\"Selection\"},{\"attributes\":{\"margin\":[5,5,5,5],\"name\":\"HSpacer00300\",\"sizing_mode\":\"stretch_width\"},\"id\":\"50002\",\"type\":\"Spacer\"},{\"attributes\":{\"client_comm_id\":\"015ea458221749c0ac82321c68ab1c9b\",\"comm_id\":\"0d4735d638124d5881e88d8e3aad6b27\",\"plot_id\":\"49962\"},\"id\":\"50044\",\"type\":\"panel.models.comm_manager.CommManager\"},{\"attributes\":{},\"id\":\"49931\",\"type\":\"UnionRenderers\"},{\"attributes\":{\"children\":[{\"id\":\"49967\"},{\"id\":\"49968\"},{\"id\":\"49969\"},{\"id\":\"49970\"},{\"id\":\"49971\"},{\"id\":\"49972\"},{\"id\":\"49973\"}],\"margin\":[5,5,5,5],\"min_width\":300,\"name\":\"Problem parameters\",\"width\":300},\"id\":\"49966\",\"type\":\"Column\"},{\"attributes\":{},\"id\":\"49887\",\"type\":\"DataRange1d\"},{\"attributes\":{\"label\":{\"value\":\"Learned model\"},\"renderers\":[{\"id\":\"49946\"}]},\"id\":\"49961\",\"type\":\"LegendItem\"},{\"attributes\":{\"end\":1000,\"margin\":[5,10,5,10],\"start\":10,\"title\":\"Number observations\",\"value\":100},\"id\":\"49968\",\"type\":\"Slider\"},{\"attributes\":{\"axis_label\":\"$$\\\\color{white} x$$\",\"axis_label_standoff\":10,\"axis_label_text_color\":\"#FFFFFF\",\"axis_label_text_font\":\"Josefin Sans\",\"axis_label_text_font_size\":\"1.9em\",\"axis_label_text_font_style\":\"bold\",\"axis_line_alpha\":0.4,\"axis_line_color\":\"#E0E0E0\",\"coordinates\":null,\"formatter\":{\"id\":\"49929\"},\"group\":null,\"major_label_policy\":{\"id\":\"49930\"},\"major_label_text_color\":\"#E0E0E0\",\"major_label_text_font\":\"Josefin Sans\",\"major_label_text_font_size\":\"1.15em\",\"major_tick_line_alpha\":0.4,\"major_tick_line_color\":\"#E0E0E0\",\"minor_tick_line_alpha\":0.4,\"minor_tick_line_color\":\"#E0E0E0\",\"ticker\":{\"id\":\"49896\"}},\"id\":\"49895\",\"type\":\"LinearAxis\"},{\"attributes\":{\"fill_alpha\":{\"value\":0.5},\"fill_color\":{\"value\":\"red\"},\"hatch_alpha\":{\"value\":0.5},\"line_alpha\":{\"value\":0.5},\"line_color\":{\"value\":\"white\"},\"size\":{\"value\":10},\"x\":{\"field\":\"x\"},\"y\":{\"field\":\"y\"}},\"id\":\"49920\",\"type\":\"Circle\"},{\"attributes\":{\"end\":5.0,\"margin\":[5,10,5,10],\"start\":0.0,\"step\":0.1,\"title\":\"Noise level\",\"value\":0.1},\"id\":\"49969\",\"type\":\"Slider\"},{\"attributes\":{\"data\":{\"x\":{\"__ndarray__\":\"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\",\"dtype\":\"float64\",\"order\":\"little\",\"shape\":[200]},\"y\":{\"__ndarray__\":\"DmJAu0p8DztRre87Ps5LPOrijzy13rk8gNrjPCXrBj0L6Rs98OYwPdbkRT274lo9oeBvPUNvgj027ow9KW2XPRzsoT0Oa6w9Aeq2PfRowT3n58s92mbWPczl4D2/ZOs9suP1PVIxAD7LcAU+RbAKPr7vDz44LxU+sW4aPiuuHz6k7SQ+Hi0qPpZsLz4QrDQ+ies5PgIrPz58akQ+9alJPm/pTj7oKFQ+YmhZPtqnXj5U52M+zSZpPkdmbj7ApXM+OuV4PrIkfj4WsoE+01GEPo/xhj5NkYk+CTGMPsbQjj6CcJE+PhCUPvyvlj64T5k+de+bPjGPnj7vLqE+q86jPmhupj4kDqk+4q2rPp5Nrj5a7bA+F42zPtQstj6RzLg+TWy7PgoMvj7Gq8A+hEvDPkDrxT78isg+uSrLPnbKzT4zatA+7wnTPqyp1T5pSdg+JunaPuKI3T6eKOA+XMjiPhho5T7VB+g+kafqPk5H7T4L5+8+yIbyPoQm9T5Axvc+/mX6ProF/T52pf8+miIBP3hyAj9WwgM/NRIFPxRiBj/xsQc/0AEJP69RCj+MoQs/a/EMP0lBDj8okQ8/BuEQP+QwEj/DgBM/oNAUP38gFj9ecBc/PMAYPxoQGj/5Xxs/168cP7b/HT+TTx8/cp8gP1HvIT8uPyM/DY8kP+veJT/KLic/qH4oP4bOKT9lHis/RG4sPyG+LT8ADi8/3l0wP7ytMT+b/TI/eU00P1idNT827TY/FD04P/OMOT/Q3Do/ryw8P458PT9szD4/ShxAPyhsQT8HvEI/5gtEP8NbRT+iq0Y/gftHP15LST89m0o/G+tLP/o6TT/Yik4/ttpPP5UqUT90elI/UcpTPzAaVT8OalY/7LlXP8sJWT+pWVo/iKlbP2X5XD9ESV4/I5lfPwDpYD/fOGI/vohjP5zYZD96KGY/WHhnPzfIaD8WGGo/82drP9K3bD+wB24/jldvP22ncD9L93E/KkdzPwiXdD/m5nU/xTZ3P6KGeD+B1nk/YCZ7Pz52fD8cxn0/+xV/P+wygD/c2oA/y4KBP7oqgj8=\",\"dtype\":\"float32\",\"order\":\"little\",\"shape\":[200]}},\"selected\":{\"id\":\"49958\"},\"selection_policy\":{\"id\":\"49957\"}},\"id\":\"49942\",\"type\":\"ColumnDataSource\"},{\"attributes\":{\"labels\":[\"Ground truth\"],\"margin\":[5,10,5,10]},\"id\":\"49970\",\"type\":\"CheckboxGroup\"},{\"attributes\":{\"fill_alpha\":{\"value\":0.25},\"fill_color\":{\"value\":\"midnightblue\"},\"hatch_alpha\":{\"value\":0.25},\"line_alpha\":{\"value\":0.25},\"line_color\":{\"value\":\"white\"},\"size\":{\"value\":10},\"x\":{\"field\":\"x\"},\"y\":{\"field\":\"y\"}},\"id\":\"49918\",\"type\":\"Circle\"},{\"attributes\":{\"labels\":[\"Error\"],\"margin\":[5,10,5,10]},\"id\":\"49971\",\"type\":\"CheckboxGroup\"},{\"attributes\":{\"margin\":[5,10,5,10],\"name\":\"\",\"text\":\"<b>Problem parameters</b>\"},\"id\":\"49967\",\"type\":\"Div\"},{\"attributes\":{\"source\":{\"id\":\"49942\"}},\"id\":\"49947\",\"type\":\"CDSView\"},{\"attributes\":{\"children\":[{\"id\":\"49966\"},{\"id\":\"49974\"}],\"margin\":[0,0,0,0],\"name\":\"Row00296\"},\"id\":\"49965\",\"type\":\"Row\"},{\"attributes\":{\"end\":5.0,\"margin\":[5,10,5,10],\"start\":-5.0,\"step\":0.1,\"title\":\"X 1\",\"value\":1.0},\"id\":\"49972\",\"type\":\"Slider\"},{\"attributes\":{},\"id\":\"49906\",\"type\":\"SaveTool\"},{\"attributes\":{},\"id\":\"49891\",\"type\":\"LinearScale\"},{\"attributes\":{\"mode\":\"append\",\"overlay\":{\"id\":\"49960\"},\"renderers\":[{\"id\":\"49922\"}]},\"id\":\"49940\",\"type\":\"BoxSelectTool\"},{\"attributes\":{},\"id\":\"49957\",\"type\":\"UnionRenderers\"},{\"attributes\":{\"tools\":[{\"id\":\"49903\"},{\"id\":\"49904\"},{\"id\":\"49905\"},{\"id\":\"49906\"},{\"id\":\"49907\"},{\"id\":\"49908\"},{\"id\":\"49936\"},{\"id\":\"49940\"}]},\"id\":\"49910\",\"type\":\"Toolbar\"},{\"attributes\":{\"axis_label\":\"$$\\\\color{white} 1.0x^1 + 0.0$$\",\"axis_label_standoff\":10,\"axis_label_text_color\":\"#FFFFFF\",\"axis_label_text_font\":\"Josefin Sans\",\"axis_label_text_font_size\":\"1.9em\",\"axis_label_text_font_style\":\"bold\",\"axis_line_alpha\":0.4,\"axis_line_color\":\"#E0E0E0\",\"coordinates\":null,\"formatter\":{\"id\":\"49926\"},\"group\":null,\"major_label_policy\":{\"id\":\"49927\"},\"major_label_text_color\":\"#E0E0E0\",\"major_label_text_font\":\"Josefin Sans\",\"major_label_text_font_size\":\"1.15em\",\"major_tick_line_alpha\":0.4,\"major_tick_line_color\":\"#E0E0E0\",\"minor_tick_line_alpha\":0.4,\"minor_tick_line_color\":\"#E0E0E0\",\"ticker\":{\"id\":\"49900\"}},\"id\":\"49899\",\"type\":\"LinearAxis\"},{\"attributes\":{\"children\":[{\"id\":\"49965\"},{\"id\":\"50001\"}],\"margin\":[0,0,0,0],\"name\":\"Column00299\"},\"id\":\"49964\",\"type\":\"Column\"},{\"attributes\":{\"fill_alpha\":{\"value\":0.5},\"fill_color\":{\"value\":\"midnightblue\"},\"line_color\":{\"value\":\"white\"}},\"id\":\"49939\",\"type\":\"Circle\"},{\"attributes\":{\"children\":[{\"id\":\"49963\"},{\"id\":\"49964\"},{\"id\":\"50002\"}],\"margin\":[0,0,0,0],\"name\":\"Row00301\"},\"id\":\"49962\",\"type\":\"Row\"},{\"attributes\":{\"margin\":[5,5,5,5],\"name\":\"HSpacer00272\",\"sizing_mode\":\"stretch_width\"},\"id\":\"49963\",\"type\":\"Spacer\"},{\"attributes\":{\"source\":{\"id\":\"49917\"}},\"id\":\"49923\",\"type\":\"CDSView\"},{\"attributes\":{\"coordinates\":null,\"data_source\":{\"id\":\"49917\"},\"glyph\":{\"id\":\"49918\"},\"group\":null,\"hover_glyph\":{\"id\":\"49920\"},\"muted_glyph\":{\"id\":\"49921\"},\"nonselection_glyph\":{\"id\":\"49939\"},\"selection_glyph\":{\"id\":\"49938\"},\"view\":{\"id\":\"49923\"}},\"id\":\"49922\",\"type\":\"GlyphRenderer\"},{\"attributes\":{\"axis\":{\"id\":\"49895\"},\"coordinates\":null,\"grid_line_alpha\":0.15,\"grid_line_color\":\"#E0E0E0\",\"group\":null,\"ticker\":null},\"id\":\"49898\",\"type\":\"Grid\"},{\"attributes\":{\"bottom_units\":\"screen\",\"coordinates\":null,\"fill_alpha\":0.5,\"fill_color\":\"lightgrey\",\"group\":null,\"left_units\":\"screen\",\"level\":\"overlay\",\"line_alpha\":1.0,\"line_color\":\"black\",\"line_dash\":[4,4],\"line_width\":2,\"right_units\":\"screen\",\"syncable\":false,\"top_units\":\"screen\"},\"id\":\"49909\",\"type\":\"BoxAnnotation\"},{\"attributes\":{\"background_fill_alpha\":0.25,\"background_fill_color\":\"#505050\",\"border_line_alpha\":0.25,\"coordinates\":null,\"group\":null,\"items\":[{\"id\":\"49935\"},{\"id\":\"49961\"}],\"label_standoff\":8,\"label_text_color\":\"#E0E0E0\",\"label_text_font\":\"Josefin Sans\",\"label_text_font_size\":\"1.15em\",\"spacing\":8},\"id\":\"49934\",\"type\":\"Legend\"},{\"attributes\":{\"fill_alpha\":{\"value\":0.8},\"fill_color\":{\"value\":\"red\"},\"line_color\":{\"value\":\"white\"}},\"id\":\"49938\",\"type\":\"Circle\"},{\"attributes\":{\"code\":\"def linear(\\n        coefficients: jnp.ndarray,\\n        n_observations: int = 100) -> [jnp.ndarray, jnp.ndarray]:\\n    x = jnp.linspace(0, 1, n_observations)\\n    y = coefficients[0] * x + coefficients[1]\\n    return x, \",\"filename\":\"\",\"height\":150,\"js_property_callbacks\":{\"change:disabled\":[{\"id\":\"50017\"}],\"change:readonly\":[{\"id\":\"50016\"}]},\"language\":\"python\",\"margin\":[5,10,5,10],\"sizing_mode\":\"stretch_both\",\"theme\":\"chaos\"},\"id\":\"50001\",\"type\":\"panel.models.ace.AcePlot\"},{\"attributes\":{},\"id\":\"49908\",\"type\":\"HelpTool\"},{\"attributes\":{\"overlay\":{\"id\":\"49909\"}},\"id\":\"49905\",\"type\":\"BoxZoomTool\"},{\"attributes\":{\"coordinates\":null,\"data_source\":{\"id\":\"49942\"},\"glyph\":{\"id\":\"49943\"},\"group\":null,\"hover_glyph\":null,\"muted_glyph\":{\"id\":\"49945\"},\"nonselection_glyph\":{\"id\":\"49944\"},\"view\":{\"id\":\"49947\"}},\"id\":\"49946\",\"type\":\"GlyphRenderer\"},{\"attributes\":{\"bottom_units\":\"screen\",\"coordinates\":null,\"fill_alpha\":0.5,\"fill_color\":\"lightgrey\",\"group\":null,\"left_units\":\"screen\",\"level\":\"overlay\",\"line_alpha\":1.0,\"line_color\":\"black\",\"line_dash\":[4,4],\"line_width\":2,\"right_units\":\"screen\",\"syncable\":false,\"top_units\":\"screen\"},\"id\":\"49960\",\"type\":\"BoxAnnotation\"},{\"attributes\":{\"coordinates\":null,\"group\":null,\"text\":\"Linear regression problem\",\"text_color\":\"#E0E0E0\",\"text_font\":\"Josefin Sans\",\"text_font_size\":\"2.1em\"},\"id\":\"49885\",\"type\":\"Title\"},{\"attributes\":{\"callback\":null,\"mode\":\"vline\",\"renderers\":[{\"id\":\"49922\"}],\"tooltips\":null},\"id\":\"49936\",\"type\":\"HoverTool\"},{\"attributes\":{\"fill_alpha\":{\"value\":0.2},\"fill_color\":{\"value\":\"midnightblue\"},\"hatch_alpha\":{\"value\":0.2},\"line_alpha\":{\"value\":0.2},\"line_color\":{\"value\":\"white\"},\"size\":{\"value\":10},\"x\":{\"field\":\"x\"},\"y\":{\"field\":\"y\"}},\"id\":\"49921\",\"type\":\"Circle\"},{\"attributes\":{\"args\":{\"bidirectional\":true,\"properties\":{\"readonly\":\"disabled\"},\"source\":{\"id\":\"50001\"},\"target\":{\"id\":\"50001\"}},\"code\":\"\\n    var value = source['disabled'];\\n    value = value;\\n    value = value;\\n    try {\\n      var property = target.properties['readonly'];\\n      if (property !== undefined) { property.validate(value); }\\n    } catch(err) {\\n      console.log('WARNING: Could not set readonly on target, raised error: ' + err);\\n      return;\\n    }\\n    try {\\n      target['readonly'] = value;\\n    } catch(err) {\\n      console.log(err)\\n    }\\n    \",\"tags\":[[139731263832560,[null,\"readonly\"],[null,\"disabled\"]]]},\"id\":\"50017\",\"type\":\"CustomJS\"},{\"attributes\":{},\"id\":\"49900\",\"type\":\"BasicTicker\"},{\"attributes\":{},\"id\":\"49889\",\"type\":\"DataRange1d\"},{\"attributes\":{},\"id\":\"49907\",\"type\":\"ResetTool\"},{\"attributes\":{\"axis\":{\"id\":\"49899\"},\"coordinates\":null,\"dimension\":1,\"grid_line_alpha\":0.15,\"grid_line_color\":\"#E0E0E0\",\"group\":null,\"ticker\":null},\"id\":\"49902\",\"type\":\"Grid\"},{\"attributes\":{\"line_alpha\":0.2,\"line_color\":\"red\",\"line_width\":4,\"x\":{\"field\":\"x\"},\"y\":{\"field\":\"y\"}},\"id\":\"49945\",\"type\":\"Line\"},{\"attributes\":{},\"id\":\"49904\",\"type\":\"WheelZoomTool\"},{\"attributes\":{},\"id\":\"49903\",\"type\":\"PanTool\"},{\"attributes\":{\"end\":5.0,\"margin\":[5,10,5,10],\"start\":-5.0,\"step\":0.1,\"title\":\"X 0\",\"value\":0.0},\"id\":\"49973\",\"type\":\"Slider\"},{\"attributes\":{},\"id\":\"49896\",\"type\":\"BasicTicker\"},{\"attributes\":{},\"id\":\"49893\",\"type\":\"LinearScale\"},{\"attributes\":{\"children\":[{\"id\":\"49884\"}],\"margin\":[0,0,0,0],\"name\":\"Row00293\"},\"id\":\"49974\",\"type\":\"Row\"},{\"attributes\":{\"background_fill_alpha\":0.9,\"background_fill_color\":\"#0f0f0f\",\"below\":[{\"id\":\"49895\"}],\"border_fill_alpha\":0.8,\"border_fill_color\":\"#111111\",\"center\":[{\"id\":\"49898\"},{\"id\":\"49902\"},{\"id\":\"49934\"}],\"height\":450,\"left\":[{\"id\":\"49899\"}],\"outline_line_alpha\":0.25,\"outline_line_color\":\"#E0E0E0\",\"outline_line_width\":3,\"renderers\":[{\"id\":\"49922\"},{\"id\":\"49946\"}],\"title\":{\"id\":\"49885\"},\"toolbar\":{\"id\":\"49910\"},\"toolbar_location\":null,\"x_range\":{\"id\":\"49887\"},\"x_scale\":{\"id\":\"49891\"},\"y_range\":{\"id\":\"49889\"},\"y_scale\":{\"id\":\"49893\"}},\"id\":\"49884\",\"subtype\":\"Figure\",\"type\":\"Plot\"},{\"attributes\":{\"data\":{\"x\":{\"__ndarray__\":\"AAAAALV+JTy1fqU8ED74PLV+JT1i3k49ED54Pd7OkD21fqU9jC66PWLezj05juM9ED74PfN2Bj7ezhA+yiYbPrV+JT6g1i8+jC46PneGRD5i3k4+TjZZPjmOYz4k5m0+ED54Pv1KgT7zdoY+6aKLPt7OkD7U+pU+yiabPr9SoD61fqU+q6qqPqDWrz6WArU+jC66PoFavz53hsQ+bbLJPmLezj5YCtQ+TjbZPkNi3j45juM+L7roPiTm7T4aEvM+ED74PgVq/T79SgE/+OADP/N2Bj/uDAk/6aILP+Q4Dj/ezhA/2WQTP9T6FT/PkBg/yiYbP8W8HT+/UiA/uugiP7V+JT+wFCg/q6oqP6VALT+g1i8/m2wyP5YCNT+RmDc/jC46P4bEPD+BWj8/fPBBP3eGRD9yHEc/bbJJP2dITD9i3k4/XXRRP1gKVD9ToFY/TjZZP0jMWz9DYl4/PvhgPzmOYz80JGY/L7poPylQaz8k5m0/H3xwPxoScz8VqHU/ED54PwrUej8Fan0/AACAPw==\",\"dtype\":\"float32\",\"order\":\"little\",\"shape\":[100]},\"y\":{\"__ndarray__\":\"GiljPGZ3wrwhBY092FrsO94Ugz2OuQI+sR8RPuTqtT3SJsA9Poo/PspkMD7lF1Y9thJiPhbn8D0sUIE9N20zPnqUyT3Y2oM+8AWKPiyOkz7SohU+lkxTPv90Zz6e0zE+qsZLPudbfD5ZNX8+1HaLPtyeaD6eEV8+jh9cPikVtT69cmk+B4u5PvaNtD5Ty8o+RQ2MPqnPlT7d2sg+elunPljStj7ZSv0+vNwEPwy0uT7hSsU+g3/cPixwDT9MFeM+CWDvPtYKzj4xyQE/6t8ZP7yt7j7iPxI/57AaP/btFz/UZQw/9mIGP/71Aj8jRxM/4YcdP2/4KD9shQ4/2FUpP/ScHz/FYEA/xUU4Pyi3Iz/7ATI/iMw5Px63Pz/wJi0/ozc9P2vhTj8Go04/Vs8wP0B0QT+oB1o/uPg9P+12Xj9EE2c/0sBGP14sQT8VhU0/5fRZP59wdD+HsXQ/fDxwPyP+Vj9HNms/WRF2P7rIgD+DSXQ/ZSp9PyYhZT93QYQ/BK9/P5+XZT+rOYs/DGWKPw==\",\"dtype\":\"float32\",\"order\":\"little\",\"shape\":[100]}},\"selected\":{\"id\":\"49932\"},\"selection_policy\":{\"id\":\"49931\"}},\"id\":\"49917\",\"type\":\"ColumnDataSource\"},{\"attributes\":{\"line_alpha\":0.7,\"line_color\":\"red\",\"line_width\":4,\"x\":{\"field\":\"x\"},\"y\":{\"field\":\"y\"}},\"id\":\"49943\",\"type\":\"Line\"}],\"root_ids\":[\"49962\",\"50044\"]},\"title\":\"Bokeh Application\",\"version\":\"2.4.3\"}};\n",
              "    var render_items = [{\"docid\":\"3c6bf963-14f2-4779-82c6-f0d5fd2f6cb0\",\"root_ids\":[\"49962\"],\"roots\":{\"49962\":\"086f8bf4-0325-4675-962e-655e6c952b86\"}}];\n",
              "    root.Bokeh.embed.embed_items_notebook(docs_json, render_items);\n",
              "    for (const render_item of render_items) {\n",
              "      for (const root_id of render_item.root_ids) {\n",
              "\tconst id_el = document.getElementById(root_id)\n",
              "\tif (id_el.children.length && (id_el.children[0].className === 'bk-root')) {\n",
              "\t  const root_el = id_el.children[0]\n",
              "\t  root_el.id = root_el.id + '-rendered'\n",
              "\t}\n",
              "      }\n",
              "    }\n",
              "  }\n",
              "  if (root.Bokeh !== undefined && root.Bokeh.Panel !== undefined) {\n",
              "    embed_document(root);\n",
              "  } else {\n",
              "    var attempts = 0;\n",
              "    var timer = setInterval(function(root) {\n",
              "      if (root.Bokeh !== undefined && root.Bokeh.Panel !== undefined) {\n",
              "        clearInterval(timer);\n",
              "        embed_document(root);\n",
              "      } else if (document.readyState == \"complete\") {\n",
              "        attempts++;\n",
              "        if (attempts > 200) {\n",
              "          clearInterval(timer);\n",
              "          console.log(\"Bokeh: ERROR: Unable to run BokehJS code because BokehJS library is missing\");\n",
              "        }\n",
              "      }\n",
              "    }, 25, root)\n",
              "  }\n",
              "})(window);</script>"
            ],
            "text/plain": [
              "Row\n",
              "    [0] HSpacer()\n",
              "    [1] Column\n",
              "        [0] Row\n",
              "            [0] Param(RegressionLinearSolver, name='Problem parameters', widgets={})\n",
              "            [1] ParamMethod(method, _pane=Bokeh)\n",
              "        [1] Ace(height=150, language='python', sizing_mode='stretch_both', theme='chaos', value='def linear(\\n        coef...)\n",
              "    [2] HSpacer()"
            ]
          },
          "execution_count": 51,
          "metadata": {
            "application/vnd.holoviews_exec.v0+json": {
              "id": "49962"
            }
          },
          "output_type": "execute_result"
        }
      ],
      "source": [
        "from cml.tasks import RegressionLinearSolver\n",
        "explorer = RegressionLinearSolver()\n",
        "global key\n",
        "key = random.PRNGKey(23)\n",
        "def solve(x, y):\n",
        "    global key\n",
        "    key_gd, key = random.split(key, 2)\n",
        "    w_1, w_0, loss_history = gradient_descent(key_gd, x, y)\n",
        "    x_predict = np.linspace(np.min(x), np.max(x), 200)\n",
        "    y_model = w_1 * x_predict + w_0\n",
        "    return np.array(x_predict), np.array(y_model) #np.array(jnp.zeros(y_model.shape))\n",
        "\n",
        "explorer.solve = solve\n",
        "explorer.render()"
      ]
    },
    {
      "cell_type": "markdown",
      "metadata": {},
      "source": [
        "<div class=\"alert alert-success\" markdown=\"1\" style=\"color:white; background-color: #192841; border-color: #779ecb\">\n",
        "\n",
        "> ### Going further\n",
        "\n",
        "> You are encouraged to experiment in a similar way as outlined for NumPy with different learning rates, maximum number of iterations, and regularization techniques, as well as compare the performance (both accuracy and speed) of the implemented algorithms with `scikit-learn` built-in linear regression functions.\n",
        "\n",
        "</div>"
      ]
    },
    {
      "cell_type": "markdown",
      "metadata": {},
      "source": [
        "<a id=\"capacity\"></a>\n",
        "## Understanding model capacity and selection\n",
        "\n",
        "\n",
        "In real-life problem, we are aiming to find the parameters of a model, but we do not really know what is the _real_ function underlying this process. So what we can decide to select _any_ function of _any_ **capacity** (complexity of the function). One of the problem with that, is that if we have a too simple function, it will _underfit_ (it is not complex enough for our observations). On the opposite end, if we have a function which is too complex, it might be able to _fit through all training points exactly_ ... even though there is noise in our observations ! This is examplified in the following\n",
        "\n",
        "<img src=\"images/01_soa_function_families.png\" align=\"center\"/>\n",
        "\n",
        "We can observe this idea and play with it directly by trying to find a function approximating our previous observations with a polynomial function chosen to have a degree inside \\([1,2,8]\\).\n"
      ]
    },
    {
      "cell_type": "markdown",
      "metadata": {},
      "source": [
        "\n",
        "Depending on the _capacity_ of the model, what we can observe is that\n",
        "\n",
        "- `capacity too low   -> underfitting   : prediction variance >  noise variance`\n",
        "- `adequate capacity  -> good fit       : prediction variance == noise variance`\n",
        "- `capacity too high  -> overfitting    : prediction variance <  noise variance`\n"
      ]
    },
    {
      "cell_type": "markdown",
      "metadata": {},
      "source": [
        "A similar example can be given for a classification problem in two dimensions as follows\n",
        "\n",
        "<img src=\"images/01_underfit.png\" align=\"center\"/>\n"
      ]
    },
    {
      "cell_type": "markdown",
      "metadata": {},
      "source": [
        "# Exercises\n",
        "\n",
        "In the following, we define the exercises that you should fill for this session. These go further than what we have seen together in the course, but they are based on the exact same principles, simply with slightly more complex definitions. We provide an overall guideline for successfully implementing each of the exercise."
      ]
    },
    {
      "cell_type": "markdown",
      "metadata": {},
      "source": [
        "## Exercise 1 - Linear classification"
      ]
    },
    {
      "cell_type": "markdown",
      "metadata": {},
      "source": [
        "<div class=\"alert alert-success\" markdown=\"1\" style=\"color:white; background-color: #013220; border-color: #03C03C\">\n",
        "\n",
        "> In this exercise, we will implement linear classification using NumPy and JAX. The goal of this exercise is to gain a better understanding of how linear classification works and how to implement it ourselves using our two first libraries of choice, namely NumPy and JAX. To complete this exercise, you will need to have a basic understanding of NumPy and JAX. You can use the resources provided in the previous exercises to learn more about these libraries.\n",
        "\n",
        "We help you out by first defining a simple linear classification problem to solve\n",
        "\n",
        "</div>"
      ]
    },
    {
      "cell_type": "code",
      "execution_count": 10,
      "metadata": {},
      "outputs": [],
      "source": [
        "import numpy as np\n",
        "from sklearn.datasets import make_blobs\n",
        "# Properties of the problem\n",
        "n_observations = 200\n",
        "noise = 0.2\n",
        "c1_center = [-2, -1]\n",
        "c2_center = [2, 1]\n",
        "# Create points\n",
        "x_coords, y_class = make_blobs(n_samples=n_observations, centers=[c1_center, c2_center], n_features=2, cluster_std=0.55)\n",
        "x_data = x_coords + (noise * np.random.randn(n_observations, 2))\n",
        "#x_data = x_coords\n",
        "y_classes = y_class\n",
        "y_classes[y_classes == 0] = -1"
      ]
    },
    {
      "cell_type": "markdown",
      "metadata": {},
      "source": [
        "<div class=\"alert alert-success\" markdown=\"1\" style=\"color:white; background-color: #013220; border-color: #03C03C\">\n",
        "\n",
        "> ### Question 1.1 - Implement linear classification with NumPy\n",
        "\n",
        "> 1. Check the training data with two classes that are linearly separable.\n",
        "> 2. Initialize weights and bias.\n",
        "> 3. Implement the forward pass of the linear classifier.\n",
        "> 4. Implement the hinge loss for classification.\n",
        "> 5. Derive the gradients (backward pass) of the linear classifier.\n",
        "> 6. Implement gradient descent to optimize the weights and bias.\n",
        "\n",
        "</div>"
      ]
    },
    {
      "cell_type": "code",
      "execution_count": null,
      "metadata": {},
      "outputs": [],
      "source": []
    },
    {
      "cell_type": "markdown",
      "metadata": {},
      "source": [
        "<div class=\"alert alert-success\" markdown=\"1\" style=\"color:white; background-color: #192841; border-color: #779ecb\">\n",
        "\n",
        "> ### Going further (optional)\n",
        "> Try to replace the Hinge loss by the cross-entropy loss in your implementation\n",
        "\n",
        "</div>"
      ]
    },
    {
      "cell_type": "code",
      "execution_count": null,
      "metadata": {},
      "outputs": [],
      "source": []
    },
    {
      "cell_type": "markdown",
      "metadata": {},
      "source": [
        "<div class=\"alert alert-success\" markdown=\"1\" style=\"color:white; background-color: #013220; border-color: #03C03C\">\n",
        "\n",
        "> ### Question 1.2 - Implement linear classification with JAX\n",
        "\n",
        "> 1. Initialize weights and bias.\n",
        "> 2. Define the loss function using the jax.nn.softmax_cross_entropy_with_logits function.\n",
        "> 3. Implement gradient descent to optimize the weights and bias.\n",
        "\n",
        "</div>"
      ]
    },
    {
      "cell_type": "code",
      "execution_count": null,
      "metadata": {},
      "outputs": [],
      "source": []
    },
    {
      "cell_type": "markdown",
      "metadata": {},
      "source": [
        "<div class=\"alert alert-success\" markdown=\"1\" style=\"color:white; background-color: #013220; border-color: #03C03C\">\n",
        "\n",
        "> ### Question 1.3 - Compare the results of the NumPy and JAX implementations.\n",
        "> 1. Plot the decision boundary for each implementation.\n",
        "> 2. Compare the training time and accuracy of each implementation.\n",
        "\n",
        "</div>"
      ]
    },
    {
      "cell_type": "code",
      "execution_count": null,
      "metadata": {},
      "outputs": [],
      "source": []
    },
    {
      "cell_type": "markdown",
      "metadata": {},
      "source": [
        "<div class=\"alert alert-success\" markdown=\"1\" style=\"color:white; background-color: #192841; border-color: #779ecb\">\n",
        "\n",
        "> ### Going further (optional)\n",
        "> Implement a more complex dataset and compare the results of the NumPy and JAX implementations.\n",
        "\n",
        "</div>"
      ]
    },
    {
      "cell_type": "code",
      "execution_count": null,
      "metadata": {},
      "outputs": [],
      "source": []
    },
    {
      "cell_type": "markdown",
      "metadata": {},
      "source": [
        "## Exercise 2 - Polynomial regression"
      ]
    },
    {
      "cell_type": "markdown",
      "metadata": {},
      "source": [
        "<div class=\"alert alert-success\" markdown=\"1\" style=\"color:white; background-color: #013220; border-color: #03C03C\">\n",
        "\n",
        "> In this exercise, you will implement polynomial regression using NumPy and JAX. This should be a quite straightforward extension of what we have seen until now. We deliberately removed details of the implementation (list of points to adress) so that you can start defining your first entire machine learning setup by yourself.\n",
        "\n",
        "</div>"
      ]
    },
    {
      "cell_type": "code",
      "execution_count": null,
      "metadata": {},
      "outputs": [],
      "source": []
    },
    {
      "cell_type": "markdown",
      "metadata": {},
      "source": [
        "<div class=\"alert alert-success\" markdown=\"1\" style=\"color:white; background-color: #013220; border-color: #03C03C\">\n",
        "\n",
        "> ### Question 2.1 - Implement polynomial regression using NumPy with gradient descent.\n",
        "\n",
        "</div>"
      ]
    },
    {
      "cell_type": "code",
      "execution_count": null,
      "metadata": {},
      "outputs": [],
      "source": []
    },
    {
      "cell_type": "markdown",
      "metadata": {},
      "source": [
        "<div class=\"alert alert-success\" markdown=\"1\" style=\"color:white; background-color: #013220; border-color: #03C03C\">\n",
        "\n",
        "> ### Question 2.2. Implement polynomial regression using JAX with gradient descent.\n",
        "\n",
        "</div>"
      ]
    },
    {
      "cell_type": "code",
      "execution_count": null,
      "metadata": {},
      "outputs": [],
      "source": []
    },
    {
      "cell_type": "markdown",
      "metadata": {},
      "source": [
        "<div class=\"alert alert-success\" markdown=\"1\" style=\"color:white; background-color: #013220; border-color: #03C03C\">\n",
        "\n",
        "> ### Question 2.3 - Compare the results of both implementations and the speed of the optimization algorithm.\n",
        "\n",
        "</div>"
      ]
    },
    {
      "cell_type": "markdown",
      "metadata": {},
      "source": [
        "<a id=\"audio\"></a>\n",
        "# Audio applications\n",
        "\n",
        "In order to test our algorithms on audio and music data, we will work with several datasets. We will both be using well-known state-of-art datasets (through the TF dataset system). But first, we will rely on a simple dataset (`Musclefish`) that should be downloaded on your local computer first from this [link](https://nubo.ircam.fr/index.php/s/ByK4QL7nE4Mq5MA)\n",
        "\n",
        "**The following set of instructions will perform that automatically for you :)**"
      ]
    },
    {
      "cell_type": "code",
      "execution_count": null,
      "metadata": {},
      "outputs": [],
      "source": [
        "!curl https://nubo.ircam.fr/index.php/s/ByK4QL7nE4Mq5MA/download/musclefish.zip --output musclefish.zip\n",
        "!unzip musclefish.zip\n",
        "!mkdir data\n",
        "!mv musclefish data/"
      ]
    },
    {
      "cell_type": "markdown",
      "metadata": {},
      "source": [
        "## Dataset details\n",
        "\n",
        "  |**Type**|*Origin*|\n",
        "  |-------:|:---------|\n",
        "  |**Classification**|[*MuscleFish*](http://knight.cis.temple.edu/~vasilis/Courses/CIS750/Papers/muscle_fish.pdf) dataset|\n",
        "  |**Music-speech**|[*MIREX Recognition*](http://www.music-ir.org/mirex/wiki/2015:Music/Speech_Classification_and_Detection) set|\n",
        "  |**Source separation**|[*SMC Mirum*](http://smc.inesctec.pt/research/data-2/) dataset|\n",
        "  |**Speech recognition**|[*CMU Arctic*](http://festvox.org/cmu_arctic/) dataset|\n",
        "\n",
        "**Unzip the file and place the `musclefish` folder inside a `data` folder in the root of this notebook**\n",
        "For the first parts of the tutorial, we will mostly rely solely on the classification dataset. In order to facilitate the interactions, we provide a dataset class called `AudioSupervisedDataset` that will allow to import all audio datasets along the tutorials. This class also contains a set of holders and will allow us to perform batch-wise gradient descent.\n",
        "\n",
        "```Python\n",
        "class AudioSupervisedDataset():\n",
        "    \"\"\"\n",
        "    Helper class to import datasets\n",
        "    % class_path  : Path to the dataset (string)\n",
        "    % type       : Type of dataset (string: 'classify', 'plain', 'metadata')\n",
        "    \"\"\" \n",
        "    audio_files\n",
        "    labels\n",
        "    labels_names\n",
        "    num_examples \n",
        "    num_classes \n",
        "```\n",
        "\n",
        "We also provide a simplified function `import_dataset` that is demonstrated below.\n",
        "\n",
        "***\n",
        "<div class=\"alert alert-success\" markdown=\"1\" style=\"color:white; background-color: #192841; border-color: #779ecb\">\n",
        "\n",
        "**_Exercise_**  \n",
        "\n",
        "  1. Launch the import procedure and check the corresponding structure\n",
        "  2. Code a count function that prints the name and number of examples for each classes \n",
        "\n",
        "</div>\n",
        "\n",
        "***"
      ]
    },
    {
      "cell_type": "code",
      "execution_count": 1,
      "metadata": {},
      "outputs": [
        {
          "name": "stdout",
          "output_type": "stream",
          "text": [
            "Recursive search in /tmp/data//musclefish\n",
            "Metal device set to: Apple M1 Pro\n",
            "(16, 44100)\n",
            "(16,)\n"
          ]
        }
      ],
      "source": [
        "from cml.data import import_dataset, AudioSupervisedDataset\n",
        "data_path = \"data/\"\n",
        "batch_size = 16\n",
        "# Instantiate the dataset class\n",
        "train_dataset = import_dataset(data_path, \"musclefish\", 'train', batch_size=batch_size)\n",
        "# Generate a batch of data from the train dataset\n",
        "batch_x, batch_y = next(train_dataset)\n",
        "# Print the shape of the input and output batch tensors\n",
        "print(batch_x.shape)  # (16, 44100)\n",
        "print(batch_y.shape)  # (16,)"
      ]
    },
    {
      "cell_type": "code",
      "execution_count": 2,
      "metadata": {},
      "outputs": [
        {
          "name": "stdout",
          "output_type": "stream",
          "text": [
            "52\n"
          ]
        }
      ],
      "source": [
        "#%% Q-0.1.2 - Count function to print the number of examples in each class along with class label\n",
        "\n",
        "n_batch = 0\n",
        "train_dataset._reset_generator()\n",
        "for batch_x, batch_y in iter(train_dataset):\n",
        "    n_batch += 1\n",
        "    ######################\n",
        "    # YOUR CODE GOES HERE\n",
        "    ######################\n",
        "\n",
        "print(n_batch)"
      ]
    },
    {
      "cell_type": "markdown",
      "metadata": {},
      "source": [
        "### Preprocessing\n",
        "\n",
        "We will rely on a set of spectral transforms that allow to obtain a more descriptive view over the audio information. As most of these are out of the scope of the machine learning course, we redirect you to a [signal processing course](https://ccrma.stanford.edu/~jos/sasp/) proposed by [Julius O. Smith](https://ccrma.stanford.edu/~jos/).  \n",
        "\n",
        "The following functions to compute various types of transforms are given as part of the basic audio dataset class, in the `cml.data.audio` package\n",
        "\n",
        "  |**Name**|*Transform*|\n",
        "  |-------:|:----------|\n",
        "  |`stft`       |[Short-term Fourier transform](https://en.wikipedia.org/wiki/Short-time_Fourier_transform)|\n",
        "  |`mel`  |[Mel scale](https://en.wikipedia.org/wiki/Mel_scale) transform|\n",
        "  |`chroma` |[Chromas vector](https://en.wikipedia.org/wiki/Harmonic_pitch_class_profiles)|\n",
        "  |`cqt`        |[Constant-Q](https://en.wikipedia.org/wiki/Constant_Q_transform) transform|\n",
        "\n",
        "In order to perform the various computations, we provide the following function, in the `AudioSupervisedDataset` which performs the different transforms on a complete dataset.  \n",
        "\n",
        "``` Python\n",
        "dataset.transform(index, name)\n",
        "    \"\"\" index   : Specific index in our dataset \"\"\"\n",
        "    \"\"\" name    : Name of the transform to apply \"\"\"\n",
        "\n",
        "# The name can be selected in \n",
        "\"stft\"      # Power spectrum (STFT)\n",
        "\"mel\"       # Spectrum in Mel scale\n",
        "\"chroma\"    # Chroma vectors\n",
        "\"cqt\"       # Constant-Q transform\n",
        "```\n"
      ]
    },
    {
      "cell_type": "markdown",
      "metadata": {},
      "source": [
        "***\n",
        "<div class=\"alert alert-success\" markdown=\"1\" style=\"color:white; background-color: #192841; border-color: #779ecb\">\n",
        "\n",
        "**Exercise**  \n",
        "\n",
        "  1. Launch the transform computation procedure and check the corresponding structure\n",
        "  2. For each class, select a random element and plot its various transforms on a single plot. You should obtain plots similar to those shown afterwards.\n",
        "  3. For each transform, try to spot major pros and cons of their representation.\n",
        "  \n",
        "</div>\n",
        "\n",
        "***"
      ]
    },
    {
      "cell_type": "code",
      "execution_count": 3,
      "metadata": {},
      "outputs": [],
      "source": [
        "# 0.2 - Pre-process the audio to obtain spectral transforms \n",
        "power_spec = train_dataset.transform(0, \"stft\")"
      ]
    },
    {
      "cell_type": "code",
      "execution_count": 4,
      "metadata": {},
      "outputs": [],
      "source": [
        "#%% Q-0.2.2 - Plot the various transforms \n",
        "\n",
        "######################\n",
        "# YOUR CODE GOES HERE\n",
        "######################\n"
      ]
    },
    {
      "cell_type": "markdown",
      "metadata": {},
      "source": [
        "### Features\n",
        "\n",
        "<div markdown = \"1\">\n",
        "\n",
        "As you might have noted from the previous exercice, most spectral transforms have a very high dimensionality, and might not be suited to exhibit the relevant structure of different classes. To that end, we provide a set of functions for computing several spectral features in the `cml.data` package, we redirect interested readers to this [exhaustive article](http://recherche.ircam.fr/anasyn/peeters/ARTICLES/Peeters_2003_cuidadoaudiofeatures.pdf) on spectral features computation.\n",
        "\n",
        "  |**File**|*Transform*|\n",
        "  |-------:|:----------|\n",
        "  |`spectral_centroid`|Spectral centroid|\n",
        "  |`spectral_bandwidth`|Spectral bandwidth|\n",
        "  |`spectral_contrast`|Spectral contrast|\n",
        "  |`spectral_flatness`|Spectral flatness|\n",
        "  |`spectral_rolloff`|Spectral rolloff|\n",
        "\n",
        "Once again, we provide a function to perform the computation of different features on a complete set. Note that for each feature, we obtain the temporal evolution in a vector. Therefore, for further learning tasks, if you wish to obtain simplified spaces, you might need to compute the mean and standard deviation of each feature.\n",
        "\n",
        "``` Python\n",
        "dataset.feature(index, name)\n",
        "    \"\"\" index   : Specific index in our dataset \"\"\"\n",
        "    \"\"\" name    : Name of the feature to obtain \"\"\"\n",
        "\n",
        "# Name can be chosen inside the following\n",
        "\"loudness\"    # Loudness\n",
        "\"centroid\"    # Spectral centroid\n",
        "\"bandwidth\"   # Spectral bandwidth\n",
        "\"contrast\"    # Spectral contrast\n",
        "\"flatness\"    # Spectral flatness\n",
        "\"rolloff\"     # Spectral rolloff\n",
        "\n",
        "```"
      ]
    },
    {
      "cell_type": "markdown",
      "metadata": {},
      "source": [
        "***\n",
        "<div class=\"alert alert-success\" markdown=\"1\" style=\"color:white; background-color: #192841; border-color: #779ecb\">\n",
        "\n",
        "**Exercise**\n",
        "\n",
        "  1. Launch the feature computation procedure and check the corresponding structure\n",
        "  2. This time for each class, superimpose the plots of various features on a single plot, along with a boxplot of mean and standard deviations. You should obtain plots similar to those shown afterwards.\n",
        "  3. What conclusions can you make on the discriminative power of each feature ?\n",
        "  4. Perform scatter plots of the mean features for all the dataset, while coloring different classes.\n",
        "  5. What conclusions can you make on the discriminative power of mean features ?\n",
        "\n",
        "</div>\n",
        "\n",
        "***"
      ]
    },
    {
      "cell_type": "code",
      "execution_count": 5,
      "metadata": {},
      "outputs": [],
      "source": [
        "# 0.3 - Compute temporal spectral features\n",
        "power_spec = train_dataset.feature(0, \"centroid\")"
      ]
    },
    {
      "cell_type": "code",
      "execution_count": 14,
      "metadata": {},
      "outputs": [],
      "source": [
        "#%% Q-0.3.2 - Plot the various features \n",
        "\n",
        "# Use these styles for boxplot\n",
        "boxprops=dict(linewidth=3, color='white')\n",
        "whiskerprops=dict(linewidth=3, color='white')\n",
        "medianprops=dict(linewidth=2.5, color='firebrick')\n",
        "flierprops = dict(markeredgecolor='white', markerfacecolor='firebrick')\n",
        "\n",
        "######################\n",
        "# YOUR CODE GOES HERE\n",
        "######################\n"
      ]
    },
    {
      "cell_type": "code",
      "execution_count": null,
      "metadata": {},
      "outputs": [],
      "source": [
        "#%% Q-0.3.4 - Observe the distribution of classes for different features\n",
        "\n",
        "# This allows to use 3D rendering in matplotlib\n",
        "from mpl_toolkits.mplot3d import Axes3D\n",
        "plt.figure(figsize=(12,8))\n",
        "# Create a vector of random colors for each class\n",
        "colorVect = np.zeros((3, len(data_struct[\"class_names\"])));\n",
        "for c in range(len(data_struct[\"class_names\"])):\n",
        "    colorVect[:,c] = np.random.rand(3);\n",
        "\n",
        "######################\n",
        "# YOUR CODE GOES HERE\n",
        "######################\n"
      ]
    },
    {
      "cell_type": "markdown",
      "metadata": {},
      "source": [
        "That's it for this tutorial, now remember that we can use any form of description (features) as a basis for learning algorithms. We will see in the next tutorial what we an do with these features."
      ]
    }
  ],
  "metadata": {
    "kernelspec": {
      "display_name": "Python 3 (ipykernel)",
      "language": "python",
      "name": "python3"
    },
    "language_info": {
      "codemirror_mode": {
        "name": "ipython",
        "version": 3
      },
      "file_extension": ".py",
      "mimetype": "text/x-python",
      "name": "python",
      "nbconvert_exporter": "python",
      "pygments_lexer": "ipython3",
      "version": "3.9.12"
    },
    "latex_envs": {
      "LaTeX_envs_menu_present": true,
      "autoclose": false,
      "autocomplete": true,
      "bibliofile": "biblio.bib",
      "cite_by": "apalike",
      "current_citInitial": 1,
      "eqLabelWithNumbers": true,
      "eqNumInitial": 1,
      "hotkeys": {
        "equation": "Ctrl-E",
        "itemize": "Ctrl-I"
      },
      "labels_anchors": false,
      "latex_user_defs": false,
      "report_style_numbering": false,
      "user_envs_cfg": false
    }
  },
  "nbformat": 4,
  "nbformat_minor": 4
}
